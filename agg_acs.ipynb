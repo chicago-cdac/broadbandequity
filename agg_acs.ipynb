{
 "cells": [
  {
   "cell_type": "markdown",
   "id": "f346f7a5",
   "metadata": {},
   "source": [
    "## Analyzing 2015-19 ACS Data "
   ]
  },
  {
   "cell_type": "markdown",
   "id": "6a093b55",
   "metadata": {},
   "source": [
    "This notebook contains the code used to wrangle, join, and analyze the following datasets:\n",
    "\n",
    "+ American Community Survey (ACS) 5-year estimates (2015-2019)\n",
    "    + [Aggregate](https://api.census.gov/data/2019/acs/acs5/variables.html)\n",
    "    + [Profile](https://api.census.gov/data/2019/acs/acs5/profile/variables.html)\n",
    "\n",
    "+ Chicago Community Area Census Tract Crosswalk\n",
    "    + [Chicago Community Areas](https://data.cityofchicago.org/Facilities-Geographic-Boundaries/Boundaries-Community-Areas-current-/cauq-8yn6)\n",
    "    + [Chicago Census Tracts](https://data.cityofchicago.org/Facilities-Geographic-Boundaries/Boundaries-Census-Tracts-2010/5jrd-6zik)\n",
    "+ [Chicago COVID-19 Community Vulnerability Index (CCVI)](https://data.cityofchicago.org/Health-Human-Services/Chicago-COVID-19-Community-Vulnerability-Index-CCV/xhc6-88s9)\n",
    "+ [Hardship Index](https://data.cityofchicago.org/Health-Human-Services/hardship-index/792q-4jtu)\n",
    "\n",
    "\n",
    "\n",
    "All csv files can be found in the \"data\" folder of the [working](https://github.com/danielgrzenda/broadbandequity/tree/working) branch of our Broadband Equity Github repo."
   ]
  },
  {
   "cell_type": "markdown",
   "id": "84d9fccf",
   "metadata": {},
   "source": [
    "##### Importing Libraries"
   ]
  },
  {
   "cell_type": "code",
<<<<<<< HEAD
   "execution_count": 7,
=======
   "execution_count": 4,
>>>>>>> 89dcb05f0e11c6772d78c493ebbff169907e78b4
   "id": "bc5ed9fc",
   "metadata": {
    "scrolled": true
   },
   "outputs": [],
   "source": [
    "import pandas as pd\n",
    "import numpy as np\n",
    "import matplotlib.pyplot as plt"
   ]
  },
  {
   "cell_type": "markdown",
   "id": "1bdfb676",
   "metadata": {},
   "source": [
    " "
   ]
  },
  {
   "cell_type": "markdown",
   "id": "cb082e03",
   "metadata": {},
   "source": [
    "##### Importing Chicago ACS aggregate and profile data"
   ]
  },
  {
   "cell_type": "code",
<<<<<<< HEAD
   "execution_count": 8,
=======
   "execution_count": 5,
>>>>>>> 89dcb05f0e11c6772d78c493ebbff169907e78b4
   "id": "0cec58c2",
   "metadata": {},
   "outputs": [],
   "source": [
    "# ACS aggregate\n",
    "\n",
    "acs_agg = pd.read_csv(\"data/acs5_aggregate.csv\",index_col=0,\n",
    "                      parse_dates=[0]).drop(['state', 'county'], axis=1)"
   ]
  },
  {
   "cell_type": "code",
<<<<<<< HEAD
   "execution_count": 9,
=======
   "execution_count": 6,
>>>>>>> 89dcb05f0e11c6772d78c493ebbff169907e78b4
   "id": "dbab8413",
   "metadata": {},
   "outputs": [],
   "source": [
    "# ACS profile\n",
    "\n",
    "acs_pro = pd.read_csv(\"data/acs5_profile.csv\",\n",
    "                      index_col=0,\n",
    "                      parse_dates=[0]).drop(\n",
    "                        ['estimated unemployment rate',\n",
    "                         'state', 'county'], axis=1)"
   ]
  },
  {
   "cell_type": "code",
<<<<<<< HEAD
   "execution_count": 10,
=======
   "execution_count": 7,
>>>>>>> 89dcb05f0e11c6772d78c493ebbff169907e78b4
   "id": "13546603",
   "metadata": {
    "scrolled": true
   },
   "outputs": [],
   "source": [
    "# merging both ACS datasets\n",
    "# renaming variables\n",
    "\n",
    "acs_df = acs_agg.merge(acs_pro, on='tract').rename(columns={\n",
    "            'estimated total population': 'total_pop',\n",
    "            'estimated total households': 'total_households',\n",
    "            'estimated total with internet subscription': 'hh_internet',\n",
    "            'estimated total with no internet access': 'hh_no_internet',\n",
    "            'estimated total has no computer' : 'hh_no_computer',\n",
    "            'estimated total households with a computer' : 'hh_computer',\n",
    "            'estimated total households with broadband internet subscription': 'hh_broadband',\n",
    "            'estimated total households median household income': 'hh_median_income',\n",
    "            'percent estimated percent of families and people whose income in the past 12 months is below poverty level': 'hh_poverty(%)',\n",
    "            'percent estimated unemployment rate': 'hh_unemployment(%)',\n",
    "            'estimated total population hispanic or latino (of any race)': 'total_hispanic',\n",
    "            'estimated total population Black or African American alone (non-Hispanic)': 'total_black'})\n"
   ]
  },
  {
   "cell_type": "code",
<<<<<<< HEAD
   "execution_count": 11,
=======
   "execution_count": 8,
>>>>>>> 89dcb05f0e11c6772d78c493ebbff169907e78b4
   "id": "a6936617",
   "metadata": {},
   "outputs": [],
   "source": [
    "# removing tracts outside of city boundaries\n",
    "# Ohare tracts\n",
    "\n",
    "acs_df = acs_df[acs_df['tract'] != 770602]\n",
    "acs_df = acs_df[acs_df['tract'] != 770902]\n",
    "acs_df = acs_df[acs_df['tract'] != 980000]"
   ]
  },
  {
   "cell_type": "code",
<<<<<<< HEAD
   "execution_count": 12,
=======
   "execution_count": 9,
>>>>>>> 89dcb05f0e11c6772d78c493ebbff169907e78b4
   "id": "ed3d9012",
   "metadata": {},
   "outputs": [
    {
     "data": {
      "text/html": [
       "<div>\n",
       "<style scoped>\n",
       "    .dataframe tbody tr th:only-of-type {\n",
       "        vertical-align: middle;\n",
       "    }\n",
       "\n",
       "    .dataframe tbody tr th {\n",
       "        vertical-align: top;\n",
       "    }\n",
       "\n",
       "    .dataframe thead th {\n",
       "        text-align: right;\n",
       "    }\n",
       "</style>\n",
       "<table border=\"1\" class=\"dataframe\">\n",
       "  <thead>\n",
       "    <tr style=\"text-align: right;\">\n",
       "      <th></th>\n",
       "      <th>total_pop</th>\n",
       "      <th>hh_internet</th>\n",
       "      <th>hh_no_internet</th>\n",
       "      <th>hh_no_computer</th>\n",
       "      <th>tract</th>\n",
       "      <th>total_households</th>\n",
       "      <th>hh_computer</th>\n",
       "      <th>hh_broadband</th>\n",
       "      <th>hh_median_income</th>\n",
       "      <th>hh_poverty(%)</th>\n",
       "      <th>total_hispanic</th>\n",
       "      <th>total_black</th>\n",
       "      <th>hh_unemployment(%)</th>\n",
       "    </tr>\n",
       "  </thead>\n",
       "  <tbody>\n",
       "    <tr>\n",
       "      <th>0</th>\n",
       "      <td>1825</td>\n",
       "      <td>392</td>\n",
       "      <td>149</td>\n",
       "      <td>149</td>\n",
       "      <td>630200</td>\n",
       "      <td>575</td>\n",
       "      <td>426</td>\n",
       "      <td>392</td>\n",
       "      <td>37422</td>\n",
       "      <td>25.7</td>\n",
       "      <td>1622</td>\n",
       "      <td>0</td>\n",
       "      <td>36.2</td>\n",
       "    </tr>\n",
       "    <tr>\n",
       "      <th>1</th>\n",
       "      <td>5908</td>\n",
       "      <td>1242</td>\n",
       "      <td>231</td>\n",
       "      <td>133</td>\n",
       "      <td>580700</td>\n",
       "      <td>1544</td>\n",
       "      <td>1411</td>\n",
       "      <td>1242</td>\n",
       "      <td>47000</td>\n",
       "      <td>17.4</td>\n",
       "      <td>4742</td>\n",
       "      <td>161</td>\n",
       "      <td>42.3</td>\n",
       "    </tr>\n",
       "    <tr>\n",
       "      <th>2</th>\n",
       "      <td>3419</td>\n",
       "      <td>928</td>\n",
       "      <td>140</td>\n",
       "      <td>104</td>\n",
       "      <td>590600</td>\n",
       "      <td>1172</td>\n",
       "      <td>1068</td>\n",
       "      <td>917</td>\n",
       "      <td>46033</td>\n",
       "      <td>7.9</td>\n",
       "      <td>2119</td>\n",
       "      <td>9</td>\n",
       "      <td>30.7</td>\n",
       "    </tr>\n",
       "    <tr>\n",
       "      <th>3</th>\n",
       "      <td>2835</td>\n",
       "      <td>917</td>\n",
       "      <td>138</td>\n",
       "      <td>81</td>\n",
       "      <td>600700</td>\n",
       "      <td>1084</td>\n",
       "      <td>1003</td>\n",
       "      <td>917</td>\n",
       "      <td>45294</td>\n",
       "      <td>17.0</td>\n",
       "      <td>850</td>\n",
       "      <td>82</td>\n",
       "      <td>36.3</td>\n",
       "    </tr>\n",
       "    <tr>\n",
       "      <th>4</th>\n",
       "      <td>1639</td>\n",
       "      <td>322</td>\n",
       "      <td>245</td>\n",
       "      <td>218</td>\n",
       "      <td>611900</td>\n",
       "      <td>574</td>\n",
       "      <td>356</td>\n",
       "      <td>322</td>\n",
       "      <td>24507</td>\n",
       "      <td>55.0</td>\n",
       "      <td>438</td>\n",
       "      <td>1175</td>\n",
       "      <td>46.0</td>\n",
       "    </tr>\n",
       "  </tbody>\n",
       "</table>\n",
       "</div>"
      ],
      "text/plain": [
       "   total_pop  hh_internet  hh_no_internet  hh_no_computer   tract  \\\n",
       "0       1825          392             149             149  630200   \n",
       "1       5908         1242             231             133  580700   \n",
       "2       3419          928             140             104  590600   \n",
       "3       2835          917             138              81  600700   \n",
       "4       1639          322             245             218  611900   \n",
       "\n",
       "   total_households  hh_computer  hh_broadband  hh_median_income  \\\n",
       "0               575          426           392             37422   \n",
       "1              1544         1411          1242             47000   \n",
       "2              1172         1068           917             46033   \n",
       "3              1084         1003           917             45294   \n",
       "4               574          356           322             24507   \n",
       "\n",
       "   hh_poverty(%)  total_hispanic  total_black  hh_unemployment(%)  \n",
       "0           25.7            1622            0                36.2  \n",
       "1           17.4            4742          161                42.3  \n",
       "2            7.9            2119            9                30.7  \n",
       "3           17.0             850           82                36.3  \n",
       "4           55.0             438         1175                46.0  "
      ]
     },
<<<<<<< HEAD
     "execution_count": 12,
=======
     "execution_count": 9,
>>>>>>> 89dcb05f0e11c6772d78c493ebbff169907e78b4
     "metadata": {},
     "output_type": "execute_result"
    }
   ],
   "source": [
    "# 1316 rows x 13 columns\n",
    "# variables beginning with \"hh\" indicate they are measured at the household level\n",
    "# variables with \"(%)\" indicate they are recorded as percentages \n",
    "\n",
    "acs_df.head(5)"
   ]
  },
  {
   "cell_type": "markdown",
   "id": "2b51cb29",
   "metadata": {},
   "source": [
    " \n"
   ]
  },
  {
   "cell_type": "markdown",
   "id": "9514b76f",
   "metadata": {},
   "source": [
    "##### Importing Chicago COVID and Hardship Indices"
   ]
  },
  {
   "cell_type": "code",
<<<<<<< HEAD
   "execution_count": 13,
=======
   "execution_count": 10,
>>>>>>> 89dcb05f0e11c6772d78c493ebbff169907e78b4
   "id": "0e5708e5",
   "metadata": {},
   "outputs": [],
   "source": [
    "# Chicago COVID hardship index csv\n",
    "\n",
    "covid = pd.read_csv(\"data/covid_index.csv\",\n",
    "                        index_col=0,\n",
    "                        parse_dates=[0]).reset_index()"
   ]
  },
  {
   "cell_type": "code",
<<<<<<< HEAD
   "execution_count": 14,
=======
   "execution_count": 11,
>>>>>>> 89dcb05f0e11c6772d78c493ebbff169907e78b4
   "id": "5fced9ec",
   "metadata": {},
   "outputs": [],
   "source": [
    "# filtering for Community Areas only\n",
    "\n",
    "covid = covid[covid['Geography Type']==\"CA\"]"
   ]
  },
  {
   "cell_type": "code",
<<<<<<< HEAD
   "execution_count": 15,
=======
   "execution_count": 12,
>>>>>>> 89dcb05f0e11c6772d78c493ebbff169907e78b4
   "id": "47f3a724",
   "metadata": {},
   "outputs": [],
   "source": [
    "# selecting and renaming relevant columns\n",
    "\n",
    "covid = covid[['Community Area Name', \n",
    "               'Community Area or ZIP Code', \n",
    "               'CCVI Score', \n",
    "               'CCVI Category']].rename(columns={\n",
    "                        \"Community Area Name\": \"name\",\n",
    "                        'Community Area or ZIP Code': \"comm_num\",\n",
    "                        \"CCVI Score\": \"ccvi_score\",\n",
    "                        'CCVI Category': \"ccvi_cat\"})"
   ]
  },
  {
   "cell_type": "code",
<<<<<<< HEAD
   "execution_count": 16,
=======
   "execution_count": 13,
>>>>>>> 89dcb05f0e11c6772d78c493ebbff169907e78b4
   "id": "52ba62d5",
   "metadata": {},
   "outputs": [],
   "source": [
    "# setting index to community area names to fix spelling\n",
    "\n",
    "covid = covid.set_index(covid.columns[0]).rename(\n",
    "    index={\"Fuller Park*\":\"Fuller Park\", \"Burnside*\":\"Burnside\"})"
   ]
  },
  {
   "cell_type": "code",
<<<<<<< HEAD
   "execution_count": 17,
=======
   "execution_count": 14,
>>>>>>> 89dcb05f0e11c6772d78c493ebbff169907e78b4
   "id": "2b228dc8",
   "metadata": {},
   "outputs": [],
   "source": [
    "# reverting index to normal\n",
    "\n",
    "covid=covid.reset_index()"
   ]
  },
  {
   "cell_type": "code",
<<<<<<< HEAD
   "execution_count": 18,
=======
   "execution_count": 15,
>>>>>>> 89dcb05f0e11c6772d78c493ebbff169907e78b4
   "id": "38314568",
   "metadata": {},
   "outputs": [],
   "source": [
    "# Chicago hardship index csv\n",
    "\n",
    "hardship = pd.read_csv(\"data/hardship_index.csv\",\n",
    "                        index_col=0,\n",
    "                        parse_dates=[0]).reset_index()"
   ]
  },
  {
   "cell_type": "code",
<<<<<<< HEAD
   "execution_count": 19,
=======
   "execution_count": 16,
>>>>>>> 89dcb05f0e11c6772d78c493ebbff169907e78b4
   "id": "f9a11d00",
   "metadata": {},
   "outputs": [],
   "source": [
    "# removing \"Chicago\" community area\n",
    "\n",
    "hardship = hardship[hardship['COMMUNITY AREA NAME']!=\"CHICAGO\"]"
   ]
  },
  {
   "cell_type": "code",
<<<<<<< HEAD
   "execution_count": 20,
=======
   "execution_count": 17,
>>>>>>> 89dcb05f0e11c6772d78c493ebbff169907e78b4
   "id": "a1a20476",
   "metadata": {},
   "outputs": [],
   "source": [
    "# selecting and renaming relevant columns\n",
    "\n",
    "hardship = hardship[['COMMUNITY AREA NAME', \n",
    "               'HARDSHIP INDEX']].rename(columns={\n",
    "                        \"COMMUNITY AREA NAME\": \"name\",\n",
    "                        'HARDSHIP INDEX': \"hardship_score\"})"
   ]
  },
  {
   "cell_type": "code",
<<<<<<< HEAD
   "execution_count": 21,
=======
   "execution_count": 18,
>>>>>>> 89dcb05f0e11c6772d78c493ebbff169907e78b4
   "id": "95b77373",
   "metadata": {},
   "outputs": [],
   "source": [
    "# setting index to community area names to fix spelling\n",
    "\n",
    "hardship = hardship.set_index(covid.columns[0]).rename(\n",
    "    index={\"Montclaire\":\"Montclare\", \"Humboldt park\":\"Humboldt Park\", \"Washington Height\":\"Washington Heights\"})"
   ]
  },
  {
   "cell_type": "code",
<<<<<<< HEAD
   "execution_count": 22,
=======
   "execution_count": 19,
>>>>>>> 89dcb05f0e11c6772d78c493ebbff169907e78b4
   "id": "52535c11",
   "metadata": {},
   "outputs": [],
   "source": [
    "# reverting index to normal\n",
    "\n",
    "hardship=hardship.reset_index()"
   ]
  },
  {
   "cell_type": "code",
<<<<<<< HEAD
   "execution_count": 23,
=======
   "execution_count": 20,
>>>>>>> 89dcb05f0e11c6772d78c493ebbff169907e78b4
   "id": "6862ff24",
   "metadata": {},
   "outputs": [],
   "source": [
    "# joining datasets\n",
    "\n",
    "covid_hardship = covid.merge(hardship, on='name')"
   ]
  },
  {
   "cell_type": "code",
<<<<<<< HEAD
   "execution_count": 24,
=======
   "execution_count": 21,
>>>>>>> 89dcb05f0e11c6772d78c493ebbff169907e78b4
   "id": "87c1a069",
   "metadata": {},
   "outputs": [
    {
     "data": {
      "text/html": [
       "<div>\n",
       "<style scoped>\n",
       "    .dataframe tbody tr th:only-of-type {\n",
       "        vertical-align: middle;\n",
       "    }\n",
       "\n",
       "    .dataframe tbody tr th {\n",
       "        vertical-align: top;\n",
       "    }\n",
       "\n",
       "    .dataframe thead th {\n",
       "        text-align: right;\n",
       "    }\n",
       "</style>\n",
       "<table border=\"1\" class=\"dataframe\">\n",
       "  <thead>\n",
       "    <tr style=\"text-align: right;\">\n",
       "      <th></th>\n",
       "      <th>name</th>\n",
       "      <th>comm_num</th>\n",
       "      <th>ccvi_score</th>\n",
       "      <th>ccvi_cat</th>\n",
       "      <th>hardship_score</th>\n",
       "    </tr>\n",
       "  </thead>\n",
       "  <tbody>\n",
       "    <tr>\n",
       "      <th>0</th>\n",
       "      <td>Ashburn</td>\n",
       "      <td>70</td>\n",
       "      <td>45.1</td>\n",
       "      <td>MEDIUM</td>\n",
       "      <td>37.0</td>\n",
       "    </tr>\n",
       "    <tr>\n",
       "      <th>1</th>\n",
       "      <td>Rogers Park</td>\n",
       "      <td>1</td>\n",
       "      <td>30.9</td>\n",
       "      <td>LOW</td>\n",
       "      <td>39.0</td>\n",
       "    </tr>\n",
       "    <tr>\n",
       "      <th>2</th>\n",
       "      <td>Lake View</td>\n",
       "      <td>6</td>\n",
       "      <td>5.2</td>\n",
       "      <td>LOW</td>\n",
       "      <td>5.0</td>\n",
       "    </tr>\n",
       "    <tr>\n",
       "      <th>3</th>\n",
       "      <td>Jefferson Park</td>\n",
       "      <td>11</td>\n",
       "      <td>25.6</td>\n",
       "      <td>LOW</td>\n",
       "      <td>25.0</td>\n",
       "    </tr>\n",
       "    <tr>\n",
       "      <th>4</th>\n",
       "      <td>Archer Heights</td>\n",
       "      <td>57</td>\n",
       "      <td>53.3</td>\n",
       "      <td>HIGH</td>\n",
       "      <td>67.0</td>\n",
       "    </tr>\n",
       "  </tbody>\n",
       "</table>\n",
       "</div>"
      ],
      "text/plain": [
       "             name  comm_num  ccvi_score ccvi_cat  hardship_score\n",
       "0         Ashburn        70        45.1   MEDIUM            37.0\n",
       "1     Rogers Park         1        30.9      LOW            39.0\n",
       "2       Lake View         6         5.2      LOW             5.0\n",
       "3  Jefferson Park        11        25.6      LOW            25.0\n",
       "4  Archer Heights        57        53.3     HIGH            67.0"
      ]
     },
<<<<<<< HEAD
     "execution_count": 24,
=======
     "execution_count": 21,
>>>>>>> 89dcb05f0e11c6772d78c493ebbff169907e78b4
     "metadata": {},
     "output_type": "execute_result"
    }
   ],
   "source": [
    "# 77 rows x 5 columns\n",
    "\n",
    "covid_hardship.head(5)"
   ]
  },
  {
   "cell_type": "markdown",
   "id": "bc0cd77b",
   "metadata": {},
   "source": [
    " "
   ]
  },
  {
   "cell_type": "markdown",
   "id": "e2c06392",
   "metadata": {},
   "source": [
    "##### Importing Chicago Community Area Census Tract Crosswalk"
   ]
  },
  {
   "cell_type": "code",
<<<<<<< HEAD
   "execution_count": 25,
=======
   "execution_count": 22,
>>>>>>> 89dcb05f0e11c6772d78c493ebbff169907e78b4
   "id": "a0414f9b",
   "metadata": {},
   "outputs": [],
   "source": [
    "# importing Census tracts mapped to community area number \n",
    "# renaming columns\n",
    "\n",
    "tracts = pd.read_csv(\"data/tracts_comm_areas.csv\",\n",
    "                        index_col=0,\n",
    "                        parse_dates=[0]).rename(columns={\n",
    "                        \"COMMAREA\": \"comm_num\",          \n",
    "                        \"TRACTCE10\": \"tract\"})"
   ]
  },
  {
   "cell_type": "code",
<<<<<<< HEAD
   "execution_count": 26,
=======
   "execution_count": 23,
>>>>>>> 89dcb05f0e11c6772d78c493ebbff169907e78b4
   "id": "5afa5ac7",
   "metadata": {},
   "outputs": [],
   "source": [
    "# importing community area numbers and names\n",
    "# renaming columns\n",
    "\n",
    "comm_area = pd.read_csv(\"data/comm_areas.csv\",\n",
    "                        index_col=0,\n",
    "                        parse_dates=[0]).rename(columns={\n",
    "                        \"AREA_NUMBE\": \"comm_num\"})"
   ]
  },
  {
   "cell_type": "code",
<<<<<<< HEAD
   "execution_count": 27,
=======
   "execution_count": 24,
>>>>>>> 89dcb05f0e11c6772d78c493ebbff169907e78b4
   "id": "bf55d597",
   "metadata": {},
   "outputs": [],
   "source": [
    "# merging both dataframes above to map tract with community area name\n",
    "\n",
    "tract_area= comm_area.merge(tracts, on='comm_num')"
   ]
  },
  {
   "cell_type": "code",
<<<<<<< HEAD
   "execution_count": 28,
=======
   "execution_count": 25,
>>>>>>> 89dcb05f0e11c6772d78c493ebbff169907e78b4
   "id": "36b27c53",
   "metadata": {},
   "outputs": [],
   "source": [
    "# selecting columns we need and renaming them\n",
    "\n",
    "tract_area=tract_area[['comm_num', 'tract']]"
   ]
  },
  {
   "cell_type": "code",
<<<<<<< HEAD
   "execution_count": 29,
=======
   "execution_count": 26,
>>>>>>> 89dcb05f0e11c6772d78c493ebbff169907e78b4
   "id": "920b8d36",
   "metadata": {},
   "outputs": [
    {
     "data": {
      "text/html": [
       "<div>\n",
       "<style scoped>\n",
       "    .dataframe tbody tr th:only-of-type {\n",
       "        vertical-align: middle;\n",
       "    }\n",
       "\n",
       "    .dataframe tbody tr th {\n",
       "        vertical-align: top;\n",
       "    }\n",
       "\n",
       "    .dataframe thead th {\n",
       "        text-align: right;\n",
       "    }\n",
       "</style>\n",
       "<table border=\"1\" class=\"dataframe\">\n",
       "  <thead>\n",
       "    <tr style=\"text-align: right;\">\n",
       "      <th></th>\n",
       "      <th>comm_num</th>\n",
       "      <th>tract</th>\n",
       "    </tr>\n",
       "  </thead>\n",
       "  <tbody>\n",
       "    <tr>\n",
       "      <th>0</th>\n",
       "      <td>35</td>\n",
       "      <td>842000</td>\n",
       "    </tr>\n",
       "    <tr>\n",
       "      <th>1</th>\n",
       "      <td>35</td>\n",
       "      <td>351500</td>\n",
       "    </tr>\n",
       "    <tr>\n",
       "      <th>2</th>\n",
       "      <td>35</td>\n",
       "      <td>839500</td>\n",
       "    </tr>\n",
       "    <tr>\n",
       "      <th>3</th>\n",
       "      <td>35</td>\n",
       "      <td>839200</td>\n",
       "    </tr>\n",
       "    <tr>\n",
       "      <th>4</th>\n",
       "      <td>35</td>\n",
       "      <td>839600</td>\n",
       "    </tr>\n",
       "  </tbody>\n",
       "</table>\n",
       "</div>"
      ],
      "text/plain": [
       "   comm_num   tract\n",
       "0        35  842000\n",
       "1        35  351500\n",
       "2        35  839500\n",
       "3        35  839200\n",
       "4        35  839600"
      ]
     },
<<<<<<< HEAD
     "execution_count": 29,
=======
     "execution_count": 26,
>>>>>>> 89dcb05f0e11c6772d78c493ebbff169907e78b4
     "metadata": {},
     "output_type": "execute_result"
    }
   ],
   "source": [
    "# 801 rows x 3 columns\n",
    "# final dataframe\n",
    "\n",
    "tract_area.head(5)"
   ]
  },
  {
   "cell_type": "markdown",
   "id": "b6dfdc15",
   "metadata": {},
   "source": [
    " "
   ]
  },
  {
   "cell_type": "markdown",
   "id": "752f276e",
   "metadata": {},
   "source": [
    "##### Joining ACS, COVID index, Hardship Index, and Community Areas"
   ]
  },
  {
   "cell_type": "code",
<<<<<<< HEAD
   "execution_count": 30,
=======
   "execution_count": 27,
>>>>>>> 89dcb05f0e11c6772d78c493ebbff169907e78b4
   "id": "c6ade3fa",
   "metadata": {
    "scrolled": true
   },
   "outputs": [],
   "source": [
    "# merging ACS with chicago community areas, covid index, hardship index\n",
    "\n",
    "full_df = tract_area.merge(acs_df, on='tract'\n",
    "                           ).merge(covid_hardship, on='comm_num')"
   ]
  },
  {
   "cell_type": "code",
<<<<<<< HEAD
   "execution_count": 31,
=======
   "execution_count": 28,
>>>>>>> 89dcb05f0e11c6772d78c493ebbff169907e78b4
   "id": "0ffc2914",
   "metadata": {},
   "outputs": [],
   "source": [
    "# removing rows with no information\n",
    "\n",
    "full_df = full_df[full_df['total_pop']!=0]"
   ]
  },
  {
   "cell_type": "code",
<<<<<<< HEAD
   "execution_count": 32,
=======
   "execution_count": 29,
>>>>>>> 89dcb05f0e11c6772d78c493ebbff169907e78b4
   "id": "f76fd685",
   "metadata": {},
   "outputs": [
    {
     "data": {
      "text/html": [
       "<div>\n",
       "<style scoped>\n",
       "    .dataframe tbody tr th:only-of-type {\n",
       "        vertical-align: middle;\n",
       "    }\n",
       "\n",
       "    .dataframe tbody tr th {\n",
       "        vertical-align: top;\n",
       "    }\n",
       "\n",
       "    .dataframe thead th {\n",
       "        text-align: right;\n",
       "    }\n",
       "</style>\n",
       "<table border=\"1\" class=\"dataframe\">\n",
       "  <thead>\n",
       "    <tr style=\"text-align: right;\">\n",
       "      <th></th>\n",
       "      <th>comm_num</th>\n",
       "      <th>tract</th>\n",
       "      <th>total_pop</th>\n",
       "      <th>hh_internet</th>\n",
       "      <th>hh_no_internet</th>\n",
       "      <th>hh_no_computer</th>\n",
       "      <th>total_households</th>\n",
       "      <th>hh_computer</th>\n",
       "      <th>hh_broadband</th>\n",
       "      <th>hh_median_income</th>\n",
       "      <th>hh_poverty(%)</th>\n",
       "      <th>total_hispanic</th>\n",
       "      <th>total_black</th>\n",
       "      <th>hh_unemployment(%)</th>\n",
       "      <th>name</th>\n",
       "      <th>ccvi_score</th>\n",
       "      <th>ccvi_cat</th>\n",
       "      <th>hardship_score</th>\n",
       "    </tr>\n",
       "  </thead>\n",
       "  <tbody>\n",
       "    <tr>\n",
       "      <th>108</th>\n",
       "      <td>14</td>\n",
       "      <td>140302</td>\n",
       "      <td>4189</td>\n",
       "      <td>1032</td>\n",
       "      <td>147</td>\n",
       "      <td>104</td>\n",
       "      <td>1292</td>\n",
       "      <td>1188</td>\n",
       "      <td>1032</td>\n",
       "      <td>75789</td>\n",
       "      <td>6.8</td>\n",
       "      <td>1433</td>\n",
       "      <td>228</td>\n",
       "      <td>33.0</td>\n",
       "      <td>Albany Park</td>\n",
       "      <td>38.2</td>\n",
       "      <td>MEDIUM</td>\n",
       "      <td>53.0</td>\n",
       "    </tr>\n",
       "    <tr>\n",
       "      <th>103</th>\n",
       "      <td>14</td>\n",
       "      <td>140702</td>\n",
       "      <td>5882</td>\n",
       "      <td>1444</td>\n",
       "      <td>390</td>\n",
       "      <td>247</td>\n",
       "      <td>1997</td>\n",
       "      <td>1750</td>\n",
       "      <td>1444</td>\n",
       "      <td>57708</td>\n",
       "      <td>14.9</td>\n",
       "      <td>3746</td>\n",
       "      <td>183</td>\n",
       "      <td>23.0</td>\n",
       "      <td>Albany Park</td>\n",
       "      <td>38.2</td>\n",
       "      <td>MEDIUM</td>\n",
       "      <td>53.0</td>\n",
       "    </tr>\n",
       "    <tr>\n",
       "      <th>104</th>\n",
       "      <td>14</td>\n",
       "      <td>140301</td>\n",
       "      <td>2839</td>\n",
       "      <td>579</td>\n",
       "      <td>165</td>\n",
       "      <td>89</td>\n",
       "      <td>812</td>\n",
       "      <td>723</td>\n",
       "      <td>579</td>\n",
       "      <td>50667</td>\n",
       "      <td>18.8</td>\n",
       "      <td>1724</td>\n",
       "      <td>57</td>\n",
       "      <td>34.9</td>\n",
       "      <td>Albany Park</td>\n",
       "      <td>38.2</td>\n",
       "      <td>MEDIUM</td>\n",
       "      <td>53.0</td>\n",
       "    </tr>\n",
       "    <tr>\n",
       "      <th>105</th>\n",
       "      <td>14</td>\n",
       "      <td>140601</td>\n",
       "      <td>2886</td>\n",
       "      <td>690</td>\n",
       "      <td>154</td>\n",
       "      <td>105</td>\n",
       "      <td>881</td>\n",
       "      <td>776</td>\n",
       "      <td>690</td>\n",
       "      <td>43988</td>\n",
       "      <td>12.1</td>\n",
       "      <td>1183</td>\n",
       "      <td>329</td>\n",
       "      <td>39.5</td>\n",
       "      <td>Albany Park</td>\n",
       "      <td>38.2</td>\n",
       "      <td>MEDIUM</td>\n",
       "      <td>53.0</td>\n",
       "    </tr>\n",
       "    <tr>\n",
       "      <th>106</th>\n",
       "      <td>14</td>\n",
       "      <td>140701</td>\n",
       "      <td>3028</td>\n",
       "      <td>898</td>\n",
       "      <td>140</td>\n",
       "      <td>75</td>\n",
       "      <td>1073</td>\n",
       "      <td>998</td>\n",
       "      <td>898</td>\n",
       "      <td>71125</td>\n",
       "      <td>11.0</td>\n",
       "      <td>1450</td>\n",
       "      <td>161</td>\n",
       "      <td>22.6</td>\n",
       "      <td>Albany Park</td>\n",
       "      <td>38.2</td>\n",
       "      <td>MEDIUM</td>\n",
       "      <td>53.0</td>\n",
       "    </tr>\n",
       "  </tbody>\n",
       "</table>\n",
       "</div>"
      ],
      "text/plain": [
       "     comm_num   tract  total_pop  hh_internet  hh_no_internet  hh_no_computer  \\\n",
       "108        14  140302       4189         1032             147             104   \n",
       "103        14  140702       5882         1444             390             247   \n",
       "104        14  140301       2839          579             165              89   \n",
       "105        14  140601       2886          690             154             105   \n",
       "106        14  140701       3028          898             140              75   \n",
       "\n",
       "     total_households  hh_computer  hh_broadband  hh_median_income  \\\n",
       "108              1292         1188          1032             75789   \n",
       "103              1997         1750          1444             57708   \n",
       "104               812          723           579             50667   \n",
       "105               881          776           690             43988   \n",
       "106              1073          998           898             71125   \n",
       "\n",
       "     hh_poverty(%)  total_hispanic  total_black  hh_unemployment(%)  \\\n",
       "108            6.8            1433          228                33.0   \n",
       "103           14.9            3746          183                23.0   \n",
       "104           18.8            1724           57                34.9   \n",
       "105           12.1            1183          329                39.5   \n",
       "106           11.0            1450          161                22.6   \n",
       "\n",
       "            name  ccvi_score ccvi_cat  hardship_score  \n",
       "108  Albany Park        38.2   MEDIUM            53.0  \n",
       "103  Albany Park        38.2   MEDIUM            53.0  \n",
       "104  Albany Park        38.2   MEDIUM            53.0  \n",
       "105  Albany Park        38.2   MEDIUM            53.0  \n",
       "106  Albany Park        38.2   MEDIUM            53.0  "
      ]
     },
<<<<<<< HEAD
     "execution_count": 32,
=======
     "execution_count": 29,
>>>>>>> 89dcb05f0e11c6772d78c493ebbff169907e78b4
     "metadata": {},
     "output_type": "execute_result"
    }
   ],
   "source": [
    "# 796 rows x 18 columns\n",
    "\n",
    "full_df.sort_values(by=\"name\").head(5)"
   ]
  },
  {
   "cell_type": "markdown",
   "id": "3a1b3ebe",
   "metadata": {},
   "source": [
    " "
   ]
  },
  {
   "cell_type": "markdown",
   "id": "951d024f",
   "metadata": {},
   "source": [
    "##### Computer, Internet, Broadband Access"
   ]
  },
  {
   "cell_type": "markdown",
   "id": "4952c1cc",
   "metadata": {},
   "source": [
    "This section will look into the community areas at a household-level to see who has and who does not have basic access to the internet and/or computer. We will also look into the households who have a broadband internet subscription. "
   ]
  },
  {
   "cell_type": "code",
<<<<<<< HEAD
   "execution_count": 33,
=======
   "execution_count": 30,
>>>>>>> 89dcb05f0e11c6772d78c493ebbff169907e78b4
   "id": "d2d30852",
   "metadata": {},
   "outputs": [],
   "source": [
    "# who has a computer? who has internet access? \n",
    "# selecting columns we need\n",
    "\n",
    "internet_df = full_df[['name', \n",
    "                        'total_households',\n",
    "                        'hh_no_internet', \n",
    "                        'hh_internet',\n",
    "                        'hh_computer', \n",
    "                        'hh_no_computer',\n",
    "                       'hh_broadband']].groupby(by=\"name\").sum()"
   ]
  },
  {
   "cell_type": "code",
<<<<<<< HEAD
   "execution_count": 34,
=======
   "execution_count": 31,
>>>>>>> 89dcb05f0e11c6772d78c493ebbff169907e78b4
   "id": "460c4286",
   "metadata": {
    "scrolled": false
   },
   "outputs": [],
   "source": [
    "# calculating percentages of households for each variable\n",
    "\n",
    "# percentage of households with/out internet access\n",
    "\n",
    "internet_df['hh_no_internet(%)']=internet_df['hh_no_internet']/internet_df['total_households']*100\n",
    "internet_df['hh_internet(%)']=internet_df['hh_internet']/internet_df['total_households']*100\n",
    "\n",
    "# percentage of households with/out no computer\n",
    "\n",
    "internet_df['hh_no_computer(%)']=internet_df['hh_no_computer']/internet_df['total_households']*100\n",
    "internet_df['hh_computer(%)']=internet_df['hh_computer']/internet_df['total_households']*100\n",
    "\n",
    "# percentage of households with/out broadband \n",
    "\n",
    "internet_df['hh_broadband(%)']=internet_df['hh_broadband']/internet_df['total_households']*100"
   ]
  },
  {
   "cell_type": "code",
<<<<<<< HEAD
   "execution_count": 35,
=======
   "execution_count": 32,
>>>>>>> 89dcb05f0e11c6772d78c493ebbff169907e78b4
   "id": "6af94192",
   "metadata": {},
   "outputs": [],
   "source": [
    "# calculating response rates \n",
    "\n",
    "internet_df['internet_rr']=(internet_df['hh_internet']+internet_df['hh_no_internet'])/internet_df['total_households']*100\n",
    "internet_df['computer_rr']=(internet_df['hh_computer']+internet_df['hh_no_computer'])/internet_df['total_households']*100\n"
   ]
  },
  {
   "cell_type": "code",
<<<<<<< HEAD
   "execution_count": 36,
=======
   "execution_count": 33,
>>>>>>> 89dcb05f0e11c6772d78c493ebbff169907e78b4
   "id": "8c133bc9",
   "metadata": {},
   "outputs": [
    {
     "data": {
      "text/html": [
       "<div>\n",
       "<style scoped>\n",
       "    .dataframe tbody tr th:only-of-type {\n",
       "        vertical-align: middle;\n",
       "    }\n",
       "\n",
       "    .dataframe tbody tr th {\n",
       "        vertical-align: top;\n",
       "    }\n",
       "\n",
       "    .dataframe thead th {\n",
       "        text-align: right;\n",
       "    }\n",
       "</style>\n",
       "<table border=\"1\" class=\"dataframe\">\n",
       "  <thead>\n",
       "    <tr style=\"text-align: right;\">\n",
       "      <th></th>\n",
       "      <th>total_households</th>\n",
       "      <th>hh_no_internet</th>\n",
       "      <th>hh_internet</th>\n",
       "      <th>hh_computer</th>\n",
       "      <th>hh_no_computer</th>\n",
       "      <th>hh_broadband</th>\n",
       "      <th>hh_no_internet(%)</th>\n",
       "      <th>hh_internet(%)</th>\n",
       "      <th>hh_no_computer(%)</th>\n",
       "      <th>hh_computer(%)</th>\n",
       "      <th>hh_broadband(%)</th>\n",
       "      <th>internet_rr</th>\n",
       "      <th>computer_rr</th>\n",
       "    </tr>\n",
       "    <tr>\n",
       "      <th>name</th>\n",
       "      <th></th>\n",
       "      <th></th>\n",
       "      <th></th>\n",
       "      <th></th>\n",
       "      <th></th>\n",
       "      <th></th>\n",
       "      <th></th>\n",
       "      <th></th>\n",
       "      <th></th>\n",
       "      <th></th>\n",
       "      <th></th>\n",
       "      <th></th>\n",
       "      <th></th>\n",
       "    </tr>\n",
       "  </thead>\n",
       "  <tbody>\n",
       "    <tr>\n",
       "      <th>Burnside</th>\n",
       "      <td>888</td>\n",
       "      <td>375</td>\n",
       "      <td>477</td>\n",
       "      <td>557</td>\n",
       "      <td>331</td>\n",
       "      <td>464</td>\n",
       "      <td>42.229730</td>\n",
       "      <td>53.716216</td>\n",
       "      <td>37.274775</td>\n",
       "      <td>62.725225</td>\n",
       "      <td>52.252252</td>\n",
       "      <td>95.945946</td>\n",
       "      <td>100.0</td>\n",
       "    </tr>\n",
       "    <tr>\n",
       "      <th>Englewood</th>\n",
       "      <td>8983</td>\n",
       "      <td>3108</td>\n",
       "      <td>5083</td>\n",
       "      <td>6728</td>\n",
       "      <td>2255</td>\n",
       "      <td>5058</td>\n",
       "      <td>34.598686</td>\n",
       "      <td>56.584660</td>\n",
       "      <td>25.102972</td>\n",
       "      <td>74.897028</td>\n",
       "      <td>56.306356</td>\n",
       "      <td>91.183346</td>\n",
       "      <td>100.0</td>\n",
       "    </tr>\n",
       "    <tr>\n",
       "      <th>West Englewood</th>\n",
       "      <td>9483</td>\n",
       "      <td>3612</td>\n",
       "      <td>5428</td>\n",
       "      <td>6670</td>\n",
       "      <td>2813</td>\n",
       "      <td>5428</td>\n",
       "      <td>38.089212</td>\n",
       "      <td>57.239270</td>\n",
       "      <td>29.663609</td>\n",
       "      <td>70.336391</td>\n",
       "      <td>57.239270</td>\n",
       "      <td>95.328483</td>\n",
       "      <td>100.0</td>\n",
       "    </tr>\n",
       "    <tr>\n",
       "      <th>Fuller Park</th>\n",
       "      <td>1128</td>\n",
       "      <td>391</td>\n",
       "      <td>666</td>\n",
       "      <td>783</td>\n",
       "      <td>345</td>\n",
       "      <td>666</td>\n",
       "      <td>34.663121</td>\n",
       "      <td>59.042553</td>\n",
       "      <td>30.585106</td>\n",
       "      <td>69.414894</td>\n",
       "      <td>59.042553</td>\n",
       "      <td>93.705674</td>\n",
       "      <td>100.0</td>\n",
       "    </tr>\n",
       "    <tr>\n",
       "      <th>North Lawndale</th>\n",
       "      <td>11075</td>\n",
       "      <td>3321</td>\n",
       "      <td>6631</td>\n",
       "      <td>8417</td>\n",
       "      <td>2658</td>\n",
       "      <td>6603</td>\n",
       "      <td>29.986456</td>\n",
       "      <td>59.873589</td>\n",
       "      <td>24.000000</td>\n",
       "      <td>76.000000</td>\n",
       "      <td>59.620767</td>\n",
       "      <td>89.860045</td>\n",
       "      <td>100.0</td>\n",
       "    </tr>\n",
       "  </tbody>\n",
       "</table>\n",
       "</div>"
      ],
      "text/plain": [
       "                total_households  hh_no_internet  hh_internet  hh_computer  \\\n",
       "name                                                                         \n",
       "Burnside                     888             375          477          557   \n",
       "Englewood                   8983            3108         5083         6728   \n",
       "West Englewood              9483            3612         5428         6670   \n",
       "Fuller Park                 1128             391          666          783   \n",
       "North Lawndale             11075            3321         6631         8417   \n",
       "\n",
       "                hh_no_computer  hh_broadband  hh_no_internet(%)  \\\n",
       "name                                                              \n",
       "Burnside                   331           464          42.229730   \n",
       "Englewood                 2255          5058          34.598686   \n",
       "West Englewood            2813          5428          38.089212   \n",
       "Fuller Park                345           666          34.663121   \n",
       "North Lawndale            2658          6603          29.986456   \n",
       "\n",
       "                hh_internet(%)  hh_no_computer(%)  hh_computer(%)  \\\n",
       "name                                                                \n",
       "Burnside             53.716216          37.274775       62.725225   \n",
       "Englewood            56.584660          25.102972       74.897028   \n",
       "West Englewood       57.239270          29.663609       70.336391   \n",
       "Fuller Park          59.042553          30.585106       69.414894   \n",
       "North Lawndale       59.873589          24.000000       76.000000   \n",
       "\n",
       "                hh_broadband(%)  internet_rr  computer_rr  \n",
       "name                                                       \n",
       "Burnside              52.252252    95.945946        100.0  \n",
       "Englewood             56.306356    91.183346        100.0  \n",
       "West Englewood        57.239270    95.328483        100.0  \n",
       "Fuller Park           59.042553    93.705674        100.0  \n",
       "North Lawndale        59.620767    89.860045        100.0  "
      ]
     },
<<<<<<< HEAD
     "execution_count": 36,
=======
     "execution_count": 33,
>>>>>>> 89dcb05f0e11c6772d78c493ebbff169907e78b4
     "metadata": {},
     "output_type": "execute_result"
    }
   ],
   "source": [
    "# resulting dataframe\n",
    "\n",
    "internet_df.sort_values([\"hh_broadband(%)\"],\n",
    "                        ascending=True).head(5)"
   ]
  },
  {
   "cell_type": "markdown",
   "id": "613c2a90",
   "metadata": {},
   "source": [
    "Based on 2015-2019 ACS data, the percentages of households with computers, internet access, and internet broadband subscription are seen above. The neighborhoods of Burnside, Englewood, West Englewood, Fuller Park have the lowest percentages of both broadband subscription and internet access. The neighborhods of Near South Side, Lake View, Lincoln Park, and North Center have the highest. \n",
    "\n",
    "Broadband subscription and internet access numbers are extremely close, suggesting that the overwhelming majority of households who have access to internet do so via a broadbad subscription. "
   ]
  },
  {
   "cell_type": "markdown",
   "id": "425201d8",
   "metadata": {},
   "source": [
    " "
   ]
  },
  {
   "cell_type": "markdown",
   "id": "45425a04",
   "metadata": {},
   "source": [
    "##### Economics: Median Household Income, Poverty Rates, Unemployment Rates"
   ]
  },
  {
   "cell_type": "code",
<<<<<<< HEAD
   "execution_count": 37,
=======
   "execution_count": 34,
>>>>>>> 89dcb05f0e11c6772d78c493ebbff169907e78b4
   "id": "d32a3e49",
   "metadata": {},
   "outputs": [
    {
     "data": {
      "text/html": [
       "<div>\n",
       "<style scoped>\n",
       "    .dataframe tbody tr th:only-of-type {\n",
       "        vertical-align: middle;\n",
       "    }\n",
       "\n",
       "    .dataframe tbody tr th {\n",
       "        vertical-align: top;\n",
       "    }\n",
       "\n",
       "    .dataframe thead th {\n",
       "        text-align: right;\n",
       "    }\n",
       "</style>\n",
       "<table border=\"1\" class=\"dataframe\">\n",
       "  <thead>\n",
       "    <tr style=\"text-align: right;\">\n",
       "      <th></th>\n",
       "      <th>hh_median_income</th>\n",
       "      <th>hh_poverty(%)</th>\n",
       "      <th>hh_unemployment(%)</th>\n",
       "    </tr>\n",
       "    <tr>\n",
       "      <th>name</th>\n",
       "      <th></th>\n",
       "      <th></th>\n",
       "      <th></th>\n",
       "    </tr>\n",
       "  </thead>\n",
       "  <tbody>\n",
       "    <tr>\n",
       "      <th>Fuller Park</th>\n",
       "      <td>23746.5</td>\n",
       "      <td>21.7</td>\n",
       "      <td>57.55</td>\n",
       "    </tr>\n",
       "    <tr>\n",
       "      <th>West Garfield Park</th>\n",
       "      <td>24001.5</td>\n",
       "      <td>36.4</td>\n",
       "      <td>48.75</td>\n",
       "    </tr>\n",
       "    <tr>\n",
       "      <th>West Englewood</th>\n",
       "      <td>27277.0</td>\n",
       "      <td>29.9</td>\n",
       "      <td>48.00</td>\n",
       "    </tr>\n",
       "    <tr>\n",
       "      <th>Englewood</th>\n",
       "      <td>23125.0</td>\n",
       "      <td>36.6</td>\n",
       "      <td>47.70</td>\n",
       "    </tr>\n",
       "    <tr>\n",
       "      <th>North Lawndale</th>\n",
       "      <td>29028.0</td>\n",
       "      <td>24.3</td>\n",
       "      <td>46.20</td>\n",
       "    </tr>\n",
       "  </tbody>\n",
       "</table>\n",
       "</div>"
      ],
      "text/plain": [
       "                    hh_median_income  hh_poverty(%)  hh_unemployment(%)\n",
       "name                                                                   \n",
       "Fuller Park                  23746.5           21.7               57.55\n",
       "West Garfield Park           24001.5           36.4               48.75\n",
       "West Englewood               27277.0           29.9               48.00\n",
       "Englewood                    23125.0           36.6               47.70\n",
       "North Lawndale               29028.0           24.3               46.20"
      ]
     },
<<<<<<< HEAD
     "execution_count": 37,
=======
     "execution_count": 34,
>>>>>>> 89dcb05f0e11c6772d78c493ebbff169907e78b4
     "metadata": {},
     "output_type": "execute_result"
    }
   ],
   "source": [
    "# median household income, poverty rates, unemployment rates by community areas\n",
    "# taking the median of ^ values  \n",
    "\n",
    "income_df = full_df[['name', \n",
    "                      'hh_median_income', \n",
    "                      'hh_poverty(%)',\n",
    "                    'hh_unemployment(%)']].groupby(by = \"name\").median().sort_values([\"hh_unemployment(%)\"], \n",
    "                                                                                  ascending = False)\n",
    "\n",
    "income_df.head(5)"
   ]
  },
  {
   "cell_type": "markdown",
   "id": "c0e2bfdd",
   "metadata": {},
   "source": [
    "Median income, poverty rates, and unemployment rates are based on household-level data. The medians of median household income and poverty rates across tracts were used to make the table above. The median household incomes in Chicago community areas range from Riverdale's \\$15,408 all the way to Lincoln Park's \\$127,177. Riverdale also has the highest percentage of their households in poverty at 49.2%. Fuller Park has the highest unemployment rate at 57.6%."
   ]
  },
  {
   "cell_type": "markdown",
   "id": "3003b109",
   "metadata": {},
   "source": [
    " "
   ]
  },
  {
   "cell_type": "markdown",
   "id": "4546a79e",
   "metadata": {},
   "source": [
    "##### Race & Ethnicity"
   ]
  },
  {
   "cell_type": "code",
<<<<<<< HEAD
   "execution_count": 38,
=======
   "execution_count": 35,
>>>>>>> 89dcb05f0e11c6772d78c493ebbff169907e78b4
   "id": "79c35a6d",
   "metadata": {},
   "outputs": [],
   "source": [
    "# race and ethnicity by community area\n",
    "\n",
    "race_df = full_df[['name', \n",
    "                        'total_pop',\n",
    "                        'total_hispanic', \n",
    "                        'total_black']].groupby(by = \"name\").sum().sort_values([\"name\"], \n",
    "                                                                      ascending = True)"
   ]
  },
  {
   "cell_type": "code",
<<<<<<< HEAD
   "execution_count": 39,
=======
   "execution_count": 36,
>>>>>>> 89dcb05f0e11c6772d78c493ebbff169907e78b4
   "id": "cdfa7ee5",
   "metadata": {},
   "outputs": [],
   "source": [
    "# percentage of population hispanic\n",
    "\n",
    "race_df['total_hispanic(%)']=race_df['total_hispanic']/race_df['total_pop']*100\n",
    "\n",
    "# percentage of population black non-hispanic\n",
    "\n",
    "race_df['total_black(%)']=race_df['total_black']/race_df['total_pop']*100"
   ]
  },
  {
   "cell_type": "code",
<<<<<<< HEAD
   "execution_count": 40,
=======
   "execution_count": 37,
>>>>>>> 89dcb05f0e11c6772d78c493ebbff169907e78b4
   "id": "b8e9f629",
   "metadata": {},
   "outputs": [
    {
     "data": {
      "text/html": [
       "<div>\n",
       "<style scoped>\n",
       "    .dataframe tbody tr th:only-of-type {\n",
       "        vertical-align: middle;\n",
       "    }\n",
       "\n",
       "    .dataframe tbody tr th {\n",
       "        vertical-align: top;\n",
       "    }\n",
       "\n",
       "    .dataframe thead th {\n",
       "        text-align: right;\n",
       "    }\n",
       "</style>\n",
       "<table border=\"1\" class=\"dataframe\">\n",
       "  <thead>\n",
       "    <tr style=\"text-align: right;\">\n",
       "      <th></th>\n",
       "      <th>total_pop</th>\n",
       "      <th>total_hispanic</th>\n",
       "      <th>total_black</th>\n",
       "      <th>total_hispanic(%)</th>\n",
       "      <th>total_black(%)</th>\n",
       "    </tr>\n",
       "    <tr>\n",
       "      <th>name</th>\n",
       "      <th></th>\n",
       "      <th></th>\n",
       "      <th></th>\n",
       "      <th></th>\n",
       "      <th></th>\n",
       "    </tr>\n",
       "  </thead>\n",
       "  <tbody>\n",
       "    <tr>\n",
       "      <th>Avalon Park</th>\n",
       "      <td>9713</td>\n",
       "      <td>9</td>\n",
       "      <td>9381</td>\n",
       "      <td>0.092659</td>\n",
       "      <td>96.581901</td>\n",
       "    </tr>\n",
       "    <tr>\n",
       "      <th>Burnside</th>\n",
       "      <td>2006</td>\n",
       "      <td>39</td>\n",
       "      <td>1931</td>\n",
       "      <td>1.944167</td>\n",
       "      <td>96.261216</td>\n",
       "    </tr>\n",
       "    <tr>\n",
       "      <th>Washington Heights</th>\n",
       "      <td>26742</td>\n",
       "      <td>305</td>\n",
       "      <td>25698</td>\n",
       "      <td>1.140528</td>\n",
       "      <td>96.096029</td>\n",
       "    </tr>\n",
       "    <tr>\n",
       "      <th>Chatham</th>\n",
       "      <td>30967</td>\n",
       "      <td>262</td>\n",
       "      <td>29625</td>\n",
       "      <td>0.846062</td>\n",
       "      <td>95.666355</td>\n",
       "    </tr>\n",
       "    <tr>\n",
       "      <th>Greater Grand Crossing</th>\n",
       "      <td>30149</td>\n",
       "      <td>524</td>\n",
       "      <td>28839</td>\n",
       "      <td>1.738034</td>\n",
       "      <td>95.654914</td>\n",
       "    </tr>\n",
       "  </tbody>\n",
       "</table>\n",
       "</div>"
      ],
      "text/plain": [
       "                        total_pop  total_hispanic  total_black  \\\n",
       "name                                                             \n",
       "Avalon Park                  9713               9         9381   \n",
       "Burnside                     2006              39         1931   \n",
       "Washington Heights          26742             305        25698   \n",
       "Chatham                     30967             262        29625   \n",
       "Greater Grand Crossing      30149             524        28839   \n",
       "\n",
       "                        total_hispanic(%)  total_black(%)  \n",
       "name                                                       \n",
       "Avalon Park                      0.092659       96.581901  \n",
       "Burnside                         1.944167       96.261216  \n",
       "Washington Heights               1.140528       96.096029  \n",
       "Chatham                          0.846062       95.666355  \n",
       "Greater Grand Crossing           1.738034       95.654914  "
      ]
     },
<<<<<<< HEAD
     "execution_count": 40,
=======
     "execution_count": 37,
>>>>>>> 89dcb05f0e11c6772d78c493ebbff169907e78b4
     "metadata": {},
     "output_type": "execute_result"
    }
   ],
   "source": [
    "# final race and ethnicity dataframe\n",
    "\n",
    "race_df.sort_values([\"total_black(%)\"], ascending = False).head(5)"
   ]
  },
  {
   "cell_type": "markdown",
   "id": "780d9922",
   "metadata": {},
   "source": [
    "Race and ethnicity data are based on total population numbers. Hispanic/Latino ethnicity was based on all races. Black/African-American race was non-Hispanic/Latino. Chicago community areas vary vastly in their race and ethnic compositions. Gage Park, South Lawndale, West Elsdon, and Hermosa have the highest percentages of Hispanics/Latinos of all races. Calumet Heights, Washington Heights, Avalon Park, and Oakland have the highest percentages of non-Hispanic/Latino African-American/Blacks. "
   ]
  },
  {
   "cell_type": "markdown",
   "id": "cd2a197c",
   "metadata": {},
   "source": [
    " "
   ]
  },
  {
   "cell_type": "markdown",
   "id": "91bff356",
   "metadata": {},
   "source": [
    "##### Internet Access & Demographics & Indices Combined"
   ]
  },
  {
   "cell_type": "markdown",
   "id": "b479b4e3",
   "metadata": {},
   "source": [
    "The table below shows all of the variables above."
   ]
  },
  {
   "cell_type": "code",
<<<<<<< HEAD
   "execution_count": 41,
=======
   "execution_count": 38,
>>>>>>> 89dcb05f0e11c6772d78c493ebbff169907e78b4
   "id": "d37c7cc8",
   "metadata": {},
   "outputs": [],
   "source": [
    "# merging all tables by community area\n",
    "\n",
    "final_df = internet_df.merge(income_df,\n",
    "                        on='name').merge(race_df,\n",
    "                                          on='name').merge(covid_hardship, on=\"name\")"
   ]
  },
  {
   "cell_type": "code",
<<<<<<< HEAD
   "execution_count": 42,
=======
   "execution_count": 39,
>>>>>>> 89dcb05f0e11c6772d78c493ebbff169907e78b4
   "id": "d0eacb34",
   "metadata": {},
   "outputs": [],
   "source": [
    "# reordering columns\n",
    "\n",
    "final_df=final_df[['name', \n",
    " 'comm_num',\n",
    " 'total_pop',\n",
    " 'total_households', \n",
    " 'hh_no_internet', \n",
    " 'hh_no_internet(%)',\n",
    " 'hh_internet',\n",
    " 'hh_internet(%)',\n",
    " 'internet_rr',\n",
    " 'hh_computer',\n",
    " 'hh_computer(%)',\n",
    " 'hh_no_computer',\n",
    " 'hh_no_computer(%)',\n",
    " 'computer_rr',\n",
    " 'hh_broadband',\n",
    " 'hh_broadband(%)',\n",
    " 'hh_poverty(%)',\n",
    " 'hh_unemployment(%)',\n",
    " 'hh_median_income',\n",
    " 'total_hispanic',\n",
    " 'total_hispanic(%)', \n",
    " 'total_black',  \n",
    " 'total_black(%)', \n",
    " 'ccvi_score', \n",
    " 'ccvi_cat', \n",
    " 'hardship_score']]"
   ]
  },
  {
   "cell_type": "code",
<<<<<<< HEAD
   "execution_count": 43,
=======
   "execution_count": 40,
>>>>>>> 89dcb05f0e11c6772d78c493ebbff169907e78b4
   "id": "5eb356c5",
   "metadata": {},
   "outputs": [
    {
     "data": {
      "text/html": [
       "<div>\n",
       "<style scoped>\n",
       "    .dataframe tbody tr th:only-of-type {\n",
       "        vertical-align: middle;\n",
       "    }\n",
       "\n",
       "    .dataframe tbody tr th {\n",
       "        vertical-align: top;\n",
       "    }\n",
       "\n",
       "    .dataframe thead th {\n",
       "        text-align: right;\n",
       "    }\n",
       "</style>\n",
       "<table border=\"1\" class=\"dataframe\">\n",
       "  <thead>\n",
       "    <tr style=\"text-align: right;\">\n",
       "      <th></th>\n",
       "      <th>name</th>\n",
       "      <th>comm_num</th>\n",
       "      <th>total_pop</th>\n",
       "      <th>total_households</th>\n",
       "      <th>hh_no_internet</th>\n",
       "      <th>hh_no_internet(%)</th>\n",
       "      <th>hh_internet</th>\n",
       "      <th>hh_internet(%)</th>\n",
       "      <th>internet_rr</th>\n",
       "      <th>hh_computer</th>\n",
       "      <th>...</th>\n",
       "      <th>hh_poverty(%)</th>\n",
       "      <th>hh_unemployment(%)</th>\n",
       "      <th>hh_median_income</th>\n",
       "      <th>total_hispanic</th>\n",
       "      <th>total_hispanic(%)</th>\n",
       "      <th>total_black</th>\n",
       "      <th>total_black(%)</th>\n",
       "      <th>ccvi_score</th>\n",
       "      <th>ccvi_cat</th>\n",
       "      <th>hardship_score</th>\n",
       "    </tr>\n",
       "  </thead>\n",
       "  <tbody>\n",
       "    <tr>\n",
       "      <th>0</th>\n",
       "      <td>Albany Park</td>\n",
       "      <td>14</td>\n",
       "      <td>49806</td>\n",
       "      <td>16909</td>\n",
       "      <td>2674</td>\n",
       "      <td>15.814064</td>\n",
       "      <td>13488</td>\n",
       "      <td>79.768171</td>\n",
       "      <td>95.582234</td>\n",
       "      <td>15104</td>\n",
       "      <td>...</td>\n",
       "      <td>12.10</td>\n",
       "      <td>33.00</td>\n",
       "      <td>66818.0</td>\n",
       "      <td>22399</td>\n",
       "      <td>44.972493</td>\n",
       "      <td>2461</td>\n",
       "      <td>4.941172</td>\n",
       "      <td>38.2</td>\n",
       "      <td>MEDIUM</td>\n",
       "      <td>53.0</td>\n",
       "    </tr>\n",
       "    <tr>\n",
       "      <th>1</th>\n",
       "      <td>Archer Heights</td>\n",
       "      <td>57</td>\n",
       "      <td>13726</td>\n",
       "      <td>3919</td>\n",
       "      <td>772</td>\n",
       "      <td>19.698903</td>\n",
       "      <td>2886</td>\n",
       "      <td>73.641235</td>\n",
       "      <td>93.340138</td>\n",
       "      <td>3207</td>\n",
       "      <td>...</td>\n",
       "      <td>10.10</td>\n",
       "      <td>33.60</td>\n",
       "      <td>48629.0</td>\n",
       "      <td>10626</td>\n",
       "      <td>77.415125</td>\n",
       "      <td>131</td>\n",
       "      <td>0.954393</td>\n",
       "      <td>53.3</td>\n",
       "      <td>HIGH</td>\n",
       "      <td>67.0</td>\n",
       "    </tr>\n",
       "    <tr>\n",
       "      <th>2</th>\n",
       "      <td>Armour Square</td>\n",
       "      <td>34</td>\n",
       "      <td>13538</td>\n",
       "      <td>5396</td>\n",
       "      <td>1488</td>\n",
       "      <td>27.575982</td>\n",
       "      <td>3685</td>\n",
       "      <td>68.291327</td>\n",
       "      <td>95.867309</td>\n",
       "      <td>4064</td>\n",
       "      <td>...</td>\n",
       "      <td>25.80</td>\n",
       "      <td>45.90</td>\n",
       "      <td>33333.0</td>\n",
       "      <td>585</td>\n",
       "      <td>4.321170</td>\n",
       "      <td>1135</td>\n",
       "      <td>8.383809</td>\n",
       "      <td>30.9</td>\n",
       "      <td>LOW</td>\n",
       "      <td>82.0</td>\n",
       "    </tr>\n",
       "    <tr>\n",
       "      <th>3</th>\n",
       "      <td>Ashburn</td>\n",
       "      <td>70</td>\n",
       "      <td>43356</td>\n",
       "      <td>13124</td>\n",
       "      <td>1840</td>\n",
       "      <td>14.020116</td>\n",
       "      <td>10449</td>\n",
       "      <td>79.617495</td>\n",
       "      <td>93.637610</td>\n",
       "      <td>11847</td>\n",
       "      <td>...</td>\n",
       "      <td>8.75</td>\n",
       "      <td>31.45</td>\n",
       "      <td>69261.0</td>\n",
       "      <td>17918</td>\n",
       "      <td>41.327613</td>\n",
       "      <td>19888</td>\n",
       "      <td>45.871390</td>\n",
       "      <td>45.1</td>\n",
       "      <td>MEDIUM</td>\n",
       "      <td>37.0</td>\n",
       "    </tr>\n",
       "    <tr>\n",
       "      <th>4</th>\n",
       "      <td>Auburn Gresham</td>\n",
       "      <td>71</td>\n",
       "      <td>45909</td>\n",
       "      <td>17161</td>\n",
       "      <td>5282</td>\n",
       "      <td>30.779092</td>\n",
       "      <td>10394</td>\n",
       "      <td>60.567566</td>\n",
       "      <td>91.346658</td>\n",
       "      <td>13724</td>\n",
       "      <td>...</td>\n",
       "      <td>23.60</td>\n",
       "      <td>45.60</td>\n",
       "      <td>35568.0</td>\n",
       "      <td>1001</td>\n",
       "      <td>2.180400</td>\n",
       "      <td>43791</td>\n",
       "      <td>95.386526</td>\n",
       "      <td>48.2</td>\n",
       "      <td>HIGH</td>\n",
       "      <td>74.0</td>\n",
       "    </tr>\n",
       "  </tbody>\n",
       "</table>\n",
       "<p>5 rows × 26 columns</p>\n",
       "</div>"
      ],
      "text/plain": [
       "             name  comm_num  total_pop  total_households  hh_no_internet  \\\n",
       "0     Albany Park        14      49806             16909            2674   \n",
       "1  Archer Heights        57      13726              3919             772   \n",
       "2   Armour Square        34      13538              5396            1488   \n",
       "3         Ashburn        70      43356             13124            1840   \n",
       "4  Auburn Gresham        71      45909             17161            5282   \n",
       "\n",
       "   hh_no_internet(%)  hh_internet  hh_internet(%)  internet_rr  hh_computer  \\\n",
       "0          15.814064        13488       79.768171    95.582234        15104   \n",
       "1          19.698903         2886       73.641235    93.340138         3207   \n",
       "2          27.575982         3685       68.291327    95.867309         4064   \n",
       "3          14.020116        10449       79.617495    93.637610        11847   \n",
       "4          30.779092        10394       60.567566    91.346658        13724   \n",
       "\n",
       "   ...  hh_poverty(%)  hh_unemployment(%)  hh_median_income  total_hispanic  \\\n",
       "0  ...          12.10               33.00           66818.0           22399   \n",
       "1  ...          10.10               33.60           48629.0           10626   \n",
       "2  ...          25.80               45.90           33333.0             585   \n",
       "3  ...           8.75               31.45           69261.0           17918   \n",
       "4  ...          23.60               45.60           35568.0            1001   \n",
       "\n",
       "   total_hispanic(%)  total_black  total_black(%)  ccvi_score  ccvi_cat  \\\n",
       "0          44.972493         2461        4.941172        38.2    MEDIUM   \n",
       "1          77.415125          131        0.954393        53.3      HIGH   \n",
       "2           4.321170         1135        8.383809        30.9       LOW   \n",
       "3          41.327613        19888       45.871390        45.1    MEDIUM   \n",
       "4           2.180400        43791       95.386526        48.2      HIGH   \n",
       "\n",
       "   hardship_score  \n",
       "0            53.0  \n",
       "1            67.0  \n",
       "2            82.0  \n",
       "3            37.0  \n",
       "4            74.0  \n",
       "\n",
       "[5 rows x 26 columns]"
      ]
     },
<<<<<<< HEAD
     "execution_count": 43,
=======
     "execution_count": 40,
>>>>>>> 89dcb05f0e11c6772d78c493ebbff169907e78b4
     "metadata": {},
     "output_type": "execute_result"
    }
   ],
   "source": [
    "final_df.sort_values(by=\"name\").head(5)"
   ]
  },
  {
   "cell_type": "code",
<<<<<<< HEAD
   "execution_count": 44,
=======
   "execution_count": null,
>>>>>>> 89dcb05f0e11c6772d78c493ebbff169907e78b4
   "id": "36c19010",
   "metadata": {},
   "outputs": [],
   "source": [
    "# export to Excel file in the data folder \n",
    "\n",
    "final_df.to_csv(\"data/chicago_internet.csv\") "
   ]
  },
  {
   "cell_type": "code",
   "execution_count": 41,
   "id": "67b589b9",
   "metadata": {},
   "outputs": [],
   "source": [
    "import seaborn as sns"
   ]
  },
  {
   "cell_type": "code",
   "execution_count": 46,
   "id": "8e4e934f",
   "metadata": {},
   "outputs": [
    {
     "data": {
      "text/plain": [
       "<AxesSubplot:>"
      ]
     },
     "execution_count": 46,
     "metadata": {},
     "output_type": "execute_result"
    },
    {
     "data": {
      "image/png": "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",
      "text/plain": [
       "<Figure size 432x288 with 2 Axes>"
      ]
     },
     "metadata": {
      "needs_background": "light"
     },
     "output_type": "display_data"
    }
   ],
   "source": [
    "sns.heatmap(\n",
    "    final_df[['hh_no_internet(%)','hh_median_income','hh_unemployment(%)','hh_poverty(%)','ccvi_score','hardship_score','total_hispanic(%)','total_black(%)']]\n",
    "    .corr()\n",
    ")"
   ]
  },
  {
   "cell_type": "markdown",
   "id": "5e2037a9",
   "metadata": {},
   "source": [
    "***Variable explanations (26):***\n",
    "\n",
    "Labels\n",
    "+ name: Community Area Name\n",
    "+ comm_num: Community Area Number (1 through 77)\n",
    "+ total_pop: estimated total population\n",
    "+ total_households: estimated total households\n",
    "\n",
    "Internet-related\n",
    "+ hh_no_internet: number of households with no internet access\n",
    "+ hh_no_internet(%): percentage of households with no internet access\n",
    "+ hh_internet: number of households with internet access\n",
    "+ hh_internet(%): percentage of households with internet access\n",
    "+ internet_rr: response rate for internet access \n",
    "+ hh_computer: number of households with a computer \n",
    "+ hh_computer(%): percentage of households with a computer \n",
    "+ hh_no_computer: number of households with no computer \n",
    "+ hh_no_computer(%): percentage of households with no computer \n",
    "+ computer_rr: response rate for computer access \n",
    "+ hh_broadband: number of households with an internet broadband subscription\n",
    "+ hh_broadband(%): percent of households with an internet broadband subscription\n",
    " \n",
    "Demographics\n",
    "+ hh_poverty(%): household poverty rate\n",
    "+ hh_unemployment(%): household unemployment rate\n",
    "+ hh_median_income: household median income\n",
    "+ total_hispanic': number of Hispanic/Latinos of ALL races\n",
    "+ total_hispanic(%): percentage of Hispanic/Latinos of ALL races\n",
    "+ total_black': number of non-Hispanic Black/African Americans\n",
    "+ total_black(%)': percentage of non-Hispanic Black/African Americans\n",
    " \n",
    "COVID & Hardship Indices\n",
    "+ ccvi_score:  COVID-19 Community Vulnerability Index score\n",
    "+ ccvi_cat':  COVID-19 Community Vulnerability Index score category\n",
    "+ hardship_score: Score that incorporates six selected socioeconomic indicators (per capita income, education, age group, poverty level, unemployment, housing)"
   ]
  },
  {
   "cell_type": "markdown",
   "id": "34601359",
   "metadata": {},
   "source": [
    "***Summary***\n",
    "\n",
    "COMPUTER\n",
    "\n",
    "Based on 2015-2019 ACS data, the percentages of households with computers, internet access, and internet broadband subscription are seen above. The neighborhoods of Burnside, Englewood, West Englewood, Fuller Park have the lowest percentages of both broadband subscription and internet access. The neighborhods of Near South Side, Lake View, Lincoln Park, and North Center have the highest. \n",
    "Broadband subscription and internet access numbers are extremely close, suggesting that the overwhelming majority of households who have access to internet do so via a broadbad subscription. \n",
    "  \n",
    "  \n",
    "ECONOMICS\n",
    "\n",
    "The medians of median household income, poverty rates, and unemployment rates across tracts were used to make the table above. The median household incomes in Chicago community areas range from Riverdale's \\\\$15,408 all the way to Lincoln Park's \\\\$127,177. Riverdale also has the highest percentage of their households in poverty at 49.2%. Fuller Park has the highest unemployment rate at 57.6%.\n",
    "  \n",
    "  \n",
    "RACE\n",
    "\n",
    "Hispanic/Latino ethnicity was based on all races. Black/African-American race was non-Hispanic/Latino. Chicago community areas vary vastly in their race and ethnic compositions. Gage Park, South LawndalE, West Elsdon, and Hermosa have the highest percentages of Hispanics/Latinos of all races. Calumet Heights, Washington Heights, Avalon Park, and Oakland have the highest percentages of non-Hispanic/Latino African-American/Blacks. \n",
    "  \n",
    "  \n",
    "COVID VULNERABILITY\n",
    "\n",
    "The community areas with the highest CCVI score were West Englewood, New City, and Gage Park. The community areas with the lowest scores also have the highest rates of internet access and median incomes. \n",
    "  \n",
    "  \n",
    "HARDSHIP\n",
    "\n",
    "The community areas with the highest hardship scores were Riverdale, Fuller Park, and South Lawndale. Interestingly enough, Riverdale was labeled as Medium for the COVID Vulnerability score. "
   ]
  },
  {
   "cell_type": "markdown",
   "id": "009cda89",
   "metadata": {},
   "source": [
    "***Discrepancies***\n",
    "\n",
    "O'Hare:\n",
    "The O'Hare population was way off in the table even after using the City of Chicago census tract community area crosswalk. The new numbers were 21,368 for total population with 9064 total households. However, the actual numbers are 13,418 for total population with 6,158 total households. \n",
    "\n",
    "After looking closely at the Census tracts within the Ohare community area, it was found that 3/6 census tracts were labeled as \"partially outside the city boundary\", where one of them was labeled as \"partially outside the city boundary (almost all)\". When excluding these tracts, the total population came to 12,861 with 6,120 households (~500 off from the 2021 population and 38 from the 2021 households). \n",
    "\n",
    "This is something we are in the works of addressing through spatial-based weighting: for all census tracts whose boundaries cross the higher-level geography’s boundaries (e.g., Chicago community area), estimate the proportion of the tract’s total area (e.g., square miles) that is located within each of the community areas it intersects. Use those proportions to assign ___% of the variable’s value to each community area. Of course, 100% of the variable’s value for a census tract that is fully subsumed within one community area is assigned to that community area."
   ]
  },
  {
   "cell_type": "code",
   "execution_count": null,
   "id": "c2cb7d76",
   "metadata": {},
   "outputs": [],
   "source": []
  },
  {
   "cell_type": "markdown",
   "id": "67294559",
   "metadata": {},
   "source": [
    "### Correlations & Regressions"
   ]
  },
  {
   "cell_type": "markdown",
   "id": "03582692",
   "metadata": {},
   "source": [
    "This section will look deeper into the relationships between variables through correlation coefficients and regression models. "
   ]
  },
  {
   "cell_type": "code",
   "execution_count": 2,
   "id": "c74d97ea",
   "metadata": {
    "scrolled": true
   },
   "outputs": [
    {
     "ename": "ValueError",
     "evalue": "The python kernel does not appear to be a conda environment.  Please use ``%pip install`` instead.",
     "output_type": "error",
     "traceback": [
      "\u001b[0;31m---------------------------------------------------------------------------\u001b[0m",
      "\u001b[0;31mValueError\u001b[0m                                Traceback (most recent call last)",
      "Input \u001b[0;32mIn [2]\u001b[0m, in \u001b[0;36m<module>\u001b[0;34m\u001b[0m\n\u001b[0;32m----> 1\u001b[0m \u001b[43mget_ipython\u001b[49m\u001b[43m(\u001b[49m\u001b[43m)\u001b[49m\u001b[38;5;241;43m.\u001b[39;49m\u001b[43mrun_line_magic\u001b[49m\u001b[43m(\u001b[49m\u001b[38;5;124;43m'\u001b[39;49m\u001b[38;5;124;43mconda\u001b[39;49m\u001b[38;5;124;43m'\u001b[39;49m\u001b[43m,\u001b[49m\u001b[43m \u001b[49m\u001b[38;5;124;43m'\u001b[39;49m\u001b[38;5;124;43minstall -c anaconda seaborn -y\u001b[39;49m\u001b[38;5;124;43m'\u001b[39;49m\u001b[43m)\u001b[49m\n",
      "File \u001b[0;32m~/broadbandequity/broadbandequity/lib/python3.9/site-packages/IPython/core/interactiveshell.py:2204\u001b[0m, in \u001b[0;36mInteractiveShell.run_line_magic\u001b[0;34m(self, magic_name, line, _stack_depth)\u001b[0m\n\u001b[1;32m   2202\u001b[0m     kwargs[\u001b[38;5;124m'\u001b[39m\u001b[38;5;124mlocal_ns\u001b[39m\u001b[38;5;124m'\u001b[39m] \u001b[38;5;241m=\u001b[39m \u001b[38;5;28mself\u001b[39m\u001b[38;5;241m.\u001b[39mget_local_scope(stack_depth)\n\u001b[1;32m   2203\u001b[0m \u001b[38;5;28;01mwith\u001b[39;00m \u001b[38;5;28mself\u001b[39m\u001b[38;5;241m.\u001b[39mbuiltin_trap:\n\u001b[0;32m-> 2204\u001b[0m     result \u001b[38;5;241m=\u001b[39m \u001b[43mfn\u001b[49m\u001b[43m(\u001b[49m\u001b[38;5;241;43m*\u001b[39;49m\u001b[43margs\u001b[49m\u001b[43m,\u001b[49m\u001b[43m \u001b[49m\u001b[38;5;241;43m*\u001b[39;49m\u001b[38;5;241;43m*\u001b[39;49m\u001b[43mkwargs\u001b[49m\u001b[43m)\u001b[49m\n\u001b[1;32m   2205\u001b[0m \u001b[38;5;28;01mreturn\u001b[39;00m result\n",
      "File \u001b[0;32m~/broadbandequity/broadbandequity/lib/python3.9/site-packages/IPython/core/magics/packaging.py:87\u001b[0m, in \u001b[0;36mPackagingMagics.conda\u001b[0;34m(self, line)\u001b[0m\n\u001b[1;32m     81\u001b[0m \u001b[38;5;124;03m\"\"\"Run the conda package manager within the current kernel.\u001b[39;00m\n\u001b[1;32m     82\u001b[0m \n\u001b[1;32m     83\u001b[0m \u001b[38;5;124;03mUsage:\u001b[39;00m\n\u001b[1;32m     84\u001b[0m \u001b[38;5;124;03m  %conda install [pkgs]\u001b[39;00m\n\u001b[1;32m     85\u001b[0m \u001b[38;5;124;03m\"\"\"\u001b[39;00m\n\u001b[1;32m     86\u001b[0m \u001b[38;5;28;01mif\u001b[39;00m \u001b[38;5;129;01mnot\u001b[39;00m _is_conda_environment():\n\u001b[0;32m---> 87\u001b[0m     \u001b[38;5;28;01mraise\u001b[39;00m \u001b[38;5;167;01mValueError\u001b[39;00m(\u001b[38;5;124m\"\u001b[39m\u001b[38;5;124mThe python kernel does not appear to be a conda environment.  \u001b[39m\u001b[38;5;124m\"\u001b[39m\n\u001b[1;32m     88\u001b[0m                      \u001b[38;5;124m\"\u001b[39m\u001b[38;5;124mPlease use ``\u001b[39m\u001b[38;5;124m%\u001b[39m\u001b[38;5;124mpip install`` instead.\u001b[39m\u001b[38;5;124m\"\u001b[39m)\n\u001b[1;32m     90\u001b[0m conda \u001b[38;5;241m=\u001b[39m _get_conda_executable()\n\u001b[1;32m     91\u001b[0m args \u001b[38;5;241m=\u001b[39m shlex\u001b[38;5;241m.\u001b[39msplit(line)\n",
      "\u001b[0;31mValueError\u001b[0m: The python kernel does not appear to be a conda environment.  Please use ``%pip install`` instead."
     ]
    }
   ],
   "source": [
    "conda install -c anaconda seaborn -y"
   ]
  },
  {
   "cell_type": "code",
   "execution_count": 3,
   "id": "8b8e7e43",
   "metadata": {},
   "outputs": [],
   "source": [
    "import seaborn as sns"
   ]
  }
 ],
 "metadata": {
  "kernelspec": {
   "display_name": "Python 3.8.5 64-bit ('anaconda3': virtualenv)",
   "language": "python",
   "name": "python385jvsc74a57bd097e81732a71c5b40b952c79202e1b58ed08ca490443701847872addaf71e1671"
  },
  "language_info": {
   "codemirror_mode": {
    "name": "ipython",
    "version": 3
   },
   "file_extension": ".py",
   "mimetype": "text/x-python",
   "name": "python",
   "nbconvert_exporter": "python",
   "pygments_lexer": "ipython3",
<<<<<<< HEAD
   "version": "3.9.7"
=======
   "version": "3.8.2"
>>>>>>> 89dcb05f0e11c6772d78c493ebbff169907e78b4
  }
 },
 "nbformat": 4,
 "nbformat_minor": 5
}
