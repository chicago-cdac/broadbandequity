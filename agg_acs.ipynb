{
 "cells": [
  {
   "cell_type": "markdown",
   "id": "f346f7a5",
   "metadata": {},
   "source": [
    "## Analyzing 2015-19 ACS Data "
   ]
  },
  {
   "cell_type": "markdown",
   "id": "6a093b55",
   "metadata": {},
   "source": [
    "This notebook contains the code used to wrangle, join, and analyze the following datasets:\n",
    "\n",
    "+ American Community Survey (ACS) 5-year estimates (2015-2019)\n",
    "    + [Aggregate](https://api.census.gov/data/2019/acs/acs5/variables.html)\n",
    "    + [Profile](https://api.census.gov/data/2019/acs/acs5/profile/variables.html)\n",
    "\n",
    "+ Chicago Community Area Census Tract Crosswalk\n",
    "    + [Chicago Community Areas](https://data.cityofchicago.org/Facilities-Geographic-Boundaries/Boundaries-Community-Areas-current-/cauq-8yn6)\n",
    "    + [Chicago Census Tracts](https://data.cityofchicago.org/Facilities-Geographic-Boundaries/Boundaries-Census-Tracts-2010/5jrd-6zik)\n",
    "+ [Chicago COVID-19 Community Vulnerability Index (CCVI)](https://data.cityofchicago.org/Health-Human-Services/Chicago-COVID-19-Community-Vulnerability-Index-CCV/xhc6-88s9)\n",
    "+ [Hardship Index](https://data.cityofchicago.org/Health-Human-Services/hardship-index/792q-4jtu)\n",
    "\n",
    "\n",
    "\n",
    "All csv files can be found in the \"data\" folder of the [working](https://github.com/danielgrzenda/broadbandequity/tree/working) branch of our Broadband Equity Github repo."
   ]
  },
  {
   "cell_type": "markdown",
   "id": "84d9fccf",
   "metadata": {},
   "source": [
    "##### Importing Libraries"
   ]
  },
  {
   "cell_type": "code",
   "execution_count": 1,
   "id": "bc5ed9fc",
   "metadata": {
    "scrolled": true
   },
   "outputs": [],
   "source": [
    "import pandas as pd\n",
    "import numpy as np\n",
    "import matplotlib.pyplot as plt"
   ]
  },
  {
   "cell_type": "markdown",
   "id": "1bdfb676",
   "metadata": {},
   "source": [
    " "
   ]
  },
  {
   "cell_type": "markdown",
   "id": "cb082e03",
   "metadata": {},
   "source": [
    "##### Importing Chicago ACS aggregate and profile data"
   ]
  },
  {
   "cell_type": "code",
   "execution_count": 2,
   "id": "0cec58c2",
   "metadata": {},
   "outputs": [],
   "source": [
    "# ACS aggregate\n",
    "\n",
    "acs_agg = pd.read_csv(\"data/acs5_aggregate.csv\",index_col=0,\n",
    "                      parse_dates=[0]).drop(['state', 'county'], axis=1)"
   ]
  },
  {
   "cell_type": "code",
   "execution_count": 3,
   "id": "dbab8413",
   "metadata": {},
   "outputs": [],
   "source": [
    "# ACS profile\n",
    "\n",
    "acs_pro = pd.read_csv(\"data/acs5_profile.csv\",\n",
    "                      index_col=0,\n",
    "                      parse_dates=[0]).drop(\n",
    "                        ['estimated unemployment rate',\n",
    "                         'state', 'county'], axis=1)"
   ]
  },
  {
   "cell_type": "code",
   "execution_count": 4,
   "id": "13546603",
   "metadata": {
    "scrolled": true
   },
   "outputs": [],
   "source": [
    "# merging both ACS datasets\n",
    "# renaming variables\n",
    "\n",
    "acs_df = acs_agg.merge(acs_pro, on='tract').rename(columns={\n",
    "            'estimated total population': 'total_pop',\n",
    "            'estimated total households': 'total_households',\n",
    "            'estimated total with internet subscription': 'hh_internet',\n",
    "            'estimated total with no internet access': 'hh_no_internet',\n",
    "            'estimated total has no computer' : 'hh_no_computer',\n",
    "            'estimated total households with a computer' : 'hh_computer',\n",
    "            'estimated total households with broadband internet subscription': 'hh_broadband',\n",
    "            'estimated total households median household income': 'hh_median_income',\n",
    "            'percent estimated percent of families and people whose income in the past 12 months is below poverty level': 'hh_poverty(%)',\n",
    "            'percent estimated unemployment rate': 'hh_unemployment(%)',\n",
    "            'estimated total population hispanic or latino (of any race)': 'total_hispanic',\n",
    "            'estimated total population Black or African American alone (non-Hispanic)': 'total_black'})\n"
   ]
  },
  {
   "cell_type": "code",
   "execution_count": 5,
   "id": "a6936617",
   "metadata": {},
   "outputs": [],
   "source": [
    "# removing tracts outside of city boundaries\n",
    "# Ohare tracts\n",
    "\n",
    "acs_df = acs_df[acs_df['tract'] != 770602]\n",
    "acs_df = acs_df[acs_df['tract'] != 770902]\n",
    "acs_df = acs_df[acs_df['tract'] != 980000]"
   ]
  },
  {
   "cell_type": "code",
   "execution_count": 6,
   "id": "ed3d9012",
   "metadata": {},
   "outputs": [
    {
     "data": {
      "text/html": [
       "<div>\n",
       "<style scoped>\n",
       "    .dataframe tbody tr th:only-of-type {\n",
       "        vertical-align: middle;\n",
       "    }\n",
       "\n",
       "    .dataframe tbody tr th {\n",
       "        vertical-align: top;\n",
       "    }\n",
       "\n",
       "    .dataframe thead th {\n",
       "        text-align: right;\n",
       "    }\n",
       "</style>\n",
       "<table border=\"1\" class=\"dataframe\">\n",
       "  <thead>\n",
       "    <tr style=\"text-align: right;\">\n",
       "      <th></th>\n",
       "      <th>total_pop</th>\n",
       "      <th>hh_internet</th>\n",
       "      <th>hh_no_internet</th>\n",
       "      <th>hh_no_computer</th>\n",
       "      <th>tract</th>\n",
       "      <th>total_households</th>\n",
       "      <th>hh_computer</th>\n",
       "      <th>hh_broadband</th>\n",
       "      <th>hh_median_income</th>\n",
       "      <th>hh_poverty(%)</th>\n",
       "      <th>total_hispanic</th>\n",
       "      <th>total_black</th>\n",
       "      <th>hh_unemployment(%)</th>\n",
       "    </tr>\n",
       "  </thead>\n",
       "  <tbody>\n",
       "    <tr>\n",
       "      <th>0</th>\n",
       "      <td>1825</td>\n",
       "      <td>392</td>\n",
       "      <td>149</td>\n",
       "      <td>149</td>\n",
       "      <td>630200</td>\n",
       "      <td>575</td>\n",
       "      <td>426</td>\n",
       "      <td>392</td>\n",
       "      <td>37422</td>\n",
       "      <td>25.7</td>\n",
       "      <td>1622</td>\n",
       "      <td>0</td>\n",
       "      <td>36.2</td>\n",
       "    </tr>\n",
       "    <tr>\n",
       "      <th>1</th>\n",
       "      <td>5908</td>\n",
       "      <td>1242</td>\n",
       "      <td>231</td>\n",
       "      <td>133</td>\n",
       "      <td>580700</td>\n",
       "      <td>1544</td>\n",
       "      <td>1411</td>\n",
       "      <td>1242</td>\n",
       "      <td>47000</td>\n",
       "      <td>17.4</td>\n",
       "      <td>4742</td>\n",
       "      <td>161</td>\n",
       "      <td>42.3</td>\n",
       "    </tr>\n",
       "    <tr>\n",
       "      <th>2</th>\n",
       "      <td>3419</td>\n",
       "      <td>928</td>\n",
       "      <td>140</td>\n",
       "      <td>104</td>\n",
       "      <td>590600</td>\n",
       "      <td>1172</td>\n",
       "      <td>1068</td>\n",
       "      <td>917</td>\n",
       "      <td>46033</td>\n",
       "      <td>7.9</td>\n",
       "      <td>2119</td>\n",
       "      <td>9</td>\n",
       "      <td>30.7</td>\n",
       "    </tr>\n",
       "    <tr>\n",
       "      <th>3</th>\n",
       "      <td>2835</td>\n",
       "      <td>917</td>\n",
       "      <td>138</td>\n",
       "      <td>81</td>\n",
       "      <td>600700</td>\n",
       "      <td>1084</td>\n",
       "      <td>1003</td>\n",
       "      <td>917</td>\n",
       "      <td>45294</td>\n",
       "      <td>17.0</td>\n",
       "      <td>850</td>\n",
       "      <td>82</td>\n",
       "      <td>36.3</td>\n",
       "    </tr>\n",
       "    <tr>\n",
       "      <th>4</th>\n",
       "      <td>1639</td>\n",
       "      <td>322</td>\n",
       "      <td>245</td>\n",
       "      <td>218</td>\n",
       "      <td>611900</td>\n",
       "      <td>574</td>\n",
       "      <td>356</td>\n",
       "      <td>322</td>\n",
       "      <td>24507</td>\n",
       "      <td>55.0</td>\n",
       "      <td>438</td>\n",
       "      <td>1175</td>\n",
       "      <td>46.0</td>\n",
       "    </tr>\n",
       "  </tbody>\n",
       "</table>\n",
       "</div>"
      ],
      "text/plain": [
       "   total_pop  hh_internet  hh_no_internet  hh_no_computer   tract  \\\n",
       "0       1825          392             149             149  630200   \n",
       "1       5908         1242             231             133  580700   \n",
       "2       3419          928             140             104  590600   \n",
       "3       2835          917             138              81  600700   \n",
       "4       1639          322             245             218  611900   \n",
       "\n",
       "   total_households  hh_computer  hh_broadband  hh_median_income  \\\n",
       "0               575          426           392             37422   \n",
       "1              1544         1411          1242             47000   \n",
       "2              1172         1068           917             46033   \n",
       "3              1084         1003           917             45294   \n",
       "4               574          356           322             24507   \n",
       "\n",
       "   hh_poverty(%)  total_hispanic  total_black  hh_unemployment(%)  \n",
       "0           25.7            1622            0                36.2  \n",
       "1           17.4            4742          161                42.3  \n",
       "2            7.9            2119            9                30.7  \n",
       "3           17.0             850           82                36.3  \n",
       "4           55.0             438         1175                46.0  "
      ]
     },
     "execution_count": 6,
     "metadata": {},
     "output_type": "execute_result"
    }
   ],
   "source": [
    "# 1316 rows x 13 columns\n",
    "# variables beginning with \"hh\" indicate they are measured at the household level\n",
    "# variables with \"(%)\" indicate they are recorded as percentages \n",
    "\n",
    "acs_df.head(5)"
   ]
  },
  {
   "cell_type": "markdown",
   "id": "2b51cb29",
   "metadata": {},
   "source": [
    " \n"
   ]
  },
  {
   "cell_type": "markdown",
   "id": "9514b76f",
   "metadata": {},
   "source": [
    "##### Importing Chicago COVID and Hardship Indices"
   ]
  },
  {
   "cell_type": "code",
   "execution_count": 7,
   "id": "0e5708e5",
   "metadata": {},
   "outputs": [],
   "source": [
    "# Chicago COVID hardship index csv\n",
    "\n",
    "covid = pd.read_csv(\"data/covid_index.csv\",\n",
    "                        index_col=0,\n",
    "                        parse_dates=[0]).reset_index()"
   ]
  },
  {
   "cell_type": "code",
   "execution_count": 8,
   "id": "5fced9ec",
   "metadata": {},
   "outputs": [],
   "source": [
    "# filtering for Community Areas only\n",
    "\n",
    "covid = covid[covid['Geography Type']==\"CA\"]"
   ]
  },
  {
   "cell_type": "code",
   "execution_count": 9,
   "id": "47f3a724",
   "metadata": {},
   "outputs": [],
   "source": [
    "# selecting and renaming relevant columns\n",
    "\n",
    "covid = covid[['Community Area Name', \n",
    "               'Community Area or ZIP Code', \n",
    "               'CCVI Score', \n",
    "               'CCVI Category']].rename(columns={\n",
    "                        \"Community Area Name\": \"name\",\n",
    "                        'Community Area or ZIP Code': \"comm_num\",\n",
    "                        \"CCVI Score\": \"ccvi_score\",\n",
    "                        'CCVI Category': \"ccvi_cat\"})"
   ]
  },
  {
   "cell_type": "code",
   "execution_count": 10,
   "id": "52ba62d5",
   "metadata": {},
   "outputs": [],
   "source": [
    "# setting index to community area names to fix spelling\n",
    "\n",
    "covid = covid.set_index(covid.columns[0]).rename(\n",
    "    index={\"Fuller Park*\":\"Fuller Park\", \"Burnside*\":\"Burnside\"})"
   ]
  },
  {
   "cell_type": "code",
   "execution_count": 11,
   "id": "2b228dc8",
   "metadata": {},
   "outputs": [],
   "source": [
    "# reverting index to normal\n",
    "\n",
    "covid=covid.reset_index()"
   ]
  },
  {
   "cell_type": "code",
   "execution_count": 12,
   "id": "38314568",
   "metadata": {},
   "outputs": [],
   "source": [
    "# Chicago hardship index csv\n",
    "\n",
    "hardship = pd.read_csv(\"data/hardship_index.csv\",\n",
    "                        index_col=0,\n",
    "                        parse_dates=[0]).reset_index()"
   ]
  },
  {
   "cell_type": "code",
   "execution_count": 13,
   "id": "f9a11d00",
   "metadata": {},
   "outputs": [],
   "source": [
    "# removing \"Chicago\" community area\n",
    "\n",
    "hardship = hardship[hardship['COMMUNITY AREA NAME']!=\"CHICAGO\"]"
   ]
  },
  {
   "cell_type": "code",
   "execution_count": 14,
   "id": "a1a20476",
   "metadata": {},
   "outputs": [],
   "source": [
    "# selecting and renaming relevant columns\n",
    "\n",
    "hardship = hardship[['COMMUNITY AREA NAME', \n",
    "               'HARDSHIP INDEX']].rename(columns={\n",
    "                        \"COMMUNITY AREA NAME\": \"name\",\n",
    "                        'HARDSHIP INDEX': \"hardship_score\"})"
   ]
  },
  {
   "cell_type": "code",
   "execution_count": 15,
   "id": "95b77373",
   "metadata": {},
   "outputs": [],
   "source": [
    "# setting index to community area names to fix spelling\n",
    "\n",
    "hardship = hardship.set_index(covid.columns[0]).rename(\n",
    "    index={\"Montclaire\":\"Montclare\", \"Humboldt park\":\"Humboldt Park\", \"Washington Height\":\"Washington Heights\"})"
   ]
  },
  {
   "cell_type": "code",
   "execution_count": 16,
   "id": "52535c11",
   "metadata": {},
   "outputs": [],
   "source": [
    "# reverting index to normal\n",
    "\n",
    "hardship=hardship.reset_index()"
   ]
  },
  {
   "cell_type": "code",
   "execution_count": 17,
   "id": "6862ff24",
   "metadata": {},
   "outputs": [],
   "source": [
    "# joining datasets\n",
    "\n",
    "covid_hardship = covid.merge(hardship, on='name')"
   ]
  },
  {
   "cell_type": "code",
   "execution_count": 18,
   "id": "87c1a069",
   "metadata": {},
   "outputs": [
    {
     "data": {
      "text/html": [
       "<div>\n",
       "<style scoped>\n",
       "    .dataframe tbody tr th:only-of-type {\n",
       "        vertical-align: middle;\n",
       "    }\n",
       "\n",
       "    .dataframe tbody tr th {\n",
       "        vertical-align: top;\n",
       "    }\n",
       "\n",
       "    .dataframe thead th {\n",
       "        text-align: right;\n",
       "    }\n",
       "</style>\n",
       "<table border=\"1\" class=\"dataframe\">\n",
       "  <thead>\n",
       "    <tr style=\"text-align: right;\">\n",
       "      <th></th>\n",
       "      <th>name</th>\n",
       "      <th>comm_num</th>\n",
       "      <th>ccvi_score</th>\n",
       "      <th>ccvi_cat</th>\n",
       "      <th>hardship_score</th>\n",
       "    </tr>\n",
       "  </thead>\n",
       "  <tbody>\n",
       "    <tr>\n",
       "      <th>0</th>\n",
       "      <td>Ashburn</td>\n",
       "      <td>70</td>\n",
       "      <td>45.1</td>\n",
       "      <td>MEDIUM</td>\n",
       "      <td>37.0</td>\n",
       "    </tr>\n",
       "    <tr>\n",
       "      <th>1</th>\n",
       "      <td>Rogers Park</td>\n",
       "      <td>1</td>\n",
       "      <td>30.9</td>\n",
       "      <td>LOW</td>\n",
       "      <td>39.0</td>\n",
       "    </tr>\n",
       "    <tr>\n",
       "      <th>2</th>\n",
       "      <td>Lake View</td>\n",
       "      <td>6</td>\n",
       "      <td>5.2</td>\n",
       "      <td>LOW</td>\n",
       "      <td>5.0</td>\n",
       "    </tr>\n",
       "    <tr>\n",
       "      <th>3</th>\n",
       "      <td>Jefferson Park</td>\n",
       "      <td>11</td>\n",
       "      <td>25.6</td>\n",
       "      <td>LOW</td>\n",
       "      <td>25.0</td>\n",
       "    </tr>\n",
       "    <tr>\n",
       "      <th>4</th>\n",
       "      <td>Archer Heights</td>\n",
       "      <td>57</td>\n",
       "      <td>53.3</td>\n",
       "      <td>HIGH</td>\n",
       "      <td>67.0</td>\n",
       "    </tr>\n",
       "  </tbody>\n",
       "</table>\n",
       "</div>"
      ],
      "text/plain": [
       "             name  comm_num  ccvi_score ccvi_cat  hardship_score\n",
       "0         Ashburn        70        45.1   MEDIUM            37.0\n",
       "1     Rogers Park         1        30.9      LOW            39.0\n",
       "2       Lake View         6         5.2      LOW             5.0\n",
       "3  Jefferson Park        11        25.6      LOW            25.0\n",
       "4  Archer Heights        57        53.3     HIGH            67.0"
      ]
     },
     "execution_count": 18,
     "metadata": {},
     "output_type": "execute_result"
    }
   ],
   "source": [
    "# 77 rows x 5 columns\n",
    "\n",
    "covid_hardship.head(5)"
   ]
  },
  {
   "cell_type": "markdown",
   "id": "bc0cd77b",
   "metadata": {},
   "source": [
    " "
   ]
  },
  {
   "cell_type": "markdown",
   "id": "e2c06392",
   "metadata": {},
   "source": [
    "##### Importing Chicago Community Area Census Tract Crosswalk"
   ]
  },
  {
   "cell_type": "code",
   "execution_count": 19,
   "id": "a0414f9b",
   "metadata": {},
   "outputs": [],
   "source": [
    "# importing Census tracts mapped to community area number \n",
    "# renaming columns\n",
    "\n",
    "tracts = pd.read_csv(\"data/tracts_comm_areas.csv\",\n",
    "                        index_col=0,\n",
    "                        parse_dates=[0]).rename(columns={\n",
    "                        \"COMMAREA\": \"comm_num\",          \n",
    "                        \"TRACTCE10\": \"tract\"})"
   ]
  },
  {
   "cell_type": "code",
   "execution_count": 20,
   "id": "5afa5ac7",
   "metadata": {},
   "outputs": [],
   "source": [
    "# importing community area numbers and names\n",
    "# renaming columns\n",
    "\n",
    "comm_area = pd.read_csv(\"data/comm_areas.csv\",\n",
    "                        index_col=0,\n",
    "                        parse_dates=[0]).rename(columns={\n",
    "                        \"AREA_NUMBE\": \"comm_num\"})"
   ]
  },
  {
   "cell_type": "code",
   "execution_count": 21,
   "id": "bf55d597",
   "metadata": {},
   "outputs": [],
   "source": [
    "# merging both dataframes above to map tract with community area name\n",
    "\n",
    "tract_area= comm_area.merge(tracts, on='comm_num')"
   ]
  },
  {
   "cell_type": "code",
   "execution_count": 22,
   "id": "36b27c53",
   "metadata": {},
   "outputs": [],
   "source": [
    "# selecting columns we need and renaming them\n",
    "\n",
    "tract_area=tract_area[['comm_num', 'tract']]"
   ]
  },
  {
   "cell_type": "code",
   "execution_count": 23,
   "id": "920b8d36",
   "metadata": {},
   "outputs": [
    {
     "data": {
      "text/html": [
       "<div>\n",
       "<style scoped>\n",
       "    .dataframe tbody tr th:only-of-type {\n",
       "        vertical-align: middle;\n",
       "    }\n",
       "\n",
       "    .dataframe tbody tr th {\n",
       "        vertical-align: top;\n",
       "    }\n",
       "\n",
       "    .dataframe thead th {\n",
       "        text-align: right;\n",
       "    }\n",
       "</style>\n",
       "<table border=\"1\" class=\"dataframe\">\n",
       "  <thead>\n",
       "    <tr style=\"text-align: right;\">\n",
       "      <th></th>\n",
       "      <th>comm_num</th>\n",
       "      <th>tract</th>\n",
       "    </tr>\n",
       "  </thead>\n",
       "  <tbody>\n",
       "    <tr>\n",
       "      <th>0</th>\n",
       "      <td>35</td>\n",
       "      <td>842000</td>\n",
       "    </tr>\n",
       "    <tr>\n",
       "      <th>1</th>\n",
       "      <td>35</td>\n",
       "      <td>351500</td>\n",
       "    </tr>\n",
       "    <tr>\n",
       "      <th>2</th>\n",
       "      <td>35</td>\n",
       "      <td>839500</td>\n",
       "    </tr>\n",
       "    <tr>\n",
       "      <th>3</th>\n",
       "      <td>35</td>\n",
       "      <td>839200</td>\n",
       "    </tr>\n",
       "    <tr>\n",
       "      <th>4</th>\n",
       "      <td>35</td>\n",
       "      <td>839600</td>\n",
       "    </tr>\n",
       "  </tbody>\n",
       "</table>\n",
       "</div>"
      ],
      "text/plain": [
       "   comm_num   tract\n",
       "0        35  842000\n",
       "1        35  351500\n",
       "2        35  839500\n",
       "3        35  839200\n",
       "4        35  839600"
      ]
     },
     "execution_count": 23,
     "metadata": {},
     "output_type": "execute_result"
    }
   ],
   "source": [
    "# 801 rows x 3 columns\n",
    "# final dataframe\n",
    "\n",
    "tract_area.head(5)"
   ]
  },
  {
   "cell_type": "markdown",
   "id": "b6dfdc15",
   "metadata": {},
   "source": [
    " "
   ]
  },
  {
   "cell_type": "markdown",
   "id": "752f276e",
   "metadata": {},
   "source": [
    "##### Joining ACS, COVID index, Hardship Index, and Community Areas"
   ]
  },
  {
   "cell_type": "code",
   "execution_count": 24,
   "id": "c6ade3fa",
   "metadata": {
    "scrolled": true
   },
   "outputs": [],
   "source": [
    "# merging ACS with chicago community areas, covid index, hardship index\n",
    "\n",
    "full_df = tract_area.merge(acs_df, on='tract'\n",
    "                           ).merge(covid_hardship, on='comm_num')"
   ]
  },
  {
   "cell_type": "code",
   "execution_count": 25,
   "id": "0ffc2914",
   "metadata": {},
   "outputs": [],
   "source": [
    "# removing rows with no information\n",
    "\n",
    "full_df = full_df[full_df['total_pop']!=0]"
   ]
  },
  {
   "cell_type": "code",
   "execution_count": 26,
   "id": "f76fd685",
   "metadata": {},
   "outputs": [
    {
     "data": {
      "text/html": [
       "<div>\n",
       "<style scoped>\n",
       "    .dataframe tbody tr th:only-of-type {\n",
       "        vertical-align: middle;\n",
       "    }\n",
       "\n",
       "    .dataframe tbody tr th {\n",
       "        vertical-align: top;\n",
       "    }\n",
       "\n",
       "    .dataframe thead th {\n",
       "        text-align: right;\n",
       "    }\n",
       "</style>\n",
       "<table border=\"1\" class=\"dataframe\">\n",
       "  <thead>\n",
       "    <tr style=\"text-align: right;\">\n",
       "      <th></th>\n",
       "      <th>comm_num</th>\n",
       "      <th>tract</th>\n",
       "      <th>total_pop</th>\n",
       "      <th>hh_internet</th>\n",
       "      <th>hh_no_internet</th>\n",
       "      <th>hh_no_computer</th>\n",
       "      <th>total_households</th>\n",
       "      <th>hh_computer</th>\n",
       "      <th>hh_broadband</th>\n",
       "      <th>hh_median_income</th>\n",
       "      <th>hh_poverty(%)</th>\n",
       "      <th>total_hispanic</th>\n",
       "      <th>total_black</th>\n",
       "      <th>hh_unemployment(%)</th>\n",
       "      <th>name</th>\n",
       "      <th>ccvi_score</th>\n",
       "      <th>ccvi_cat</th>\n",
       "      <th>hardship_score</th>\n",
       "    </tr>\n",
       "  </thead>\n",
       "  <tbody>\n",
       "    <tr>\n",
       "      <th>108</th>\n",
       "      <td>14</td>\n",
       "      <td>140302</td>\n",
       "      <td>4189</td>\n",
       "      <td>1032</td>\n",
       "      <td>147</td>\n",
       "      <td>104</td>\n",
       "      <td>1292</td>\n",
       "      <td>1188</td>\n",
       "      <td>1032</td>\n",
       "      <td>75789</td>\n",
       "      <td>6.8</td>\n",
       "      <td>1433</td>\n",
       "      <td>228</td>\n",
       "      <td>33.0</td>\n",
       "      <td>Albany Park</td>\n",
       "      <td>38.2</td>\n",
       "      <td>MEDIUM</td>\n",
       "      <td>53.0</td>\n",
       "    </tr>\n",
       "    <tr>\n",
       "      <th>103</th>\n",
       "      <td>14</td>\n",
       "      <td>140702</td>\n",
       "      <td>5882</td>\n",
       "      <td>1444</td>\n",
       "      <td>390</td>\n",
       "      <td>247</td>\n",
       "      <td>1997</td>\n",
       "      <td>1750</td>\n",
       "      <td>1444</td>\n",
       "      <td>57708</td>\n",
       "      <td>14.9</td>\n",
       "      <td>3746</td>\n",
       "      <td>183</td>\n",
       "      <td>23.0</td>\n",
       "      <td>Albany Park</td>\n",
       "      <td>38.2</td>\n",
       "      <td>MEDIUM</td>\n",
       "      <td>53.0</td>\n",
       "    </tr>\n",
       "    <tr>\n",
       "      <th>104</th>\n",
       "      <td>14</td>\n",
       "      <td>140301</td>\n",
       "      <td>2839</td>\n",
       "      <td>579</td>\n",
       "      <td>165</td>\n",
       "      <td>89</td>\n",
       "      <td>812</td>\n",
       "      <td>723</td>\n",
       "      <td>579</td>\n",
       "      <td>50667</td>\n",
       "      <td>18.8</td>\n",
       "      <td>1724</td>\n",
       "      <td>57</td>\n",
       "      <td>34.9</td>\n",
       "      <td>Albany Park</td>\n",
       "      <td>38.2</td>\n",
       "      <td>MEDIUM</td>\n",
       "      <td>53.0</td>\n",
       "    </tr>\n",
       "    <tr>\n",
       "      <th>105</th>\n",
       "      <td>14</td>\n",
       "      <td>140601</td>\n",
       "      <td>2886</td>\n",
       "      <td>690</td>\n",
       "      <td>154</td>\n",
       "      <td>105</td>\n",
       "      <td>881</td>\n",
       "      <td>776</td>\n",
       "      <td>690</td>\n",
       "      <td>43988</td>\n",
       "      <td>12.1</td>\n",
       "      <td>1183</td>\n",
       "      <td>329</td>\n",
       "      <td>39.5</td>\n",
       "      <td>Albany Park</td>\n",
       "      <td>38.2</td>\n",
       "      <td>MEDIUM</td>\n",
       "      <td>53.0</td>\n",
       "    </tr>\n",
       "    <tr>\n",
       "      <th>106</th>\n",
       "      <td>14</td>\n",
       "      <td>140701</td>\n",
       "      <td>3028</td>\n",
       "      <td>898</td>\n",
       "      <td>140</td>\n",
       "      <td>75</td>\n",
       "      <td>1073</td>\n",
       "      <td>998</td>\n",
       "      <td>898</td>\n",
       "      <td>71125</td>\n",
       "      <td>11.0</td>\n",
       "      <td>1450</td>\n",
       "      <td>161</td>\n",
       "      <td>22.6</td>\n",
       "      <td>Albany Park</td>\n",
       "      <td>38.2</td>\n",
       "      <td>MEDIUM</td>\n",
       "      <td>53.0</td>\n",
       "    </tr>\n",
       "  </tbody>\n",
       "</table>\n",
       "</div>"
      ],
      "text/plain": [
       "     comm_num   tract  total_pop  hh_internet  hh_no_internet  hh_no_computer  \\\n",
       "108        14  140302       4189         1032             147             104   \n",
       "103        14  140702       5882         1444             390             247   \n",
       "104        14  140301       2839          579             165              89   \n",
       "105        14  140601       2886          690             154             105   \n",
       "106        14  140701       3028          898             140              75   \n",
       "\n",
       "     total_households  hh_computer  hh_broadband  hh_median_income  \\\n",
       "108              1292         1188          1032             75789   \n",
       "103              1997         1750          1444             57708   \n",
       "104               812          723           579             50667   \n",
       "105               881          776           690             43988   \n",
       "106              1073          998           898             71125   \n",
       "\n",
       "     hh_poverty(%)  total_hispanic  total_black  hh_unemployment(%)  \\\n",
       "108            6.8            1433          228                33.0   \n",
       "103           14.9            3746          183                23.0   \n",
       "104           18.8            1724           57                34.9   \n",
       "105           12.1            1183          329                39.5   \n",
       "106           11.0            1450          161                22.6   \n",
       "\n",
       "            name  ccvi_score ccvi_cat  hardship_score  \n",
       "108  Albany Park        38.2   MEDIUM            53.0  \n",
       "103  Albany Park        38.2   MEDIUM            53.0  \n",
       "104  Albany Park        38.2   MEDIUM            53.0  \n",
       "105  Albany Park        38.2   MEDIUM            53.0  \n",
       "106  Albany Park        38.2   MEDIUM            53.0  "
      ]
     },
     "execution_count": 26,
     "metadata": {},
     "output_type": "execute_result"
    }
   ],
   "source": [
    "# 796 rows x 18 columns\n",
    "\n",
    "full_df.sort_values(by=\"name\").head(5)"
   ]
  },
  {
   "cell_type": "markdown",
   "id": "3a1b3ebe",
   "metadata": {},
   "source": [
    " "
   ]
  },
  {
   "cell_type": "markdown",
   "id": "951d024f",
   "metadata": {},
   "source": [
    "##### Computer, Internet, Broadband Access"
   ]
  },
  {
   "cell_type": "markdown",
   "id": "4952c1cc",
   "metadata": {},
   "source": [
    "This section will look into the community areas at a household-level to see who has and who does not have basic access to the internet and/or computer. We will also look into the households who have a broadband internet subscription. "
   ]
  },
  {
   "cell_type": "code",
   "execution_count": 27,
   "id": "d2d30852",
   "metadata": {},
   "outputs": [],
   "source": [
    "# who has a computer? who has internet access? \n",
    "# selecting columns we need\n",
    "\n",
    "internet_df = full_df[['name', \n",
    "                        'total_households',\n",
    "                        'hh_no_internet', \n",
    "                        'hh_internet',\n",
    "                        'hh_computer', \n",
    "                        'hh_no_computer',\n",
    "                       'hh_broadband']].groupby(by=\"name\").sum()"
   ]
  },
  {
   "cell_type": "code",
   "execution_count": 28,
   "id": "460c4286",
   "metadata": {
    "scrolled": false
   },
   "outputs": [],
   "source": [
    "# calculating percentages of households for each variable\n",
    "\n",
    "# percentage of households with/out internet access\n",
    "\n",
    "internet_df['hh_no_internet(%)']=internet_df['hh_no_internet']/internet_df['total_households']*100\n",
    "internet_df['hh_internet(%)']=internet_df['hh_internet']/internet_df['total_households']*100\n",
    "\n",
    "# percentage of households with/out no computer\n",
    "\n",
    "internet_df['hh_no_computer(%)']=internet_df['hh_no_computer']/internet_df['total_households']*100\n",
    "internet_df['hh_computer(%)']=internet_df['hh_computer']/internet_df['total_households']*100\n",
    "\n",
    "# percentage of households with/out broadband \n",
    "\n",
    "internet_df['hh_broadband(%)']=internet_df['hh_broadband']/internet_df['total_households']*100"
   ]
  },
  {
   "cell_type": "code",
   "execution_count": 29,
   "id": "6af94192",
   "metadata": {},
   "outputs": [],
   "source": [
    "# calculating response rates \n",
    "\n",
    "internet_df['internet_rr']=(internet_df['hh_internet']+internet_df['hh_no_internet'])/internet_df['total_households']*100\n",
    "internet_df['computer_rr']=(internet_df['hh_computer']+internet_df['hh_no_computer'])/internet_df['total_households']*100\n"
   ]
  },
  {
   "cell_type": "code",
   "execution_count": 30,
   "id": "8c133bc9",
   "metadata": {},
   "outputs": [
    {
     "data": {
      "text/html": [
       "<div>\n",
       "<style scoped>\n",
       "    .dataframe tbody tr th:only-of-type {\n",
       "        vertical-align: middle;\n",
       "    }\n",
       "\n",
       "    .dataframe tbody tr th {\n",
       "        vertical-align: top;\n",
       "    }\n",
       "\n",
       "    .dataframe thead th {\n",
       "        text-align: right;\n",
       "    }\n",
       "</style>\n",
       "<table border=\"1\" class=\"dataframe\">\n",
       "  <thead>\n",
       "    <tr style=\"text-align: right;\">\n",
       "      <th></th>\n",
       "      <th>total_households</th>\n",
       "      <th>hh_no_internet</th>\n",
       "      <th>hh_internet</th>\n",
       "      <th>hh_computer</th>\n",
       "      <th>hh_no_computer</th>\n",
       "      <th>hh_broadband</th>\n",
       "      <th>hh_no_internet(%)</th>\n",
       "      <th>hh_internet(%)</th>\n",
       "      <th>hh_no_computer(%)</th>\n",
       "      <th>hh_computer(%)</th>\n",
       "      <th>hh_broadband(%)</th>\n",
       "      <th>internet_rr</th>\n",
       "      <th>computer_rr</th>\n",
       "    </tr>\n",
       "    <tr>\n",
       "      <th>name</th>\n",
       "      <th></th>\n",
       "      <th></th>\n",
       "      <th></th>\n",
       "      <th></th>\n",
       "      <th></th>\n",
       "      <th></th>\n",
       "      <th></th>\n",
       "      <th></th>\n",
       "      <th></th>\n",
       "      <th></th>\n",
       "      <th></th>\n",
       "      <th></th>\n",
       "      <th></th>\n",
       "    </tr>\n",
       "  </thead>\n",
       "  <tbody>\n",
       "    <tr>\n",
       "      <th>Burnside</th>\n",
       "      <td>888</td>\n",
       "      <td>375</td>\n",
       "      <td>477</td>\n",
       "      <td>557</td>\n",
       "      <td>331</td>\n",
       "      <td>464</td>\n",
       "      <td>42.229730</td>\n",
       "      <td>53.716216</td>\n",
       "      <td>37.274775</td>\n",
       "      <td>62.725225</td>\n",
       "      <td>52.252252</td>\n",
       "      <td>95.945946</td>\n",
       "      <td>100.0</td>\n",
       "    </tr>\n",
       "    <tr>\n",
       "      <th>Englewood</th>\n",
       "      <td>8983</td>\n",
       "      <td>3108</td>\n",
       "      <td>5083</td>\n",
       "      <td>6728</td>\n",
       "      <td>2255</td>\n",
       "      <td>5058</td>\n",
       "      <td>34.598686</td>\n",
       "      <td>56.584660</td>\n",
       "      <td>25.102972</td>\n",
       "      <td>74.897028</td>\n",
       "      <td>56.306356</td>\n",
       "      <td>91.183346</td>\n",
       "      <td>100.0</td>\n",
       "    </tr>\n",
       "    <tr>\n",
       "      <th>West Englewood</th>\n",
       "      <td>9483</td>\n",
       "      <td>3612</td>\n",
       "      <td>5428</td>\n",
       "      <td>6670</td>\n",
       "      <td>2813</td>\n",
       "      <td>5428</td>\n",
       "      <td>38.089212</td>\n",
       "      <td>57.239270</td>\n",
       "      <td>29.663609</td>\n",
       "      <td>70.336391</td>\n",
       "      <td>57.239270</td>\n",
       "      <td>95.328483</td>\n",
       "      <td>100.0</td>\n",
       "    </tr>\n",
       "    <tr>\n",
       "      <th>Fuller Park</th>\n",
       "      <td>1128</td>\n",
       "      <td>391</td>\n",
       "      <td>666</td>\n",
       "      <td>783</td>\n",
       "      <td>345</td>\n",
       "      <td>666</td>\n",
       "      <td>34.663121</td>\n",
       "      <td>59.042553</td>\n",
       "      <td>30.585106</td>\n",
       "      <td>69.414894</td>\n",
       "      <td>59.042553</td>\n",
       "      <td>93.705674</td>\n",
       "      <td>100.0</td>\n",
       "    </tr>\n",
       "    <tr>\n",
       "      <th>North Lawndale</th>\n",
       "      <td>11075</td>\n",
       "      <td>3321</td>\n",
       "      <td>6631</td>\n",
       "      <td>8417</td>\n",
       "      <td>2658</td>\n",
       "      <td>6603</td>\n",
       "      <td>29.986456</td>\n",
       "      <td>59.873589</td>\n",
       "      <td>24.000000</td>\n",
       "      <td>76.000000</td>\n",
       "      <td>59.620767</td>\n",
       "      <td>89.860045</td>\n",
       "      <td>100.0</td>\n",
       "    </tr>\n",
       "  </tbody>\n",
       "</table>\n",
       "</div>"
      ],
      "text/plain": [
       "                total_households  hh_no_internet  hh_internet  hh_computer  \\\n",
       "name                                                                         \n",
       "Burnside                     888             375          477          557   \n",
       "Englewood                   8983            3108         5083         6728   \n",
       "West Englewood              9483            3612         5428         6670   \n",
       "Fuller Park                 1128             391          666          783   \n",
       "North Lawndale             11075            3321         6631         8417   \n",
       "\n",
       "                hh_no_computer  hh_broadband  hh_no_internet(%)  \\\n",
       "name                                                              \n",
       "Burnside                   331           464          42.229730   \n",
       "Englewood                 2255          5058          34.598686   \n",
       "West Englewood            2813          5428          38.089212   \n",
       "Fuller Park                345           666          34.663121   \n",
       "North Lawndale            2658          6603          29.986456   \n",
       "\n",
       "                hh_internet(%)  hh_no_computer(%)  hh_computer(%)  \\\n",
       "name                                                                \n",
       "Burnside             53.716216          37.274775       62.725225   \n",
       "Englewood            56.584660          25.102972       74.897028   \n",
       "West Englewood       57.239270          29.663609       70.336391   \n",
       "Fuller Park          59.042553          30.585106       69.414894   \n",
       "North Lawndale       59.873589          24.000000       76.000000   \n",
       "\n",
       "                hh_broadband(%)  internet_rr  computer_rr  \n",
       "name                                                       \n",
       "Burnside              52.252252    95.945946        100.0  \n",
       "Englewood             56.306356    91.183346        100.0  \n",
       "West Englewood        57.239270    95.328483        100.0  \n",
       "Fuller Park           59.042553    93.705674        100.0  \n",
       "North Lawndale        59.620767    89.860045        100.0  "
      ]
     },
     "execution_count": 30,
     "metadata": {},
     "output_type": "execute_result"
    }
   ],
   "source": [
    "# resulting dataframe\n",
    "\n",
    "internet_df.sort_values([\"hh_broadband(%)\"],\n",
    "                        ascending=True).head(5)"
   ]
  },
  {
   "cell_type": "markdown",
   "id": "613c2a90",
   "metadata": {},
   "source": [
    "Based on 2015-2019 ACS data, the percentages of households with computers, internet access, and internet broadband subscription are seen above. The neighborhoods of Burnside, Englewood, West Englewood, Fuller Park have the lowest percentages of both broadband subscription and internet access. The neighborhods of Near South Side, Lake View, Lincoln Park, and North Center have the highest. \n",
    "\n",
    "Broadband subscription and internet access numbers are extremely close, suggesting that the overwhelming majority of households who have access to internet do so via a broadbad subscription. "
   ]
  },
  {
   "cell_type": "markdown",
   "id": "425201d8",
   "metadata": {},
   "source": [
    " "
   ]
  },
  {
   "cell_type": "markdown",
   "id": "45425a04",
   "metadata": {},
   "source": [
    "##### Economics: Median Household Income, Poverty Rates, Unemployment Rates"
   ]
  },
  {
   "cell_type": "code",
   "execution_count": 31,
   "id": "d32a3e49",
   "metadata": {},
   "outputs": [
    {
     "data": {
      "text/html": [
       "<div>\n",
       "<style scoped>\n",
       "    .dataframe tbody tr th:only-of-type {\n",
       "        vertical-align: middle;\n",
       "    }\n",
       "\n",
       "    .dataframe tbody tr th {\n",
       "        vertical-align: top;\n",
       "    }\n",
       "\n",
       "    .dataframe thead th {\n",
       "        text-align: right;\n",
       "    }\n",
       "</style>\n",
       "<table border=\"1\" class=\"dataframe\">\n",
       "  <thead>\n",
       "    <tr style=\"text-align: right;\">\n",
       "      <th></th>\n",
       "      <th>hh_median_income</th>\n",
       "      <th>hh_poverty(%)</th>\n",
       "      <th>hh_unemployment(%)</th>\n",
       "    </tr>\n",
       "    <tr>\n",
       "      <th>name</th>\n",
       "      <th></th>\n",
       "      <th></th>\n",
       "      <th></th>\n",
       "    </tr>\n",
       "  </thead>\n",
       "  <tbody>\n",
       "    <tr>\n",
       "      <th>Fuller Park</th>\n",
       "      <td>23746.5</td>\n",
       "      <td>21.7</td>\n",
       "      <td>57.55</td>\n",
       "    </tr>\n",
       "    <tr>\n",
       "      <th>West Garfield Park</th>\n",
       "      <td>24001.5</td>\n",
       "      <td>36.4</td>\n",
       "      <td>48.75</td>\n",
       "    </tr>\n",
       "    <tr>\n",
       "      <th>West Englewood</th>\n",
       "      <td>27277.0</td>\n",
       "      <td>29.9</td>\n",
       "      <td>48.00</td>\n",
       "    </tr>\n",
       "    <tr>\n",
       "      <th>Englewood</th>\n",
       "      <td>23125.0</td>\n",
       "      <td>36.6</td>\n",
       "      <td>47.70</td>\n",
       "    </tr>\n",
       "    <tr>\n",
       "      <th>North Lawndale</th>\n",
       "      <td>29028.0</td>\n",
       "      <td>24.3</td>\n",
       "      <td>46.20</td>\n",
       "    </tr>\n",
       "  </tbody>\n",
       "</table>\n",
       "</div>"
      ],
      "text/plain": [
       "                    hh_median_income  hh_poverty(%)  hh_unemployment(%)\n",
       "name                                                                   \n",
       "Fuller Park                  23746.5           21.7               57.55\n",
       "West Garfield Park           24001.5           36.4               48.75\n",
       "West Englewood               27277.0           29.9               48.00\n",
       "Englewood                    23125.0           36.6               47.70\n",
       "North Lawndale               29028.0           24.3               46.20"
      ]
     },
     "execution_count": 31,
     "metadata": {},
     "output_type": "execute_result"
    }
   ],
   "source": [
    "# median household income, poverty rates, unemployment rates by community areas\n",
    "# taking the median of ^ values  \n",
    "\n",
    "income_df = full_df[['name', \n",
    "                      'hh_median_income', \n",
    "                      'hh_poverty(%)',\n",
    "                    'hh_unemployment(%)']].groupby(by = \"name\").median().sort_values([\"hh_unemployment(%)\"], \n",
    "                                                                                  ascending = False)\n",
    "\n",
    "income_df.head(5)"
   ]
  },
  {
   "cell_type": "markdown",
   "id": "c0e2bfdd",
   "metadata": {},
   "source": [
    "Median income, poverty rates, and unemployment rates are based on household-level data. The medians of median household income and poverty rates across tracts were used to make the table above. The median household incomes in Chicago community areas range from Riverdale's \\$15,408 all the way to Lincoln Park's \\$127,177. Riverdale also has the highest percentage of their households in poverty at 49.2%. Fuller Park has the highest unemployment rate at 57.6%."
   ]
  },
  {
   "cell_type": "markdown",
   "id": "3003b109",
   "metadata": {},
   "source": [
    " "
   ]
  },
  {
   "cell_type": "markdown",
   "id": "4546a79e",
   "metadata": {},
   "source": [
    "##### Race & Ethnicity"
   ]
  },
  {
   "cell_type": "code",
   "execution_count": 32,
   "id": "79c35a6d",
   "metadata": {},
   "outputs": [],
   "source": [
    "# race and ethnicity by community area\n",
    "\n",
    "race_df = full_df[['name', \n",
    "                        'total_pop',\n",
    "                        'total_hispanic', \n",
    "                        'total_black']].groupby(by = \"name\").sum().sort_values([\"name\"], \n",
    "                                                                      ascending = True)"
   ]
  },
  {
   "cell_type": "code",
   "execution_count": 33,
   "id": "cdfa7ee5",
   "metadata": {},
   "outputs": [],
   "source": [
    "# percentage of population hispanic\n",
    "\n",
    "race_df['total_hispanic(%)']=race_df['total_hispanic']/race_df['total_pop']*100\n",
    "\n",
    "# percentage of population black non-hispanic\n",
    "\n",
    "race_df['total_black(%)']=race_df['total_black']/race_df['total_pop']*100"
   ]
  },
  {
   "cell_type": "code",
   "execution_count": 34,
   "id": "b8e9f629",
   "metadata": {},
   "outputs": [
    {
     "data": {
      "text/html": [
       "<div>\n",
       "<style scoped>\n",
       "    .dataframe tbody tr th:only-of-type {\n",
       "        vertical-align: middle;\n",
       "    }\n",
       "\n",
       "    .dataframe tbody tr th {\n",
       "        vertical-align: top;\n",
       "    }\n",
       "\n",
       "    .dataframe thead th {\n",
       "        text-align: right;\n",
       "    }\n",
       "</style>\n",
       "<table border=\"1\" class=\"dataframe\">\n",
       "  <thead>\n",
       "    <tr style=\"text-align: right;\">\n",
       "      <th></th>\n",
       "      <th>total_pop</th>\n",
       "      <th>total_hispanic</th>\n",
       "      <th>total_black</th>\n",
       "      <th>total_hispanic(%)</th>\n",
       "      <th>total_black(%)</th>\n",
       "    </tr>\n",
       "    <tr>\n",
       "      <th>name</th>\n",
       "      <th></th>\n",
       "      <th></th>\n",
       "      <th></th>\n",
       "      <th></th>\n",
       "      <th></th>\n",
       "    </tr>\n",
       "  </thead>\n",
       "  <tbody>\n",
       "    <tr>\n",
       "      <th>Avalon Park</th>\n",
       "      <td>9713</td>\n",
       "      <td>9</td>\n",
       "      <td>9381</td>\n",
       "      <td>0.092659</td>\n",
       "      <td>96.581901</td>\n",
       "    </tr>\n",
       "    <tr>\n",
       "      <th>Burnside</th>\n",
       "      <td>2006</td>\n",
       "      <td>39</td>\n",
       "      <td>1931</td>\n",
       "      <td>1.944167</td>\n",
       "      <td>96.261216</td>\n",
       "    </tr>\n",
       "    <tr>\n",
       "      <th>Washington Heights</th>\n",
       "      <td>26742</td>\n",
       "      <td>305</td>\n",
       "      <td>25698</td>\n",
       "      <td>1.140528</td>\n",
       "      <td>96.096029</td>\n",
       "    </tr>\n",
       "    <tr>\n",
       "      <th>Chatham</th>\n",
       "      <td>30967</td>\n",
       "      <td>262</td>\n",
       "      <td>29625</td>\n",
       "      <td>0.846062</td>\n",
       "      <td>95.666355</td>\n",
       "    </tr>\n",
       "    <tr>\n",
       "      <th>Greater Grand Crossing</th>\n",
       "      <td>30149</td>\n",
       "      <td>524</td>\n",
       "      <td>28839</td>\n",
       "      <td>1.738034</td>\n",
       "      <td>95.654914</td>\n",
       "    </tr>\n",
       "  </tbody>\n",
       "</table>\n",
       "</div>"
      ],
      "text/plain": [
       "                        total_pop  total_hispanic  total_black  \\\n",
       "name                                                             \n",
       "Avalon Park                  9713               9         9381   \n",
       "Burnside                     2006              39         1931   \n",
       "Washington Heights          26742             305        25698   \n",
       "Chatham                     30967             262        29625   \n",
       "Greater Grand Crossing      30149             524        28839   \n",
       "\n",
       "                        total_hispanic(%)  total_black(%)  \n",
       "name                                                       \n",
       "Avalon Park                      0.092659       96.581901  \n",
       "Burnside                         1.944167       96.261216  \n",
       "Washington Heights               1.140528       96.096029  \n",
       "Chatham                          0.846062       95.666355  \n",
       "Greater Grand Crossing           1.738034       95.654914  "
      ]
     },
     "execution_count": 34,
     "metadata": {},
     "output_type": "execute_result"
    }
   ],
   "source": [
    "# final race and ethnicity dataframe\n",
    "\n",
    "race_df.sort_values([\"total_black(%)\"], ascending = False).head(5)"
   ]
  },
  {
   "cell_type": "markdown",
   "id": "780d9922",
   "metadata": {},
   "source": [
    "Race and ethnicity data are based on total population numbers. Hispanic/Latino ethnicity was based on all races. Black/African-American race was non-Hispanic/Latino. Chicago community areas vary vastly in their race and ethnic compositions. Gage Park, South Lawndale, West Elsdon, and Hermosa have the highest percentages of Hispanics/Latinos of all races. Calumet Heights, Washington Heights, Avalon Park, and Oakland have the highest percentages of non-Hispanic/Latino African-American/Blacks. "
   ]
  },
  {
   "cell_type": "markdown",
   "id": "cd2a197c",
   "metadata": {},
   "source": [
    " "
   ]
  },
  {
   "cell_type": "markdown",
   "id": "91bff356",
   "metadata": {},
   "source": [
    "##### Internet Access & Demographics & Indices Combined"
   ]
  },
  {
   "cell_type": "markdown",
   "id": "b479b4e3",
   "metadata": {},
   "source": [
    "The table below shows all of the variables above."
   ]
  },
  {
   "cell_type": "code",
   "execution_count": 35,
   "id": "d37c7cc8",
   "metadata": {},
   "outputs": [],
   "source": [
    "# merging all tables by community area\n",
    "\n",
    "final_df = internet_df.merge(income_df,\n",
    "                        on='name').merge(race_df,\n",
    "                                          on='name').merge(covid_hardship, on=\"name\")"
   ]
  },
  {
   "cell_type": "code",
   "execution_count": 36,
   "id": "d0eacb34",
   "metadata": {},
   "outputs": [],
   "source": [
    "# reordering columns\n",
    "\n",
    "final_df=final_df[['name', \n",
    " 'comm_num',\n",
    " 'total_pop',\n",
    " 'total_households', \n",
    " 'hh_no_internet', \n",
    " 'hh_no_internet(%)',\n",
    " 'hh_internet',\n",
    " 'hh_internet(%)',\n",
    " 'internet_rr',\n",
    " 'hh_computer',\n",
    " 'hh_computer(%)',\n",
    " 'hh_no_computer',\n",
    " 'hh_no_computer(%)',\n",
    " 'computer_rr',\n",
    " 'hh_broadband',\n",
    " 'hh_broadband(%)',\n",
    " 'hh_poverty(%)',\n",
    " 'hh_unemployment(%)',\n",
    " 'hh_median_income',\n",
    " 'total_hispanic',\n",
    " 'total_hispanic(%)', \n",
    " 'total_black',  \n",
    " 'total_black(%)', \n",
    " 'ccvi_score', \n",
    " 'ccvi_cat', \n",
    " 'hardship_score']]"
   ]
  },
  {
   "cell_type": "code",
   "execution_count": 37,
   "id": "5eb356c5",
   "metadata": {},
   "outputs": [
    {
     "data": {
      "text/html": [
       "<div>\n",
       "<style scoped>\n",
       "    .dataframe tbody tr th:only-of-type {\n",
       "        vertical-align: middle;\n",
       "    }\n",
       "\n",
       "    .dataframe tbody tr th {\n",
       "        vertical-align: top;\n",
       "    }\n",
       "\n",
       "    .dataframe thead th {\n",
       "        text-align: right;\n",
       "    }\n",
       "</style>\n",
       "<table border=\"1\" class=\"dataframe\">\n",
       "  <thead>\n",
       "    <tr style=\"text-align: right;\">\n",
       "      <th></th>\n",
       "      <th>name</th>\n",
       "      <th>comm_num</th>\n",
       "      <th>total_pop</th>\n",
       "      <th>total_households</th>\n",
       "      <th>hh_no_internet</th>\n",
       "      <th>hh_no_internet(%)</th>\n",
       "      <th>hh_internet</th>\n",
       "      <th>hh_internet(%)</th>\n",
       "      <th>internet_rr</th>\n",
       "      <th>hh_computer</th>\n",
       "      <th>...</th>\n",
       "      <th>hh_poverty(%)</th>\n",
       "      <th>hh_unemployment(%)</th>\n",
       "      <th>hh_median_income</th>\n",
       "      <th>total_hispanic</th>\n",
       "      <th>total_hispanic(%)</th>\n",
       "      <th>total_black</th>\n",
       "      <th>total_black(%)</th>\n",
       "      <th>ccvi_score</th>\n",
       "      <th>ccvi_cat</th>\n",
       "      <th>hardship_score</th>\n",
       "    </tr>\n",
       "  </thead>\n",
       "  <tbody>\n",
       "    <tr>\n",
       "      <th>0</th>\n",
       "      <td>Albany Park</td>\n",
       "      <td>14</td>\n",
       "      <td>49806</td>\n",
       "      <td>16909</td>\n",
       "      <td>2674</td>\n",
       "      <td>15.814064</td>\n",
       "      <td>13488</td>\n",
       "      <td>79.768171</td>\n",
       "      <td>95.582234</td>\n",
       "      <td>15104</td>\n",
       "      <td>...</td>\n",
       "      <td>12.10</td>\n",
       "      <td>33.00</td>\n",
       "      <td>66818.0</td>\n",
       "      <td>22399</td>\n",
       "      <td>44.972493</td>\n",
       "      <td>2461</td>\n",
       "      <td>4.941172</td>\n",
       "      <td>38.2</td>\n",
       "      <td>MEDIUM</td>\n",
       "      <td>53.0</td>\n",
       "    </tr>\n",
       "    <tr>\n",
       "      <th>1</th>\n",
       "      <td>Archer Heights</td>\n",
       "      <td>57</td>\n",
       "      <td>13726</td>\n",
       "      <td>3919</td>\n",
       "      <td>772</td>\n",
       "      <td>19.698903</td>\n",
       "      <td>2886</td>\n",
       "      <td>73.641235</td>\n",
       "      <td>93.340138</td>\n",
       "      <td>3207</td>\n",
       "      <td>...</td>\n",
       "      <td>10.10</td>\n",
       "      <td>33.60</td>\n",
       "      <td>48629.0</td>\n",
       "      <td>10626</td>\n",
       "      <td>77.415125</td>\n",
       "      <td>131</td>\n",
       "      <td>0.954393</td>\n",
       "      <td>53.3</td>\n",
       "      <td>HIGH</td>\n",
       "      <td>67.0</td>\n",
       "    </tr>\n",
       "    <tr>\n",
       "      <th>2</th>\n",
       "      <td>Armour Square</td>\n",
       "      <td>34</td>\n",
       "      <td>13538</td>\n",
       "      <td>5396</td>\n",
       "      <td>1488</td>\n",
       "      <td>27.575982</td>\n",
       "      <td>3685</td>\n",
       "      <td>68.291327</td>\n",
       "      <td>95.867309</td>\n",
       "      <td>4064</td>\n",
       "      <td>...</td>\n",
       "      <td>25.80</td>\n",
       "      <td>45.90</td>\n",
       "      <td>33333.0</td>\n",
       "      <td>585</td>\n",
       "      <td>4.321170</td>\n",
       "      <td>1135</td>\n",
       "      <td>8.383809</td>\n",
       "      <td>30.9</td>\n",
       "      <td>LOW</td>\n",
       "      <td>82.0</td>\n",
       "    </tr>\n",
       "    <tr>\n",
       "      <th>3</th>\n",
       "      <td>Ashburn</td>\n",
       "      <td>70</td>\n",
       "      <td>43356</td>\n",
       "      <td>13124</td>\n",
       "      <td>1840</td>\n",
       "      <td>14.020116</td>\n",
       "      <td>10449</td>\n",
       "      <td>79.617495</td>\n",
       "      <td>93.637610</td>\n",
       "      <td>11847</td>\n",
       "      <td>...</td>\n",
       "      <td>8.75</td>\n",
       "      <td>31.45</td>\n",
       "      <td>69261.0</td>\n",
       "      <td>17918</td>\n",
       "      <td>41.327613</td>\n",
       "      <td>19888</td>\n",
       "      <td>45.871390</td>\n",
       "      <td>45.1</td>\n",
       "      <td>MEDIUM</td>\n",
       "      <td>37.0</td>\n",
       "    </tr>\n",
       "    <tr>\n",
       "      <th>4</th>\n",
       "      <td>Auburn Gresham</td>\n",
       "      <td>71</td>\n",
       "      <td>45909</td>\n",
       "      <td>17161</td>\n",
       "      <td>5282</td>\n",
       "      <td>30.779092</td>\n",
       "      <td>10394</td>\n",
       "      <td>60.567566</td>\n",
       "      <td>91.346658</td>\n",
       "      <td>13724</td>\n",
       "      <td>...</td>\n",
       "      <td>23.60</td>\n",
       "      <td>45.60</td>\n",
       "      <td>35568.0</td>\n",
       "      <td>1001</td>\n",
       "      <td>2.180400</td>\n",
       "      <td>43791</td>\n",
       "      <td>95.386526</td>\n",
       "      <td>48.2</td>\n",
       "      <td>HIGH</td>\n",
       "      <td>74.0</td>\n",
       "    </tr>\n",
       "  </tbody>\n",
       "</table>\n",
       "<p>5 rows × 26 columns</p>\n",
       "</div>"
      ],
      "text/plain": [
       "             name  comm_num  total_pop  total_households  hh_no_internet  \\\n",
       "0     Albany Park        14      49806             16909            2674   \n",
       "1  Archer Heights        57      13726              3919             772   \n",
       "2   Armour Square        34      13538              5396            1488   \n",
       "3         Ashburn        70      43356             13124            1840   \n",
       "4  Auburn Gresham        71      45909             17161            5282   \n",
       "\n",
       "   hh_no_internet(%)  hh_internet  hh_internet(%)  internet_rr  hh_computer  \\\n",
       "0          15.814064        13488       79.768171    95.582234        15104   \n",
       "1          19.698903         2886       73.641235    93.340138         3207   \n",
       "2          27.575982         3685       68.291327    95.867309         4064   \n",
       "3          14.020116        10449       79.617495    93.637610        11847   \n",
       "4          30.779092        10394       60.567566    91.346658        13724   \n",
       "\n",
       "   ...  hh_poverty(%)  hh_unemployment(%)  hh_median_income  total_hispanic  \\\n",
       "0  ...          12.10               33.00           66818.0           22399   \n",
       "1  ...          10.10               33.60           48629.0           10626   \n",
       "2  ...          25.80               45.90           33333.0             585   \n",
       "3  ...           8.75               31.45           69261.0           17918   \n",
       "4  ...          23.60               45.60           35568.0            1001   \n",
       "\n",
       "   total_hispanic(%)  total_black  total_black(%)  ccvi_score  ccvi_cat  \\\n",
       "0          44.972493         2461        4.941172        38.2    MEDIUM   \n",
       "1          77.415125          131        0.954393        53.3      HIGH   \n",
       "2           4.321170         1135        8.383809        30.9       LOW   \n",
       "3          41.327613        19888       45.871390        45.1    MEDIUM   \n",
       "4           2.180400        43791       95.386526        48.2      HIGH   \n",
       "\n",
       "   hardship_score  \n",
       "0            53.0  \n",
       "1            67.0  \n",
       "2            82.0  \n",
       "3            37.0  \n",
       "4            74.0  \n",
       "\n",
       "[5 rows x 26 columns]"
      ]
     },
     "execution_count": 37,
     "metadata": {},
     "output_type": "execute_result"
    }
   ],
   "source": [
    "final_df.sort_values(by=\"name\").head(5)"
   ]
  },
  {
   "cell_type": "code",
   "execution_count": 38,
   "id": "36c19010",
   "metadata": {},
   "outputs": [],
   "source": [
    "# export to Excel file in the data folder \n",
    "\n",
    "final_df.to_csv(\"data/chicago_internet.csv\") "
   ]
  },
  {
   "cell_type": "markdown",
   "id": "5e2037a9",
   "metadata": {},
   "source": [
    "***Variable explanations (26):***\n",
    "\n",
    "Labels\n",
    "+ name: Community Area Name\n",
    "+ comm_num: Community Area Number (1 through 77)\n",
    "+ total_pop: estimated total population\n",
    "+ total_households: estimated total households\n",
    "\n",
    "Internet-related\n",
    "+ hh_no_internet: number of households with no internet access\n",
    "+ hh_no_internet(%): percentage of households with no internet access\n",
    "+ hh_internet: number of households with internet access\n",
    "+ hh_internet(%): percentage of households with internet access\n",
    "+ internet_rr: response rate for internet access \n",
    "+ hh_computer: number of households with a computer \n",
    "+ hh_computer(%): percentage of households with a computer \n",
    "+ hh_no_computer: number of households with no computer \n",
    "+ hh_no_computer(%): percentage of households with no computer \n",
    "+ computer_rr: response rate for computer access \n",
    "+ hh_broadband: number of households with an internet broadband subscription\n",
    "+ hh_broadband(%): percent of households with an internet broadband subscription\n",
    " \n",
    "Demographics\n",
    "+ hh_poverty(%): household poverty rate\n",
    "+ hh_unemployment(%): household unemployment rate\n",
    "+ hh_median_income: household median income\n",
    "+ total_hispanic': number of Hispanic/Latinos of ALL races\n",
    "+ total_hispanic(%): percentage of Hispanic/Latinos of ALL races\n",
    "+ total_black': number of non-Hispanic Black/African Americans\n",
    "+ total_black(%)': percentage of non-Hispanic Black/African Americans\n",
    " \n",
    "COVID & Hardship Indices\n",
    "+ ccvi_score:  COVID-19 Community Vulnerability Index score\n",
    "+ ccvi_cat':  COVID-19 Community Vulnerability Index score category\n",
    "+ hardship_score: Score that incorporates six selected socioeconomic indicators (per capita income, education, age group, poverty level, unemployment, housing)"
   ]
  },
  {
   "cell_type": "markdown",
   "id": "34601359",
   "metadata": {},
   "source": [
    "***Summary***\n",
    "\n",
    "COMPUTER\n",
    "\n",
    "Based on 2015-2019 ACS data, the percentages of households with computers, internet access, and internet broadband subscription are seen above. The neighborhoods of Burnside, Englewood, West Englewood, Fuller Park have the lowest percentages of both broadband subscription and internet access. The neighborhods of Near South Side, Lake View, Lincoln Park, and North Center have the highest. \n",
    "Broadband subscription and internet access numbers are extremely close, suggesting that the overwhelming majority of households who have access to internet do so via a broadbad subscription. \n",
    "  \n",
    "  \n",
    "ECONOMICS\n",
    "\n",
    "The medians of median household income, poverty rates, and unemployment rates across tracts were used to make the table above. The median household incomes in Chicago community areas range from Riverdale's \\\\$15,408 all the way to Lincoln Park's \\\\$127,177. Riverdale also has the highest percentage of their households in poverty at 49.2%. Fuller Park has the highest unemployment rate at 57.6%.\n",
    "  \n",
    "  \n",
    "RACE\n",
    "\n",
    "Hispanic/Latino ethnicity was based on all races. Black/African-American race was non-Hispanic/Latino. Chicago community areas vary vastly in their race and ethnic compositions. Gage Park, South LawndalE, West Elsdon, and Hermosa have the highest percentages of Hispanics/Latinos of all races. Calumet Heights, Washington Heights, Avalon Park, and Oakland have the highest percentages of non-Hispanic/Latino African-American/Blacks. \n",
    "  \n",
    "  \n",
    "COVID VULNERABILITY\n",
    "\n",
    "The community areas with the highest CCVI score were West Englewood, New City, and Gage Park. The community areas with the lowest scores also have the highest rates of internet access and median incomes. \n",
    "  \n",
    "  \n",
    "HARDSHIP\n",
    "\n",
    "The community areas with the highest hardship scores were Riverdale, Fuller Park, and South Lawndale. Interestingly enough, Riverdale was labeled as Medium for the COVID Vulnerability score. "
   ]
  },
  {
   "cell_type": "markdown",
   "id": "009cda89",
   "metadata": {},
   "source": [
    "***Discrepancies***\n",
    "\n",
    "O'Hare:\n",
    "The O'Hare population was way off in the table even after using the City of Chicago census tract community area crosswalk. The new numbers were 21,368 for total population with 9064 total households. However, the actual numbers are 13,418 for total population with 6,158 total households. \n",
    "\n",
    "After looking closely at the Census tracts within the Ohare community area, it was found that 3/6 census tracts were labeled as \"partially outside the city boundary\", where one of them was labeled as \"partially outside the city boundary (almost all)\". When excluding these tracts, the total population came to 12,861 with 6,120 households (~500 off from the 2021 population and 38 from the 2021 households). \n",
    "\n",
    "This is something we are in the works of addressing through spatial-based weighting: for all census tracts whose boundaries cross the higher-level geography’s boundaries (e.g., Chicago community area), estimate the proportion of the tract’s total area (e.g., square miles) that is located within each of the community areas it intersects. Use those proportions to assign ___% of the variable’s value to each community area. Of course, 100% of the variable’s value for a census tract that is fully subsumed within one community area is assigned to that community area."
   ]
  },
  {
   "cell_type": "markdown",
   "id": "2ff452e2",
   "metadata": {},
   "source": [
    " "
   ]
  },
  {
   "cell_type": "markdown",
   "id": "67294559",
   "metadata": {},
   "source": [
    "### Correlations & Regressions"
   ]
  },
  {
   "cell_type": "markdown",
   "id": "03582692",
   "metadata": {},
   "source": [
    "This section will look deeper into the relationships between variables through correlation coefficients and regression models. "
   ]
  },
  {
   "cell_type": "code",
   "execution_count": 39,
   "id": "67b589b9",
   "metadata": {},
   "outputs": [],
   "source": [
    "import seaborn as sns"
   ]
  },
  {
   "cell_type": "code",
   "execution_count": 40,
   "id": "8e4e934f",
   "metadata": {},
   "outputs": [
    {
     "data": {
      "text/plain": [
       "<AxesSubplot:>"
      ]
     },
     "execution_count": 40,
     "metadata": {},
     "output_type": "execute_result"
    },
    {
     "data": {
      "image/png": "[encoded data removed]",
      "text/plain": [
       "<Figure size 432x288 with 2 Axes>"
      ]
     },
     "metadata": {
      "needs_background": "light"
     },
     "output_type": "display_data"
    }
   ],
   "source": [
    "sns.heatmap(\n",
    "    final_df[['hh_no_internet(%)','hh_median_income','hh_unemployment(%)','hh_poverty(%)','ccvi_score','hardship_score','total_hispanic(%)','total_black(%)']]\n",
    "    .corr()\n",
    ")"
   ]
  },
  {
   "cell_type": "code",
   "execution_count": 42,
   "id": "8358a820",
   "metadata": {},
   "outputs": [],
   "source": [
    "from sklearn.linear_model import LinearRegression"
   ]
  },
  {
   "cell_type": "code",
   "execution_count": 43,
   "id": "c1008058",
   "metadata": {},
   "outputs": [],
   "source": [
    "from sklearn import linear_model"
   ]
  },
  {
   "cell_type": "code",
   "execution_count": 44,
   "id": "c66e3148",
   "metadata": {},
   "outputs": [],
   "source": [
    "import statsmodels.api as sm"
   ]
  },
  {
   "cell_type": "markdown",
   "id": "48e94962",
   "metadata": {},
   "source": [
    "### Linear Regression"
   ]
  },
  {
   "cell_type": "code",
   "execution_count": 65,
   "id": "1e745201",
   "metadata": {},
   "outputs": [],
   "source": [
    "# define the data/predictors as the pre-set feature names  \n",
    "df = pd.DataFrame(final_df, columns=[\"hh_median_income\"])\n",
    "\n",
    "# Put the target (housing value -- MEDV) in another DataFrame\n",
    "target = pd.DataFrame(final_df, columns=[\"hh_internet\"])"
   ]
  },
  {
   "cell_type": "code",
   "execution_count": 66,
   "id": "e352ee53",
   "metadata": {},
   "outputs": [],
   "source": [
    "X = df\n",
    "y = target[\"hh_internet\"]"
   ]
  },
  {
   "cell_type": "code",
   "execution_count": 67,
   "id": "3867f79b",
   "metadata": {},
   "outputs": [],
   "source": [
    "lm = linear_model.LinearRegression()\n",
    "model = lm.fit(X,y)"
   ]
  },
  {
   "cell_type": "code",
   "execution_count": 68,
   "id": "5a23051f",
   "metadata": {},
   "outputs": [
    {
     "data": {
      "text/plain": [
       "0.22098485475992713"
      ]
     },
     "execution_count": 68,
     "metadata": {},
     "output_type": "execute_result"
    }
   ],
   "source": [
    "lm.score(X,y)"
   ]
  },
  {
   "cell_type": "markdown",
   "id": "d23b991c",
   "metadata": {},
   "source": [
    "This is the R² score of our model or the percentage of explained variance of the predictions. It is pretty low at 22%, and represents a model that does explains a tiny amount of the variation in no internet access around its mean. "
   ]
  },
  {
   "cell_type": "code",
   "execution_count": 69,
   "id": "1d191f27",
   "metadata": {},
   "outputs": [
    {
     "data": {
      "text/plain": [
       "array([0.16566996])"
      ]
     },
     "execution_count": 69,
     "metadata": {},
     "output_type": "execute_result"
    }
   ],
   "source": [
    "lm.coef_"
   ]
  },
  {
   "cell_type": "code",
   "execution_count": 70,
   "id": "0b27f308",
   "metadata": {},
   "outputs": [
    {
     "data": {
      "text/plain": [
       "1799.0099092159198"
      ]
     },
     "execution_count": 70,
     "metadata": {},
     "output_type": "execute_result"
    }
   ],
   "source": [
    "lm.intercept_"
   ]
  },
  {
   "cell_type": "markdown",
   "id": "9a043d78",
   "metadata": {},
   "source": [
    "### OLS Regression"
   ]
  },
  {
   "cell_type": "code",
   "execution_count": 71,
   "id": "8bff628e",
   "metadata": {},
   "outputs": [
    {
     "data": {
      "text/html": [
       "<table class=\"simpletable\">\n",
       "<caption>OLS Regression Results</caption>\n",
       "<tr>\n",
       "  <th>Dep. Variable:</th>       <td>hh_internet</td>   <th>  R-squared (uncentered):</th>      <td>   0.670</td>\n",
       "</tr>\n",
       "<tr>\n",
       "  <th>Model:</th>                   <td>OLS</td>       <th>  Adj. R-squared (uncentered):</th> <td>   0.666</td>\n",
       "</tr>\n",
       "<tr>\n",
       "  <th>Method:</th>             <td>Least Squares</td>  <th>  F-statistic:       </th>          <td>   154.3</td>\n",
       "</tr>\n",
       "<tr>\n",
       "  <th>Date:</th>             <td>Wed, 02 Mar 2022</td> <th>  Prob (F-statistic):</th>          <td>5.59e-20</td>\n",
       "</tr>\n",
       "<tr>\n",
       "  <th>Time:</th>                 <td>09:45:30</td>     <th>  Log-Likelihood:    </th>          <td> -804.13</td>\n",
       "</tr>\n",
       "<tr>\n",
       "  <th>No. Observations:</th>      <td>    77</td>      <th>  AIC:               </th>          <td>   1610.</td>\n",
       "</tr>\n",
       "<tr>\n",
       "  <th>Df Residuals:</th>          <td>    76</td>      <th>  BIC:               </th>          <td>   1613.</td>\n",
       "</tr>\n",
       "<tr>\n",
       "  <th>Df Model:</th>              <td>     1</td>      <th>                     </th>              <td> </td>   \n",
       "</tr>\n",
       "<tr>\n",
       "  <th>Covariance Type:</th>      <td>nonrobust</td>    <th>                     </th>              <td> </td>   \n",
       "</tr>\n",
       "</table>\n",
       "<table class=\"simpletable\">\n",
       "<tr>\n",
       "          <td></td>            <th>coef</th>     <th>std err</th>      <th>t</th>      <th>P>|t|</th>  <th>[0.025</th>    <th>0.975]</th>  \n",
       "</tr>\n",
       "<tr>\n",
       "  <th>hh_median_income</th> <td>    0.1920</td> <td>    0.015</td> <td>   12.422</td> <td> 0.000</td> <td>    0.161</td> <td>    0.223</td>\n",
       "</tr>\n",
       "</table>\n",
       "<table class=\"simpletable\">\n",
       "<tr>\n",
       "  <th>Omnibus:</th>       <td>26.046</td> <th>  Durbin-Watson:     </th> <td>   2.219</td>\n",
       "</tr>\n",
       "<tr>\n",
       "  <th>Prob(Omnibus):</th> <td> 0.000</td> <th>  Jarque-Bera (JB):  </th> <td>  52.880</td>\n",
       "</tr>\n",
       "<tr>\n",
       "  <th>Skew:</th>          <td> 1.182</td> <th>  Prob(JB):          </th> <td>3.29e-12</td>\n",
       "</tr>\n",
       "<tr>\n",
       "  <th>Kurtosis:</th>      <td> 6.301</td> <th>  Cond. No.          </th> <td>    1.00</td>\n",
       "</tr>\n",
       "</table><br/><br/>Notes:<br/>[1] R² is computed without centering (uncentered) since the model does not contain a constant.<br/>[2] Standard Errors assume that the covariance matrix of the errors is correctly specified."
      ],
      "text/plain": [
       "<class 'statsmodels.iolib.summary.Summary'>\n",
       "\"\"\"\n",
       "                                 OLS Regression Results                                \n",
       "=======================================================================================\n",
       "Dep. Variable:            hh_internet   R-squared (uncentered):                   0.670\n",
       "Model:                            OLS   Adj. R-squared (uncentered):              0.666\n",
       "Method:                 Least Squares   F-statistic:                              154.3\n",
       "Date:                Wed, 02 Mar 2022   Prob (F-statistic):                    5.59e-20\n",
       "Time:                        09:45:30   Log-Likelihood:                         -804.13\n",
       "No. Observations:                  77   AIC:                                      1610.\n",
       "Df Residuals:                      76   BIC:                                      1613.\n",
       "Df Model:                           1                                                  \n",
       "Covariance Type:            nonrobust                                                  \n",
       "====================================================================================\n",
       "                       coef    std err          t      P>|t|      [0.025      0.975]\n",
       "------------------------------------------------------------------------------------\n",
       "hh_median_income     0.1920      0.015     12.422      0.000       0.161       0.223\n",
       "==============================================================================\n",
       "Omnibus:                       26.046   Durbin-Watson:                   2.219\n",
       "Prob(Omnibus):                  0.000   Jarque-Bera (JB):               52.880\n",
       "Skew:                           1.182   Prob(JB):                     3.29e-12\n",
       "Kurtosis:                       6.301   Cond. No.                         1.00\n",
       "==============================================================================\n",
       "\n",
       "Notes:\n",
       "[1] R² is computed without centering (uncentered) since the model does not contain a constant.\n",
       "[2] Standard Errors assume that the covariance matrix of the errors is correctly specified.\n",
       "\"\"\""
      ]
     },
     "execution_count": 71,
     "metadata": {},
     "output_type": "execute_result"
    }
   ],
   "source": [
    "# Note the difference in argument order\n",
    "model = sm.OLS(y, X).fit()\n",
    "predictions = model.predict(X) # make the predictions by the model\n",
    "\n",
    "# Print out the statistics\n",
    "model.summary()"
   ]
  },
  {
   "cell_type": "markdown",
   "id": "58635034",
   "metadata": {},
   "source": [
    "- OLS stands for Ordinary Least Squares and the method “Least Squares” means that we’re trying to fit a regression line that would minimize the square of distance from the regression line (see the previous section of this post).\n",
    "- The coefficient of 0.19 means that as the median income variable increases by 1, the predicted value of no internet access increases by 0.19.\n",
    "- Household income accounts for 67% of the variance in internet access."
   ]
  }
 ],
 "metadata": {
  "kernelspec": {
   "display_name": "Python 3.8.5 64-bit ('anaconda3': virtualenv)",
   "language": "python",
   "name": "python385jvsc74a57bd097e81732a71c5b40b952c79202e1b58ed08ca490443701847872addaf71e1671"
  },
  "language_info": {
   "codemirror_mode": {
    "name": "ipython",
    "version": 3
   },
   "file_extension": ".py",
   "mimetype": "text/x-python",
   "name": "python",
   "nbconvert_exporter": "python",
   "pygments_lexer": "ipython3",
   "version": "3.9.7"
  }
 },
 "nbformat": 4,
 "nbformat_minor": 5
}
