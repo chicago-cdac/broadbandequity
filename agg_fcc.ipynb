{
 "cells": [
  {
   "cell_type": "markdown",
   "id": "91a03138",
   "metadata": {},
   "source": [
    "## Analyzing 2021 FCC Data "
   ]
  },
  {
   "cell_type": "markdown",
   "id": "d7efce22",
   "metadata": {},
   "source": [
    "This notebook contains the code used to wrangle, join, and analyze the [Fixed Broadband Deployment Data](https://www.fcc.gov/general/broadband-deployment-data-fcc-form-477) from FCC Form 477. \n",
    "\n",
    "All csv files can be found in the \"data\" folder of the [working](https://github.com/danielgrzenda/broadbandequity/tree/working) branch of our Broadband Equity Github repo."
   ]
  },
  {
   "cell_type": "markdown",
   "id": "47749f4a",
   "metadata": {},
   "source": [
    "##### Importing Libraries"
   ]
  },
  {
   "cell_type": "code",
   "execution_count": null,
   "id": "ff0a75d5",
   "metadata": {},
   "outputs": [],
   "source": [
    "import pandas as pd\n",
    "import numpy as np\n",
    "import matplotlib.pyplot as plt"
   ]
  },
  {
   "cell_type": "markdown",
   "id": "251f5afc",
   "metadata": {},
   "source": [
    "##### Importing Chicago FCC data"
   ]
  },
  {
   "cell_type": "markdown",
   "id": "4ee7d3ad",
   "metadata": {},
   "source": [
    "First, we use the FCC IL Dec 2020 csv file (which can be found [here](https://us-fcc.app.box.com/v/IL-Dec2020-v1)). Since it is a large file and we only want data on Chicago, we filter for Cook County data only and then export it as a new csv file which is saved in the \"data\" folder. **DO NOT RUN THE FOLLOWING CHUNKS OF CODE!!!**"
   ]
  },
  {
   "cell_type": "code",
   "execution_count": null,
   "id": "41721a01",
   "metadata": {},
   "outputs": [],
   "source": [
    "# FCC IL\n",
    "\n",
    "fcc_df = pd.read_csv(\"data/IL-Fixed-Dec2020-v1.csv\",\n",
    "                     index_col=0,parse_dates=[0])"
   ]
  },
  {
   "cell_type": "code",
   "execution_count": null,
   "id": "da9a540c",
   "metadata": {},
   "outputs": [],
   "source": [
    "#changing BlockCode column to string type\n",
    "\n",
    "fcc_df['BlockCode']=fcc_df['BlockCode'].astype(str)"
   ]
  },
  {
   "cell_type": "code",
   "execution_count": null,
   "id": "b99cb218",
   "metadata": {},
   "outputs": [],
   "source": [
    "# Extracting state, county, tract, block numbers from BlockCode column\n",
    "# IL state=17\n",
    "# Cook County=031\n",
    "\n",
    "fcc_df['state'] = fcc_df['BlockCode'].str[:2]\n",
    "fcc_df['county'] = fcc_df['BlockCode'].str[2:5]\n",
    "fcc_df['tract'] = fcc_df['BlockCode'].str[5:11]\n",
    "fcc_df['block'] = fcc_df['BlockCode'].str[-4:]"
   ]
  },
  {
   "cell_type": "code",
   "execution_count": null,
   "id": "650b8efe",
   "metadata": {},
   "outputs": [],
   "source": [
    "# Filtering for Cook County only \n",
    "# 763788 rows\n",
    "\n",
    "chi_fcc = fcc_df[(fcc_df.county == \"031\")]"
   ]
  },
  {
   "cell_type": "code",
   "execution_count": null,
   "id": "957ac475",
   "metadata": {},
   "outputs": [],
   "source": [
    "# dropping columns we don't need to make the file smaller\n",
    "\n",
    "chi_fcc=chi_fcc[['ProviderName', 'Consumer', \n",
    "                 'MaxAdDown','MaxAdUp','tract']]\n",
    "chi_fcc['tract']=chi_fcc['tract'].astype(float)"
   ]
  },
  {
   "cell_type": "code",
   "execution_count": null,
   "id": "1ce382e2",
   "metadata": {},
   "outputs": [],
   "source": [
    "# export final dataframe to csv file\n",
    "\n",
    "chi_fcc.to_csv(r'data/chi_fcc.csv', index = False)"
   ]
  },
  {
   "cell_type": "code",
   "execution_count": null,
   "id": "729b5bbb",
   "metadata": {},
   "outputs": [],
   "source": [
    "# final dataframe looks like this\n",
    "chi_fcc.head(5)"
   ]
  },
  {
   "cell_type": "markdown",
   "id": "8ebd00f8",
   "metadata": {},
   "source": [
    "Run this code to load the Chicago FCC data.  "
   ]
  },
  {
   "cell_type": "code",
   "execution_count": null,
   "id": "7c0d3992",
   "metadata": {},
   "outputs": [],
   "source": [
    "# Chicago FCC data\n",
    "\n",
    "chi_fcc = pd.read_csv(\"data/chi_fcc.csv\",index_col=0,parse_dates=[0])\n",
    "chi_fcc.head(5)"
   ]
  },
  {
   "cell_type": "code",
   "execution_count": null,
   "id": "0163297b",
   "metadata": {},
   "outputs": [],
   "source": [
    "test = pd.read_csv(\"data/chi_fcc.csv\",index_col=0,parse_dates=[0])"
   ]
  },
  {
   "cell_type": "code",
   "execution_count": null,
   "id": "a9ab89c4",
   "metadata": {},
   "outputs": [],
   "source": [
    "test"
   ]
  },
  {
   "cell_type": "code",
   "execution_count": null,
   "id": "bb285750",
   "metadata": {},
   "outputs": [],
   "source": [
    "test = test.reset_index()"
   ]
  },
  {
   "cell_type": "code",
   "execution_count": null,
   "id": "a6c8ed42",
   "metadata": {},
   "outputs": [],
   "source": [
    "test"
   ]
  },
  {
   "cell_type": "code",
   "execution_count": null,
   "id": "c8854cb9",
   "metadata": {},
   "outputs": [],
   "source": [
    "test['tract'] = [str(i) for i in test['tract']]"
   ]
  },
  {
   "cell_type": "code",
   "execution_count": null,
   "id": "449f2ce6",
   "metadata": {},
   "outputs": [],
   "source": [
    "test.set_index('tract')"
   ]
  },
  {
   "cell_type": "code",
   "execution_count": null,
   "id": "1ab8c4fc",
   "metadata": {},
   "outputs": [],
   "source": [
    "chi_fcc.columns"
   ]
  },
  {
   "cell_type": "code",
   "execution_count": null,
   "id": "aae70a4b",
   "metadata": {},
   "outputs": [],
   "source": [
    "len(chi_fcc)"
   ]
  },
  {
   "cell_type": "code",
   "execution_count": null,
   "id": "1b1703a6",
   "metadata": {},
   "outputs": [],
   "source": [
    "np.mean(chi_fcc.Consumer)"
   ]
  },
  {
   "cell_type": "code",
   "execution_count": null,
   "id": "5f40f3c5",
   "metadata": {},
   "outputs": [],
   "source": [
    "np.mean(chi_fcc.MaxAdDown)"
   ]
  },
  {
   "cell_type": "code",
   "execution_count": null,
   "id": "fccb9372",
   "metadata": {},
   "outputs": [],
   "source": [
    "np.median(chi_fcc.MaxAdDown)"
   ]
  },
  {
   "cell_type": "code",
   "execution_count": null,
   "id": "7051b0aa",
   "metadata": {},
   "outputs": [],
   "source": [
    "plt.hist(chi_fcc.MaxAdDown,bins=range(0,1200,20))"
   ]
  },
  {
   "cell_type": "code",
   "execution_count": null,
   "id": "90482c9b",
   "metadata": {},
   "outputs": [],
   "source": [
    "plt.hist(chi_fcc.MaxAdDown,bins=range(0,200,5))"
   ]
  },
  {
   "cell_type": "code",
   "execution_count": null,
   "id": "313eb4de",
   "metadata": {},
   "outputs": [],
   "source": [
    "import data_pipeline.spatial_operations as spatial"
   ]
  },
  {
   "cell_type": "code",
   "execution_count": null,
   "id": "b310a7b2",
   "metadata": {},
   "outputs": [],
   "source": [
    "variables = {'MaxAdDown' : 'pop mean', 'MaxAdUp' : 'pop mean'}\n",
    "comm_fcc = spatial.aggregate(chi_fcc,variables,'community_area','tract')"
   ]
  }
 ],
 "metadata": {
  "kernelspec": {
   "display_name": "Python 3 (ipykernel)",
   "language": "python",
   "name": "python3"
  },
  "language_info": {
   "codemirror_mode": {
    "name": "ipython",
    "version": 3
   },
   "file_extension": ".py",
   "mimetype": "text/x-python",
   "name": "python",
   "nbconvert_exporter": "python",
   "pygments_lexer": "ipython3",
   "version": "3.9.10"
  }
 },
 "nbformat": 4,
 "nbformat_minor": 5
}
