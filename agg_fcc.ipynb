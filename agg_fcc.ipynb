{
 "cells": [
  {
   "cell_type": "markdown",
   "id": "91a03138",
   "metadata": {},
   "source": [
    "## Analyzing 2021 FCC Data "
   ]
  },
  {
   "cell_type": "markdown",
   "id": "d7efce22",
   "metadata": {},
   "source": [
    "This notebook contains the code used to wrangle, join, and analyze the [Fixed Broadband Deployment Data](https://www.fcc.gov/general/broadband-deployment-data-fcc-form-477) from FCC Form 477. \n",
    "\n",
    "All csv files can be found in the \"data\" folder of the [working](https://github.com/danielgrzenda/broadbandequity/tree/working) branch of our Broadband Equity Github repo."
   ]
  },
  {
   "cell_type": "markdown",
   "id": "47749f4a",
   "metadata": {},
   "source": [
    "##### Importing Libraries"
   ]
  },
  {
   "cell_type": "code",
   "execution_count": 1,
   "id": "ff0a75d5",
   "metadata": {},
   "outputs": [],
   "source": [
    "import pandas as pd\n",
    "import numpy as np\n",
    "import matplotlib.pyplot as plt\n",
    "import data_pipeline.spatial_operations as so\n",
    "import data_pipeline.fetch_census_data as fetch"
   ]
  },
  {
   "cell_type": "markdown",
   "id": "251f5afc",
   "metadata": {},
   "source": [
    "##### Importing Chicago FCC data"
   ]
  },
  {
   "cell_type": "markdown",
   "id": "4ee7d3ad",
   "metadata": {},
   "source": [
    "First, we use the FCC IL Dec 2020 csv file (which can be found [here](https://us-fcc.app.box.com/v/IL-Dec2020-v1)). Since it is a large file and we only want data on Chicago, we filter for Cook County data only and then export it as a new csv file which is saved in the \"data\" folder. **DO NOT RUN THE FOLLOWING CHUNKS OF CODE!!!**"
   ]
  },
  {
   "cell_type": "code",
   "execution_count": null,
   "id": "41721a01",
   "metadata": {},
   "outputs": [],
   "source": [
    "# FCC IL\n",
    "\n",
    "fcc_df = pd.read_csv(\"../../IL-Fixed-Dec2020-v1.csv\",\n",
    "                     index_col=0,parse_dates=[0])"
   ]
  },
  {
   "cell_type": "code",
   "execution_count": null,
   "id": "da9a540c",
   "metadata": {},
   "outputs": [],
   "source": [
    "#changing BlockCode column to string type\n",
    "\n",
    "fcc_df['BlockCode']=fcc_df['BlockCode'].astype(str)"
   ]
  },
  {
   "cell_type": "code",
   "execution_count": null,
   "id": "b99cb218",
   "metadata": {},
   "outputs": [],
   "source": [
    "# Extracting state, county, tract, block numbers from BlockCode column\n",
    "# IL state=17\n",
    "# Cook County=031\n",
    "\n",
    "fcc_df['state'] = fcc_df['BlockCode'].str[:2]\n",
    "fcc_df['county'] = fcc_df['BlockCode'].str[2:5]\n",
    "fcc_df['tract'] = fcc_df['BlockCode'].str[5:11]\n",
    "fcc_df['block'] = fcc_df['BlockCode'].str[-4:]"
   ]
  },
  {
   "cell_type": "code",
   "execution_count": null,
   "id": "650b8efe",
   "metadata": {},
   "outputs": [],
   "source": [
    "# Filtering for Cook County only \n",
    "# 3408835 -> 763788 rows\n",
    "\n",
    "chi_fcc = fcc_df[(fcc_df.county == \"031\")]"
   ]
  },
  {
   "cell_type": "code",
   "execution_count": null,
   "id": "c24d253b",
   "metadata": {},
   "outputs": [],
   "source": [
    "# Filtering for Chicago only\n",
    "# 763788 -> 759684 rows\n",
    "\n",
    "chi_fcc = chi_fcc.astype({'block':'int64'})\n",
    "chicago_blocks = pd.read_csv(\"../../ChicagoCensusBlocks.csv\").BLOCKCE10\n",
    "chi_fcc = chi_fcc[chi_fcc.block.isin(chicago_blocks)]\n"
   ]
  },
  {
   "cell_type": "code",
   "execution_count": null,
   "id": "1ce382e2",
   "metadata": {},
   "outputs": [],
   "source": [
    "# export final dataframe to csv file\n",
    "\n",
    "chi_fcc.to_csv(r'data/chi_fcc.csv', index = False)"
   ]
  },
  {
   "cell_type": "code",
   "execution_count": null,
   "id": "729b5bbb",
   "metadata": {},
   "outputs": [],
   "source": [
    "# final dataframe looks like this\n",
    "chi_fcc.head(5)"
   ]
  },
  {
   "cell_type": "markdown",
   "id": "2a045e2e",
   "metadata": {},
   "source": [
    "Don't accidentally commit chi_fcc.csv to the repository!!"
   ]
  },
  {
   "cell_type": "markdown",
   "id": "8ebd00f8",
   "metadata": {},
   "source": [
    "##### Analysis"
   ]
  },
  {
   "cell_type": "code",
   "execution_count": 2,
   "id": "7c0d3992",
   "metadata": {},
   "outputs": [
    {
     "data": {
      "text/html": [
       "<div>\n",
       "<style scoped>\n",
       "    .dataframe tbody tr th:only-of-type {\n",
       "        vertical-align: middle;\n",
       "    }\n",
       "\n",
       "    .dataframe tbody tr th {\n",
       "        vertical-align: top;\n",
       "    }\n",
       "\n",
       "    .dataframe thead th {\n",
       "        text-align: right;\n",
       "    }\n",
       "</style>\n",
       "<table border=\"1\" class=\"dataframe\">\n",
       "  <thead>\n",
       "    <tr style=\"text-align: right;\">\n",
       "      <th></th>\n",
       "      <th>FRN</th>\n",
       "      <th>ProviderName</th>\n",
       "      <th>DBAName</th>\n",
       "      <th>HoldingCompanyName</th>\n",
       "      <th>HocoNum</th>\n",
       "      <th>HocoFinal</th>\n",
       "      <th>StateAbbr</th>\n",
       "      <th>BlockCode</th>\n",
       "      <th>TechCode</th>\n",
       "      <th>Consumer</th>\n",
       "      <th>MaxAdDown</th>\n",
       "      <th>MaxAdUp</th>\n",
       "      <th>Business</th>\n",
       "      <th>state</th>\n",
       "      <th>county</th>\n",
       "      <th>tract</th>\n",
       "      <th>block</th>\n",
       "    </tr>\n",
       "    <tr>\n",
       "      <th>Provider_Id</th>\n",
       "      <th></th>\n",
       "      <th></th>\n",
       "      <th></th>\n",
       "      <th></th>\n",
       "      <th></th>\n",
       "      <th></th>\n",
       "      <th></th>\n",
       "      <th></th>\n",
       "      <th></th>\n",
       "      <th></th>\n",
       "      <th></th>\n",
       "      <th></th>\n",
       "      <th></th>\n",
       "      <th></th>\n",
       "      <th></th>\n",
       "      <th></th>\n",
       "      <th></th>\n",
       "    </tr>\n",
       "  </thead>\n",
       "  <tbody>\n",
       "    <tr>\n",
       "      <th>69644</th>\n",
       "      <td>7097355</td>\n",
       "      <td>TOWERSTREAM, INC.</td>\n",
       "      <td>Towerstream</td>\n",
       "      <td>Towerstream, Inc.</td>\n",
       "      <td>190373</td>\n",
       "      <td>Towerstream, Inc.</td>\n",
       "      <td>IL</td>\n",
       "      <td>170310207023015</td>\n",
       "      <td>70</td>\n",
       "      <td>0</td>\n",
       "      <td>0.0</td>\n",
       "      <td>0.0</td>\n",
       "      <td>1</td>\n",
       "      <td>17</td>\n",
       "      <td>31</td>\n",
       "      <td>20702</td>\n",
       "      <td>3015</td>\n",
       "    </tr>\n",
       "    <tr>\n",
       "      <th>69644</th>\n",
       "      <td>7097355</td>\n",
       "      <td>TOWERSTREAM, INC.</td>\n",
       "      <td>Towerstream</td>\n",
       "      <td>Towerstream, Inc.</td>\n",
       "      <td>190373</td>\n",
       "      <td>Towerstream, Inc.</td>\n",
       "      <td>IL</td>\n",
       "      <td>170310803004005</td>\n",
       "      <td>70</td>\n",
       "      <td>0</td>\n",
       "      <td>0.0</td>\n",
       "      <td>0.0</td>\n",
       "      <td>1</td>\n",
       "      <td>17</td>\n",
       "      <td>31</td>\n",
       "      <td>80300</td>\n",
       "      <td>4005</td>\n",
       "    </tr>\n",
       "    <tr>\n",
       "      <th>69644</th>\n",
       "      <td>7097355</td>\n",
       "      <td>TOWERSTREAM, INC.</td>\n",
       "      <td>Towerstream</td>\n",
       "      <td>Towerstream, Inc.</td>\n",
       "      <td>190373</td>\n",
       "      <td>Towerstream, Inc.</td>\n",
       "      <td>IL</td>\n",
       "      <td>170310810005003</td>\n",
       "      <td>70</td>\n",
       "      <td>0</td>\n",
       "      <td>0.0</td>\n",
       "      <td>0.0</td>\n",
       "      <td>1</td>\n",
       "      <td>17</td>\n",
       "      <td>31</td>\n",
       "      <td>81000</td>\n",
       "      <td>5003</td>\n",
       "    </tr>\n",
       "    <tr>\n",
       "      <th>69644</th>\n",
       "      <td>7097355</td>\n",
       "      <td>TOWERSTREAM, INC.</td>\n",
       "      <td>Towerstream</td>\n",
       "      <td>Towerstream, Inc.</td>\n",
       "      <td>190373</td>\n",
       "      <td>Towerstream, Inc.</td>\n",
       "      <td>IL</td>\n",
       "      <td>170310813003001</td>\n",
       "      <td>70</td>\n",
       "      <td>0</td>\n",
       "      <td>0.0</td>\n",
       "      <td>0.0</td>\n",
       "      <td>1</td>\n",
       "      <td>17</td>\n",
       "      <td>31</td>\n",
       "      <td>81300</td>\n",
       "      <td>3001</td>\n",
       "    </tr>\n",
       "    <tr>\n",
       "      <th>69644</th>\n",
       "      <td>7097355</td>\n",
       "      <td>TOWERSTREAM, INC.</td>\n",
       "      <td>Towerstream</td>\n",
       "      <td>Towerstream, Inc.</td>\n",
       "      <td>190373</td>\n",
       "      <td>Towerstream, Inc.</td>\n",
       "      <td>IL</td>\n",
       "      <td>170310815002006</td>\n",
       "      <td>70</td>\n",
       "      <td>0</td>\n",
       "      <td>0.0</td>\n",
       "      <td>0.0</td>\n",
       "      <td>1</td>\n",
       "      <td>17</td>\n",
       "      <td>31</td>\n",
       "      <td>81500</td>\n",
       "      <td>2006</td>\n",
       "    </tr>\n",
       "  </tbody>\n",
       "</table>\n",
       "</div>"
      ],
      "text/plain": [
       "                 FRN       ProviderName      DBAName HoldingCompanyName  \\\n",
       "Provider_Id                                                               \n",
       "69644        7097355  TOWERSTREAM, INC.  Towerstream  Towerstream, Inc.   \n",
       "69644        7097355  TOWERSTREAM, INC.  Towerstream  Towerstream, Inc.   \n",
       "69644        7097355  TOWERSTREAM, INC.  Towerstream  Towerstream, Inc.   \n",
       "69644        7097355  TOWERSTREAM, INC.  Towerstream  Towerstream, Inc.   \n",
       "69644        7097355  TOWERSTREAM, INC.  Towerstream  Towerstream, Inc.   \n",
       "\n",
       "             HocoNum          HocoFinal StateAbbr        BlockCode  TechCode  \\\n",
       "Provider_Id                                                                    \n",
       "69644         190373  Towerstream, Inc.        IL  170310207023015        70   \n",
       "69644         190373  Towerstream, Inc.        IL  170310803004005        70   \n",
       "69644         190373  Towerstream, Inc.        IL  170310810005003        70   \n",
       "69644         190373  Towerstream, Inc.        IL  170310813003001        70   \n",
       "69644         190373  Towerstream, Inc.        IL  170310815002006        70   \n",
       "\n",
       "             Consumer  MaxAdDown  MaxAdUp  Business  state  county  tract  \\\n",
       "Provider_Id                                                                 \n",
       "69644               0        0.0      0.0         1     17      31  20702   \n",
       "69644               0        0.0      0.0         1     17      31  80300   \n",
       "69644               0        0.0      0.0         1     17      31  81000   \n",
       "69644               0        0.0      0.0         1     17      31  81300   \n",
       "69644               0        0.0      0.0         1     17      31  81500   \n",
       "\n",
       "             block  \n",
       "Provider_Id         \n",
       "69644         3015  \n",
       "69644         4005  \n",
       "69644         5003  \n",
       "69644         3001  \n",
       "69644         2006  "
      ]
     },
     "execution_count": 2,
     "metadata": {},
     "output_type": "execute_result"
    }
   ],
   "source": [
    "chi_fcc = pd.read_csv(\"data/chi_fcc.csv\",index_col=0,parse_dates=[0])\n",
    "chi_fcc.head()"
   ]
  },
  {
   "cell_type": "code",
   "execution_count": 3,
   "id": "d4986891",
   "metadata": {},
   "outputs": [
    {
     "data": {
      "text/html": [
       "<div>\n",
       "<style scoped>\n",
       "    .dataframe tbody tr th:only-of-type {\n",
       "        vertical-align: middle;\n",
       "    }\n",
       "\n",
       "    .dataframe tbody tr th {\n",
       "        vertical-align: top;\n",
       "    }\n",
       "\n",
       "    .dataframe thead th {\n",
       "        text-align: right;\n",
       "    }\n",
       "</style>\n",
       "<table border=\"1\" class=\"dataframe\">\n",
       "  <thead>\n",
       "    <tr style=\"text-align: right;\">\n",
       "      <th></th>\n",
       "      <th>DBAName</th>\n",
       "      <th>HocoNum</th>\n",
       "      <th>TechCode</th>\n",
       "      <th>Consumer</th>\n",
       "      <th>MaxAdDown</th>\n",
       "      <th>MaxAdUp</th>\n",
       "      <th>tract</th>\n",
       "      <th>block</th>\n",
       "    </tr>\n",
       "  </thead>\n",
       "  <tbody>\n",
       "    <tr>\n",
       "      <th>0</th>\n",
       "      <td>Towerstream</td>\n",
       "      <td>190373</td>\n",
       "      <td>70</td>\n",
       "      <td>0</td>\n",
       "      <td>0.0</td>\n",
       "      <td>0.0</td>\n",
       "      <td>20702</td>\n",
       "      <td>3015</td>\n",
       "    </tr>\n",
       "    <tr>\n",
       "      <th>1</th>\n",
       "      <td>Towerstream</td>\n",
       "      <td>190373</td>\n",
       "      <td>70</td>\n",
       "      <td>0</td>\n",
       "      <td>0.0</td>\n",
       "      <td>0.0</td>\n",
       "      <td>80300</td>\n",
       "      <td>4005</td>\n",
       "    </tr>\n",
       "    <tr>\n",
       "      <th>2</th>\n",
       "      <td>Towerstream</td>\n",
       "      <td>190373</td>\n",
       "      <td>70</td>\n",
       "      <td>0</td>\n",
       "      <td>0.0</td>\n",
       "      <td>0.0</td>\n",
       "      <td>81000</td>\n",
       "      <td>5003</td>\n",
       "    </tr>\n",
       "    <tr>\n",
       "      <th>3</th>\n",
       "      <td>Towerstream</td>\n",
       "      <td>190373</td>\n",
       "      <td>70</td>\n",
       "      <td>0</td>\n",
       "      <td>0.0</td>\n",
       "      <td>0.0</td>\n",
       "      <td>81300</td>\n",
       "      <td>3001</td>\n",
       "    </tr>\n",
       "    <tr>\n",
       "      <th>4</th>\n",
       "      <td>Towerstream</td>\n",
       "      <td>190373</td>\n",
       "      <td>70</td>\n",
       "      <td>0</td>\n",
       "      <td>0.0</td>\n",
       "      <td>0.0</td>\n",
       "      <td>81500</td>\n",
       "      <td>2006</td>\n",
       "    </tr>\n",
       "  </tbody>\n",
       "</table>\n",
       "</div>"
      ],
      "text/plain": [
       "       DBAName  HocoNum  TechCode  Consumer  MaxAdDown  MaxAdUp  tract  block\n",
       "0  Towerstream   190373        70         0        0.0      0.0  20702   3015\n",
       "1  Towerstream   190373        70         0        0.0      0.0  80300   4005\n",
       "2  Towerstream   190373        70         0        0.0      0.0  81000   5003\n",
       "3  Towerstream   190373        70         0        0.0      0.0  81300   3001\n",
       "4  Towerstream   190373        70         0        0.0      0.0  81500   2006"
      ]
     },
     "execution_count": 3,
     "metadata": {},
     "output_type": "execute_result"
    }
   ],
   "source": [
    "# drop columns we don't need\n",
    "chi_fcc = chi_fcc.reset_index()[[\"DBAName\",\"HocoNum\",\"TechCode\",\"Consumer\",\"MaxAdDown\",\"MaxAdUp\",\"tract\",\"block\"]]\n",
    "chi_fcc.head()"
   ]
  },
  {
   "cell_type": "markdown",
   "id": "dffea9b4",
   "metadata": {},
   "source": [
    "This data includes satellite.\n",
    "\n",
    "From FCC documentation:\n",
    "- FRN: FCC registration number\n",
    "- DBAName: Name doing business as\n",
    "- HocoNum: holding company number\n",
    "- TechCode: technology of transmission (https://www.fcc.gov/general/technology-codes-used-fixed-broadband-deployment-data)\n",
    "- Consumer: (0/1) where 1 = Provider can or does offer consumer/mass market/residential service in the block\n",
    "- MaxAdDown: Maximum advertised downstream speed/bandwidth (in Mbps) offered by the provider in the block for Consumer service\n",
    "- MaxAdUp: Maximum advertised upstream speed/bandwidth (in Mbps) offered by the provider in the block for Consumer service\n",
    "\n",
    "One reason why it's a good idea for us to bring in technology of transmission is that providers submit one record per tract _per technology_ (along with that technology's up/down speed) (Source: FAQ https://transition.fcc.gov/form477/477faqs.pdf). "
   ]
  },
  {
   "cell_type": "code",
   "execution_count": null,
   "id": "9ce35b9f",
   "metadata": {},
   "outputs": [],
   "source": [
    "print(f\"Average proportion of total blocks with residential service offered per provider: {int(chi_fcc.Consumer.mean()*100)}%\")"
   ]
  },
  {
   "cell_type": "markdown",
   "id": "07ab90c6",
   "metadata": {},
   "source": [
    "The Consumer mean number doesn't tell us much. The reason is that, per the Form 477 instructions https://us-fcc.app.box.com/v/Form477Instructions, ISPs report \"all census blocks in which the filer (including affiliates) makes broadband connections available to end-user premises\". That means that ISPs DON'T report blocks that they don't make broadband connections available. So the 83% just means that in 17% of provider-block combinations, the provider makes broadband connections available but doesn't offer residential service; it doesn't tell us anything about the other providers who don't offer service. (Also note that providers don't have to report blocks where they offer non-broadband internet, defined as less than 200 kbps.)\n",
    "\n",
    "We don't want to include Consumer=0 blocks in our analysis; we're confining our analysis here to the speed of internet where it is at least offered residentially. So we'll filter our dataset to remove Consumer=0 rows. (Note that later on we will be able to see if there are populated Chicago-area blocks with no residential internet service.)"
   ]
  },
  {
   "cell_type": "code",
   "execution_count": null,
   "id": "acef2e88",
   "metadata": {},
   "outputs": [],
   "source": [
    "chi_fcc = chi_fcc[chi_fcc.Consumer==1][[\"DBAName\",\"HocoNum\",\"TechCode\",\"MaxAdDown\",\"MaxAdUp\",\"tract\",\"block\"]]\n",
    "chi_fcc"
   ]
  },
  {
   "cell_type": "code",
   "execution_count": null,
   "id": "f0affe53",
   "metadata": {},
   "outputs": [],
   "source": [
    "print(f\"Number of unique DBAS: {len(set(chi_fcc.DBAName))}\")\n",
    "print(f\"Number of unique holding companies: {len(set(chi_fcc.HocoNum))}\")\n",
    "print(f\"Number of tracts: {len(set(chi_fcc.tract))}\")\n",
    "print(f\"Number of blocks: {len(set(chi_fcc.block))}\")\n"
   ]
  },
  {
   "cell_type": "code",
   "execution_count": 4,
   "id": "5c77ea44",
   "metadata": {},
   "outputs": [
    {
     "data": {
      "text/plain": [
       "AT&T Illinois                        0.234521\n",
       "Viasat Inc                           0.129533\n",
       "VSAT Systems, LLC.                   0.128802\n",
       "GCI Communication Corp.              0.128802\n",
       "HughesNet                            0.128802\n",
       "                                       ...   \n",
       "Netwurx LLC                          0.000001\n",
       "Mid Century Communications           0.000001\n",
       "Windstream Norlight, Inc.            0.000001\n",
       "Workable Programs & Systems, Inc.    0.000001\n",
       "WIN                                  0.000001\n",
       "Name: DBAName, Length: 85, dtype: float64"
      ]
     },
     "execution_count": 4,
     "metadata": {},
     "output_type": "execute_result"
    }
   ],
   "source": [
    "# to look further at providers, we will remove rows representing one providers's multiple technologies in one block\n",
    "remove_tech = chi_fcc.drop(columns=[\"TechCode\"]).drop_duplicates()\n",
    "\n",
    "# proportion of each provider (by business name)\n",
    "remove_tech.DBAName.value_counts(normalize=True)\n",
    "# remove_tech.HocoNum.value_counts()\n",
    "# note: the above line returns essentially the same table; each DBA company has a unique holding company"
   ]
  },
  {
   "cell_type": "markdown",
   "id": "a35d811c",
   "metadata": {},
   "source": [
    "This indicates that there are 34 different companies offering broadband in the Chicago area. However, 8 companies make up more than 99% of the provider-block entries: AT&T Illinois, Viasat, VSAT, HughesNet, Comcast, T-Mobile, WOW, and RCN.\n",
    "\n",
    "Note: Unlike all the others, I can barely find anything about \"VSAT Systems, LLC.\" online. It also has precisely the same number of entries as HughesNet, which makes me wonder whether it's somehow related to them in a contractual relationship or something similar."
   ]
  },
  {
   "cell_type": "code",
   "execution_count": 5,
   "id": "85d4eff4",
   "metadata": {},
   "outputs": [],
   "source": [
    "# note we can drop holding companies column as we determined it's equivalent to DBA Name\n",
    "\n",
    "chi_fcc = chi_fcc[[\"DBAName\",\"TechCode\",\"MaxAdDown\",\"MaxAdUp\",\"tract\",\"block\"]]"
   ]
  },
  {
   "cell_type": "markdown",
   "id": "4256d5d2",
   "metadata": {},
   "source": [
    "Now let's take a closer look at the technologies involved."
   ]
  },
  {
   "cell_type": "code",
   "execution_count": 6,
   "id": "7f63b0be",
   "metadata": {},
   "outputs": [
    {
     "data": {
      "text/plain": [
       "60    0.517486\n",
       "43    0.116705\n",
       "11    0.107290\n",
       "12    0.078934\n",
       "70    0.063679\n",
       "50    0.049722\n",
       "42    0.033682\n",
       "10    0.023982\n",
       "30    0.008094\n",
       "41    0.000355\n",
       "20    0.000046\n",
       "40    0.000021\n",
       "0     0.000003\n",
       "Name: TechCode, dtype: float64"
      ]
     },
     "execution_count": 6,
     "metadata": {},
     "output_type": "execute_result"
    }
   ],
   "source": [
    "# to look further at technologies, we will remove rows representing one technology's multiple providers in one block\n",
    "remove_providers = chi_fcc.drop(columns=[\"DBAName\"]).drop_duplicates()\n",
    "\n",
    "# proportion of each TechCode (see next chunk for explanations)\n",
    "remove_providers.TechCode.value_counts(normalize=True)"
   ]
  },
  {
   "cell_type": "code",
   "execution_count": 7,
   "id": "ca5b713a",
   "metadata": {},
   "outputs": [
    {
     "data": {
      "text/html": [
       "<div>\n",
       "<style scoped>\n",
       "    .dataframe tbody tr th:only-of-type {\n",
       "        vertical-align: middle;\n",
       "    }\n",
       "\n",
       "    .dataframe tbody tr th {\n",
       "        vertical-align: top;\n",
       "    }\n",
       "\n",
       "    .dataframe thead th {\n",
       "        text-align: right;\n",
       "    }\n",
       "</style>\n",
       "<table border=\"1\" class=\"dataframe\">\n",
       "  <thead>\n",
       "    <tr style=\"text-align: right;\">\n",
       "      <th></th>\n",
       "      <th>MaxAdDown</th>\n",
       "      <th>MaxAdUp</th>\n",
       "      <th>% of total</th>\n",
       "    </tr>\n",
       "    <tr>\n",
       "      <th>TechCode</th>\n",
       "      <th></th>\n",
       "      <th></th>\n",
       "      <th></th>\n",
       "    </tr>\n",
       "  </thead>\n",
       "  <tbody>\n",
       "    <tr>\n",
       "      <th>satellite</th>\n",
       "      <td>18.0</td>\n",
       "      <td>2.0</td>\n",
       "      <td>51.75</td>\n",
       "    </tr>\n",
       "    <tr>\n",
       "      <th>cable modem (DOCSIS 3.1)</th>\n",
       "      <td>1000.0</td>\n",
       "      <td>34.0</td>\n",
       "      <td>11.67</td>\n",
       "    </tr>\n",
       "    <tr>\n",
       "      <th>copper line (ADSL)</th>\n",
       "      <td>16.0</td>\n",
       "      <td>1.0</td>\n",
       "      <td>10.73</td>\n",
       "    </tr>\n",
       "    <tr>\n",
       "      <th>copper line (VDSL)</th>\n",
       "      <td>84.0</td>\n",
       "      <td>17.0</td>\n",
       "      <td>7.89</td>\n",
       "    </tr>\n",
       "    <tr>\n",
       "      <th>terrestrial fixed wireless</th>\n",
       "      <td>35.0</td>\n",
       "      <td>12.0</td>\n",
       "      <td>6.37</td>\n",
       "    </tr>\n",
       "    <tr>\n",
       "      <th>optical fiber</th>\n",
       "      <td>531.0</td>\n",
       "      <td>531.0</td>\n",
       "      <td>4.97</td>\n",
       "    </tr>\n",
       "    <tr>\n",
       "      <th>cable modem (DOCSIS 3.0)</th>\n",
       "      <td>811.0</td>\n",
       "      <td>39.0</td>\n",
       "      <td>3.37</td>\n",
       "    </tr>\n",
       "    <tr>\n",
       "      <th>copper line (asym xDSL)</th>\n",
       "      <td>4.0</td>\n",
       "      <td>0.0</td>\n",
       "      <td>2.40</td>\n",
       "    </tr>\n",
       "    <tr>\n",
       "      <th>copper line (other)</th>\n",
       "      <td>1.0</td>\n",
       "      <td>1.0</td>\n",
       "      <td>0.81</td>\n",
       "    </tr>\n",
       "    <tr>\n",
       "      <th>cable modem (DOCSIS 1-2)</th>\n",
       "      <td>25.0</td>\n",
       "      <td>4.0</td>\n",
       "      <td>0.04</td>\n",
       "    </tr>\n",
       "    <tr>\n",
       "      <th>unknown</th>\n",
       "      <td>12.0</td>\n",
       "      <td>6.0</td>\n",
       "      <td>0.00</td>\n",
       "    </tr>\n",
       "    <tr>\n",
       "      <th>copper line (sym xDSL)</th>\n",
       "      <td>0.0</td>\n",
       "      <td>0.0</td>\n",
       "      <td>0.00</td>\n",
       "    </tr>\n",
       "    <tr>\n",
       "      <th>cable modem (other)</th>\n",
       "      <td>31.0</td>\n",
       "      <td>31.0</td>\n",
       "      <td>0.00</td>\n",
       "    </tr>\n",
       "  </tbody>\n",
       "</table>\n",
       "</div>"
      ],
      "text/plain": [
       "                            MaxAdDown  MaxAdUp  % of total\n",
       "TechCode                                                  \n",
       "satellite                        18.0      2.0       51.75\n",
       "cable modem (DOCSIS 3.1)       1000.0     34.0       11.67\n",
       "copper line (ADSL)               16.0      1.0       10.73\n",
       "copper line (VDSL)               84.0     17.0        7.89\n",
       "terrestrial fixed wireless       35.0     12.0        6.37\n",
       "optical fiber                   531.0    531.0        4.97\n",
       "cable modem (DOCSIS 3.0)        811.0     39.0        3.37\n",
       "copper line (asym xDSL)           4.0      0.0        2.40\n",
       "copper line (other)               1.0      1.0        0.81\n",
       "cable modem (DOCSIS 1-2)         25.0      4.0        0.04\n",
       "unknown                          12.0      6.0        0.00\n",
       "copper line (sym xDSL)            0.0      0.0        0.00\n",
       "cable modem (other)              31.0     31.0        0.00"
      ]
     },
     "execution_count": 7,
     "metadata": {},
     "output_type": "execute_result"
    }
   ],
   "source": [
    "fcc_grouptech = chi_fcc.groupby([\"TechCode\"])\n",
    "\n",
    "# average speeds by tech type\n",
    "tech_summary = round(fcc_grouptech.mean()[[\"MaxAdDown\",\"MaxAdUp\"]])\n",
    "\n",
    "# add the proportions of provider-blocks with technology\n",
    "tech_summary[\"% of total\"] = round(remove_providers.TechCode.value_counts(normalize=True).sort_index()*100,2)\n",
    "tech_summary = tech_summary.sort_values(by=[\"% of total\"],ascending=False)\n",
    "\n",
    "# rename for clarity\n",
    "tech_names = {\n",
    "    0: \"unknown\",10:\"copper line (asym xDSL)\",11:\"copper line (ADSL)\",12:\"copper line (VDSL)\",20:\"copper line (sym xDSL)\",30:\"copper line (other)\",\n",
    "    40:\"cable modem (other)\",41:\"cable modem (DOCSIS 1-2)\",42:\"cable modem (DOCSIS 3.0)\",43:\"cable modem (DOCSIS 3.1)\",50:\"optical fiber\",60:\"satellite\",70:\"terrestrial fixed wireless\"\n",
    "    }\n",
    "tech_summary = tech_summary.rename(index=tech_names)\n",
    "\n",
    "tech_summary"
   ]
  },
  {
   "cell_type": "markdown",
   "id": "b597d472",
   "metadata": {},
   "source": [
    "Clearly, technology type has a _big_ influence on internet speed. \n",
    "\n",
    "Also note that MaxAdDown and MaxAdUp generally track each other; optical fiber has *much* faster MaxAdUp than the other technology types.\n",
    "\n",
    "How much variation in internet speed is there among each technology?"
   ]
  },
  {
   "cell_type": "code",
   "execution_count": 8,
   "id": "158da487",
   "metadata": {},
   "outputs": [
    {
     "name": "stdout",
     "output_type": "stream",
     "text": [
      "Warning: Differently-scaled x axes\n"
     ]
    },
    {
     "data": {
      "image/png": "[encoded data removed]",
      "text/plain": [
       "<Figure size 720x720 with 8 Axes>"
      ]
     },
     "metadata": {
      "needs_background": "light"
     },
     "output_type": "display_data"
    }
   ],
   "source": [
    "print(\"Warning: Differently-scaled x axes\")\n",
    "\n",
    "plt.rcParams['figure.figsize'] = [10, 10]  # add more space\n",
    "fig, axes = plt.subplots(8, 1)\n",
    "chi_fcc[chi_fcc.TechCode==60].hist(\"MaxAdDown\",bins=range(0,50,1),ax=axes[0])\n",
    "chi_fcc[chi_fcc.TechCode==43].hist(\"MaxAdDown\",bins=range(0,2000,20),ax=axes[1])\n",
    "chi_fcc[chi_fcc.TechCode==11].hist(\"MaxAdDown\",bins=range(0,50,1),ax=axes[2])\n",
    "chi_fcc[chi_fcc.TechCode==12].hist(\"MaxAdDown\",bins=range(0,100,1),ax=axes[3])\n",
    "chi_fcc[chi_fcc.TechCode==70].hist(\"MaxAdDown\",bins=range(0,100,1),ax=axes[4])\n",
    "chi_fcc[chi_fcc.TechCode==42].hist(\"MaxAdDown\",bins=range(0,2000,20),ax=axes[5])\n",
    "chi_fcc[chi_fcc.TechCode==50].hist(\"MaxAdDown\",bins=range(0,2000,20),ax=axes[6])\n",
    "chi_fcc[chi_fcc.TechCode==10].hist(\"MaxAdDown\",bins=range(0,50,1),ax=axes[7])\n",
    "\n",
    "techs = [60,43,11,12,70,42,50,10]\n",
    "\n",
    "for i in range(0,8):\n",
    "    axes[i].set_title(tech_names[techs[i]])\n",
    "\n",
    "fig.tight_layout()\n"
   ]
  },
  {
   "cell_type": "markdown",
   "id": "9509f8d8",
   "metadata": {},
   "source": [
    "We can see that advertised speeds cluster into just a few levels for each technology type. \n",
    "\n",
    "Based on these results, we will create dummy variables for the following technology types:\n",
    "- legacy telephone line (ADSL and asym xDSL): slowest, 16%\n",
    "- satellite: slow, 46%\n",
    "- fixed wireless: slow, 8%\n",
    "- modern telephone line (VDSL): moderate speed, 9%\n",
    "- modern cable (DOCSIS 3.0 and 3.1): fast, 18%\n",
    "- fiber: fastest, 3%"
   ]
  },
  {
   "cell_type": "code",
   "execution_count": 9,
   "id": "f66ad7bb",
   "metadata": {},
   "outputs": [
    {
     "data": {
      "text/html": [
       "<div>\n",
       "<style scoped>\n",
       "    .dataframe tbody tr th:only-of-type {\n",
       "        vertical-align: middle;\n",
       "    }\n",
       "\n",
       "    .dataframe tbody tr th {\n",
       "        vertical-align: top;\n",
       "    }\n",
       "\n",
       "    .dataframe thead th {\n",
       "        text-align: right;\n",
       "    }\n",
       "</style>\n",
       "<table border=\"1\" class=\"dataframe\">\n",
       "  <thead>\n",
       "    <tr style=\"text-align: right;\">\n",
       "      <th></th>\n",
       "      <th>DBAName</th>\n",
       "      <th>TechCode</th>\n",
       "      <th>MaxAdDown</th>\n",
       "      <th>MaxAdUp</th>\n",
       "      <th>tract</th>\n",
       "      <th>block</th>\n",
       "      <th>legacy telephone</th>\n",
       "      <th>satellite</th>\n",
       "      <th>fixed wireless</th>\n",
       "      <th>modern telephone</th>\n",
       "      <th>modern cable</th>\n",
       "      <th>fiber</th>\n",
       "      <th>other internet</th>\n",
       "    </tr>\n",
       "  </thead>\n",
       "  <tbody>\n",
       "    <tr>\n",
       "      <th>0</th>\n",
       "      <td>Towerstream</td>\n",
       "      <td>70</td>\n",
       "      <td>0.0</td>\n",
       "      <td>0.0</td>\n",
       "      <td>20702</td>\n",
       "      <td>3015</td>\n",
       "      <td>False</td>\n",
       "      <td>False</td>\n",
       "      <td>True</td>\n",
       "      <td>False</td>\n",
       "      <td>False</td>\n",
       "      <td>False</td>\n",
       "      <td>False</td>\n",
       "    </tr>\n",
       "    <tr>\n",
       "      <th>1</th>\n",
       "      <td>Towerstream</td>\n",
       "      <td>70</td>\n",
       "      <td>0.0</td>\n",
       "      <td>0.0</td>\n",
       "      <td>80300</td>\n",
       "      <td>4005</td>\n",
       "      <td>False</td>\n",
       "      <td>False</td>\n",
       "      <td>True</td>\n",
       "      <td>False</td>\n",
       "      <td>False</td>\n",
       "      <td>False</td>\n",
       "      <td>False</td>\n",
       "    </tr>\n",
       "    <tr>\n",
       "      <th>2</th>\n",
       "      <td>Towerstream</td>\n",
       "      <td>70</td>\n",
       "      <td>0.0</td>\n",
       "      <td>0.0</td>\n",
       "      <td>81000</td>\n",
       "      <td>5003</td>\n",
       "      <td>False</td>\n",
       "      <td>False</td>\n",
       "      <td>True</td>\n",
       "      <td>False</td>\n",
       "      <td>False</td>\n",
       "      <td>False</td>\n",
       "      <td>False</td>\n",
       "    </tr>\n",
       "    <tr>\n",
       "      <th>3</th>\n",
       "      <td>Towerstream</td>\n",
       "      <td>70</td>\n",
       "      <td>0.0</td>\n",
       "      <td>0.0</td>\n",
       "      <td>81300</td>\n",
       "      <td>3001</td>\n",
       "      <td>False</td>\n",
       "      <td>False</td>\n",
       "      <td>True</td>\n",
       "      <td>False</td>\n",
       "      <td>False</td>\n",
       "      <td>False</td>\n",
       "      <td>False</td>\n",
       "    </tr>\n",
       "    <tr>\n",
       "      <th>4</th>\n",
       "      <td>Towerstream</td>\n",
       "      <td>70</td>\n",
       "      <td>0.0</td>\n",
       "      <td>0.0</td>\n",
       "      <td>81500</td>\n",
       "      <td>2006</td>\n",
       "      <td>False</td>\n",
       "      <td>False</td>\n",
       "      <td>True</td>\n",
       "      <td>False</td>\n",
       "      <td>False</td>\n",
       "      <td>False</td>\n",
       "      <td>False</td>\n",
       "    </tr>\n",
       "  </tbody>\n",
       "</table>\n",
       "</div>"
      ],
      "text/plain": [
       "       DBAName  TechCode  MaxAdDown  MaxAdUp  tract  block  legacy telephone  \\\n",
       "0  Towerstream        70        0.0      0.0  20702   3015             False   \n",
       "1  Towerstream        70        0.0      0.0  80300   4005             False   \n",
       "2  Towerstream        70        0.0      0.0  81000   5003             False   \n",
       "3  Towerstream        70        0.0      0.0  81300   3001             False   \n",
       "4  Towerstream        70        0.0      0.0  81500   2006             False   \n",
       "\n",
       "   satellite  fixed wireless  modern telephone  modern cable  fiber  \\\n",
       "0      False            True             False         False  False   \n",
       "1      False            True             False         False  False   \n",
       "2      False            True             False         False  False   \n",
       "3      False            True             False         False  False   \n",
       "4      False            True             False         False  False   \n",
       "\n",
       "   other internet  \n",
       "0           False  \n",
       "1           False  \n",
       "2           False  \n",
       "3           False  \n",
       "4           False  "
      ]
     },
     "execution_count": 9,
     "metadata": {},
     "output_type": "execute_result"
    }
   ],
   "source": [
    "tech_names = {\n",
    "    0: \"unknown\",10:\"copper line (asym xDSL)\",11:\"copper line (ADSL)\",12:\"copper line (VDSL)\",20:\"copper line (sym xDSL)\",30:\"copper line (other)\",\n",
    "    40:\"cable modem (other)\",41:\"cable modem (DOCSIS 1-2)\",42:\"cable modem (DOCSIS 3.0)\",43:\"cable modem (DOCSIS 3.1)\",50:\"optical fiber\",60:\"satellite\",70:\"terrestrial fixed wireless\"\n",
    "    }\n",
    "\n",
    "chi_fcc[\"legacy telephone\"] = (chi_fcc[\"TechCode\"]==10)  | (chi_fcc[\"TechCode\"]==11)\n",
    "chi_fcc[\"satellite\"] = chi_fcc[\"TechCode\"]==60\n",
    "chi_fcc[\"fixed wireless\"] = chi_fcc[\"TechCode\"]==70\n",
    "chi_fcc[\"modern telephone\"] = chi_fcc[\"TechCode\"]==12\n",
    "chi_fcc['modern cable'] = (chi_fcc[\"TechCode\"]==42) | (chi_fcc[\"TechCode\"]==43)\n",
    "chi_fcc['fiber'] = chi_fcc[\"TechCode\"]==50\n",
    "chi_fcc['other internet'] = (chi_fcc[\"TechCode\"]==0) | (chi_fcc[\"TechCode\"]==20) | (chi_fcc[\"TechCode\"]==30) | (chi_fcc[\"TechCode\"]==40)\n",
    "chi_fcc.head()\n",
    "\n",
    "# note that we now have a row per technology per provider per block"
   ]
  },
  {
   "cell_type": "code",
   "execution_count": 10,
   "id": "eb38ee3c",
   "metadata": {},
   "outputs": [],
   "source": [
    "# before aggregating by block, make sure we don't accidentally combine unique blocks from different tracts\n",
    "chi_fcc['block'] = chi_fcc['tract'].astype(str)+chi_fcc['block'].astype(str) # (be sure to only run this line once)"
   ]
  },
  {
   "cell_type": "code",
   "execution_count": 11,
   "id": "ba51bde8",
   "metadata": {},
   "outputs": [
    {
     "data": {
      "text/html": [
       "<div>\n",
       "<style scoped>\n",
       "    .dataframe tbody tr th:only-of-type {\n",
       "        vertical-align: middle;\n",
       "    }\n",
       "\n",
       "    .dataframe tbody tr th {\n",
       "        vertical-align: top;\n",
       "    }\n",
       "\n",
       "    .dataframe thead th {\n",
       "        text-align: right;\n",
       "    }\n",
       "</style>\n",
       "<table border=\"1\" class=\"dataframe\">\n",
       "  <thead>\n",
       "    <tr style=\"text-align: right;\">\n",
       "      <th></th>\n",
       "      <th>tract</th>\n",
       "      <th>legacy telephone</th>\n",
       "      <th>satellite</th>\n",
       "      <th>fixed wireless</th>\n",
       "      <th>modern telephone</th>\n",
       "      <th>modern cable</th>\n",
       "      <th>fiber</th>\n",
       "      <th>other internet</th>\n",
       "      <th>n_providers</th>\n",
       "    </tr>\n",
       "    <tr>\n",
       "      <th>block</th>\n",
       "      <th></th>\n",
       "      <th></th>\n",
       "      <th></th>\n",
       "      <th></th>\n",
       "      <th></th>\n",
       "      <th></th>\n",
       "      <th></th>\n",
       "      <th></th>\n",
       "      <th></th>\n",
       "    </tr>\n",
       "  </thead>\n",
       "  <tbody>\n",
       "    <tr>\n",
       "      <th>1001001000</th>\n",
       "      <td>100100</td>\n",
       "      <td>1</td>\n",
       "      <td>4</td>\n",
       "      <td>0</td>\n",
       "      <td>1</td>\n",
       "      <td>1</td>\n",
       "      <td>0</td>\n",
       "      <td>0</td>\n",
       "      <td>6</td>\n",
       "    </tr>\n",
       "    <tr>\n",
       "      <th>1001001001</th>\n",
       "      <td>100100</td>\n",
       "      <td>1</td>\n",
       "      <td>4</td>\n",
       "      <td>0</td>\n",
       "      <td>1</td>\n",
       "      <td>1</td>\n",
       "      <td>1</td>\n",
       "      <td>0</td>\n",
       "      <td>6</td>\n",
       "    </tr>\n",
       "    <tr>\n",
       "      <th>1001001002</th>\n",
       "      <td>100100</td>\n",
       "      <td>1</td>\n",
       "      <td>4</td>\n",
       "      <td>0</td>\n",
       "      <td>1</td>\n",
       "      <td>1</td>\n",
       "      <td>1</td>\n",
       "      <td>0</td>\n",
       "      <td>6</td>\n",
       "    </tr>\n",
       "    <tr>\n",
       "      <th>1001001003</th>\n",
       "      <td>100100</td>\n",
       "      <td>2</td>\n",
       "      <td>4</td>\n",
       "      <td>0</td>\n",
       "      <td>1</td>\n",
       "      <td>1</td>\n",
       "      <td>1</td>\n",
       "      <td>0</td>\n",
       "      <td>6</td>\n",
       "    </tr>\n",
       "    <tr>\n",
       "      <th>1001001004</th>\n",
       "      <td>100100</td>\n",
       "      <td>1</td>\n",
       "      <td>4</td>\n",
       "      <td>0</td>\n",
       "      <td>1</td>\n",
       "      <td>1</td>\n",
       "      <td>0</td>\n",
       "      <td>0</td>\n",
       "      <td>6</td>\n",
       "    </tr>\n",
       "    <tr>\n",
       "      <th>...</th>\n",
       "      <td>...</td>\n",
       "      <td>...</td>\n",
       "      <td>...</td>\n",
       "      <td>...</td>\n",
       "      <td>...</td>\n",
       "      <td>...</td>\n",
       "      <td>...</td>\n",
       "      <td>...</td>\n",
       "      <td>...</td>\n",
       "    </tr>\n",
       "    <tr>\n",
       "      <th>9801001006</th>\n",
       "      <td>980100</td>\n",
       "      <td>2</td>\n",
       "      <td>4</td>\n",
       "      <td>1</td>\n",
       "      <td>0</td>\n",
       "      <td>1</td>\n",
       "      <td>1</td>\n",
       "      <td>0</td>\n",
       "      <td>8</td>\n",
       "    </tr>\n",
       "    <tr>\n",
       "      <th>9801001007</th>\n",
       "      <td>980100</td>\n",
       "      <td>1</td>\n",
       "      <td>4</td>\n",
       "      <td>0</td>\n",
       "      <td>0</td>\n",
       "      <td>0</td>\n",
       "      <td>0</td>\n",
       "      <td>0</td>\n",
       "      <td>5</td>\n",
       "    </tr>\n",
       "    <tr>\n",
       "      <th>9801001008</th>\n",
       "      <td>980100</td>\n",
       "      <td>2</td>\n",
       "      <td>4</td>\n",
       "      <td>0</td>\n",
       "      <td>1</td>\n",
       "      <td>0</td>\n",
       "      <td>0</td>\n",
       "      <td>0</td>\n",
       "      <td>5</td>\n",
       "    </tr>\n",
       "    <tr>\n",
       "      <th>9801001009</th>\n",
       "      <td>980100</td>\n",
       "      <td>0</td>\n",
       "      <td>4</td>\n",
       "      <td>0</td>\n",
       "      <td>0</td>\n",
       "      <td>0</td>\n",
       "      <td>0</td>\n",
       "      <td>0</td>\n",
       "      <td>4</td>\n",
       "    </tr>\n",
       "    <tr>\n",
       "      <th>9801001010</th>\n",
       "      <td>980100</td>\n",
       "      <td>2</td>\n",
       "      <td>4</td>\n",
       "      <td>0</td>\n",
       "      <td>1</td>\n",
       "      <td>0</td>\n",
       "      <td>1</td>\n",
       "      <td>0</td>\n",
       "      <td>6</td>\n",
       "    </tr>\n",
       "  </tbody>\n",
       "</table>\n",
       "<p>98360 rows × 9 columns</p>\n",
       "</div>"
      ],
      "text/plain": [
       "             tract  legacy telephone  satellite  fixed wireless  \\\n",
       "block                                                             \n",
       "1001001000  100100                 1          4               0   \n",
       "1001001001  100100                 1          4               0   \n",
       "1001001002  100100                 1          4               0   \n",
       "1001001003  100100                 2          4               0   \n",
       "1001001004  100100                 1          4               0   \n",
       "...            ...               ...        ...             ...   \n",
       "9801001006  980100                 2          4               1   \n",
       "9801001007  980100                 1          4               0   \n",
       "9801001008  980100                 2          4               0   \n",
       "9801001009  980100                 0          4               0   \n",
       "9801001010  980100                 2          4               0   \n",
       "\n",
       "            modern telephone  modern cable  fiber  other internet  n_providers  \n",
       "block                                                                           \n",
       "1001001000                 1             1      0               0            6  \n",
       "1001001001                 1             1      1               0            6  \n",
       "1001001002                 1             1      1               0            6  \n",
       "1001001003                 1             1      1               0            6  \n",
       "1001001004                 1             1      0               0            6  \n",
       "...                      ...           ...    ...             ...          ...  \n",
       "9801001006                 0             1      1               0            8  \n",
       "9801001007                 0             0      0               0            5  \n",
       "9801001008                 1             0      0               0            5  \n",
       "9801001009                 0             0      0               0            4  \n",
       "9801001010                 1             0      1               0            6  \n",
       "\n",
       "[98360 rows x 9 columns]"
      ]
     },
     "execution_count": 11,
     "metadata": {},
     "output_type": "execute_result"
    }
   ],
   "source": [
    "fcc_groupblock = chi_fcc.groupby(['block'])\n",
    "\n",
    "# number of providers of each technology per block\n",
    "fcc_blocks = fcc_groupblock.sum()\n",
    "\n",
    "# number of providers total in each block\n",
    "fcc_blocks[\"n_providers\"] = fcc_groupblock[\"DBAName\"].nunique()\n",
    "\n",
    "# fix tract numbers\n",
    "fcc_blocks[\"tract\"] = fcc_groupblock[\"tract\"].first()\n",
    "\n",
    "# drop unneeded columns\n",
    "fcc_blocks = fcc_blocks[[\"tract\",\"legacy telephone\",\"satellite\",\"fixed wireless\",\"modern telephone\",\"modern cable\",\"fiber\",\"other internet\",\"n_providers\"]]\n",
    "\n",
    "fcc_blocks"
   ]
  },
  {
   "cell_type": "code",
   "execution_count": 12,
   "id": "a69d5e55",
   "metadata": {},
   "outputs": [
    {
     "name": "stdout",
     "output_type": "stream",
     "text": [
      "Mean providers per block: 6.72\n",
      "Median providers per block: 7.0\n",
      "Max providers per block: 33\n"
     ]
    },
    {
     "data": {
      "text/plain": [
       "<AxesSubplot:>"
      ]
     },
     "execution_count": 12,
     "metadata": {},
     "output_type": "execute_result"
    },
    {
     "data": {
      "image/png": "[encoded data removed]",
      "text/plain": [
       "<Figure size 720x720 with 1 Axes>"
      ]
     },
     "metadata": {
      "needs_background": "light"
     },
     "output_type": "display_data"
    }
   ],
   "source": [
    "print(f\"Mean providers per block: {round(fcc_blocks['n_providers'].mean(),2)}\")\n",
    "print(f\"Median providers per block: {round(fcc_blocks['n_providers'].median(),2)}\")\n",
    "print(f\"Max providers per block: {round(fcc_blocks['n_providers'].max(),2)}\")\n",
    "fcc_blocks['n_providers'].hist()"
   ]
  },
  {
   "cell_type": "code",
   "execution_count": 13,
   "id": "3b853abf",
   "metadata": {},
   "outputs": [
    {
     "name": "stdout",
     "output_type": "stream",
     "text": [
      "Percent of blocks with each technology\n"
     ]
    },
    {
     "data": {
      "text/plain": [
       "satellite           100.0\n",
       "legacy telephone     83.0\n",
       "fixed wireless       47.0\n",
       "modern telephone     61.0\n",
       "modern cable         86.0\n",
       "fiber                34.0\n",
       "other internet        6.0\n",
       "dtype: float64"
      ]
     },
     "execution_count": 13,
     "metadata": {},
     "output_type": "execute_result"
    }
   ],
   "source": [
    "print('Percent of blocks with each technology')\n",
    "round(fcc_blocks[[\n",
    "    \"satellite\",\"legacy telephone\",\"fixed wireless\",\"modern telephone\",\"modern cable\",\"fiber\",\"other internet\"\n",
    "    ]].astype(bool).sum(axis=0)/len(fcc_blocks)*100)"
   ]
  },
  {
   "cell_type": "code",
   "execution_count": 14,
   "id": "98c4bd7b",
   "metadata": {},
   "outputs": [
    {
     "name": "stdout",
     "output_type": "stream",
     "text": [
      "Average number of providers offering each technology where it's offered\n"
     ]
    },
    {
     "data": {
      "text/plain": [
       "satellite           3.98\n",
       "legacy telephone    1.22\n",
       "fixed wireless      1.05\n",
       "modern telephone    1.00\n",
       "modern cable        1.34\n",
       "fiber               1.17\n",
       "other internet      1.13\n",
       "dtype: float64"
      ]
     },
     "execution_count": 14,
     "metadata": {},
     "output_type": "execute_result"
    }
   ],
   "source": [
    "print(\"Average number of providers offering each technology where it's offered\")\n",
    "round(fcc_blocks[[\n",
    "    \"satellite\",\"legacy telephone\",\"fixed wireless\",\"modern telephone\",\"modern cable\",\"fiber\",\"other internet\"\n",
    "    ]].replace(0,np.NaN)  # don't include blocks where tech isn't offered in the mean\n",
    "    .mean(axis=0),2)"
   ]
  },
  {
   "cell_type": "markdown",
   "id": "84351c2b",
   "metadata": {},
   "source": [
    "_Insert later: block-level map_"
   ]
  },
  {
   "cell_type": "code",
   "execution_count": 15,
   "id": "9f6fa925",
   "metadata": {},
   "outputs": [
    {
     "data": {
      "text/html": [
       "<div>\n",
       "<style scoped>\n",
       "    .dataframe tbody tr th:only-of-type {\n",
       "        vertical-align: middle;\n",
       "    }\n",
       "\n",
       "    .dataframe tbody tr th {\n",
       "        vertical-align: top;\n",
       "    }\n",
       "\n",
       "    .dataframe thead th {\n",
       "        text-align: right;\n",
       "    }\n",
       "</style>\n",
       "<table border=\"1\" class=\"dataframe\">\n",
       "  <thead>\n",
       "    <tr style=\"text-align: right;\">\n",
       "      <th></th>\n",
       "      <th>tract</th>\n",
       "      <th>legacy telephone</th>\n",
       "      <th>satellite</th>\n",
       "      <th>fixed wireless</th>\n",
       "      <th>modern telephone</th>\n",
       "      <th>modern cable</th>\n",
       "      <th>fiber</th>\n",
       "      <th>other internet</th>\n",
       "      <th>n_providers</th>\n",
       "    </tr>\n",
       "  </thead>\n",
       "  <tbody>\n",
       "    <tr>\n",
       "      <th>0</th>\n",
       "      <td>10100</td>\n",
       "      <td>1.225806</td>\n",
       "      <td>4.000000</td>\n",
       "      <td>0.032258</td>\n",
       "      <td>0.774194</td>\n",
       "      <td>2.677419</td>\n",
       "      <td>0.258065</td>\n",
       "      <td>0.032258</td>\n",
       "      <td>7.064516</td>\n",
       "    </tr>\n",
       "    <tr>\n",
       "      <th>1</th>\n",
       "      <td>10201</td>\n",
       "      <td>1.238806</td>\n",
       "      <td>4.000000</td>\n",
       "      <td>0.402985</td>\n",
       "      <td>0.805970</td>\n",
       "      <td>2.626866</td>\n",
       "      <td>0.223881</td>\n",
       "      <td>0.000000</td>\n",
       "      <td>7.552239</td>\n",
       "    </tr>\n",
       "    <tr>\n",
       "      <th>2</th>\n",
       "      <td>10202</td>\n",
       "      <td>1.160000</td>\n",
       "      <td>4.000000</td>\n",
       "      <td>0.080000</td>\n",
       "      <td>0.200000</td>\n",
       "      <td>2.400000</td>\n",
       "      <td>0.520000</td>\n",
       "      <td>0.080000</td>\n",
       "      <td>7.480000</td>\n",
       "    </tr>\n",
       "    <tr>\n",
       "      <th>3</th>\n",
       "      <td>10300</td>\n",
       "      <td>1.306122</td>\n",
       "      <td>4.000000</td>\n",
       "      <td>0.265306</td>\n",
       "      <td>0.734694</td>\n",
       "      <td>2.612245</td>\n",
       "      <td>0.510204</td>\n",
       "      <td>0.000000</td>\n",
       "      <td>7.632653</td>\n",
       "    </tr>\n",
       "    <tr>\n",
       "      <th>4</th>\n",
       "      <td>10400</td>\n",
       "      <td>1.129032</td>\n",
       "      <td>3.903226</td>\n",
       "      <td>0.580645</td>\n",
       "      <td>0.741935</td>\n",
       "      <td>2.387097</td>\n",
       "      <td>0.290323</td>\n",
       "      <td>0.000000</td>\n",
       "      <td>7.354839</td>\n",
       "    </tr>\n",
       "    <tr>\n",
       "      <th>...</th>\n",
       "      <td>...</td>\n",
       "      <td>...</td>\n",
       "      <td>...</td>\n",
       "      <td>...</td>\n",
       "      <td>...</td>\n",
       "      <td>...</td>\n",
       "      <td>...</td>\n",
       "      <td>...</td>\n",
       "      <td>...</td>\n",
       "    </tr>\n",
       "    <tr>\n",
       "      <th>1313</th>\n",
       "      <td>843700</td>\n",
       "      <td>1.032258</td>\n",
       "      <td>4.000000</td>\n",
       "      <td>0.290323</td>\n",
       "      <td>0.532258</td>\n",
       "      <td>1.370968</td>\n",
       "      <td>1.145161</td>\n",
       "      <td>0.048387</td>\n",
       "      <td>6.806452</td>\n",
       "    </tr>\n",
       "    <tr>\n",
       "      <th>1314</th>\n",
       "      <td>843800</td>\n",
       "      <td>1.000000</td>\n",
       "      <td>4.000000</td>\n",
       "      <td>0.619565</td>\n",
       "      <td>0.521739</td>\n",
       "      <td>0.934783</td>\n",
       "      <td>0.293478</td>\n",
       "      <td>0.000000</td>\n",
       "      <td>6.804348</td>\n",
       "    </tr>\n",
       "    <tr>\n",
       "      <th>1315</th>\n",
       "      <td>843900</td>\n",
       "      <td>1.052632</td>\n",
       "      <td>3.736842</td>\n",
       "      <td>0.526316</td>\n",
       "      <td>0.543860</td>\n",
       "      <td>0.666667</td>\n",
       "      <td>0.350877</td>\n",
       "      <td>0.000000</td>\n",
       "      <td>6.087719</td>\n",
       "    </tr>\n",
       "    <tr>\n",
       "      <th>1316</th>\n",
       "      <td>980000</td>\n",
       "      <td>0.194175</td>\n",
       "      <td>4.000000</td>\n",
       "      <td>0.427184</td>\n",
       "      <td>0.029126</td>\n",
       "      <td>0.184466</td>\n",
       "      <td>0.116505</td>\n",
       "      <td>0.155340</td>\n",
       "      <td>5.009709</td>\n",
       "    </tr>\n",
       "    <tr>\n",
       "      <th>1317</th>\n",
       "      <td>980100</td>\n",
       "      <td>1.000000</td>\n",
       "      <td>4.000000</td>\n",
       "      <td>0.181818</td>\n",
       "      <td>0.363636</td>\n",
       "      <td>0.272727</td>\n",
       "      <td>0.636364</td>\n",
       "      <td>0.090909</td>\n",
       "      <td>5.636364</td>\n",
       "    </tr>\n",
       "  </tbody>\n",
       "</table>\n",
       "<p>1318 rows × 9 columns</p>\n",
       "</div>"
      ],
      "text/plain": [
       "       tract  legacy telephone  satellite  fixed wireless  modern telephone  \\\n",
       "0      10100          1.225806   4.000000        0.032258          0.774194   \n",
       "1      10201          1.238806   4.000000        0.402985          0.805970   \n",
       "2      10202          1.160000   4.000000        0.080000          0.200000   \n",
       "3      10300          1.306122   4.000000        0.265306          0.734694   \n",
       "4      10400          1.129032   3.903226        0.580645          0.741935   \n",
       "...      ...               ...        ...             ...               ...   \n",
       "1313  843700          1.032258   4.000000        0.290323          0.532258   \n",
       "1314  843800          1.000000   4.000000        0.619565          0.521739   \n",
       "1315  843900          1.052632   3.736842        0.526316          0.543860   \n",
       "1316  980000          0.194175   4.000000        0.427184          0.029126   \n",
       "1317  980100          1.000000   4.000000        0.181818          0.363636   \n",
       "\n",
       "      modern cable     fiber  other internet  n_providers  \n",
       "0         2.677419  0.258065        0.032258     7.064516  \n",
       "1         2.626866  0.223881        0.000000     7.552239  \n",
       "2         2.400000  0.520000        0.080000     7.480000  \n",
       "3         2.612245  0.510204        0.000000     7.632653  \n",
       "4         2.387097  0.290323        0.000000     7.354839  \n",
       "...            ...       ...             ...          ...  \n",
       "1313      1.370968  1.145161        0.048387     6.806452  \n",
       "1314      0.934783  0.293478        0.000000     6.804348  \n",
       "1315      0.666667  0.350877        0.000000     6.087719  \n",
       "1316      0.184466  0.116505        0.155340     5.009709  \n",
       "1317      0.272727  0.636364        0.090909     5.636364  \n",
       "\n",
       "[1318 rows x 9 columns]"
      ]
     },
     "execution_count": 15,
     "metadata": {},
     "output_type": "execute_result"
    }
   ],
   "source": [
    "fcc_grouptract = fcc_blocks.groupby('tract')\n",
    "\n",
    "fcc_tracts = fcc_grouptract.mean().reset_index()\n",
    "\n",
    "fcc_tracts"
   ]
  },
  {
   "cell_type": "code",
   "execution_count": 16,
   "id": "2e5753e0",
   "metadata": {},
   "outputs": [
    {
     "ename": "TypeError",
     "evalue": "simple_map() missing 1 required positional argument: 'title'",
     "output_type": "error",
     "traceback": [
      "\u001b[0;31m---------------------------------------------------------------------------\u001b[0m",
      "\u001b[0;31mTypeError\u001b[0m                                 Traceback (most recent call last)",
      "\u001b[0;32m/var/folders/h2/1dptmntx7cqcbm48dz37csk00000gn/T/ipykernel_55862/3249513663.py\u001b[0m in \u001b[0;36m<module>\u001b[0;34m\u001b[0m\n\u001b[0;32m----> 1\u001b[0;31m \u001b[0mso\u001b[0m\u001b[0;34m.\u001b[0m\u001b[0msimple_map\u001b[0m\u001b[0;34m(\u001b[0m\u001b[0mfcc_tracts\u001b[0m\u001b[0;34m,\u001b[0m\u001b[0;34m'n_providers'\u001b[0m\u001b[0;34m,\u001b[0m\u001b[0;34m'tract'\u001b[0m\u001b[0;34m)\u001b[0m\u001b[0;34m\u001b[0m\u001b[0;34m\u001b[0m\u001b[0m\n\u001b[0m\u001b[1;32m      2\u001b[0m \u001b[0;34m\u001b[0m\u001b[0m\n\u001b[1;32m      3\u001b[0m \u001b[0;31m# clearly we have an imperfect matching in tract names that we'll have to resolve\u001b[0m\u001b[0;34m\u001b[0m\u001b[0;34m\u001b[0m\u001b[0;34m\u001b[0m\u001b[0m\n",
      "\u001b[0;31mTypeError\u001b[0m: simple_map() missing 1 required positional argument: 'title'"
     ]
    }
   ],
   "source": [
    "so.simple_map(fcc_tracts,'n_providers','tract')\n",
    "\n",
    "# clearly we have an imperfect matching in tract names that we'll have to resolve"
   ]
  },
  {
   "cell_type": "code",
   "execution_count": null,
   "id": "18828571",
   "metadata": {},
   "outputs": [],
   "source": [
    "so.simple_map(fcc_tracts,'legacy telephone','tract')"
   ]
  },
  {
   "cell_type": "code",
   "execution_count": null,
   "id": "6915bb8e",
   "metadata": {},
   "outputs": [],
   "source": [
    "so.simple_map(fcc_tracts,'satellite','tract')\n"
   ]
  },
  {
   "cell_type": "code",
   "execution_count": null,
   "id": "0ef6158e",
   "metadata": {},
   "outputs": [],
   "source": [
    "so.simple_map(fcc_tracts,'fixed wireless','tract')"
   ]
  },
  {
   "cell_type": "code",
   "execution_count": null,
   "id": "5bec8a16",
   "metadata": {},
   "outputs": [],
   "source": [
    "so.simple_map(fcc_tracts,'modern telephone','tract')"
   ]
  },
  {
   "cell_type": "code",
   "execution_count": null,
   "id": "ad81f913",
   "metadata": {},
   "outputs": [],
   "source": [
    "so.simple_map(fcc_tracts,'modern cable','tract')"
   ]
  },
  {
   "cell_type": "code",
   "execution_count": null,
   "id": "af3b89f9",
   "metadata": {},
   "outputs": [],
   "source": [
    "so.simple_map(fcc_tracts,'fiber','tract')\n"
   ]
  },
  {
   "cell_type": "markdown",
   "id": "3f5381df",
   "metadata": {},
   "source": [
    "##### [Old] Tract-level analysis"
   ]
  },
  {
   "cell_type": "markdown",
   "id": "3f498f57",
   "metadata": {},
   "source": [
    "We have 1319 tracts with an average of ~480 data points per tract."
   ]
  },
  {
   "cell_type": "code",
   "execution_count": null,
   "id": "5c9700f8",
   "metadata": {},
   "outputs": [],
   "source": [
    "fcc_grouped = chi_fcc.groupby(['tract'])\n",
    "fcc_grouped.count()"
   ]
  },
  {
   "cell_type": "code",
   "execution_count": null,
   "id": "fcab2d85",
   "metadata": {},
   "outputs": [],
   "source": [
    "# We'll use median advertised speeds for tract aggregation (outliers less important)\n",
    "fcc_tracts = fcc_grouped.median()\n",
    "# also, we can drop the Consumer column at this point\n",
    "fcc_tracts = fcc_tracts[[\"MaxAdDown\",\"MaxAdUp\"]]\n",
    "fcc_tracts"
   ]
  },
  {
   "cell_type": "code",
   "execution_count": null,
   "id": "9478107b",
   "metadata": {},
   "outputs": [],
   "source": [
    "print(f\"Median block advertised downstream speed: {fcc_tracts.MaxAdDown.median()} Mbps\")\n",
    "print(f\"Median block advertised upstream speed: {fcc_tracts.MaxAdUp.median()} Mbps\")"
   ]
  },
  {
   "cell_type": "markdown",
   "id": "77c06c0e",
   "metadata": {},
   "source": [
    "Let's look at some histograms of what the median advertised speed looks like."
   ]
  },
  {
   "cell_type": "code",
   "execution_count": null,
   "id": "59090836",
   "metadata": {},
   "outputs": [],
   "source": [
    "median_tract_down = plt.hist(fcc_tracts.MaxAdDown,bins=range(0,120,1))"
   ]
  },
  {
   "cell_type": "code",
   "execution_count": null,
   "id": "7fc9a2f6",
   "metadata": {},
   "outputs": [],
   "source": [
    "median_tract_up = plt.hist(fcc_tracts.MaxAdUp,bins=range(0,10,1))"
   ]
  },
  {
   "cell_type": "markdown",
   "id": "6c1557e9",
   "metadata": {},
   "source": [
    "That's not very exciting. It is fairly interesting, though, in that it demonstrates the very large majority of Chicago tracts have pretty much the same median advertised speed.\n",
    "\n",
    "How much variation at a block level are we losing with our median estimates?"
   ]
  },
  {
   "cell_type": "code",
   "execution_count": null,
   "id": "1587dcd4",
   "metadata": {},
   "outputs": [],
   "source": [
    "# this are all block/technology/providers\n",
    "median_block_down = plt.hist(chi_fcc.MaxAdDown,bins=range(0,1500,10))"
   ]
  },
  {
   "cell_type": "markdown",
   "id": "d625ebed",
   "metadata": {},
   "source": [
    "Answer: A lot, clearly! "
   ]
  },
  {
   "cell_type": "markdown",
   "id": "cb5fbca7",
   "metadata": {},
   "source": [
    "A final note: It would be nice to have access to the FCC's Fixed Broadband Subscription data, which they also require to be filed and which lists the actual # of customers. But it's not publicly available.\n",
    "\n",
    "Also note that the FCC's map of Form 477 Broadband Deployment is quite nice: https://broadbandmap.fcc.gov/#/location-summary?version=dec2020&lat=41.789403&lon=-87.599576&tech=acfosw&speed=25_3&vlat=41.78958400043072&vlon=-87.599651&vzoom=18.74542480573349"
   ]
  },
  {
   "cell_type": "code",
   "execution_count": null,
   "id": "f365139f",
   "metadata": {},
   "outputs": [],
   "source": [
    "test = pd.read_csv('data/chicago_internet.csv')"
   ]
  },
  {
   "cell_type": "code",
   "execution_count": null,
   "id": "76322ecd",
   "metadata": {},
   "outputs": [],
   "source": [
    "test[\"community_area\"]=[i.upper() for i in test[\"name\"]]\n",
    "test"
   ]
  },
  {
   "cell_type": "code",
   "execution_count": null,
   "id": "af3aa093",
   "metadata": {},
   "outputs": [],
   "source": [
    "so.simple_map(test,'hh_internet(%)','community_area','Percent of Households with Internet by Community Area')"
   ]
  }
 ],
 "metadata": {
  "kernelspec": {
   "display_name": "Python 3 (ipykernel)",
   "language": "python",
   "name": "python3"
  },
  "language_info": {
   "codemirror_mode": {
    "name": "ipython",
    "version": 3
   },
   "file_extension": ".py",
   "mimetype": "text/x-python",
   "name": "python",
   "nbconvert_exporter": "python",
   "pygments_lexer": "ipython3",
   "version": "3.8.2"
  }
 },
 "nbformat": 4,
 "nbformat_minor": 5
}
