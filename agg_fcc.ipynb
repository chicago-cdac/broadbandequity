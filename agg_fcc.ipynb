{
 "cells": [
  {
   "cell_type": "markdown",
   "id": "91a03138",
   "metadata": {},
   "source": [
    "### FCC Data, Community Areas"
   ]
  },
  {
   "cell_type": "markdown",
   "id": "47749f4a",
   "metadata": {},
   "source": [
    "###### Importing Libraries"
   ]
  },
  {
   "cell_type": "code",
   "execution_count": 1,
   "id": "ff0a75d5",
   "metadata": {},
   "outputs": [],
   "source": [
    "import pandas as pd\n",
    "import numpy as np\n",
    "import matplotlib.pyplot as plt"
   ]
  },
  {
   "cell_type": "markdown",
   "id": "251f5afc",
   "metadata": {},
   "source": [
    "###### Importing Chicago FCC data"
   ]
  },
  {
   "cell_type": "markdown",
   "id": "4ee7d3ad",
   "metadata": {},
   "source": [
    "First, we use the FCC IL Dec 2020 csv file (which can be found [here](https://us-fcc.app.box.com/v/IL-Dec2020-v1)). Since it is a large file and we only want data on Chicago, we filter for Cook County data only and then export it as a new csv file which is saved in the \"data\" folder. **DO NOT RUN THE FOLLOWING CHUNKS OF CODE!!!**"
   ]
  },
  {
   "cell_type": "code",
   "execution_count": null,
   "id": "41721a01",
   "metadata": {},
   "outputs": [],
   "source": [
    "# FCC IL\n",
    "\n",
    "fcc_df = pd.read_csv(\"data/IL-Fixed-Dec2020-v1.csv\",\n",
    "                     index_col=0,parse_dates=[0])"
   ]
  },
  {
   "cell_type": "code",
   "execution_count": null,
   "id": "da9a540c",
   "metadata": {},
   "outputs": [],
   "source": [
    "#changing BlockCode column to string type\n",
    "\n",
    "fcc_df['BlockCode']=fcc_df['BlockCode'].astype(str)"
   ]
  },
  {
   "cell_type": "code",
   "execution_count": null,
   "id": "b99cb218",
   "metadata": {},
   "outputs": [],
   "source": [
    "# Extracting state, county, tract, block numbers from BlockCode column\n",
    "# IL state=17\n",
    "# Cook County=031\n",
    "\n",
    "fcc_df['state'] = fcc_df['BlockCode'].str[:2]\n",
    "fcc_df['county'] = fcc_df['BlockCode'].str[2:5]\n",
    "fcc_df['tract'] = fcc_df['BlockCode'].str[5:11]\n",
    "fcc_df['block'] = fcc_df['BlockCode'].str[-4:]"
   ]
  },
  {
   "cell_type": "code",
   "execution_count": null,
   "id": "650b8efe",
   "metadata": {},
   "outputs": [],
   "source": [
    "# Filtering for Cook County only \n",
    "# 763788 rows\n",
    "\n",
    "chi_fcc = fcc_df[(fcc_df.county == \"031\")]"
   ]
  },
  {
   "cell_type": "code",
   "execution_count": null,
   "id": "957ac475",
   "metadata": {},
   "outputs": [],
   "source": [
    "# dropping columns we don't need to make the file smaller\n",
    "\n",
    "chi_fcc=chi_fcc[['ProviderName', 'Consumer', \n",
    "                 'MaxAdDown','MaxAdUp','tract']]\n",
    "chi_fcc['tract']=chi_fcc['tract'].astype(float)"
   ]
  },
  {
   "cell_type": "code",
   "execution_count": null,
   "id": "1ce382e2",
   "metadata": {},
   "outputs": [],
   "source": [
    "# export final dataframe to csv file\n",
    "\n",
    "chi_fcc.to_csv(r'data/chi_fcc.csv', index = False)"
   ]
  },
  {
   "cell_type": "code",
   "execution_count": null,
   "id": "729b5bbb",
   "metadata": {},
   "outputs": [],
   "source": [
    "# final dataframe looks like this\n",
    "chi_fcc.head(5)"
   ]
  },
  {
   "cell_type": "markdown",
   "id": "8ebd00f8",
   "metadata": {},
   "source": [
    "Run this code to load the Chicago FCC data.  "
   ]
  },
  {
   "cell_type": "code",
   "execution_count": null,
   "id": "7c0d3992",
   "metadata": {},
   "outputs": [],
   "source": [
    "# Chicago FCC data\n",
    "\n",
    "chi_fcc = pd.read_csv(\"data/chi_fcc.csv\",index_col=0,parse_dates=[0])\n",
    "chi_fcc.head(5)"
   ]
  },
  {
   "cell_type": "code",
   "execution_count": null,
   "id": "1ab8c4fc",
   "metadata": {},
   "outputs": [],
   "source": []
  }
 ],
 "metadata": {
  "kernelspec": {
   "display_name": "Python 3 (ipykernel)",
   "language": "python",
   "name": "python3"
  },
  "language_info": {
   "codemirror_mode": {
    "name": "ipython",
    "version": 3
   },
   "file_extension": ".py",
   "mimetype": "text/x-python",
   "name": "python",
   "nbconvert_exporter": "python",
   "pygments_lexer": "ipython3",
   "version": "3.9.10"
  }
 },
 "nbformat": 4,
 "nbformat_minor": 5
}
