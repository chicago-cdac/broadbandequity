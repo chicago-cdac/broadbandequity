{
 "cells": [
  {
   "cell_type": "code",
   "execution_count": 1,
   "metadata": {},
   "outputs": [],
   "source": [
    "import fetch_fcc_data"
   ]
  },
  {
   "cell_type": "code",
   "execution_count": 6,
   "metadata": {},
   "outputs": [],
   "source": [
    "data = fetch_fcc_data.fcc_fixed()"
   ]
  },
  {
   "cell_type": "code",
   "execution_count": 7,
   "metadata": {},
   "outputs": [
    {
     "name": "stdout",
     "output_type": "stream",
     "text": [
      "      logrecno  provider_id      frn                             providername  \\\n",
      "0     22373899        72470  3733847  Oregon Farmers Mutual Telephone Company   \n",
      "1     22373900        72470  3733847  Oregon Farmers Mutual Telephone Company   \n",
      "2     22373901        72470  3733847  Oregon Farmers Mutual Telephone Company   \n",
      "3     22373902        72470  3733847  Oregon Farmers Mutual Telephone Company   \n",
      "4     22373903        72470  3733847  Oregon Farmers Mutual Telephone Company   \n",
      "...        ...          ...      ...                                      ...   \n",
      "4994  22378893        72474  4329033               Action Communications Inc.   \n",
      "4995  22378894        72474  4329033               Action Communications Inc.   \n",
      "4996  22378895        72474  4329033               Action Communications Inc.   \n",
      "4997  22378896        72474  4329033               Action Communications Inc.   \n",
      "4998  22378897        72474  4329033               Action Communications Inc.   \n",
      "\n",
      "                                      dbaname  \\\n",
      "0     Oregon Farmers Mutual Telephone Company   \n",
      "1     Oregon Farmers Mutual Telephone Company   \n",
      "2     Oregon Farmers Mutual Telephone Company   \n",
      "3     Oregon Farmers Mutual Telephone Company   \n",
      "4     Oregon Farmers Mutual Telephone Company   \n",
      "...                                       ...   \n",
      "4994                    Action Communications   \n",
      "4995                    Action Communications   \n",
      "4996                    Action Communications   \n",
      "4997                    Action Communications   \n",
      "4998                    Action Communications   \n",
      "\n",
      "                   holdingcompanyname  hoconum  \\\n",
      "0     Townes Telecommunications, Inc.   131362   \n",
      "1     Townes Telecommunications, Inc.   131362   \n",
      "2     Townes Telecommunications, Inc.   131362   \n",
      "3     Townes Telecommunications, Inc.   131362   \n",
      "4     Townes Telecommunications, Inc.   131362   \n",
      "...                               ...      ...   \n",
      "4994      Action Communications, Inc.   130010   \n",
      "4995      Action Communications, Inc.   130010   \n",
      "4996      Action Communications, Inc.   130010   \n",
      "4997      Action Communications, Inc.   130010   \n",
      "4998      Action Communications, Inc.   130010   \n",
      "\n",
      "                            hocofinal stateabbr        blockcode  techcode  \\\n",
      "0     Townes Telecommunications, Inc.        MO  290879603001005        10   \n",
      "1     Townes Telecommunications, Inc.        MO  290879601002191        10   \n",
      "2     Townes Telecommunications, Inc.        MO  290879601002181        10   \n",
      "3     Townes Telecommunications, Inc.        MO  290879601002201        10   \n",
      "4     Townes Telecommunications, Inc.        MO  290879601002200        10   \n",
      "...                               ...       ...              ...       ...   \n",
      "4994      Action Communications, Inc.        NE  311579531003421        70   \n",
      "4995      Action Communications, Inc.        NE  311579531003422        70   \n",
      "4996      Action Communications, Inc.        NE  311579531003423        70   \n",
      "4997      Action Communications, Inc.        NE  311579531003424        70   \n",
      "4998      Action Communications, Inc.        NE  311579531003425        70   \n",
      "\n",
      "      consumer  maxaddown  maxadup  business  \n",
      "0            1          4      1.0         1  \n",
      "1            1          4      1.0         1  \n",
      "2            1          4      1.0         1  \n",
      "3            1          4      1.0         1  \n",
      "4            1          4      1.0         1  \n",
      "...        ...        ...      ...       ...  \n",
      "4994         1         31     31.0         1  \n",
      "4995         1         31     31.0         1  \n",
      "4996         1         31     31.0         1  \n",
      "4997         1         31     31.0         1  \n",
      "4998         1         31     31.0         1  \n",
      "\n",
      "[4999 rows x 15 columns]\n"
     ]
    }
   ],
   "source": [
    "print(data)"
   ]
  }
 ],
 "metadata": {
  "interpreter": {
   "hash": "2c0ede56a6e93381f438fab1eeab536a5e62764838d874be2a919b994a330efb"
  },
  "kernelspec": {
   "display_name": "Python 3.8.9 64-bit ('env': venv)",
   "language": "python",
   "name": "python3"
  },
  "language_info": {
   "codemirror_mode": {
    "name": "ipython",
    "version": 3
   },
   "file_extension": ".py",
   "mimetype": "text/x-python",
   "name": "python",
   "nbconvert_exporter": "python",
   "pygments_lexer": "ipython3",
   "version": "3.8.9"
  },
  "orig_nbformat": 4
 },
 "nbformat": 4,
 "nbformat_minor": 2
}
