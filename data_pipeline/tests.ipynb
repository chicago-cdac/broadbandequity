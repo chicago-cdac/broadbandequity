{
 "cells": [
  {
   "cell_type": "code",
   "execution_count": 1,
   "metadata": {},
   "outputs": [],
   "source": [
    "import geopandas as gpd\n",
    "import pandas as pd\n",
    "import numpy as np\n",
    "import matplotlib.pyplot as plt\n",
    "%matplotlib inline"
   ]
  },
  {
   "cell_type": "code",
   "execution_count": 6,
   "metadata": {},
   "outputs": [],
   "source": [
    "import fetch_census_data\n",
    "import spatial_operations"
   ]
  },
  {
   "cell_type": "code",
   "execution_count": 7,
   "metadata": {},
   "outputs": [],
   "source": [
    "data = fetch_census_data.acs5_aggregate()"
   ]
  },
  {
   "cell_type": "code",
   "execution_count": null,
   "metadata": {},
   "outputs": [],
   "source": [
    "data.head()"
   ]
  },
  {
   "cell_type": "code",
   "execution_count": null,
   "metadata": {},
   "outputs": [],
   "source": [
    "spatial_operations.map(data,'estimated total population','tract')"
   ]
  },
  {
   "cell_type": "code",
   "execution_count": null,
   "metadata": {},
   "outputs": [],
   "source": [
    "community_area_data = spatial_operations.aggregate(data,{'estimated total population' : 'areal sum'},'tract','community_area')\n",
    "community_area_data.head()"
   ]
  },
  {
   "cell_type": "markdown",
   "metadata": {},
   "source": [
    "Note: these community area estimates are very close to the \"actual\" populations per online. The most populous neighborhoods are Near North Side, Lakeview, and Austin, which are also the brightest colors in the map below."
   ]
  },
  {
   "cell_type": "code",
   "execution_count": null,
   "metadata": {},
   "outputs": [],
   "source": [
    "spatial_operations.map(community_area_data,'estimated total population','community_area')"
   ]
  },
  {
   "cell_type": "markdown",
   "metadata": {},
   "source": [
    "Now let's try for an intensive variable (population density)."
   ]
  },
  {
   "cell_type": "code",
   "execution_count": 8,
   "metadata": {},
   "outputs": [],
   "source": [
    "# at this point, let's make data a geodataframe (which narrows it to Chicago tracts, because those are all we have in the shapefile)\n",
    "data = spatial_operations.geographize(data,'tract')"
   ]
  },
  {
   "cell_type": "code",
   "execution_count": null,
   "metadata": {},
   "outputs": [],
   "source": [
    "# create population density variable\n",
    "data['population density']=data['estimated total population']/data.area"
   ]
  },
  {
   "cell_type": "code",
   "execution_count": null,
   "metadata": {},
   "outputs": [],
   "source": [
    "variables = {'estimated total population' : 'areal sum', 'population density' : 'areal mean'}\n",
    "new_community_area_data = spatial_operations.aggregate(data,variables,'tract','community_area')\n",
    "new_community_area_data.head()"
   ]
  },
  {
   "cell_type": "code",
   "execution_count": null,
   "metadata": {},
   "outputs": [],
   "source": [
    "spatial_operations.map(new_community_area_data,'population density','community_area')"
   ]
  },
  {
   "cell_type": "code",
   "execution_count": null,
   "metadata": {},
   "outputs": [],
   "source": [
    "community_area_data = spatial_operations.geographize(community_area_data,'community_area')"
   ]
  },
  {
   "cell_type": "code",
   "execution_count": null,
   "metadata": {},
   "outputs": [],
   "source": [
    "# let's compare that map to what we get if we calculate population density directly from population at the community level\n",
    "# (rather than calculating at tract level and THEN aggregating like we just did)\n",
    "community_area_data['population density']=community_area_data['estimated total population']/community_area_data.area\n",
    "spatial_operations.map(community_area_data,'population density','community_area')"
   ]
  },
  {
   "cell_type": "code",
   "execution_count": 41,
   "metadata": {},
   "outputs": [],
   "source": [
    "from ipyleaflet import Map, GeoData,LayersControl"
   ]
  },
  {
   "cell_type": "code",
   "execution_count": 50,
   "metadata": {},
   "outputs": [],
   "source": [
    "test = GeoData(geo_dataframe=data,name='Tracts',hover_style={'fillColor': 'red' , 'fillOpacity': 0.2})"
   ]
  },
  {
   "cell_type": "code",
   "execution_count": 51,
   "metadata": {},
   "outputs": [],
   "source": [
    "m = Map(center=(41.84,-87.6),zoom = 10)\n",
    "m.add_layer(test)\n",
    "m.add_control(LayersControl())"
   ]
  },
  {
   "cell_type": "code",
   "execution_count": 52,
   "metadata": {},
   "outputs": [
    {
     "data": {
      "application/vnd.jupyter.widget-view+json": {
       "model_id": "80bf7f12ff264c1f86527649963270c1",
       "version_major": 2,
       "version_minor": 0
      },
      "text/plain": [
       "Map(center=[41.84, -87.6], controls=(ZoomControl(options=['position', 'zoom_in_text', 'zoom_in_title', 'zoom_o…"
      ]
     },
     "metadata": {},
     "output_type": "display_data"
    }
   ],
   "source": [
    "m"
   ]
  }
 ],
 "metadata": {
  "interpreter": {
   "hash": "2c0ede56a6e93381f438fab1eeab536a5e62764838d874be2a919b994a330efb"
  },
  "kernelspec": {
   "display_name": "Python 3 (ipykernel)",
   "language": "python",
   "name": "python3"
  },
  "language_info": {
   "codemirror_mode": {
    "name": "ipython",
    "version": 3
   },
   "file_extension": ".py",
   "mimetype": "text/x-python",
   "name": "python",
   "nbconvert_exporter": "python",
   "pygments_lexer": "ipython3",
   "version": "3.8.2"
  }
 },
 "nbformat": 4,
 "nbformat_minor": 2
}
