{
 "cells": [
  {
   "cell_type": "code",
   "execution_count": 1,
   "metadata": {},
   "outputs": [],
   "source": [
    "from fetch_census_data import acs5_aggregate, acs5_individual, acs5_profile\n",
    "from fetch_fcc_data import fcc_fixed"
   ]
  },
  {
   "cell_type": "code",
   "execution_count": 4,
   "metadata": {},
   "outputs": [],
   "source": [
    "data = acs5_profile()"
   ]
  },
  {
   "cell_type": "code",
   "execution_count": 5,
   "metadata": {},
   "outputs": [
    {
     "name": "stdout",
     "output_type": "stream",
     "text": [
      "      DP02_0001E  DP02_0152E  DP02_0152PE  DP02_0153E  DP02_0153PE  \\\n",
      "0            575         426         74.1         392         68.2   \n",
      "1           1544        1411         91.4        1242         80.4   \n",
      "2           1172        1068         91.1         917         78.2   \n",
      "3           1084        1003         92.5         917         84.6   \n",
      "4            574         356         62.0         322         56.1   \n",
      "...          ...         ...          ...         ...          ...   \n",
      "1314        1980        1556         78.6        1125         56.8   \n",
      "1315        1665        1326         79.6        1071         64.3   \n",
      "1316        1597        1260         78.9        1088         68.1   \n",
      "1317        1154         959         83.1         888         76.9   \n",
      "1318        1109         945         85.2         899         81.1   \n",
      "\n",
      "      DP03_0062E  DP03_0062PE  DP03_0119E  DP03_0119PE  DP05_0001E  \\\n",
      "0          37422   -888888888  -888888888         25.7        1825   \n",
      "1          47000   -888888888  -888888888         17.4        5908   \n",
      "2          46033   -888888888  -888888888          7.9        3419   \n",
      "3          45294   -888888888  -888888888         17.0        2835   \n",
      "4          24507   -888888888  -888888888         55.0        1639   \n",
      "...          ...          ...         ...          ...         ...   \n",
      "1314       20404   -888888888  -888888888         37.7        4088   \n",
      "1315       32047   -888888888  -888888888         27.2        3473   \n",
      "1316       35795   -888888888  -888888888         21.3        3012   \n",
      "1317       34483   -888888888  -888888888         33.8        3634   \n",
      "1318       28470   -888888888  -888888888         25.4        3322   \n",
      "\n",
      "      DP05_0071E  DP05_0071PE  DP05_0078E  DP05_0078PE  state  county   tract  \n",
      "0           1622         88.9           0          0.0     17      31  630200  \n",
      "1           4742         80.3         161          2.7     17      31  580700  \n",
      "2           2119         62.0           9          0.3     17      31  590600  \n",
      "3            850         30.0          82          2.9     17      31  600700  \n",
      "4            438         26.7        1175         71.7     17      31  611900  \n",
      "...          ...          ...         ...          ...    ...     ...     ...  \n",
      "1314          14          0.3        3966         97.0     17      31  440101  \n",
      "1315          80          2.3        3138         90.4     17      31  440102  \n",
      "1316          82          2.7        2851         94.7     17      31  440202  \n",
      "1317        1040         28.6        2524         69.5     17      31  460301  \n",
      "1318         237          7.1        2808         84.5     17      31  460302  \n",
      "\n",
      "[1319 rows x 17 columns]\n"
     ]
    }
   ],
   "source": [
    "print(data)"
   ]
  },
  {
   "cell_type": "code",
   "execution_count": null,
   "metadata": {},
   "outputs": [],
   "source": [
    "fcc_fixed()"
   ]
  }
 ],
 "metadata": {
  "interpreter": {
   "hash": "2c0ede56a6e93381f438fab1eeab536a5e62764838d874be2a919b994a330efb"
  },
  "kernelspec": {
   "display_name": "Python 3.8.9 64-bit ('env': venv)",
   "language": "python",
   "name": "python3"
  },
  "language_info": {
   "codemirror_mode": {
    "name": "ipython",
    "version": 3
   },
   "file_extension": ".py",
   "mimetype": "text/x-python",
   "name": "python",
   "nbconvert_exporter": "python",
   "pygments_lexer": "ipython3",
   "version": "3.8.9"
  },
  "orig_nbformat": 4
 },
 "nbformat": 4,
 "nbformat_minor": 2
}
