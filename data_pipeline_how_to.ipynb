{
 "cells": [
  {
   "cell_type": "markdown",
   "metadata": {},
   "source": [
    "### Data Pipeline: How-To / Examples"
   ]
  },
  {
   "cell_type": "markdown",
   "metadata": {},
   "source": [
    "This notebook will give an overview of how to use the reusable data pipeline code we've written. Drew also uses it for testing random things which is in a marked section at the very bottom."
   ]
  },
  {
   "cell_type": "code",
   "execution_count": 1,
   "metadata": {},
   "outputs": [],
   "source": [
    "import matplotlib.pyplot as plt\n",
    "%matplotlib inline"
   ]
  },
  {
   "cell_type": "markdown",
   "metadata": {},
   "source": [
    "_Data-fetching scripts_"
   ]
  },
  {
   "cell_type": "markdown",
   "metadata": {},
   "source": [
    "Our current data-fetching scripts are in two modules, imported below. Note that these aren't sufficient to fetch all the data we currently have in the data directory; they work for census and fixed FCC data."
   ]
  },
  {
   "cell_type": "code",
   "execution_count": 2,
   "metadata": {},
   "outputs": [],
   "source": [
    "from data_pipeline import fetch_census_data\n",
    "from data_pipeline import fetch_fcc_data"
   ]
  },
  {
   "cell_type": "markdown",
   "metadata": {},
   "source": [
    "fetch_census_data has four user-facing functions: `acs5_aggregate`, `acs5_individual`, `acs5_profile`, and `cps_individual`. The first three are for different 5-year ACS datasets; the last is for CPS. Each function returns data by first trying to read a local CSV, and if that fails, calling the relevant API (and writing a local CSV)."
   ]
  },
  {
   "cell_type": "code",
   "execution_count": 3,
   "metadata": {},
   "outputs": [],
   "source": [
    "# this code reads 5-year ACS data saved in a CSV in the data directory into a pandas dataframe\n",
    "data = fetch_census_data.acs5_aggregate()"
   ]
  },
  {
   "cell_type": "markdown",
   "metadata": {},
   "source": [
    "Each census dataset has tons of possible variables we could obtain. To set which ones we want to get - as well as other options like geographies and dates of interest - we must modify the [Variables], [Geography], and [Dates] sections of `config.ini`.\n",
    "\n",
    "Here's the thing: if we change the variables and then just call a fetching script like above, our changes won't show up. Why? Because the fetching script first reads from a local CSV, if available, which won't have changed. So after changing variables, we need to force-call the API by setting the `force_call_api` argument to `True` (see below)."
   ]
  },
  {
   "cell_type": "code",
   "execution_count": 4,
   "metadata": {},
   "outputs": [],
   "source": [
    "data = fetch_census_data.acs5_aggregate(force_api_call=True)"
   ]
  },
  {
   "cell_type": "markdown",
   "metadata": {},
   "source": [
    "`fetch_fcc_data` works the same way but only has one function: `fcc_fixed`. It's also a bit simpler in that there are only a few variables, which we always fetch - so you don't need to change any variables in `config.ini` for it (though you _can_ modify the state of interest). `fetch_fcc_data` also supports the `force_api_call` option. But watch out - there are a LOT of entries in the FCC data. Calling the API will take a long time and create a very large local file. So while we've tested it, we're not going to do that as an example."
   ]
  },
  {
   "cell_type": "code",
   "execution_count": 5,
   "metadata": {},
   "outputs": [
    {
     "data": {
      "text/html": [
       "<div>\n",
       "<style scoped>\n",
       "    .dataframe tbody tr th:only-of-type {\n",
       "        vertical-align: middle;\n",
       "    }\n",
       "\n",
       "    .dataframe tbody tr th {\n",
       "        vertical-align: top;\n",
       "    }\n",
       "\n",
       "    .dataframe thead th {\n",
       "        text-align: right;\n",
       "    }\n",
       "</style>\n",
       "<table border=\"1\" class=\"dataframe\">\n",
       "  <thead>\n",
       "    <tr style=\"text-align: right;\">\n",
       "      <th></th>\n",
       "      <th>estimated total population</th>\n",
       "      <th>estimated total with internet subscription</th>\n",
       "      <th>estimated total with no internet access</th>\n",
       "      <th>estimated total has no computer</th>\n",
       "      <th>state</th>\n",
       "      <th>county</th>\n",
       "      <th>tract</th>\n",
       "    </tr>\n",
       "  </thead>\n",
       "  <tbody>\n",
       "    <tr>\n",
       "      <th>0</th>\n",
       "      <td>1825</td>\n",
       "      <td>392</td>\n",
       "      <td>149</td>\n",
       "      <td>149</td>\n",
       "      <td>17</td>\n",
       "      <td>31</td>\n",
       "      <td>630200</td>\n",
       "    </tr>\n",
       "    <tr>\n",
       "      <th>1</th>\n",
       "      <td>5908</td>\n",
       "      <td>1242</td>\n",
       "      <td>231</td>\n",
       "      <td>133</td>\n",
       "      <td>17</td>\n",
       "      <td>31</td>\n",
       "      <td>580700</td>\n",
       "    </tr>\n",
       "    <tr>\n",
       "      <th>2</th>\n",
       "      <td>3419</td>\n",
       "      <td>928</td>\n",
       "      <td>140</td>\n",
       "      <td>104</td>\n",
       "      <td>17</td>\n",
       "      <td>31</td>\n",
       "      <td>590600</td>\n",
       "    </tr>\n",
       "    <tr>\n",
       "      <th>3</th>\n",
       "      <td>2835</td>\n",
       "      <td>917</td>\n",
       "      <td>138</td>\n",
       "      <td>81</td>\n",
       "      <td>17</td>\n",
       "      <td>31</td>\n",
       "      <td>600700</td>\n",
       "    </tr>\n",
       "    <tr>\n",
       "      <th>4</th>\n",
       "      <td>1639</td>\n",
       "      <td>322</td>\n",
       "      <td>245</td>\n",
       "      <td>218</td>\n",
       "      <td>17</td>\n",
       "      <td>31</td>\n",
       "      <td>611900</td>\n",
       "    </tr>\n",
       "  </tbody>\n",
       "</table>\n",
       "</div>"
      ],
      "text/plain": [
       "   estimated total population  estimated total with internet subscription  \\\n",
       "0                        1825                                         392   \n",
       "1                        5908                                        1242   \n",
       "2                        3419                                         928   \n",
       "3                        2835                                         917   \n",
       "4                        1639                                         322   \n",
       "\n",
       "   estimated total with no internet access  estimated total has no computer  \\\n",
       "0                                      149                              149   \n",
       "1                                      231                              133   \n",
       "2                                      140                              104   \n",
       "3                                      138                               81   \n",
       "4                                      245                              218   \n",
       "\n",
       "   state  county   tract  \n",
       "0     17      31  630200  \n",
       "1     17      31  580700  \n",
       "2     17      31  590600  \n",
       "3     17      31  600700  \n",
       "4     17      31  611900  "
      ]
     },
     "execution_count": 5,
     "metadata": {},
     "output_type": "execute_result"
    }
   ],
   "source": [
    "data.head()"
   ]
  },
  {
   "cell_type": "markdown",
   "metadata": {},
   "source": [
    "_Spatial operations_"
   ]
  },
  {
   "cell_type": "code",
   "execution_count": 6,
   "metadata": {},
   "outputs": [],
   "source": [
    "from data_pipeline import spatial_operations"
   ]
  },
  {
   "cell_type": "markdown",
   "metadata": {},
   "source": [
    "Our spatial operations module supports a simple, static one-variable `simple_map`. This takes three arguments: a dataframe, the variable of interest, and the geography of interest (must be a column in the dataframe)."
   ]
  },
  {
   "cell_type": "code",
   "execution_count": 7,
   "metadata": {},
   "outputs": [
    {
     "data": {
      "image/png": "[encoded data removed]",
      "text/plain": [
       "<Figure size 432x288 with 2 Axes>"
      ]
     },
     "metadata": {
      "needs_background": "light"
     },
     "output_type": "display_data"
    }
   ],
   "source": [
    "spatial_operations.simple_map(data, variable = 'estimated total population', target_geography = 'tract')"
   ]
  },
  {
   "cell_type": "markdown",
   "metadata": {},
   "source": [
    "Like we just did, you can use `simple_map` with a plain pandas dataframe as long as it has a column with labels for the specified geography - it doesn't have to be a geodataframe because `simple_map` will look up and join the relevant shapefiles automatically.\n",
    "\n",
    "But we might want to go ahead and convert our dataframe to a geodataframe for other purposes. We can use our `geographize` function to do this. This function takes two arguments: a dataframe and a geography of interest (again, labels for this geography must be one of the dataframe's columns).\n",
    "\n",
    "We currently support the following geographical levels in Chicago:\n",
    "- census blocks\n",
    "- tracts\n",
    "- community areas\n",
    "- wards"
   ]
  },
  {
   "cell_type": "code",
   "execution_count": 8,
   "metadata": {},
   "outputs": [
    {
     "data": {
      "text/plain": [
       "geopandas.geodataframe.GeoDataFrame"
      ]
     },
     "execution_count": 8,
     "metadata": {},
     "output_type": "execute_result"
    }
   ],
   "source": [
    "# make data a geodataframe (which narrows it to Chicago tracts, because those are all we have in the shapefile)\n",
    "data = spatial_operations.geographize(data, target_geography = 'tract')\n",
    "type(data)"
   ]
  },
  {
   "cell_type": "code",
   "execution_count": 9,
   "metadata": {},
   "outputs": [
    {
     "ename": "ValueError",
     "evalue": "You have multiple data points for the same geographical unit. Combine these data points and try again.",
     "output_type": "error",
     "traceback": [
      "\u001b[0;31m---------------------------------------------------------------------------\u001b[0m",
      "\u001b[0;31mValueError\u001b[0m                                Traceback (most recent call last)",
      "\u001b[0;32m/var/folders/h2/1dptmntx7cqcbm48dz37csk00000gn/T/ipykernel_33568/3174027424.py\u001b[0m in \u001b[0;36m<module>\u001b[0;34m\u001b[0m\n\u001b[0;32m----> 1\u001b[0;31m \u001b[0mspatial_operations\u001b[0m\u001b[0;34m.\u001b[0m\u001b[0msimple_map\u001b[0m\u001b[0;34m(\u001b[0m\u001b[0mdata\u001b[0m\u001b[0;34m,\u001b[0m \u001b[0mvariable\u001b[0m \u001b[0;34m=\u001b[0m \u001b[0;34m'estimated total population'\u001b[0m\u001b[0;34m,\u001b[0m\u001b[0mtarget_geography\u001b[0m \u001b[0;34m=\u001b[0m \u001b[0;34m'tract'\u001b[0m\u001b[0;34m)\u001b[0m\u001b[0;34m\u001b[0m\u001b[0;34m\u001b[0m\u001b[0m\n\u001b[0m",
      "\u001b[0;32m~/Desktop/CS/broadbandequity/data_pipeline/spatial_operations.py\u001b[0m in \u001b[0;36msimple_map\u001b[0;34m(data, variable, target_geography)\u001b[0m\n\u001b[1;32m    272\u001b[0m     \u001b[0;31m# validate arguments\u001b[0m\u001b[0;34m\u001b[0m\u001b[0;34m\u001b[0m\u001b[0;34m\u001b[0m\u001b[0m\n\u001b[1;32m    273\u001b[0m     \u001b[0;32mif\u001b[0m \u001b[0mduplicate_areas\u001b[0m\u001b[0;34m(\u001b[0m\u001b[0mdata\u001b[0m\u001b[0;34m,\u001b[0m\u001b[0mtarget_geography\u001b[0m\u001b[0;34m)\u001b[0m\u001b[0;34m:\u001b[0m\u001b[0;34m\u001b[0m\u001b[0;34m\u001b[0m\u001b[0m\n\u001b[0;32m--> 274\u001b[0;31m         raise ValueError(\n\u001b[0m\u001b[1;32m    275\u001b[0m             \u001b[0;34m'You have multiple data points for the same geographical unit. '\u001b[0m\u001b[0;34m\u001b[0m\u001b[0;34m\u001b[0m\u001b[0m\n\u001b[1;32m    276\u001b[0m             \u001b[0;34m'Combine these data points and try again.'\u001b[0m\u001b[0;34m\u001b[0m\u001b[0;34m\u001b[0m\u001b[0m\n",
      "\u001b[0;31mValueError\u001b[0m: You have multiple data points for the same geographical unit. Combine these data points and try again."
     ]
    }
   ],
   "source": [
    "spatial_operations.simple_map(data, variable = 'estimated total population',target_geography = 'tract')"
   ]
  },
  {
   "cell_type": "markdown",
   "metadata": {},
   "source": [
    "We have also written a function, `aggregate`, to convert between levels of geographical unit. As the name implies, this should generally be done going _upwards_ (or at least sideways) in level, like from tract to community area rather than community area to tract. Going downwards isn't generally a good idea because of the ecological fallacy (knowing something about the whole doesn't mean we know something about the parts).\n",
    "\n",
    "`aggregate`'s arguments are slightly more complicated. It takes data to convert, a dictionary of variables to convert, a target geography, and a source geography.\n",
    "\n",
    "To expand on the dictionary of variables: there are a couple of different ways to convert variables to a new areal unit. If the variables are intensive (that is, they _don't_ depend on the size of the area they're in), we can convert via area-weighted mean (`'areal mean'`) or population-weighted mean (`'pop mean'`). If the variables are extensive (they _do_ depend on the size of the area they're in), we can convert via area-weighted sum (`'areal sum'`). The variable dictionary should be of the form `{'variable name' : 'converstion method'}`.\n",
    "\n",
    "`aggregate` always outputs a dataframe, even if a geodataframe was passed. You can convert the output to a geodataframe with `geographize`."
   ]
  },
  {
   "cell_type": "code",
   "execution_count": null,
   "metadata": {},
   "outputs": [],
   "source": [
    "# this produces a dataframe of estimated total population calculated on the community area level from the tract level via area-weighted sum\n",
    "community_area_data = spatial_operations.aggregate(data,{'estimated total population' : 'areal sum'},target_geography='community_area',source_geography='tract')\n",
    "community_area_data.head()"
   ]
  },
  {
   "cell_type": "markdown",
   "metadata": {},
   "source": [
    "Note: these community area estimates are very close to the \"actual\" populations per online sources. The most populous neighborhoods are Near North Side, Lakeview, and Austin, which are also the brightest colors in the map below."
   ]
  },
  {
   "cell_type": "code",
   "execution_count": null,
   "metadata": {},
   "outputs": [],
   "source": [
    "spatial_operations.simple_map(community_area_data,'estimated total population','community_area')"
   ]
  },
  {
   "cell_type": "markdown",
   "metadata": {},
   "source": [
    "Now let's try for an intensive variable (population density)."
   ]
  },
  {
   "cell_type": "code",
   "execution_count": null,
   "metadata": {},
   "outputs": [],
   "source": [
    "# create population density variable\n",
    "data['population density']=data['estimated total population']/data.area"
   ]
  },
  {
   "cell_type": "code",
   "execution_count": null,
   "metadata": {},
   "outputs": [],
   "source": [
    "variables = {'estimated total population' : 'areal sum', 'population density' : 'areal mean'}\n",
    "new_community_area_data = spatial_operations.aggregate(data,variables,target_geography='community_area',source_geography='tract')\n",
    "new_community_area_data.head()"
   ]
  },
  {
   "cell_type": "code",
   "execution_count": null,
   "metadata": {},
   "outputs": [],
   "source": [
    "spatial_operations.simple_map(new_community_area_data,'population density','community_area')"
   ]
  },
  {
   "cell_type": "markdown",
   "metadata": {},
   "source": [
    "Let's compare that map we just produced to what we get if we calculate population density directly from population at the community level (rather than calculating at tract level and THEN aggregating like we just did)."
   ]
  },
  {
   "cell_type": "code",
   "execution_count": null,
   "metadata": {},
   "outputs": [],
   "source": [
    "community_area_data = spatial_operations.geographize(community_area_data,'community_area')\n",
    "community_area_data['population density']=community_area_data['estimated total population']/community_area_data.area\n",
    "spatial_operations.simple_map(community_area_data,'population density','community_area')"
   ]
  },
  {
   "cell_type": "markdown",
   "metadata": {},
   "source": [
    "One final validation: let's create a new population column by multiplying each community area's calculated population density times area."
   ]
  },
  {
   "cell_type": "code",
   "execution_count": null,
   "metadata": {},
   "outputs": [],
   "source": [
    "# Watch out!!! This below line of code does NOT work properly to assign an area column to our dataframe. Why not?\n",
    "# new_community_area_data['area'] = spatial_operations.geographize(new_community_area_data,'community_area').area\n",
    "# (Answer: geographize does NOT necessarily return results in same order that we have dataframe in right now.)\n",
    "\n",
    "new_community_area_data = new_community_area_data.sort_values(by=\"community_area\")\n",
    "# get areas IN SAME ORDER\n",
    "areas = spatial_operations.geographize(new_community_area_data,'community_area').sort_values(by=\"community_area\").reset_index().area\n",
    "new_community_area_data['area'] = areas"
   ]
  },
  {
   "cell_type": "code",
   "execution_count": null,
   "metadata": {},
   "outputs": [],
   "source": [
    "new_community_area_data['recalculated population'] = new_community_area_data['population density']*new_community_area_data['area']"
   ]
  },
  {
   "cell_type": "code",
   "execution_count": null,
   "metadata": {},
   "outputs": [],
   "source": [
    "new_community_area_data.head()"
   ]
  },
  {
   "cell_type": "code",
   "execution_count": null,
   "metadata": {},
   "outputs": [],
   "source": [
    "community_area_data['area']=community_area_data.area\n",
    "community_area_data['density from area']=community_area_data['estimated total population']/community_area_data['area']\n",
    "community_area_data['density from shape_area']=community_area_data['estimated total population']/community_area_data['shape_area']\n",
    "community_area_data['recalculated pop']=community_area_data['population density']*community_area_data['area']"
   ]
  },
  {
   "cell_type": "code",
   "execution_count": null,
   "metadata": {},
   "outputs": [],
   "source": [
    "community_area_data.head()"
   ]
  },
  {
   "cell_type": "markdown",
   "metadata": {},
   "source": [
    "All looks good!"
   ]
  },
  {
   "cell_type": "markdown",
   "metadata": {},
   "source": [
    "We're working on developing a more useful interactive map that will allow you to have multiple layers and mouse over different geographic areas. We're thinking about how we could map multiple variables at once on it as well.\n",
    "\n",
    "This is in early stages, but will be implemented in the `interactive_mapping` module (which requires installation of ipyleaflet, not just geopandas). The usage will be to instantiate InteractiveMap objects using a (geo)dataframe and target geography, then calling methods on the object to modify the map."
   ]
  },
  {
   "cell_type": "code",
   "execution_count": null,
   "metadata": {},
   "outputs": [],
   "source": [
    "from data_pipeline.interactive_mapping import InteractiveMap"
   ]
  },
  {
   "cell_type": "code",
   "execution_count": null,
   "metadata": {},
   "outputs": [],
   "source": [
    "better_map = InteractiveMap(community_area_data,target_geography='community_area')"
   ]
  },
  {
   "cell_type": "markdown",
   "metadata": {},
   "source": [
    "We can view the map by accessing the object's `map` attribute, as shown below. (Calling `map()` also returns the attribute.) The idea behind this implementation is that we can mostly use the simpler methods of our InteractiveMap class to create maps, but if needed can directly use more complex ipyleaflet methods on the `map` attribute. "
   ]
  },
  {
   "cell_type": "code",
   "execution_count": null,
   "metadata": {},
   "outputs": [],
   "source": [
    "better_map.map"
   ]
  },
  {
   "cell_type": "markdown",
   "metadata": {},
   "source": [
    "The default center and zoom of the map is set within the [Geography] section of `config.ini`. \n",
    "\n",
    "The key planned method we'll implement for InteractiveMap is `add_variable(<variable>)` to create additional layers of mapped variables. "
   ]
  }
 ],
 "metadata": {
  "interpreter": {
   "hash": "fbb3f0efde723712f7660d349a24e831b5cb632791db0e0eb0cecf21d8451381"
  },
  "kernelspec": {
   "display_name": "Python 3.8.5 64-bit ('anaconda3': virtualenv)",
   "language": "python",
   "name": "python3"
  },
  "language_info": {
   "codemirror_mode": {
    "name": "ipython",
    "version": 3
   },
   "file_extension": ".py",
   "mimetype": "text/x-python",
   "name": "python",
   "nbconvert_exporter": "python",
   "pygments_lexer": "ipython3",
   "version": "3.8.2"
  }
 },
 "nbformat": 4,
 "nbformat_minor": 2
}
