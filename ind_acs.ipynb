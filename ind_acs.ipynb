{
 "cells": [
  {
   "cell_type": "markdown",
   "id": "1d53be40",
   "metadata": {},
   "source": [
    "### Individual ACS Data"
   ]
  },
  {
   "cell_type": "markdown",
   "id": "45b28f40",
   "metadata": {},
   "source": [
    "[Documentation](https://www2.census.gov/programs-surveys/acs/tech_docs/pums/data_dict/PUMS_Data_Dictionary_2015-2019.pdf)"
   ]
  },
  {
   "cell_type": "markdown",
   "id": "11837e08",
   "metadata": {},
   "source": [
    "###### Importing Libraries"
   ]
  },
  {
   "cell_type": "code",
   "execution_count": 1,
   "id": "850d1e4a",
   "metadata": {},
   "outputs": [],
   "source": [
    "import numpy as np\n",
    "import pandas as pd\n",
    "import matplotlib.pyplot as plt\n",
    "import seaborn as sns"
   ]
  },
  {
   "cell_type": "code",
   "execution_count": 2,
   "id": "41aed584",
   "metadata": {},
   "outputs": [],
   "source": [
    "#from data_pipeline import fetch_census_data"
   ]
  },
  {
   "cell_type": "code",
   "execution_count": 3,
   "id": "082af724",
   "metadata": {},
   "outputs": [],
   "source": [
    "#fetch_census_data.acs5_individual(force_api_call=True)"
   ]
  },
  {
   "cell_type": "markdown",
   "id": "41bb878c",
   "metadata": {},
   "source": [
    "###### Importing Data"
   ]
  },
  {
   "cell_type": "code",
   "execution_count": 4,
   "id": "d3601680",
   "metadata": {},
   "outputs": [
    {
     "data": {
      "text/html": [
       "<div>\n",
       "<style scoped>\n",
       "    .dataframe tbody tr th:only-of-type {\n",
       "        vertical-align: middle;\n",
       "    }\n",
       "\n",
       "    .dataframe tbody tr th {\n",
       "        vertical-align: top;\n",
       "    }\n",
       "\n",
       "    .dataframe thead th {\n",
       "        text-align: right;\n",
       "    }\n",
       "</style>\n",
       "<table border=\"1\" class=\"dataframe\">\n",
       "  <thead>\n",
       "    <tr style=\"text-align: right;\">\n",
       "      <th></th>\n",
       "      <th>Unnamed: 0</th>\n",
       "      <th>internet_access</th>\n",
       "      <th>internet_access_af</th>\n",
       "      <th>broadband</th>\n",
       "      <th>broadband_af</th>\n",
       "      <th>family_income</th>\n",
       "      <th>family_income_af</th>\n",
       "      <th>hh_income</th>\n",
       "      <th>hh_income_af</th>\n",
       "      <th>poverty</th>\n",
       "      <th>race</th>\n",
       "      <th>race_af</th>\n",
       "      <th>hispanic</th>\n",
       "      <th>hispanic_af</th>\n",
       "      <th>pop_sixty</th>\n",
       "      <th>weight</th>\n",
       "      <th>public use microdata area</th>\n",
       "    </tr>\n",
       "  </thead>\n",
       "  <tbody>\n",
       "    <tr>\n",
       "      <th>0</th>\n",
       "      <td>0</td>\n",
       "      <td>1</td>\n",
       "      <td>0</td>\n",
       "      <td>1</td>\n",
       "      <td>0</td>\n",
       "      <td>-60000</td>\n",
       "      <td>0</td>\n",
       "      <td>1000</td>\n",
       "      <td>1</td>\n",
       "      <td>8</td>\n",
       "      <td>1</td>\n",
       "      <td>0</td>\n",
       "      <td>1</td>\n",
       "      <td>0</td>\n",
       "      <td>0</td>\n",
       "      <td>47</td>\n",
       "      <td>3520</td>\n",
       "    </tr>\n",
       "    <tr>\n",
       "      <th>1</th>\n",
       "      <td>1</td>\n",
       "      <td>1</td>\n",
       "      <td>0</td>\n",
       "      <td>1</td>\n",
       "      <td>0</td>\n",
       "      <td>-60000</td>\n",
       "      <td>0</td>\n",
       "      <td>96000</td>\n",
       "      <td>0</td>\n",
       "      <td>501</td>\n",
       "      <td>2</td>\n",
       "      <td>0</td>\n",
       "      <td>1</td>\n",
       "      <td>0</td>\n",
       "      <td>0</td>\n",
       "      <td>29</td>\n",
       "      <td>3501</td>\n",
       "    </tr>\n",
       "    <tr>\n",
       "      <th>2</th>\n",
       "      <td>2</td>\n",
       "      <td>1</td>\n",
       "      <td>0</td>\n",
       "      <td>1</td>\n",
       "      <td>0</td>\n",
       "      <td>366000</td>\n",
       "      <td>0</td>\n",
       "      <td>366000</td>\n",
       "      <td>0</td>\n",
       "      <td>501</td>\n",
       "      <td>1</td>\n",
       "      <td>0</td>\n",
       "      <td>1</td>\n",
       "      <td>0</td>\n",
       "      <td>0</td>\n",
       "      <td>15</td>\n",
       "      <td>3420</td>\n",
       "    </tr>\n",
       "    <tr>\n",
       "      <th>3</th>\n",
       "      <td>3</td>\n",
       "      <td>1</td>\n",
       "      <td>0</td>\n",
       "      <td>1</td>\n",
       "      <td>0</td>\n",
       "      <td>366000</td>\n",
       "      <td>0</td>\n",
       "      <td>366000</td>\n",
       "      <td>0</td>\n",
       "      <td>501</td>\n",
       "      <td>6</td>\n",
       "      <td>0</td>\n",
       "      <td>1</td>\n",
       "      <td>0</td>\n",
       "      <td>0</td>\n",
       "      <td>13</td>\n",
       "      <td>3420</td>\n",
       "    </tr>\n",
       "    <tr>\n",
       "      <th>4</th>\n",
       "      <td>4</td>\n",
       "      <td>1</td>\n",
       "      <td>0</td>\n",
       "      <td>1</td>\n",
       "      <td>0</td>\n",
       "      <td>366000</td>\n",
       "      <td>0</td>\n",
       "      <td>366000</td>\n",
       "      <td>0</td>\n",
       "      <td>501</td>\n",
       "      <td>9</td>\n",
       "      <td>0</td>\n",
       "      <td>1</td>\n",
       "      <td>0</td>\n",
       "      <td>0</td>\n",
       "      <td>14</td>\n",
       "      <td>3420</td>\n",
       "    </tr>\n",
       "  </tbody>\n",
       "</table>\n",
       "</div>"
      ],
      "text/plain": [
       "   Unnamed: 0  internet_access  internet_access_af  broadband  broadband_af  \\\n",
       "0           0                1                   0          1             0   \n",
       "1           1                1                   0          1             0   \n",
       "2           2                1                   0          1             0   \n",
       "3           3                1                   0          1             0   \n",
       "4           4                1                   0          1             0   \n",
       "\n",
       "   family_income  family_income_af  hh_income  hh_income_af  poverty  race  \\\n",
       "0         -60000                 0       1000             1        8     1   \n",
       "1         -60000                 0      96000             0      501     2   \n",
       "2         366000                 0     366000             0      501     1   \n",
       "3         366000                 0     366000             0      501     6   \n",
       "4         366000                 0     366000             0      501     9   \n",
       "\n",
       "   race_af  hispanic  hispanic_af  pop_sixty  weight  \\\n",
       "0        0         1            0          0      47   \n",
       "1        0         1            0          0      29   \n",
       "2        0         1            0          0      15   \n",
       "3        0         1            0          0      13   \n",
       "4        0         1            0          0      14   \n",
       "\n",
       "   public use microdata area  \n",
       "0                       3520  \n",
       "1                       3501  \n",
       "2                       3420  \n",
       "3                       3420  \n",
       "4                       3420  "
      ]
     },
     "execution_count": 4,
     "metadata": {},
     "output_type": "execute_result"
    }
   ],
   "source": [
    "# loading individual acs data\n",
    "\n",
    "acs_ind=pd.read_csv(\"data/acs5_individual.csv\").drop(\n",
    "                        ['state'], axis=1)\n",
    "acs_ind.head(5)"
   ]
  },
  {
   "cell_type": "markdown",
   "id": "c8735771",
   "metadata": {},
   "source": [
    "##### Recoding Variables"
   ]
  },
  {
   "cell_type": "markdown",
   "id": "5cffe3db",
   "metadata": {},
   "source": [
    "Internet Access"
   ]
  },
  {
   "cell_type": "code",
   "execution_count": 5,
   "id": "61376179",
   "metadata": {},
   "outputs": [
    {
     "data": {
      "text/plain": [
       "array([1, 3, 0, 2])"
      ]
     },
     "execution_count": 5,
     "metadata": {},
     "output_type": "execute_result"
    }
   ],
   "source": [
    "acs_ind.internet_access.unique()"
   ]
  },
  {
   "cell_type": "code",
   "execution_count": 6,
   "id": "02cac8e5",
   "metadata": {},
   "outputs": [],
   "source": [
    "# need to remove the responses with \"0\" because it means no response\n",
    "\n",
    "acs_ind = acs_ind[acs_ind['internet_access'] >0]"
   ]
  },
  {
   "cell_type": "code",
   "execution_count": 7,
   "id": "0371bb77",
   "metadata": {},
   "outputs": [],
   "source": [
    "# recoding internet access\n",
    "# 0 = no access\n",
    "# 1 = access \n",
    "\n",
    "acs_ind.loc[(acs_ind.internet_access == 2),'internet_access']=1\n",
    "acs_ind.loc[(acs_ind.internet_access == 3),'internet_access']=0"
   ]
  },
  {
   "cell_type": "markdown",
   "id": "dfa572dd",
   "metadata": {},
   "source": [
    "Hispanic"
   ]
  },
  {
   "cell_type": "code",
   "execution_count": 8,
   "id": "e5d8697f",
   "metadata": {},
   "outputs": [],
   "source": [
    "# recoding hispanic\n",
    "# 0 = not hispanic\n",
    "# 1 = hispanic\n",
    "\n",
    "acs_ind.loc[(acs_ind.hispanic == 1),'hispanic']=0\n",
    "acs_ind.loc[(acs_ind.hispanic > 1),'hispanic']=1"
   ]
  },
  {
   "cell_type": "code",
   "execution_count": 9,
   "id": "d00d0e33",
   "metadata": {},
   "outputs": [
    {
     "data": {
      "text/plain": [
       "array([0, 1])"
      ]
     },
     "execution_count": 9,
     "metadata": {},
     "output_type": "execute_result"
    }
   ],
   "source": [
    "acs_ind.hispanic.unique()"
   ]
  },
  {
   "cell_type": "markdown",
   "id": "43c7f19a",
   "metadata": {},
   "source": [
    "non-Hispanic White, Black, Asian Races"
   ]
  },
  {
   "cell_type": "code",
   "execution_count": 10,
   "id": "ab14522e",
   "metadata": {},
   "outputs": [],
   "source": [
    "black_df = acs_ind[[\"Unnamed: 0\",\"race\",\"hispanic\"]].rename(columns={\n",
    "                        \"race\": \"black\"})"
   ]
  },
  {
   "cell_type": "code",
   "execution_count": 11,
   "id": "14f00276",
   "metadata": {},
   "outputs": [],
   "source": [
    "black_df.loc[(black_df.black < 2),'black']=0\n",
    "black_df.loc[(black_df.black > 2),'black']=0\n",
    "black_df.loc[(black_df.black == 2),'black']=1"
   ]
  },
  {
   "cell_type": "code",
   "execution_count": 12,
   "id": "2963ccc2",
   "metadata": {},
   "outputs": [
    {
     "data": {
      "text/plain": [
       "array([0, 1])"
      ]
     },
     "execution_count": 12,
     "metadata": {},
     "output_type": "execute_result"
    }
   ],
   "source": [
    "black_df.black.unique()"
   ]
  },
  {
   "cell_type": "code",
   "execution_count": 13,
   "id": "4683d710",
   "metadata": {},
   "outputs": [],
   "source": [
    "black_df[\"nh_black\"]=black_df['hispanic']+black_df['black']"
   ]
  },
  {
   "cell_type": "code",
   "execution_count": 14,
   "id": "f26f3543",
   "metadata": {},
   "outputs": [],
   "source": [
    "black_df.loc[(black_df.nh_black == 0),'nh_black']=0\n",
    "black_df.loc[(black_df.nh_black == 1),'nh_black']=1\n",
    "black_df.loc[(black_df.nh_black == 2),'nh_black']=0"
   ]
  },
  {
   "cell_type": "code",
   "execution_count": 15,
   "id": "6c19170c",
   "metadata": {},
   "outputs": [
    {
     "data": {
      "text/plain": [
       "array([0, 1])"
      ]
     },
     "execution_count": 15,
     "metadata": {},
     "output_type": "execute_result"
    }
   ],
   "source": [
    "black_df.nh_black.unique()"
   ]
  },
  {
   "cell_type": "code",
   "execution_count": 16,
   "id": "39a7d287",
   "metadata": {},
   "outputs": [],
   "source": [
    "black_df=black_df.drop(['hispanic'], axis=1)"
   ]
  },
  {
   "cell_type": "code",
   "execution_count": 17,
   "id": "538e64fc",
   "metadata": {},
   "outputs": [],
   "source": [
    "white_df = acs_ind[[\"Unnamed: 0\",\"race\", \"hispanic\"]].rename(columns={\n",
    "                        \"race\": \"white\"})"
   ]
  },
  {
   "cell_type": "code",
   "execution_count": 18,
   "id": "8c4944b4",
   "metadata": {},
   "outputs": [],
   "source": [
    "white_df.loc[(white_df.white < 1),'white']=0\n",
    "white_df.loc[(white_df.white > 1),'white']=0\n",
    "white_df.loc[(white_df.white == 1),'white']=1"
   ]
  },
  {
   "cell_type": "code",
   "execution_count": 19,
   "id": "0670fad9",
   "metadata": {},
   "outputs": [
    {
     "data": {
      "text/plain": [
       "array([1, 0])"
      ]
     },
     "execution_count": 19,
     "metadata": {},
     "output_type": "execute_result"
    }
   ],
   "source": [
    "white_df.white.unique()"
   ]
  },
  {
   "cell_type": "code",
   "execution_count": 20,
   "id": "8d33ee82",
   "metadata": {},
   "outputs": [],
   "source": [
    "white_df[\"nh_white\"]=white_df['hispanic']+white_df['white']"
   ]
  },
  {
   "cell_type": "code",
   "execution_count": 21,
   "id": "a919da1e",
   "metadata": {},
   "outputs": [],
   "source": [
    "white_df.loc[(white_df.nh_white == 0),'nh_white']=0\n",
    "white_df.loc[(white_df.nh_white == 1),'nh_white']=1\n",
    "white_df.loc[(white_df.nh_white == 2),'nh_white']=0"
   ]
  },
  {
   "cell_type": "code",
   "execution_count": 22,
   "id": "e285f03b",
   "metadata": {},
   "outputs": [],
   "source": [
    "white_df=white_df.drop(['hispanic'], axis=1)"
   ]
  },
  {
   "cell_type": "code",
   "execution_count": 23,
   "id": "11f9df63",
   "metadata": {},
   "outputs": [],
   "source": [
    "asian_df = acs_ind[[\"Unnamed: 0\",\"race\", \"hispanic\"]].rename(columns={\n",
    "                        \"race\": \"asian\"})"
   ]
  },
  {
   "cell_type": "code",
   "execution_count": 24,
   "id": "e037904b",
   "metadata": {},
   "outputs": [],
   "source": [
    "asian_df.loc[(asian_df.asian < 6),'asian']=0\n",
    "asian_df.loc[(asian_df.asian > 6),'asian']=0\n",
    "asian_df.loc[(asian_df.asian == 6),'asian']=1"
   ]
  },
  {
   "cell_type": "code",
   "execution_count": 25,
   "id": "b3ccac52",
   "metadata": {},
   "outputs": [
    {
     "data": {
      "text/plain": [
       "array([0, 1])"
      ]
     },
     "execution_count": 25,
     "metadata": {},
     "output_type": "execute_result"
    }
   ],
   "source": [
    "asian_df.asian.unique()"
   ]
  },
  {
   "cell_type": "code",
   "execution_count": 26,
   "id": "e050542d",
   "metadata": {},
   "outputs": [],
   "source": [
    "asian_df[\"nh_asian\"]=asian_df['hispanic']+asian_df['asian']"
   ]
  },
  {
   "cell_type": "code",
   "execution_count": 27,
   "id": "525618eb",
   "metadata": {},
   "outputs": [],
   "source": [
    "asian_df.loc[(asian_df.nh_asian == 0),'nh_asian']=0\n",
    "asian_df.loc[(asian_df.nh_asian == 1),'nh_asian']=1\n",
    "asian_df.loc[(asian_df.nh_asian == 2),'nh_asian']=0"
   ]
  },
  {
   "cell_type": "code",
   "execution_count": 28,
   "id": "69f4528c",
   "metadata": {},
   "outputs": [],
   "source": [
    "asian_df=asian_df.drop(['hispanic'], axis=1)"
   ]
  },
  {
   "cell_type": "code",
   "execution_count": 29,
   "id": "069391ff",
   "metadata": {},
   "outputs": [],
   "source": [
    "acs_ind=acs_ind.merge(white_df, on='Unnamed: 0'\n",
    "                           ).merge(black_df, on='Unnamed: 0').merge(asian_df, on='Unnamed: 0')"
   ]
  },
  {
   "cell_type": "markdown",
   "id": "cbfd4565",
   "metadata": {},
   "source": [
    "Household & Family Income"
   ]
  },
  {
   "cell_type": "code",
   "execution_count": 30,
   "id": "18fa7645",
   "metadata": {},
   "outputs": [
    {
     "data": {
      "text/plain": [
       "array([ -60000,  366000,  385000, ...,  211900, 1033000,  315300])"
      ]
     },
     "execution_count": 30,
     "metadata": {},
     "output_type": "execute_result"
    }
   ],
   "source": [
    "acs_ind.family_income.unique()"
   ]
  },
  {
   "cell_type": "code",
   "execution_count": 31,
   "id": "35dc24e9",
   "metadata": {},
   "outputs": [
    {
     "data": {
      "text/plain": [
       "-60000"
      ]
     },
     "execution_count": 31,
     "metadata": {},
     "output_type": "execute_result"
    }
   ],
   "source": [
    "acs_ind.family_income.min()"
   ]
  },
  {
   "cell_type": "code",
   "execution_count": 32,
   "id": "add01ac6",
   "metadata": {},
   "outputs": [
    {
     "data": {
      "text/plain": [
       "array([   1000,   96000,  366000, ..., 1033000,  315300,   68380])"
      ]
     },
     "execution_count": 32,
     "metadata": {},
     "output_type": "execute_result"
    }
   ],
   "source": [
    "acs_ind.hh_income.unique()"
   ]
  },
  {
   "cell_type": "code",
   "execution_count": 33,
   "id": "d3e2c930",
   "metadata": {},
   "outputs": [
    {
     "data": {
      "text/plain": [
       "-9500"
      ]
     },
     "execution_count": 33,
     "metadata": {},
     "output_type": "execute_result"
    }
   ],
   "source": [
    "acs_ind.hh_income.min()"
   ]
  },
  {
   "cell_type": "code",
   "execution_count": 34,
   "id": "03f4be15",
   "metadata": {},
   "outputs": [],
   "source": [
    "# keeping incomes above 0 \n",
    "\n",
    "acs_ind = acs_ind[acs_ind['hh_income'] >0]\n",
    "acs_ind = acs_ind[acs_ind['family_income'] >0]"
   ]
  },
  {
   "cell_type": "code",
   "execution_count": 35,
   "id": "79945c8b",
   "metadata": {},
   "outputs": [],
   "source": [
    "# log incomes\n",
    "\n",
    "acs_ind[\"log_family_income\"]=acs_ind[\"family_income\"].apply(lambda x: np.log(x))\n",
    "acs_ind[\"log_hh_income\"]=acs_ind[\"hh_income\"].apply(lambda x: np.log(x))"
   ]
  },
  {
   "cell_type": "code",
   "execution_count": 36,
   "id": "fd7fa0a4",
   "metadata": {},
   "outputs": [
    {
     "data": {
      "text/plain": [
       "array([12.81038861, 12.86099861, 11.17759258, ..., 12.26386974,\n",
       "       13.84797775, 12.66127985])"
      ]
     },
     "execution_count": 36,
     "metadata": {},
     "output_type": "execute_result"
    }
   ],
   "source": [
    "acs_ind.log_family_income.unique()"
   ]
  },
  {
   "cell_type": "code",
   "execution_count": 37,
   "id": "46dec94b",
   "metadata": {},
   "outputs": [
    {
     "data": {
      "text/plain": [
       "0.0"
      ]
     },
     "execution_count": 37,
     "metadata": {},
     "output_type": "execute_result"
    }
   ],
   "source": [
    "acs_ind.log_family_income.min()"
   ]
  },
  {
   "cell_type": "code",
   "execution_count": 38,
   "id": "8c8fa898",
   "metadata": {},
   "outputs": [
    {
     "data": {
      "text/plain": [
       "array([12.81038861, 12.86099861, 11.17759258, ..., 12.26386974,\n",
       "       13.84797775, 12.66127985])"
      ]
     },
     "execution_count": 38,
     "metadata": {},
     "output_type": "execute_result"
    }
   ],
   "source": [
    "acs_ind.log_hh_income.unique()"
   ]
  },
  {
   "cell_type": "code",
   "execution_count": 39,
   "id": "6b91fae9",
   "metadata": {},
   "outputs": [
    {
     "data": {
      "text/plain": [
       "0.0"
      ]
     },
     "execution_count": 39,
     "metadata": {},
     "output_type": "execute_result"
    }
   ],
   "source": [
    "acs_ind.log_hh_income.min()"
   ]
  },
  {
   "cell_type": "code",
   "execution_count": 40,
   "id": "877c4174",
   "metadata": {},
   "outputs": [
    {
     "data": {
      "text/html": [
       "<div>\n",
       "<style scoped>\n",
       "    .dataframe tbody tr th:only-of-type {\n",
       "        vertical-align: middle;\n",
       "    }\n",
       "\n",
       "    .dataframe tbody tr th {\n",
       "        vertical-align: top;\n",
       "    }\n",
       "\n",
       "    .dataframe thead th {\n",
       "        text-align: right;\n",
       "    }\n",
       "</style>\n",
       "<table border=\"1\" class=\"dataframe\">\n",
       "  <thead>\n",
       "    <tr style=\"text-align: right;\">\n",
       "      <th></th>\n",
       "      <th>Unnamed: 0</th>\n",
       "      <th>internet_access</th>\n",
       "      <th>internet_access_af</th>\n",
       "      <th>broadband</th>\n",
       "      <th>broadband_af</th>\n",
       "      <th>family_income</th>\n",
       "      <th>family_income_af</th>\n",
       "      <th>hh_income</th>\n",
       "      <th>hh_income_af</th>\n",
       "      <th>poverty</th>\n",
       "      <th>...</th>\n",
       "      <th>weight</th>\n",
       "      <th>public use microdata area</th>\n",
       "      <th>white</th>\n",
       "      <th>nh_white</th>\n",
       "      <th>black</th>\n",
       "      <th>nh_black</th>\n",
       "      <th>asian</th>\n",
       "      <th>nh_asian</th>\n",
       "      <th>log_family_income</th>\n",
       "      <th>log_hh_income</th>\n",
       "    </tr>\n",
       "  </thead>\n",
       "  <tbody>\n",
       "    <tr>\n",
       "      <th>2</th>\n",
       "      <td>2</td>\n",
       "      <td>1</td>\n",
       "      <td>0</td>\n",
       "      <td>1</td>\n",
       "      <td>0</td>\n",
       "      <td>366000</td>\n",
       "      <td>0</td>\n",
       "      <td>366000</td>\n",
       "      <td>0</td>\n",
       "      <td>501</td>\n",
       "      <td>...</td>\n",
       "      <td>15</td>\n",
       "      <td>3420</td>\n",
       "      <td>1</td>\n",
       "      <td>1</td>\n",
       "      <td>0</td>\n",
       "      <td>0</td>\n",
       "      <td>0</td>\n",
       "      <td>0</td>\n",
       "      <td>12.810389</td>\n",
       "      <td>12.810389</td>\n",
       "    </tr>\n",
       "    <tr>\n",
       "      <th>3</th>\n",
       "      <td>3</td>\n",
       "      <td>1</td>\n",
       "      <td>0</td>\n",
       "      <td>1</td>\n",
       "      <td>0</td>\n",
       "      <td>366000</td>\n",
       "      <td>0</td>\n",
       "      <td>366000</td>\n",
       "      <td>0</td>\n",
       "      <td>501</td>\n",
       "      <td>...</td>\n",
       "      <td>13</td>\n",
       "      <td>3420</td>\n",
       "      <td>0</td>\n",
       "      <td>0</td>\n",
       "      <td>0</td>\n",
       "      <td>0</td>\n",
       "      <td>1</td>\n",
       "      <td>1</td>\n",
       "      <td>12.810389</td>\n",
       "      <td>12.810389</td>\n",
       "    </tr>\n",
       "    <tr>\n",
       "      <th>4</th>\n",
       "      <td>4</td>\n",
       "      <td>1</td>\n",
       "      <td>0</td>\n",
       "      <td>1</td>\n",
       "      <td>0</td>\n",
       "      <td>366000</td>\n",
       "      <td>0</td>\n",
       "      <td>366000</td>\n",
       "      <td>0</td>\n",
       "      <td>501</td>\n",
       "      <td>...</td>\n",
       "      <td>14</td>\n",
       "      <td>3420</td>\n",
       "      <td>0</td>\n",
       "      <td>0</td>\n",
       "      <td>0</td>\n",
       "      <td>0</td>\n",
       "      <td>0</td>\n",
       "      <td>0</td>\n",
       "      <td>12.810389</td>\n",
       "      <td>12.810389</td>\n",
       "    </tr>\n",
       "    <tr>\n",
       "      <th>5</th>\n",
       "      <td>5</td>\n",
       "      <td>1</td>\n",
       "      <td>0</td>\n",
       "      <td>1</td>\n",
       "      <td>0</td>\n",
       "      <td>366000</td>\n",
       "      <td>0</td>\n",
       "      <td>366000</td>\n",
       "      <td>0</td>\n",
       "      <td>501</td>\n",
       "      <td>...</td>\n",
       "      <td>12</td>\n",
       "      <td>3420</td>\n",
       "      <td>0</td>\n",
       "      <td>0</td>\n",
       "      <td>0</td>\n",
       "      <td>0</td>\n",
       "      <td>0</td>\n",
       "      <td>0</td>\n",
       "      <td>12.810389</td>\n",
       "      <td>12.810389</td>\n",
       "    </tr>\n",
       "    <tr>\n",
       "      <th>6</th>\n",
       "      <td>6</td>\n",
       "      <td>1</td>\n",
       "      <td>0</td>\n",
       "      <td>1</td>\n",
       "      <td>0</td>\n",
       "      <td>385000</td>\n",
       "      <td>0</td>\n",
       "      <td>385000</td>\n",
       "      <td>0</td>\n",
       "      <td>501</td>\n",
       "      <td>...</td>\n",
       "      <td>16</td>\n",
       "      <td>3502</td>\n",
       "      <td>1</td>\n",
       "      <td>1</td>\n",
       "      <td>0</td>\n",
       "      <td>0</td>\n",
       "      <td>0</td>\n",
       "      <td>0</td>\n",
       "      <td>12.860999</td>\n",
       "      <td>12.860999</td>\n",
       "    </tr>\n",
       "    <tr>\n",
       "      <th>7</th>\n",
       "      <td>7</td>\n",
       "      <td>1</td>\n",
       "      <td>0</td>\n",
       "      <td>1</td>\n",
       "      <td>0</td>\n",
       "      <td>385000</td>\n",
       "      <td>0</td>\n",
       "      <td>385000</td>\n",
       "      <td>0</td>\n",
       "      <td>501</td>\n",
       "      <td>...</td>\n",
       "      <td>16</td>\n",
       "      <td>3502</td>\n",
       "      <td>1</td>\n",
       "      <td>1</td>\n",
       "      <td>0</td>\n",
       "      <td>0</td>\n",
       "      <td>0</td>\n",
       "      <td>0</td>\n",
       "      <td>12.860999</td>\n",
       "      <td>12.860999</td>\n",
       "    </tr>\n",
       "    <tr>\n",
       "      <th>8</th>\n",
       "      <td>8</td>\n",
       "      <td>1</td>\n",
       "      <td>0</td>\n",
       "      <td>1</td>\n",
       "      <td>0</td>\n",
       "      <td>385000</td>\n",
       "      <td>0</td>\n",
       "      <td>385000</td>\n",
       "      <td>0</td>\n",
       "      <td>501</td>\n",
       "      <td>...</td>\n",
       "      <td>17</td>\n",
       "      <td>3502</td>\n",
       "      <td>1</td>\n",
       "      <td>1</td>\n",
       "      <td>0</td>\n",
       "      <td>0</td>\n",
       "      <td>0</td>\n",
       "      <td>0</td>\n",
       "      <td>12.860999</td>\n",
       "      <td>12.860999</td>\n",
       "    </tr>\n",
       "    <tr>\n",
       "      <th>10</th>\n",
       "      <td>10</td>\n",
       "      <td>1</td>\n",
       "      <td>0</td>\n",
       "      <td>1</td>\n",
       "      <td>0</td>\n",
       "      <td>71510</td>\n",
       "      <td>0</td>\n",
       "      <td>71510</td>\n",
       "      <td>0</td>\n",
       "      <td>288</td>\n",
       "      <td>...</td>\n",
       "      <td>15</td>\n",
       "      <td>3422</td>\n",
       "      <td>1</td>\n",
       "      <td>1</td>\n",
       "      <td>0</td>\n",
       "      <td>0</td>\n",
       "      <td>0</td>\n",
       "      <td>0</td>\n",
       "      <td>11.177593</td>\n",
       "      <td>11.177593</td>\n",
       "    </tr>\n",
       "    <tr>\n",
       "      <th>11</th>\n",
       "      <td>11</td>\n",
       "      <td>1</td>\n",
       "      <td>0</td>\n",
       "      <td>1</td>\n",
       "      <td>0</td>\n",
       "      <td>71510</td>\n",
       "      <td>0</td>\n",
       "      <td>71510</td>\n",
       "      <td>0</td>\n",
       "      <td>288</td>\n",
       "      <td>...</td>\n",
       "      <td>15</td>\n",
       "      <td>3422</td>\n",
       "      <td>1</td>\n",
       "      <td>1</td>\n",
       "      <td>0</td>\n",
       "      <td>0</td>\n",
       "      <td>0</td>\n",
       "      <td>0</td>\n",
       "      <td>11.177593</td>\n",
       "      <td>11.177593</td>\n",
       "    </tr>\n",
       "    <tr>\n",
       "      <th>12</th>\n",
       "      <td>12</td>\n",
       "      <td>1</td>\n",
       "      <td>0</td>\n",
       "      <td>1</td>\n",
       "      <td>0</td>\n",
       "      <td>71510</td>\n",
       "      <td>0</td>\n",
       "      <td>71510</td>\n",
       "      <td>0</td>\n",
       "      <td>288</td>\n",
       "      <td>...</td>\n",
       "      <td>22</td>\n",
       "      <td>3422</td>\n",
       "      <td>1</td>\n",
       "      <td>1</td>\n",
       "      <td>0</td>\n",
       "      <td>0</td>\n",
       "      <td>0</td>\n",
       "      <td>0</td>\n",
       "      <td>11.177593</td>\n",
       "      <td>11.177593</td>\n",
       "    </tr>\n",
       "  </tbody>\n",
       "</table>\n",
       "<p>10 rows × 25 columns</p>\n",
       "</div>"
      ],
      "text/plain": [
       "    Unnamed: 0  internet_access  internet_access_af  broadband  broadband_af  \\\n",
       "2            2                1                   0          1             0   \n",
       "3            3                1                   0          1             0   \n",
       "4            4                1                   0          1             0   \n",
       "5            5                1                   0          1             0   \n",
       "6            6                1                   0          1             0   \n",
       "7            7                1                   0          1             0   \n",
       "8            8                1                   0          1             0   \n",
       "10          10                1                   0          1             0   \n",
       "11          11                1                   0          1             0   \n",
       "12          12                1                   0          1             0   \n",
       "\n",
       "    family_income  family_income_af  hh_income  hh_income_af  poverty  ...  \\\n",
       "2          366000                 0     366000             0      501  ...   \n",
       "3          366000                 0     366000             0      501  ...   \n",
       "4          366000                 0     366000             0      501  ...   \n",
       "5          366000                 0     366000             0      501  ...   \n",
       "6          385000                 0     385000             0      501  ...   \n",
       "7          385000                 0     385000             0      501  ...   \n",
       "8          385000                 0     385000             0      501  ...   \n",
       "10          71510                 0      71510             0      288  ...   \n",
       "11          71510                 0      71510             0      288  ...   \n",
       "12          71510                 0      71510             0      288  ...   \n",
       "\n",
       "    weight  public use microdata area  white  nh_white  black  nh_black  \\\n",
       "2       15                       3420      1         1      0         0   \n",
       "3       13                       3420      0         0      0         0   \n",
       "4       14                       3420      0         0      0         0   \n",
       "5       12                       3420      0         0      0         0   \n",
       "6       16                       3502      1         1      0         0   \n",
       "7       16                       3502      1         1      0         0   \n",
       "8       17                       3502      1         1      0         0   \n",
       "10      15                       3422      1         1      0         0   \n",
       "11      15                       3422      1         1      0         0   \n",
       "12      22                       3422      1         1      0         0   \n",
       "\n",
       "    asian  nh_asian  log_family_income  log_hh_income  \n",
       "2       0         0          12.810389      12.810389  \n",
       "3       1         1          12.810389      12.810389  \n",
       "4       0         0          12.810389      12.810389  \n",
       "5       0         0          12.810389      12.810389  \n",
       "6       0         0          12.860999      12.860999  \n",
       "7       0         0          12.860999      12.860999  \n",
       "8       0         0          12.860999      12.860999  \n",
       "10      0         0          11.177593      11.177593  \n",
       "11      0         0          11.177593      11.177593  \n",
       "12      0         0          11.177593      11.177593  \n",
       "\n",
       "[10 rows x 25 columns]"
      ]
     },
     "execution_count": 40,
     "metadata": {},
     "output_type": "execute_result"
    }
   ],
   "source": [
    "acs_ind.head(10)"
   ]
  },
  {
   "cell_type": "markdown",
   "id": "91590f11",
   "metadata": {},
   "source": [
    "#### Visualizations"
   ]
  },
  {
   "cell_type": "code",
   "execution_count": 41,
   "id": "c3b109f9",
   "metadata": {},
   "outputs": [
    {
     "data": {
      "text/plain": [
       "<AxesSubplot:xlabel='internet_access', ylabel='log_hh_income'>"
      ]
     },
     "execution_count": 41,
     "metadata": {},
     "output_type": "execute_result"
    },
    {
     "data": {
      "image/png": "[encoded data removed]",
      "text/plain": [
       "<Figure size 432x288 with 1 Axes>"
      ]
     },
     "metadata": {
      "needs_background": "light"
     },
     "output_type": "display_data"
    }
   ],
   "source": [
    "sns.boxplot(x=\"internet_access\", y=\"log_hh_income\", data=acs_ind)"
   ]
  },
  {
   "cell_type": "code",
   "execution_count": 42,
   "id": "3a4807fe",
   "metadata": {},
   "outputs": [
    {
     "data": {
      "text/plain": [
       "<AxesSubplot:xlabel='internet_access', ylabel='log_family_income'>"
      ]
     },
     "execution_count": 42,
     "metadata": {},
     "output_type": "execute_result"
    },
    {
     "data": {
      "image/png": "[encoded data removed]",
      "text/plain": [
       "<Figure size 432x288 with 1 Axes>"
      ]
     },
     "metadata": {
      "needs_background": "light"
     },
     "output_type": "display_data"
    }
   ],
   "source": [
    "sns.boxplot(x=\"internet_access\", y=\"log_family_income\", data=acs_ind)"
   ]
  },
  {
   "cell_type": "code",
   "execution_count": 43,
   "id": "d293c771",
   "metadata": {},
   "outputs": [
    {
     "name": "stdout",
     "output_type": "stream",
     "text": [
      "percentage with internet access is 91.8771715654052\n",
      "percentage with no internet access 8.122828434594798\n"
     ]
    }
   ],
   "source": [
    "count_no_int = len(acs_ind[acs_ind['internet_access']==0])\n",
    "count_int = len(acs_ind[acs_ind['internet_access']==1])\n",
    "pct_of_int = count_int/(count_no_int+count_int)\n",
    "print(\"percentage with internet access is\", pct_of_int*100)\n",
    "pct_of_no_int = count_no_int/(count_no_int+count_int)\n",
    "print(\"percentage with no internet access\", pct_of_no_int*100)"
   ]
  },
  {
   "cell_type": "markdown",
   "id": "a91ec30f",
   "metadata": {},
   "source": [
    "### List of variables that may impact internet access"
   ]
  },
  {
   "cell_type": "markdown",
   "id": "4f9ff8c1",
   "metadata": {},
   "source": [
    "- household income\n",
    "- family income\n",
    "- race\n",
    "- hispanic\n",
    "- poverty to income ratio "
   ]
  },
  {
   "cell_type": "markdown",
   "id": "85b00cce",
   "metadata": {},
   "source": [
    "### Correlation "
   ]
  },
  {
   "cell_type": "code",
   "execution_count": 44,
   "id": "3ff92a87",
   "metadata": {},
   "outputs": [
    {
     "data": {
      "text/plain": [
       "<AxesSubplot:>"
      ]
     },
     "execution_count": 44,
     "metadata": {},
     "output_type": "execute_result"
    },
    {
     "data": {
      "image/png": "[encoded data removed]",
      "text/plain": [
       "<Figure size 432x288 with 2 Axes>"
      ]
     },
     "metadata": {
      "needs_background": "light"
     },
     "output_type": "display_data"
    }
   ],
   "source": [
    "sns.heatmap(\n",
    "    acs_ind[['internet_access','log_family_income','log_hh_income','poverty','nh_white','nh_black','nh_asian','hispanic']]\n",
    "    .corr()\n",
    ")"
   ]
  },
  {
   "cell_type": "markdown",
   "id": "e6c51f77",
   "metadata": {},
   "source": [
    "#### Logistic Regression"
   ]
  },
  {
   "cell_type": "code",
   "execution_count": 45,
   "id": "280dca5d",
   "metadata": {},
   "outputs": [],
   "source": [
    "from sklearn.model_selection import train_test_split\n",
    "from statsmodels.formula.api import logit"
   ]
  },
  {
   "cell_type": "markdown",
   "id": "4dd652b0",
   "metadata": {},
   "source": [
    "#### Full Model with All Variables"
   ]
  },
  {
   "cell_type": "code",
   "execution_count": 46,
   "id": "08f57bbf",
   "metadata": {},
   "outputs": [
    {
     "name": "stdout",
     "output_type": "stream",
     "text": [
      "Optimization terminated successfully.\n",
      "         Current function value: 0.257311\n",
      "         Iterations 7\n"
     ]
    }
   ],
   "source": [
    "formula=(\"internet_access ~ log_hh_income + hispanic + nh_white + nh_black\")\n",
    "\n",
    "model=logit(formula=formula, data=acs_ind).fit()"
   ]
  },
  {
   "cell_type": "code",
   "execution_count": 47,
   "id": "e7826700",
   "metadata": {},
   "outputs": [
    {
     "data": {
      "text/html": [
       "<table class=\"simpletable\">\n",
       "<caption>Logit Regression Results</caption>\n",
       "<tr>\n",
       "  <th>Dep. Variable:</th>    <td>internet_access</td> <th>  No. Observations:  </th>  <td> 85192</td> \n",
       "</tr>\n",
       "<tr>\n",
       "  <th>Model:</th>                 <td>Logit</td>      <th>  Df Residuals:      </th>  <td> 85187</td> \n",
       "</tr>\n",
       "<tr>\n",
       "  <th>Method:</th>                 <td>MLE</td>       <th>  Df Model:          </th>  <td>     4</td> \n",
       "</tr>\n",
       "<tr>\n",
       "  <th>Date:</th>            <td>Sun, 06 Mar 2022</td> <th>  Pseudo R-squ.:     </th>  <td>0.08677</td>\n",
       "</tr>\n",
       "<tr>\n",
       "  <th>Time:</th>                <td>14:54:01</td>     <th>  Log-Likelihood:    </th> <td> -21921.</td>\n",
       "</tr>\n",
       "<tr>\n",
       "  <th>converged:</th>             <td>True</td>       <th>  LL-Null:           </th> <td> -24004.</td>\n",
       "</tr>\n",
       "<tr>\n",
       "  <th>Covariance Type:</th>     <td>nonrobust</td>    <th>  LLR p-value:       </th>  <td> 0.000</td> \n",
       "</tr>\n",
       "</table>\n",
       "<table class=\"simpletable\">\n",
       "<tr>\n",
       "        <td></td>           <th>coef</th>     <th>std err</th>      <th>z</th>      <th>P>|z|</th>  <th>[0.025</th>    <th>0.975]</th>  \n",
       "</tr>\n",
       "<tr>\n",
       "  <th>Intercept</th>     <td>   -3.3054</td> <td>    0.135</td> <td>  -24.525</td> <td> 0.000</td> <td>   -3.570</td> <td>   -3.041</td>\n",
       "</tr>\n",
       "<tr>\n",
       "  <th>log_hh_income</th> <td>    0.5680</td> <td>    0.012</td> <td>   48.282</td> <td> 0.000</td> <td>    0.545</td> <td>    0.591</td>\n",
       "</tr>\n",
       "<tr>\n",
       "  <th>hispanic</th>      <td>    0.2207</td> <td>    0.033</td> <td>    6.605</td> <td> 0.000</td> <td>    0.155</td> <td>    0.286</td>\n",
       "</tr>\n",
       "<tr>\n",
       "  <th>nh_white</th>      <td>   -0.0345</td> <td>    0.036</td> <td>   -0.968</td> <td> 0.333</td> <td>   -0.104</td> <td>    0.035</td>\n",
       "</tr>\n",
       "<tr>\n",
       "  <th>nh_black</th>      <td>   -0.8120</td> <td>    0.043</td> <td>  -18.708</td> <td> 0.000</td> <td>   -0.897</td> <td>   -0.727</td>\n",
       "</tr>\n",
       "</table>"
      ],
      "text/plain": [
       "<class 'statsmodels.iolib.summary.Summary'>\n",
       "\"\"\"\n",
       "                           Logit Regression Results                           \n",
       "==============================================================================\n",
       "Dep. Variable:        internet_access   No. Observations:                85192\n",
       "Model:                          Logit   Df Residuals:                    85187\n",
       "Method:                           MLE   Df Model:                            4\n",
       "Date:                Sun, 06 Mar 2022   Pseudo R-squ.:                 0.08677\n",
       "Time:                        14:54:01   Log-Likelihood:                -21921.\n",
       "converged:                       True   LL-Null:                       -24004.\n",
       "Covariance Type:            nonrobust   LLR p-value:                     0.000\n",
       "=================================================================================\n",
       "                    coef    std err          z      P>|z|      [0.025      0.975]\n",
       "---------------------------------------------------------------------------------\n",
       "Intercept        -3.3054      0.135    -24.525      0.000      -3.570      -3.041\n",
       "log_hh_income     0.5680      0.012     48.282      0.000       0.545       0.591\n",
       "hispanic          0.2207      0.033      6.605      0.000       0.155       0.286\n",
       "nh_white         -0.0345      0.036     -0.968      0.333      -0.104       0.035\n",
       "nh_black         -0.8120      0.043    -18.708      0.000      -0.897      -0.727\n",
       "=================================================================================\n",
       "\"\"\""
      ]
     },
     "execution_count": 47,
     "metadata": {},
     "output_type": "execute_result"
    }
   ],
   "source": [
    "model.summary()"
   ]
  },
  {
   "cell_type": "markdown",
   "id": "2faa24de",
   "metadata": {},
   "source": [
    "We took out one of the race variables (Asian) because (together, all four race variales are perfectly multicollinear) and that we should probably drop log_family_income and poverty because they’re highly correlated with log_hh_income and would complicate the interpretation and reduce precision without explaining much more of the variation."
   ]
  },
  {
   "cell_type": "markdown",
   "id": "3691982f",
   "metadata": {},
   "source": [
    "#### Income Models"
   ]
  },
  {
   "cell_type": "code",
   "execution_count": 58,
   "id": "1ee7e329",
   "metadata": {},
   "outputs": [
    {
     "name": "stdout",
     "output_type": "stream",
     "text": [
      "Optimization terminated successfully.\n",
      "         Current function value: 0.260726\n",
      "         Iterations 7\n"
     ]
    }
   ],
   "source": [
    "formulaA=(\"internet_access ~ log_hh_income\")\n",
    "\n",
    "modelA=logit(formula=formulaA, data=acs_ind).fit()"
   ]
  },
  {
   "cell_type": "code",
   "execution_count": 59,
   "id": "aa15c192",
   "metadata": {},
   "outputs": [
    {
     "data": {
      "text/html": [
       "<table class=\"simpletable\">\n",
       "<caption>Logit Regression Results</caption>\n",
       "<tr>\n",
       "  <th>Dep. Variable:</th>    <td>internet_access</td> <th>  No. Observations:  </th>  <td> 85192</td> \n",
       "</tr>\n",
       "<tr>\n",
       "  <th>Model:</th>                 <td>Logit</td>      <th>  Df Residuals:      </th>  <td> 85190</td> \n",
       "</tr>\n",
       "<tr>\n",
       "  <th>Method:</th>                 <td>MLE</td>       <th>  Df Model:          </th>  <td>     1</td> \n",
       "</tr>\n",
       "<tr>\n",
       "  <th>Date:</th>            <td>Sun, 06 Mar 2022</td> <th>  Pseudo R-squ.:     </th>  <td>0.07465</td>\n",
       "</tr>\n",
       "<tr>\n",
       "  <th>Time:</th>                <td>14:55:47</td>     <th>  Log-Likelihood:    </th> <td> -22212.</td>\n",
       "</tr>\n",
       "<tr>\n",
       "  <th>converged:</th>             <td>True</td>       <th>  LL-Null:           </th> <td> -24004.</td>\n",
       "</tr>\n",
       "<tr>\n",
       "  <th>Covariance Type:</th>     <td>nonrobust</td>    <th>  LLR p-value:       </th>  <td> 0.000</td> \n",
       "</tr>\n",
       "</table>\n",
       "<table class=\"simpletable\">\n",
       "<tr>\n",
       "        <td></td>           <th>coef</th>     <th>std err</th>      <th>z</th>      <th>P>|z|</th>  <th>[0.025</th>    <th>0.975]</th>  \n",
       "</tr>\n",
       "<tr>\n",
       "  <th>Intercept</th>     <td>   -4.6931</td> <td>    0.119</td> <td>  -39.354</td> <td> 0.000</td> <td>   -4.927</td> <td>   -4.459</td>\n",
       "</tr>\n",
       "<tr>\n",
       "  <th>log_hh_income</th> <td>    0.6524</td> <td>    0.011</td> <td>   58.603</td> <td> 0.000</td> <td>    0.631</td> <td>    0.674</td>\n",
       "</tr>\n",
       "</table>"
      ],
      "text/plain": [
       "<class 'statsmodels.iolib.summary.Summary'>\n",
       "\"\"\"\n",
       "                           Logit Regression Results                           \n",
       "==============================================================================\n",
       "Dep. Variable:        internet_access   No. Observations:                85192\n",
       "Model:                          Logit   Df Residuals:                    85190\n",
       "Method:                           MLE   Df Model:                            1\n",
       "Date:                Sun, 06 Mar 2022   Pseudo R-squ.:                 0.07465\n",
       "Time:                        14:55:47   Log-Likelihood:                -22212.\n",
       "converged:                       True   LL-Null:                       -24004.\n",
       "Covariance Type:            nonrobust   LLR p-value:                     0.000\n",
       "=================================================================================\n",
       "                    coef    std err          z      P>|z|      [0.025      0.975]\n",
       "---------------------------------------------------------------------------------\n",
       "Intercept        -4.6931      0.119    -39.354      0.000      -4.927      -4.459\n",
       "log_hh_income     0.6524      0.011     58.603      0.000       0.631       0.674\n",
       "=================================================================================\n",
       "\"\"\""
      ]
     },
     "execution_count": 59,
     "metadata": {},
     "output_type": "execute_result"
    }
   ],
   "source": [
    "modelA.summary()"
   ]
  },
  {
   "cell_type": "code",
   "execution_count": 60,
   "id": "0dfc36be",
   "metadata": {},
   "outputs": [
    {
     "name": "stdout",
     "output_type": "stream",
     "text": [
      "Optimization terminated successfully.\n",
      "         Current function value: 0.261588\n",
      "         Iterations 7\n"
     ]
    }
   ],
   "source": [
    "formulaB=(\"internet_access ~ log_family_income\")\n",
    "\n",
    "modelB=logit(formula=formulaB, data=acs_ind).fit()"
   ]
  },
  {
   "cell_type": "code",
   "execution_count": 61,
   "id": "0ca55458",
   "metadata": {},
   "outputs": [
    {
     "data": {
      "text/html": [
       "<table class=\"simpletable\">\n",
       "<caption>Logit Regression Results</caption>\n",
       "<tr>\n",
       "  <th>Dep. Variable:</th>    <td>internet_access</td> <th>  No. Observations:  </th>  <td> 85192</td> \n",
       "</tr>\n",
       "<tr>\n",
       "  <th>Model:</th>                 <td>Logit</td>      <th>  Df Residuals:      </th>  <td> 85190</td> \n",
       "</tr>\n",
       "<tr>\n",
       "  <th>Method:</th>                 <td>MLE</td>       <th>  Df Model:          </th>  <td>     1</td> \n",
       "</tr>\n",
       "<tr>\n",
       "  <th>Date:</th>            <td>Sun, 06 Mar 2022</td> <th>  Pseudo R-squ.:     </th>  <td>0.07159</td>\n",
       "</tr>\n",
       "<tr>\n",
       "  <th>Time:</th>                <td>14:56:08</td>     <th>  Log-Likelihood:    </th> <td> -22285.</td>\n",
       "</tr>\n",
       "<tr>\n",
       "  <th>converged:</th>             <td>True</td>       <th>  LL-Null:           </th> <td> -24004.</td>\n",
       "</tr>\n",
       "<tr>\n",
       "  <th>Covariance Type:</th>     <td>nonrobust</td>    <th>  LLR p-value:       </th>  <td> 0.000</td> \n",
       "</tr>\n",
       "</table>\n",
       "<table class=\"simpletable\">\n",
       "<tr>\n",
       "          <td></td>             <th>coef</th>     <th>std err</th>      <th>z</th>      <th>P>|z|</th>  <th>[0.025</th>    <th>0.975]</th>  \n",
       "</tr>\n",
       "<tr>\n",
       "  <th>Intercept</th>         <td>   -4.3837</td> <td>    0.116</td> <td>  -37.777</td> <td> 0.000</td> <td>   -4.611</td> <td>   -4.156</td>\n",
       "</tr>\n",
       "<tr>\n",
       "  <th>log_family_income</th> <td>    0.6265</td> <td>    0.011</td> <td>   57.608</td> <td> 0.000</td> <td>    0.605</td> <td>    0.648</td>\n",
       "</tr>\n",
       "</table>"
      ],
      "text/plain": [
       "<class 'statsmodels.iolib.summary.Summary'>\n",
       "\"\"\"\n",
       "                           Logit Regression Results                           \n",
       "==============================================================================\n",
       "Dep. Variable:        internet_access   No. Observations:                85192\n",
       "Model:                          Logit   Df Residuals:                    85190\n",
       "Method:                           MLE   Df Model:                            1\n",
       "Date:                Sun, 06 Mar 2022   Pseudo R-squ.:                 0.07159\n",
       "Time:                        14:56:08   Log-Likelihood:                -22285.\n",
       "converged:                       True   LL-Null:                       -24004.\n",
       "Covariance Type:            nonrobust   LLR p-value:                     0.000\n",
       "=====================================================================================\n",
       "                        coef    std err          z      P>|z|      [0.025      0.975]\n",
       "-------------------------------------------------------------------------------------\n",
       "Intercept            -4.3837      0.116    -37.777      0.000      -4.611      -4.156\n",
       "log_family_income     0.6265      0.011     57.608      0.000       0.605       0.648\n",
       "=====================================================================================\n",
       "\"\"\""
      ]
     },
     "execution_count": 61,
     "metadata": {},
     "output_type": "execute_result"
    }
   ],
   "source": [
    "modelB.summary()"
   ]
  },
  {
   "cell_type": "code",
   "execution_count": 62,
   "id": "1b0cc3a9",
   "metadata": {},
   "outputs": [
    {
     "name": "stdout",
     "output_type": "stream",
     "text": [
      "Optimization terminated successfully.\n",
      "         Current function value: 0.263059\n",
      "         Iterations 7\n"
     ]
    }
   ],
   "source": [
    "formulaC=(\"internet_access ~ poverty\")\n",
    "\n",
    "modelC=logit(formula=formulaC, data=acs_ind).fit()"
   ]
  },
  {
   "cell_type": "code",
   "execution_count": 63,
   "id": "ef9ed12a",
   "metadata": {},
   "outputs": [
    {
     "data": {
      "text/html": [
       "<table class=\"simpletable\">\n",
       "<caption>Logit Regression Results</caption>\n",
       "<tr>\n",
       "  <th>Dep. Variable:</th>    <td>internet_access</td> <th>  No. Observations:  </th>  <td> 85192</td> \n",
       "</tr>\n",
       "<tr>\n",
       "  <th>Model:</th>                 <td>Logit</td>      <th>  Df Residuals:      </th>  <td> 85190</td> \n",
       "</tr>\n",
       "<tr>\n",
       "  <th>Method:</th>                 <td>MLE</td>       <th>  Df Model:          </th>  <td>     1</td> \n",
       "</tr>\n",
       "<tr>\n",
       "  <th>Date:</th>            <td>Sun, 06 Mar 2022</td> <th>  Pseudo R-squ.:     </th>  <td>0.06637</td>\n",
       "</tr>\n",
       "<tr>\n",
       "  <th>Time:</th>                <td>14:56:31</td>     <th>  Log-Likelihood:    </th> <td> -22411.</td>\n",
       "</tr>\n",
       "<tr>\n",
       "  <th>converged:</th>             <td>True</td>       <th>  LL-Null:           </th> <td> -24004.</td>\n",
       "</tr>\n",
       "<tr>\n",
       "  <th>Covariance Type:</th>     <td>nonrobust</td>    <th>  LLR p-value:       </th>  <td> 0.000</td> \n",
       "</tr>\n",
       "</table>\n",
       "<table class=\"simpletable\">\n",
       "<tr>\n",
       "      <td></td>         <th>coef</th>     <th>std err</th>      <th>z</th>      <th>P>|z|</th>  <th>[0.025</th>    <th>0.975]</th>  \n",
       "</tr>\n",
       "<tr>\n",
       "  <th>Intercept</th> <td>    1.2529</td> <td>    0.022</td> <td>   56.753</td> <td> 0.000</td> <td>    1.210</td> <td>    1.296</td>\n",
       "</tr>\n",
       "<tr>\n",
       "  <th>poverty</th>   <td>    0.0043</td> <td> 8.08e-05</td> <td>   53.523</td> <td> 0.000</td> <td>    0.004</td> <td>    0.004</td>\n",
       "</tr>\n",
       "</table>"
      ],
      "text/plain": [
       "<class 'statsmodels.iolib.summary.Summary'>\n",
       "\"\"\"\n",
       "                           Logit Regression Results                           \n",
       "==============================================================================\n",
       "Dep. Variable:        internet_access   No. Observations:                85192\n",
       "Model:                          Logit   Df Residuals:                    85190\n",
       "Method:                           MLE   Df Model:                            1\n",
       "Date:                Sun, 06 Mar 2022   Pseudo R-squ.:                 0.06637\n",
       "Time:                        14:56:31   Log-Likelihood:                -22411.\n",
       "converged:                       True   LL-Null:                       -24004.\n",
       "Covariance Type:            nonrobust   LLR p-value:                     0.000\n",
       "==============================================================================\n",
       "                 coef    std err          z      P>|z|      [0.025      0.975]\n",
       "------------------------------------------------------------------------------\n",
       "Intercept      1.2529      0.022     56.753      0.000       1.210       1.296\n",
       "poverty        0.0043   8.08e-05     53.523      0.000       0.004       0.004\n",
       "==============================================================================\n",
       "\"\"\""
      ]
     },
     "execution_count": 63,
     "metadata": {},
     "output_type": "execute_result"
    }
   ],
   "source": [
    "modelC.summary()"
   ]
  },
  {
   "cell_type": "markdown",
   "id": "9c88c56e",
   "metadata": {},
   "source": [
    "#### Race & Ethnicity Models "
   ]
  },
  {
   "cell_type": "code",
   "execution_count": 48,
   "id": "3818bbe2",
   "metadata": {},
   "outputs": [
    {
     "name": "stdout",
     "output_type": "stream",
     "text": [
      "Optimization terminated successfully.\n",
      "         Current function value: 0.281224\n",
      "         Iterations 6\n"
     ]
    }
   ],
   "source": [
    "formula0=(\"internet_access ~ hispanic\")\n",
    "\n",
    "model0=logit(formula=formula0, data=acs_ind).fit()"
   ]
  },
  {
   "cell_type": "code",
   "execution_count": 56,
   "id": "4646f151",
   "metadata": {},
   "outputs": [
    {
     "data": {
      "text/html": [
       "<table class=\"simpletable\">\n",
       "<caption>Logit Regression Results</caption>\n",
       "<tr>\n",
       "  <th>Dep. Variable:</th>    <td>internet_access</td> <th>  No. Observations:  </th>  <td> 85192</td>  \n",
       "</tr>\n",
       "<tr>\n",
       "  <th>Model:</th>                 <td>Logit</td>      <th>  Df Residuals:      </th>  <td> 85190</td>  \n",
       "</tr>\n",
       "<tr>\n",
       "  <th>Method:</th>                 <td>MLE</td>       <th>  Df Model:          </th>  <td>     1</td>  \n",
       "</tr>\n",
       "<tr>\n",
       "  <th>Date:</th>            <td>Sun, 06 Mar 2022</td> <th>  Pseudo R-squ.:     </th> <td>0.001899</td> \n",
       "</tr>\n",
       "<tr>\n",
       "  <th>Time:</th>                <td>14:54:09</td>     <th>  Log-Likelihood:    </th> <td> -23958.</td> \n",
       "</tr>\n",
       "<tr>\n",
       "  <th>converged:</th>             <td>True</td>       <th>  LL-Null:           </th> <td> -24004.</td> \n",
       "</tr>\n",
       "<tr>\n",
       "  <th>Covariance Type:</th>     <td>nonrobust</td>    <th>  LLR p-value:       </th> <td>1.333e-21</td>\n",
       "</tr>\n",
       "</table>\n",
       "<table class=\"simpletable\">\n",
       "<tr>\n",
       "      <td></td>         <th>coef</th>     <th>std err</th>      <th>z</th>      <th>P>|z|</th>  <th>[0.025</th>    <th>0.975]</th>  \n",
       "</tr>\n",
       "<tr>\n",
       "  <th>Intercept</th> <td>    2.5084</td> <td>    0.016</td> <td>  161.395</td> <td> 0.000</td> <td>    2.478</td> <td>    2.539</td>\n",
       "</tr>\n",
       "<tr>\n",
       "  <th>hispanic</th>  <td>   -0.2543</td> <td>    0.026</td> <td>   -9.654</td> <td> 0.000</td> <td>   -0.306</td> <td>   -0.203</td>\n",
       "</tr>\n",
       "</table>"
      ],
      "text/plain": [
       "<class 'statsmodels.iolib.summary.Summary'>\n",
       "\"\"\"\n",
       "                           Logit Regression Results                           \n",
       "==============================================================================\n",
       "Dep. Variable:        internet_access   No. Observations:                85192\n",
       "Model:                          Logit   Df Residuals:                    85190\n",
       "Method:                           MLE   Df Model:                            1\n",
       "Date:                Sun, 06 Mar 2022   Pseudo R-squ.:                0.001899\n",
       "Time:                        14:54:09   Log-Likelihood:                -23958.\n",
       "converged:                       True   LL-Null:                       -24004.\n",
       "Covariance Type:            nonrobust   LLR p-value:                 1.333e-21\n",
       "==============================================================================\n",
       "                 coef    std err          z      P>|z|      [0.025      0.975]\n",
       "------------------------------------------------------------------------------\n",
       "Intercept      2.5084      0.016    161.395      0.000       2.478       2.539\n",
       "hispanic      -0.2543      0.026     -9.654      0.000      -0.306      -0.203\n",
       "==============================================================================\n",
       "\"\"\""
      ]
     },
     "execution_count": 56,
     "metadata": {},
     "output_type": "execute_result"
    }
   ],
   "source": [
    "model0.summary()"
   ]
  },
  {
   "cell_type": "code",
   "execution_count": 50,
   "id": "cdb7c757",
   "metadata": {},
   "outputs": [
    {
     "name": "stdout",
     "output_type": "stream",
     "text": [
      "Optimization terminated successfully.\n",
      "         Current function value: 0.277183\n",
      "         Iterations 7\n"
     ]
    }
   ],
   "source": [
    "formula1=(\"internet_access ~ nh_white\")\n",
    "\n",
    "model1=logit(formula=formula1, data=acs_ind).fit()"
   ]
  },
  {
   "cell_type": "code",
   "execution_count": 51,
   "id": "f71d6625",
   "metadata": {},
   "outputs": [
    {
     "data": {
      "text/html": [
       "<table class=\"simpletable\">\n",
       "<caption>Logit Regression Results</caption>\n",
       "<tr>\n",
       "  <th>Dep. Variable:</th>    <td>internet_access</td> <th>  No. Observations:  </th>   <td> 85192</td>  \n",
       "</tr>\n",
       "<tr>\n",
       "  <th>Model:</th>                 <td>Logit</td>      <th>  Df Residuals:      </th>   <td> 85190</td>  \n",
       "</tr>\n",
       "<tr>\n",
       "  <th>Method:</th>                 <td>MLE</td>       <th>  Df Model:          </th>   <td>     1</td>  \n",
       "</tr>\n",
       "<tr>\n",
       "  <th>Date:</th>            <td>Sun, 06 Mar 2022</td> <th>  Pseudo R-squ.:     </th>   <td>0.01624</td> \n",
       "</tr>\n",
       "<tr>\n",
       "  <th>Time:</th>                <td>14:54:01</td>     <th>  Log-Likelihood:    </th>  <td> -23614.</td> \n",
       "</tr>\n",
       "<tr>\n",
       "  <th>converged:</th>             <td>True</td>       <th>  LL-Null:           </th>  <td> -24004.</td> \n",
       "</tr>\n",
       "<tr>\n",
       "  <th>Covariance Type:</th>     <td>nonrobust</td>    <th>  LLR p-value:       </th> <td>1.382e-171</td>\n",
       "</tr>\n",
       "</table>\n",
       "<table class=\"simpletable\">\n",
       "<tr>\n",
       "      <td></td>         <th>coef</th>     <th>std err</th>      <th>z</th>      <th>P>|z|</th>  <th>[0.025</th>    <th>0.975]</th>  \n",
       "</tr>\n",
       "<tr>\n",
       "  <th>Intercept</th> <td>    2.1275</td> <td>    0.016</td> <td>  137.091</td> <td> 0.000</td> <td>    2.097</td> <td>    2.158</td>\n",
       "</tr>\n",
       "<tr>\n",
       "  <th>nh_white</th>  <td>    0.7218</td> <td>    0.027</td> <td>   27.161</td> <td> 0.000</td> <td>    0.670</td> <td>    0.774</td>\n",
       "</tr>\n",
       "</table>"
      ],
      "text/plain": [
       "<class 'statsmodels.iolib.summary.Summary'>\n",
       "\"\"\"\n",
       "                           Logit Regression Results                           \n",
       "==============================================================================\n",
       "Dep. Variable:        internet_access   No. Observations:                85192\n",
       "Model:                          Logit   Df Residuals:                    85190\n",
       "Method:                           MLE   Df Model:                            1\n",
       "Date:                Sun, 06 Mar 2022   Pseudo R-squ.:                 0.01624\n",
       "Time:                        14:54:01   Log-Likelihood:                -23614.\n",
       "converged:                       True   LL-Null:                       -24004.\n",
       "Covariance Type:            nonrobust   LLR p-value:                1.382e-171\n",
       "==============================================================================\n",
       "                 coef    std err          z      P>|z|      [0.025      0.975]\n",
       "------------------------------------------------------------------------------\n",
       "Intercept      2.1275      0.016    137.091      0.000       2.097       2.158\n",
       "nh_white       0.7218      0.027     27.161      0.000       0.670       0.774\n",
       "==============================================================================\n",
       "\"\"\""
      ]
     },
     "execution_count": 51,
     "metadata": {},
     "output_type": "execute_result"
    }
   ],
   "source": [
    "model1.summary()"
   ]
  },
  {
   "cell_type": "code",
   "execution_count": 52,
   "id": "cd3ab496",
   "metadata": {},
   "outputs": [
    {
     "name": "stdout",
     "output_type": "stream",
     "text": [
      "Optimization terminated successfully.\n",
      "         Current function value: 0.272398\n",
      "         Iterations 7\n"
     ]
    }
   ],
   "source": [
    "formula2=(\"internet_access ~ nh_black\")\n",
    "\n",
    "model2=logit(formula=formula2, data=acs_ind).fit()"
   ]
  },
  {
   "cell_type": "code",
   "execution_count": 53,
   "id": "072ad8f5",
   "metadata": {},
   "outputs": [
    {
     "data": {
      "text/html": [
       "<table class=\"simpletable\">\n",
       "<caption>Logit Regression Results</caption>\n",
       "<tr>\n",
       "  <th>Dep. Variable:</th>    <td>internet_access</td> <th>  No. Observations:  </th>  <td> 85192</td> \n",
       "</tr>\n",
       "<tr>\n",
       "  <th>Model:</th>                 <td>Logit</td>      <th>  Df Residuals:      </th>  <td> 85190</td> \n",
       "</tr>\n",
       "<tr>\n",
       "  <th>Method:</th>                 <td>MLE</td>       <th>  Df Model:          </th>  <td>     1</td> \n",
       "</tr>\n",
       "<tr>\n",
       "  <th>Date:</th>            <td>Sun, 06 Mar 2022</td> <th>  Pseudo R-squ.:     </th>  <td>0.03323</td>\n",
       "</tr>\n",
       "<tr>\n",
       "  <th>Time:</th>                <td>14:54:02</td>     <th>  Log-Likelihood:    </th> <td> -23206.</td>\n",
       "</tr>\n",
       "<tr>\n",
       "  <th>converged:</th>             <td>True</td>       <th>  LL-Null:           </th> <td> -24004.</td>\n",
       "</tr>\n",
       "<tr>\n",
       "  <th>Covariance Type:</th>     <td>nonrobust</td>    <th>  LLR p-value:       </th>  <td> 0.000</td> \n",
       "</tr>\n",
       "</table>\n",
       "<table class=\"simpletable\">\n",
       "<tr>\n",
       "      <td></td>         <th>coef</th>     <th>std err</th>      <th>z</th>      <th>P>|z|</th>  <th>[0.025</th>    <th>0.975]</th>  \n",
       "</tr>\n",
       "<tr>\n",
       "  <th>Intercept</th> <td>    3.1180</td> <td>    0.025</td> <td>  125.324</td> <td> 0.000</td> <td>    3.069</td> <td>    3.167</td>\n",
       "</tr>\n",
       "<tr>\n",
       "  <th>nh_black</th>  <td>   -1.0806</td> <td>    0.029</td> <td>  -37.394</td> <td> 0.000</td> <td>   -1.137</td> <td>   -1.024</td>\n",
       "</tr>\n",
       "</table>"
      ],
      "text/plain": [
       "<class 'statsmodels.iolib.summary.Summary'>\n",
       "\"\"\"\n",
       "                           Logit Regression Results                           \n",
       "==============================================================================\n",
       "Dep. Variable:        internet_access   No. Observations:                85192\n",
       "Model:                          Logit   Df Residuals:                    85190\n",
       "Method:                           MLE   Df Model:                            1\n",
       "Date:                Sun, 06 Mar 2022   Pseudo R-squ.:                 0.03323\n",
       "Time:                        14:54:02   Log-Likelihood:                -23206.\n",
       "converged:                       True   LL-Null:                       -24004.\n",
       "Covariance Type:            nonrobust   LLR p-value:                     0.000\n",
       "==============================================================================\n",
       "                 coef    std err          z      P>|z|      [0.025      0.975]\n",
       "------------------------------------------------------------------------------\n",
       "Intercept      3.1180      0.025    125.324      0.000       3.069       3.167\n",
       "nh_black      -1.0806      0.029    -37.394      0.000      -1.137      -1.024\n",
       "==============================================================================\n",
       "\"\"\""
      ]
     },
     "execution_count": 53,
     "metadata": {},
     "output_type": "execute_result"
    }
   ],
   "source": [
    "model2.summary()"
   ]
  },
  {
   "cell_type": "code",
   "execution_count": 54,
   "id": "f1a13970",
   "metadata": {},
   "outputs": [
    {
     "name": "stdout",
     "output_type": "stream",
     "text": [
      "Optimization terminated successfully.\n",
      "         Current function value: 0.281739\n",
      "         Iterations 6\n"
     ]
    }
   ],
   "source": [
    "formula3=(\"internet_access ~ nh_asian\")\n",
    "\n",
    "model3=logit(formula=formula3, data=acs_ind).fit()"
   ]
  },
  {
   "cell_type": "code",
   "execution_count": 55,
   "id": "b9b05d14",
   "metadata": {},
   "outputs": [
    {
     "data": {
      "text/html": [
       "<table class=\"simpletable\">\n",
       "<caption>Logit Regression Results</caption>\n",
       "<tr>\n",
       "  <th>Dep. Variable:</th>    <td>internet_access</td> <th>  No. Observations:  </th>  <td> 85192</td>  \n",
       "</tr>\n",
       "<tr>\n",
       "  <th>Model:</th>                 <td>Logit</td>      <th>  Df Residuals:      </th>  <td> 85190</td>  \n",
       "</tr>\n",
       "<tr>\n",
       "  <th>Method:</th>                 <td>MLE</td>       <th>  Df Model:          </th>  <td>     1</td>  \n",
       "</tr>\n",
       "<tr>\n",
       "  <th>Date:</th>            <td>Sun, 06 Mar 2022</td> <th>  Pseudo R-squ.:     </th> <td>6.965e-05</td>\n",
       "</tr>\n",
       "<tr>\n",
       "  <th>Time:</th>                <td>14:54:02</td>     <th>  Log-Likelihood:    </th> <td> -24002.</td> \n",
       "</tr>\n",
       "<tr>\n",
       "  <th>converged:</th>             <td>True</td>       <th>  LL-Null:           </th> <td> -24004.</td> \n",
       "</tr>\n",
       "<tr>\n",
       "  <th>Covariance Type:</th>     <td>nonrobust</td>    <th>  LLR p-value:       </th>  <td>0.06747</td> \n",
       "</tr>\n",
       "</table>\n",
       "<table class=\"simpletable\">\n",
       "<tr>\n",
       "      <td></td>         <th>coef</th>     <th>std err</th>      <th>z</th>      <th>P>|z|</th>  <th>[0.025</th>    <th>0.975]</th>  \n",
       "</tr>\n",
       "<tr>\n",
       "  <th>Intercept</th> <td>    2.4436</td> <td>    0.016</td> <td>  153.148</td> <td> 0.000</td> <td>    2.412</td> <td>    2.475</td>\n",
       "</tr>\n",
       "<tr>\n",
       "  <th>nh_asian</th>  <td>   -0.0473</td> <td>    0.026</td> <td>   -1.831</td> <td> 0.067</td> <td>   -0.098</td> <td>    0.003</td>\n",
       "</tr>\n",
       "</table>"
      ],
      "text/plain": [
       "<class 'statsmodels.iolib.summary.Summary'>\n",
       "\"\"\"\n",
       "                           Logit Regression Results                           \n",
       "==============================================================================\n",
       "Dep. Variable:        internet_access   No. Observations:                85192\n",
       "Model:                          Logit   Df Residuals:                    85190\n",
       "Method:                           MLE   Df Model:                            1\n",
       "Date:                Sun, 06 Mar 2022   Pseudo R-squ.:               6.965e-05\n",
       "Time:                        14:54:02   Log-Likelihood:                -24002.\n",
       "converged:                       True   LL-Null:                       -24004.\n",
       "Covariance Type:            nonrobust   LLR p-value:                   0.06747\n",
       "==============================================================================\n",
       "                 coef    std err          z      P>|z|      [0.025      0.975]\n",
       "------------------------------------------------------------------------------\n",
       "Intercept      2.4436      0.016    153.148      0.000       2.412       2.475\n",
       "nh_asian      -0.0473      0.026     -1.831      0.067      -0.098       0.003\n",
       "==============================================================================\n",
       "\"\"\""
      ]
     },
     "execution_count": 55,
     "metadata": {},
     "output_type": "execute_result"
    }
   ],
   "source": [
    "model3.summary()"
   ]
  },
  {
   "cell_type": "code",
   "execution_count": null,
   "id": "6358fa90",
   "metadata": {},
   "outputs": [],
   "source": []
  }
 ],
 "metadata": {
  "kernelspec": {
   "display_name": "Python 3.8.5 64-bit ('anaconda3': virtualenv)",
   "language": "python",
   "name": "python385jvsc74a57bd097e81732a71c5b40b952c79202e1b58ed08ca490443701847872addaf71e1671"
  },
  "language_info": {
   "codemirror_mode": {
    "name": "ipython",
    "version": 3
   },
   "file_extension": ".py",
   "mimetype": "text/x-python",
   "name": "python",
   "nbconvert_exporter": "python",
   "pygments_lexer": "ipython3",
   "version": "3.9.7"
  }
 },
 "nbformat": 4,
 "nbformat_minor": 5
}
