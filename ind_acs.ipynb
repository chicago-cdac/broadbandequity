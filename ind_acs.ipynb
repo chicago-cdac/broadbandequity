{
 "cells": [
  {
   "cell_type": "markdown",
   "id": "1d53be40",
   "metadata": {},
   "source": [
    "### Individual ACS Data"
   ]
  },
  {
   "cell_type": "markdown",
   "id": "45b28f40",
   "metadata": {},
   "source": [
    "[Documentation](https://www2.census.gov/programs-surveys/acs/tech_docs/pums/data_dict/PUMS_Data_Dictionary_2015-2019.pdf)"
   ]
  },
  {
   "cell_type": "code",
   "execution_count": 1,
   "id": "850d1e4a",
   "metadata": {},
   "outputs": [],
   "source": [
    "import numpy as np\n",
    "import pandas as pd\n",
    "import matplotlib.pyplot as plt\n",
    "import seaborn as sns"
   ]
  },
  {
   "cell_type": "code",
   "execution_count": 2,
   "id": "41aed584",
   "metadata": {},
   "outputs": [],
   "source": [
    "#from data_pipeline import fetch_census_data"
   ]
  },
  {
   "cell_type": "code",
   "execution_count": 3,
   "id": "082af724",
   "metadata": {},
   "outputs": [],
   "source": [
    "#fetch_census_data.acs5_individual(force_api_call=True)"
   ]
  },
  {
   "cell_type": "code",
   "execution_count": 4,
   "id": "d3601680",
   "metadata": {},
   "outputs": [],
   "source": [
    "# loading individual acs data\n",
    "\n",
    "acs_ind=pd.read_csv(\"data/acs5_individual.csv\").drop(\n",
    "                        ['Unnamed: 0', 'state'], axis=1)"
   ]
  },
  {
   "cell_type": "code",
   "execution_count": 5,
   "id": "61376179",
   "metadata": {},
   "outputs": [
    {
     "data": {
      "text/plain": [
       "array([1, 3, 0, 2])"
      ]
     },
     "execution_count": 5,
     "metadata": {},
     "output_type": "execute_result"
    }
   ],
   "source": [
    "# get rid of 0\n",
    "acs_ind.internet_access.unique()"
   ]
  },
  {
   "cell_type": "code",
   "execution_count": 6,
   "id": "02cac8e5",
   "metadata": {},
   "outputs": [],
   "source": [
    "# get rid of those who did not respond to internet access question\n",
    "acs_ind = acs_ind[acs_ind['internet_access'] >0]"
   ]
  },
  {
   "cell_type": "code",
   "execution_count": 7,
   "id": "0371bb77",
   "metadata": {},
   "outputs": [],
   "source": [
    "# recoding internet access\n",
    "# 0 = no access\n",
    "# 1 = access \n",
    "\n",
    "acs_ind.loc[(acs_ind.internet_access == 2),'internet_access']=1\n",
    "acs_ind.loc[(acs_ind.internet_access == 3),'internet_access']=0"
   ]
  },
  {
   "cell_type": "code",
   "execution_count": 8,
   "id": "e5d8697f",
   "metadata": {},
   "outputs": [],
   "source": [
    "# recoding hispanic\n",
    "# 0 = not hispanic\n",
    "# 1 = hispanic\n",
    "\n",
    "acs_ind.loc[(acs_ind.hispanic == 1),'hispanic']=0\n",
    "acs_ind.loc[(acs_ind.hispanic > 1),'hispanic']=1"
   ]
  },
  {
   "cell_type": "code",
   "execution_count": 9,
   "id": "18fa7645",
   "metadata": {},
   "outputs": [
    {
     "data": {
      "text/plain": [
       "array([ -60000,  366000,  385000, ...,  211900, 1033000,  315300])"
      ]
     },
     "execution_count": 9,
     "metadata": {},
     "output_type": "execute_result"
    }
   ],
   "source": [
    "acs_ind.family_income.unique()"
   ]
  },
  {
   "cell_type": "code",
   "execution_count": 10,
   "id": "add01ac6",
   "metadata": {},
   "outputs": [
    {
     "data": {
      "text/plain": [
       "array([   1000,   96000,  366000, ..., 1033000,  315300,   68380])"
      ]
     },
     "execution_count": 10,
     "metadata": {},
     "output_type": "execute_result"
    }
   ],
   "source": [
    "acs_ind.hh_income.unique()"
   ]
  },
  {
   "cell_type": "code",
   "execution_count": 11,
   "id": "03f4be15",
   "metadata": {},
   "outputs": [],
   "source": [
    "# keeping incomes above 0 \n",
    "\n",
    "acs_ind1 = acs_ind[acs_ind['hh_income'] >0]\n",
    "acs_ind1 = acs_ind[acs_ind['family_income'] >0]"
   ]
  },
  {
   "cell_type": "code",
   "execution_count": 12,
   "id": "79945c8b",
   "metadata": {},
   "outputs": [
    {
     "name": "stderr",
     "output_type": "stream",
     "text": [
      "/var/folders/yh/k_65n3ts3434_qy657hn5pmw0000gn/T/ipykernel_86580/758154451.py:3: SettingWithCopyWarning: \n",
      "A value is trying to be set on a copy of a slice from a DataFrame.\n",
      "Try using .loc[row_indexer,col_indexer] = value instead\n",
      "\n",
      "See the caveats in the documentation: https://pandas.pydata.org/pandas-docs/stable/user_guide/indexing.html#returning-a-view-versus-a-copy\n",
      "  acs_ind1[\"log_family_income\"]=acs_ind1[\"family_income\"].apply(lambda x: np.log(x))\n",
      "/var/folders/yh/k_65n3ts3434_qy657hn5pmw0000gn/T/ipykernel_86580/758154451.py:4: SettingWithCopyWarning: \n",
      "A value is trying to be set on a copy of a slice from a DataFrame.\n",
      "Try using .loc[row_indexer,col_indexer] = value instead\n",
      "\n",
      "See the caveats in the documentation: https://pandas.pydata.org/pandas-docs/stable/user_guide/indexing.html#returning-a-view-versus-a-copy\n",
      "  acs_ind1[\"log_hh_income\"]=acs_ind1[\"hh_income\"].apply(lambda x: np.log(x))\n"
     ]
    }
   ],
   "source": [
    "# log incomes\n",
    "\n",
    "acs_ind1[\"log_family_income\"]=acs_ind1[\"family_income\"].apply(lambda x: np.log(x))\n",
    "acs_ind1[\"log_hh_income\"]=acs_ind1[\"hh_income\"].apply(lambda x: np.log(x))"
   ]
  },
  {
   "cell_type": "code",
   "execution_count": 13,
   "id": "6b91fae9",
   "metadata": {},
   "outputs": [
    {
     "data": {
      "text/html": [
       "<div>\n",
       "<style scoped>\n",
       "    .dataframe tbody tr th:only-of-type {\n",
       "        vertical-align: middle;\n",
       "    }\n",
       "\n",
       "    .dataframe tbody tr th {\n",
       "        vertical-align: top;\n",
       "    }\n",
       "\n",
       "    .dataframe thead th {\n",
       "        text-align: right;\n",
       "    }\n",
       "</style>\n",
       "<table border=\"1\" class=\"dataframe\">\n",
       "  <thead>\n",
       "    <tr style=\"text-align: right;\">\n",
       "      <th></th>\n",
       "      <th>internet_access</th>\n",
       "      <th>internet_access_af</th>\n",
       "      <th>broadband</th>\n",
       "      <th>broadband_af</th>\n",
       "      <th>family_income</th>\n",
       "      <th>family_income_af</th>\n",
       "      <th>hh_income</th>\n",
       "      <th>hh_income_af</th>\n",
       "      <th>poverty</th>\n",
       "      <th>race</th>\n",
       "      <th>race_af</th>\n",
       "      <th>hispanic</th>\n",
       "      <th>hispanic_af</th>\n",
       "      <th>pop_sixty</th>\n",
       "      <th>weight</th>\n",
       "      <th>public use microdata area</th>\n",
       "      <th>log_family_income</th>\n",
       "      <th>log_hh_income</th>\n",
       "    </tr>\n",
       "  </thead>\n",
       "  <tbody>\n",
       "    <tr>\n",
       "      <th>2</th>\n",
       "      <td>1</td>\n",
       "      <td>0</td>\n",
       "      <td>1</td>\n",
       "      <td>0</td>\n",
       "      <td>366000</td>\n",
       "      <td>0</td>\n",
       "      <td>366000</td>\n",
       "      <td>0</td>\n",
       "      <td>501</td>\n",
       "      <td>1</td>\n",
       "      <td>0</td>\n",
       "      <td>0</td>\n",
       "      <td>0</td>\n",
       "      <td>0</td>\n",
       "      <td>15</td>\n",
       "      <td>3420</td>\n",
       "      <td>12.810389</td>\n",
       "      <td>12.810389</td>\n",
       "    </tr>\n",
       "    <tr>\n",
       "      <th>3</th>\n",
       "      <td>1</td>\n",
       "      <td>0</td>\n",
       "      <td>1</td>\n",
       "      <td>0</td>\n",
       "      <td>366000</td>\n",
       "      <td>0</td>\n",
       "      <td>366000</td>\n",
       "      <td>0</td>\n",
       "      <td>501</td>\n",
       "      <td>6</td>\n",
       "      <td>0</td>\n",
       "      <td>0</td>\n",
       "      <td>0</td>\n",
       "      <td>0</td>\n",
       "      <td>13</td>\n",
       "      <td>3420</td>\n",
       "      <td>12.810389</td>\n",
       "      <td>12.810389</td>\n",
       "    </tr>\n",
       "    <tr>\n",
       "      <th>4</th>\n",
       "      <td>1</td>\n",
       "      <td>0</td>\n",
       "      <td>1</td>\n",
       "      <td>0</td>\n",
       "      <td>366000</td>\n",
       "      <td>0</td>\n",
       "      <td>366000</td>\n",
       "      <td>0</td>\n",
       "      <td>501</td>\n",
       "      <td>9</td>\n",
       "      <td>0</td>\n",
       "      <td>0</td>\n",
       "      <td>0</td>\n",
       "      <td>0</td>\n",
       "      <td>14</td>\n",
       "      <td>3420</td>\n",
       "      <td>12.810389</td>\n",
       "      <td>12.810389</td>\n",
       "    </tr>\n",
       "    <tr>\n",
       "      <th>5</th>\n",
       "      <td>1</td>\n",
       "      <td>0</td>\n",
       "      <td>1</td>\n",
       "      <td>0</td>\n",
       "      <td>366000</td>\n",
       "      <td>0</td>\n",
       "      <td>366000</td>\n",
       "      <td>0</td>\n",
       "      <td>501</td>\n",
       "      <td>9</td>\n",
       "      <td>0</td>\n",
       "      <td>0</td>\n",
       "      <td>0</td>\n",
       "      <td>0</td>\n",
       "      <td>12</td>\n",
       "      <td>3420</td>\n",
       "      <td>12.810389</td>\n",
       "      <td>12.810389</td>\n",
       "    </tr>\n",
       "    <tr>\n",
       "      <th>6</th>\n",
       "      <td>1</td>\n",
       "      <td>0</td>\n",
       "      <td>1</td>\n",
       "      <td>0</td>\n",
       "      <td>385000</td>\n",
       "      <td>0</td>\n",
       "      <td>385000</td>\n",
       "      <td>0</td>\n",
       "      <td>501</td>\n",
       "      <td>1</td>\n",
       "      <td>0</td>\n",
       "      <td>0</td>\n",
       "      <td>0</td>\n",
       "      <td>0</td>\n",
       "      <td>16</td>\n",
       "      <td>3502</td>\n",
       "      <td>12.860999</td>\n",
       "      <td>12.860999</td>\n",
       "    </tr>\n",
       "    <tr>\n",
       "      <th>...</th>\n",
       "      <td>...</td>\n",
       "      <td>...</td>\n",
       "      <td>...</td>\n",
       "      <td>...</td>\n",
       "      <td>...</td>\n",
       "      <td>...</td>\n",
       "      <td>...</td>\n",
       "      <td>...</td>\n",
       "      <td>...</td>\n",
       "      <td>...</td>\n",
       "      <td>...</td>\n",
       "      <td>...</td>\n",
       "      <td>...</td>\n",
       "      <td>...</td>\n",
       "      <td>...</td>\n",
       "      <td>...</td>\n",
       "      <td>...</td>\n",
       "      <td>...</td>\n",
       "    </tr>\n",
       "    <tr>\n",
       "      <th>119892</th>\n",
       "      <td>1</td>\n",
       "      <td>0</td>\n",
       "      <td>1</td>\n",
       "      <td>0</td>\n",
       "      <td>79000</td>\n",
       "      <td>1</td>\n",
       "      <td>79000</td>\n",
       "      <td>1</td>\n",
       "      <td>395</td>\n",
       "      <td>1</td>\n",
       "      <td>0</td>\n",
       "      <td>0</td>\n",
       "      <td>0</td>\n",
       "      <td>2</td>\n",
       "      <td>9</td>\n",
       "      <td>3530</td>\n",
       "      <td>11.277203</td>\n",
       "      <td>11.277203</td>\n",
       "    </tr>\n",
       "    <tr>\n",
       "      <th>119893</th>\n",
       "      <td>1</td>\n",
       "      <td>0</td>\n",
       "      <td>1</td>\n",
       "      <td>0</td>\n",
       "      <td>79000</td>\n",
       "      <td>1</td>\n",
       "      <td>79000</td>\n",
       "      <td>1</td>\n",
       "      <td>395</td>\n",
       "      <td>1</td>\n",
       "      <td>0</td>\n",
       "      <td>0</td>\n",
       "      <td>0</td>\n",
       "      <td>2</td>\n",
       "      <td>9</td>\n",
       "      <td>3530</td>\n",
       "      <td>11.277203</td>\n",
       "      <td>11.277203</td>\n",
       "    </tr>\n",
       "    <tr>\n",
       "      <th>119894</th>\n",
       "      <td>1</td>\n",
       "      <td>0</td>\n",
       "      <td>1</td>\n",
       "      <td>0</td>\n",
       "      <td>79000</td>\n",
       "      <td>1</td>\n",
       "      <td>79000</td>\n",
       "      <td>1</td>\n",
       "      <td>395</td>\n",
       "      <td>1</td>\n",
       "      <td>0</td>\n",
       "      <td>0</td>\n",
       "      <td>0</td>\n",
       "      <td>2</td>\n",
       "      <td>11</td>\n",
       "      <td>3530</td>\n",
       "      <td>11.277203</td>\n",
       "      <td>11.277203</td>\n",
       "    </tr>\n",
       "    <tr>\n",
       "      <th>119895</th>\n",
       "      <td>0</td>\n",
       "      <td>0</td>\n",
       "      <td>0</td>\n",
       "      <td>0</td>\n",
       "      <td>2900</td>\n",
       "      <td>1</td>\n",
       "      <td>2900</td>\n",
       "      <td>1</td>\n",
       "      <td>18</td>\n",
       "      <td>1</td>\n",
       "      <td>0</td>\n",
       "      <td>0</td>\n",
       "      <td>0</td>\n",
       "      <td>2</td>\n",
       "      <td>13</td>\n",
       "      <td>3504</td>\n",
       "      <td>7.972466</td>\n",
       "      <td>7.972466</td>\n",
       "    </tr>\n",
       "    <tr>\n",
       "      <th>119896</th>\n",
       "      <td>0</td>\n",
       "      <td>0</td>\n",
       "      <td>0</td>\n",
       "      <td>0</td>\n",
       "      <td>2900</td>\n",
       "      <td>1</td>\n",
       "      <td>2900</td>\n",
       "      <td>1</td>\n",
       "      <td>18</td>\n",
       "      <td>1</td>\n",
       "      <td>0</td>\n",
       "      <td>0</td>\n",
       "      <td>0</td>\n",
       "      <td>2</td>\n",
       "      <td>18</td>\n",
       "      <td>3504</td>\n",
       "      <td>7.972466</td>\n",
       "      <td>7.972466</td>\n",
       "    </tr>\n",
       "  </tbody>\n",
       "</table>\n",
       "<p>85192 rows × 18 columns</p>\n",
       "</div>"
      ],
      "text/plain": [
       "        internet_access  internet_access_af  broadband  broadband_af  \\\n",
       "2                     1                   0          1             0   \n",
       "3                     1                   0          1             0   \n",
       "4                     1                   0          1             0   \n",
       "5                     1                   0          1             0   \n",
       "6                     1                   0          1             0   \n",
       "...                 ...                 ...        ...           ...   \n",
       "119892                1                   0          1             0   \n",
       "119893                1                   0          1             0   \n",
       "119894                1                   0          1             0   \n",
       "119895                0                   0          0             0   \n",
       "119896                0                   0          0             0   \n",
       "\n",
       "        family_income  family_income_af  hh_income  hh_income_af  poverty  \\\n",
       "2              366000                 0     366000             0      501   \n",
       "3              366000                 0     366000             0      501   \n",
       "4              366000                 0     366000             0      501   \n",
       "5              366000                 0     366000             0      501   \n",
       "6              385000                 0     385000             0      501   \n",
       "...               ...               ...        ...           ...      ...   \n",
       "119892          79000                 1      79000             1      395   \n",
       "119893          79000                 1      79000             1      395   \n",
       "119894          79000                 1      79000             1      395   \n",
       "119895           2900                 1       2900             1       18   \n",
       "119896           2900                 1       2900             1       18   \n",
       "\n",
       "        race  race_af  hispanic  hispanic_af  pop_sixty  weight  \\\n",
       "2          1        0         0            0          0      15   \n",
       "3          6        0         0            0          0      13   \n",
       "4          9        0         0            0          0      14   \n",
       "5          9        0         0            0          0      12   \n",
       "6          1        0         0            0          0      16   \n",
       "...      ...      ...       ...          ...        ...     ...   \n",
       "119892     1        0         0            0          2       9   \n",
       "119893     1        0         0            0          2       9   \n",
       "119894     1        0         0            0          2      11   \n",
       "119895     1        0         0            0          2      13   \n",
       "119896     1        0         0            0          2      18   \n",
       "\n",
       "        public use microdata area  log_family_income  log_hh_income  \n",
       "2                            3420          12.810389      12.810389  \n",
       "3                            3420          12.810389      12.810389  \n",
       "4                            3420          12.810389      12.810389  \n",
       "5                            3420          12.810389      12.810389  \n",
       "6                            3502          12.860999      12.860999  \n",
       "...                           ...                ...            ...  \n",
       "119892                       3530          11.277203      11.277203  \n",
       "119893                       3530          11.277203      11.277203  \n",
       "119894                       3530          11.277203      11.277203  \n",
       "119895                       3504           7.972466       7.972466  \n",
       "119896                       3504           7.972466       7.972466  \n",
       "\n",
       "[85192 rows x 18 columns]"
      ]
     },
     "execution_count": 13,
     "metadata": {},
     "output_type": "execute_result"
    }
   ],
   "source": [
    "acs_ind1"
   ]
  },
  {
   "cell_type": "markdown",
   "id": "91590f11",
   "metadata": {},
   "source": [
    "#### Visualizations"
   ]
  },
  {
   "cell_type": "code",
   "execution_count": 14,
   "id": "c3b109f9",
   "metadata": {},
   "outputs": [
    {
     "data": {
      "text/plain": [
       "<AxesSubplot:xlabel='internet_access', ylabel='log_hh_income'>"
      ]
     },
     "execution_count": 14,
     "metadata": {},
     "output_type": "execute_result"
    },
    {
     "data": {
      "image/png": "[encoded data removed]",
      "text/plain": [
       "<Figure size 432x288 with 1 Axes>"
      ]
     },
     "metadata": {
      "needs_background": "light"
     },
     "output_type": "display_data"
    }
   ],
   "source": [
    "\n",
    "sns.boxplot(x=\"internet_access\", y=\"log_hh_income\", data=acs_ind1)"
   ]
  },
  {
   "cell_type": "code",
   "execution_count": 15,
   "id": "3a4807fe",
   "metadata": {},
   "outputs": [
    {
     "data": {
      "text/plain": [
       "<AxesSubplot:xlabel='internet_access', ylabel='log_family_income'>"
      ]
     },
     "execution_count": 15,
     "metadata": {},
     "output_type": "execute_result"
    },
    {
     "data": {
      "image/png": "[encoded data removed]",
      "text/plain": [
       "<Figure size 432x288 with 1 Axes>"
      ]
     },
     "metadata": {
      "needs_background": "light"
     },
     "output_type": "display_data"
    }
   ],
   "source": [
    "sns.boxplot(x=\"internet_access\", y=\"log_family_income\", data=acs_ind1)"
   ]
  },
  {
   "cell_type": "code",
   "execution_count": 16,
   "id": "d293c771",
   "metadata": {},
   "outputs": [
    {
     "name": "stdout",
     "output_type": "stream",
     "text": [
      "percentage with internet access is 89.49815910240974\n",
      "percentage with no internet access 10.501840897590256\n"
     ]
    }
   ],
   "source": [
    "count_no_int = len(acs_ind[acs_ind['internet_access']==0])\n",
    "count_int = len(acs_ind[acs_ind['internet_access']==1])\n",
    "pct_of_int = count_int/(count_no_int+count_int)\n",
    "print(\"percentage with internet access is\", pct_of_int*100)\n",
    "pct_of_no_int = count_no_int/(count_no_int+count_int)\n",
    "print(\"percentage with no internet access\", pct_of_no_int*100)"
   ]
  },
  {
   "cell_type": "markdown",
   "id": "a91ec30f",
   "metadata": {},
   "source": [
    "### List of variables that may impact internet access"
   ]
  },
  {
   "cell_type": "markdown",
   "id": "4f9ff8c1",
   "metadata": {},
   "source": [
    "- household income\n",
    "- family income\n",
    "- race\n",
    "- hispanic\n",
    "- poverty to income ratio "
   ]
  },
  {
   "cell_type": "markdown",
   "id": "85b00cce",
   "metadata": {},
   "source": [
    "### Correlation "
   ]
  },
  {
   "cell_type": "code",
   "execution_count": 17,
   "id": "3ff92a87",
   "metadata": {},
   "outputs": [
    {
     "data": {
      "text/plain": [
       "<AxesSubplot:>"
      ]
     },
     "execution_count": 17,
     "metadata": {},
     "output_type": "execute_result"
    },
    {
     "data": {
      "image/png": "[encoded data removed]",
      "text/plain": [
       "<Figure size 432x288 with 2 Axes>"
      ]
     },
     "metadata": {
      "needs_background": "light"
     },
     "output_type": "display_data"
    }
   ],
   "source": [
    "sns.heatmap(\n",
    "    acs_ind1[['internet_access','log_family_income','log_hh_income','poverty','race','hispanic']]\n",
    "    .corr()\n",
    ")"
   ]
  },
  {
   "cell_type": "markdown",
   "id": "e6c51f77",
   "metadata": {},
   "source": [
    "#### Logistic Regression"
   ]
  },
  {
   "cell_type": "code",
   "execution_count": 18,
   "id": "280dca5d",
   "metadata": {},
   "outputs": [],
   "source": [
    "from sklearn.model_selection import train_test_split\n",
    "from statsmodels.formula.api import logit"
   ]
  },
  {
   "cell_type": "code",
   "execution_count": 19,
   "id": "08f57bbf",
   "metadata": {},
   "outputs": [
    {
     "name": "stdout",
     "output_type": "stream",
     "text": [
      "Optimization terminated successfully.\n",
      "         Current function value: 0.259272\n",
      "         Iterations 7\n"
     ]
    }
   ],
   "source": [
    "formula=(\"internet_access ~ log_hh_income + log_family_income + hispanic + race + poverty\")\n",
    "\n",
    "model=logit(formula=formula, data=acs_ind1).fit()"
   ]
  },
  {
   "cell_type": "code",
   "execution_count": 20,
   "id": "e7826700",
   "metadata": {},
   "outputs": [
    {
     "data": {
      "text/html": [
       "<table class=\"simpletable\">\n",
       "<caption>Logit Regression Results</caption>\n",
       "<tr>\n",
       "  <th>Dep. Variable:</th>    <td>internet_access</td> <th>  No. Observations:  </th>  <td> 85192</td> \n",
       "</tr>\n",
       "<tr>\n",
       "  <th>Model:</th>                 <td>Logit</td>      <th>  Df Residuals:      </th>  <td> 85186</td> \n",
       "</tr>\n",
       "<tr>\n",
       "  <th>Method:</th>                 <td>MLE</td>       <th>  Df Model:          </th>  <td>     5</td> \n",
       "</tr>\n",
       "<tr>\n",
       "  <th>Date:</th>            <td>Fri, 04 Mar 2022</td> <th>  Pseudo R-squ.:     </th>  <td>0.07981</td>\n",
       "</tr>\n",
       "<tr>\n",
       "  <th>Time:</th>                <td>17:41:11</td>     <th>  Log-Likelihood:    </th> <td> -22088.</td>\n",
       "</tr>\n",
       "<tr>\n",
       "  <th>converged:</th>             <td>True</td>       <th>  LL-Null:           </th> <td> -24004.</td>\n",
       "</tr>\n",
       "<tr>\n",
       "  <th>Covariance Type:</th>     <td>nonrobust</td>    <th>  LLR p-value:       </th>  <td> 0.000</td> \n",
       "</tr>\n",
       "</table>\n",
       "<table class=\"simpletable\">\n",
       "<tr>\n",
       "          <td></td>             <th>coef</th>     <th>std err</th>      <th>z</th>      <th>P>|z|</th>  <th>[0.025</th>    <th>0.975]</th>  \n",
       "</tr>\n",
       "<tr>\n",
       "  <th>Intercept</th>         <td>   -2.9329</td> <td>    0.183</td> <td>  -16.014</td> <td> 0.000</td> <td>   -3.292</td> <td>   -2.574</td>\n",
       "</tr>\n",
       "<tr>\n",
       "  <th>log_hh_income</th>     <td>    0.5704</td> <td>    0.060</td> <td>    9.486</td> <td> 0.000</td> <td>    0.453</td> <td>    0.688</td>\n",
       "</tr>\n",
       "<tr>\n",
       "  <th>log_family_income</th> <td>   -0.1309</td> <td>    0.061</td> <td>   -2.135</td> <td> 0.033</td> <td>   -0.251</td> <td>   -0.011</td>\n",
       "</tr>\n",
       "<tr>\n",
       "  <th>hispanic</th>          <td>   -0.1325</td> <td>    0.029</td> <td>   -4.636</td> <td> 0.000</td> <td>   -0.188</td> <td>   -0.076</td>\n",
       "</tr>\n",
       "<tr>\n",
       "  <th>race</th>              <td>    0.0410</td> <td>    0.005</td> <td>    7.602</td> <td> 0.000</td> <td>    0.030</td> <td>    0.052</td>\n",
       "</tr>\n",
       "<tr>\n",
       "  <th>poverty</th>           <td>    0.0018</td> <td>    0.000</td> <td>   12.854</td> <td> 0.000</td> <td>    0.002</td> <td>    0.002</td>\n",
       "</tr>\n",
       "</table>"
      ],
      "text/plain": [
       "<class 'statsmodels.iolib.summary.Summary'>\n",
       "\"\"\"\n",
       "                           Logit Regression Results                           \n",
       "==============================================================================\n",
       "Dep. Variable:        internet_access   No. Observations:                85192\n",
       "Model:                          Logit   Df Residuals:                    85186\n",
       "Method:                           MLE   Df Model:                            5\n",
       "Date:                Fri, 04 Mar 2022   Pseudo R-squ.:                 0.07981\n",
       "Time:                        17:41:11   Log-Likelihood:                -22088.\n",
       "converged:                       True   LL-Null:                       -24004.\n",
       "Covariance Type:            nonrobust   LLR p-value:                     0.000\n",
       "=====================================================================================\n",
       "                        coef    std err          z      P>|z|      [0.025      0.975]\n",
       "-------------------------------------------------------------------------------------\n",
       "Intercept            -2.9329      0.183    -16.014      0.000      -3.292      -2.574\n",
       "log_hh_income         0.5704      0.060      9.486      0.000       0.453       0.688\n",
       "log_family_income    -0.1309      0.061     -2.135      0.033      -0.251      -0.011\n",
       "hispanic             -0.1325      0.029     -4.636      0.000      -0.188      -0.076\n",
       "race                  0.0410      0.005      7.602      0.000       0.030       0.052\n",
       "poverty               0.0018      0.000     12.854      0.000       0.002       0.002\n",
       "=====================================================================================\n",
       "\"\"\""
      ]
     },
     "execution_count": 20,
     "metadata": {},
     "output_type": "execute_result"
    }
   ],
   "source": [
    "model.summary()"
   ]
  },
  {
   "cell_type": "markdown",
   "id": "fe6dc3ce",
   "metadata": {},
   "source": [
    "Each one-unit change in log household income will increase the log odds of having internet access by 0.57, and its p-value indicates that it is significant.\n",
    "\n",
    "Each one-unit change in log family income will decrease the log odds of having internet access by 0.13, and its p-value indicates that it is significant. This doesn't make a lot of sense\n",
    "\n",
    "Each one-unit change in hispanic will decrease the log odds of having internet access by 0.13, and its p-value indicates that it is significant.\n",
    "\n",
    "The way race is coded right now, the results don't say much about it. \n",
    "\n"
   ]
  }
 ],
 "metadata": {
  "kernelspec": {
   "display_name": "Python 3.8.5 64-bit ('anaconda3': virtualenv)",
   "language": "python",
   "name": "python385jvsc74a57bd097e81732a71c5b40b952c79202e1b58ed08ca490443701847872addaf71e1671"
  },
  "language_info": {
   "codemirror_mode": {
    "name": "ipython",
    "version": 3
   },
   "file_extension": ".py",
   "mimetype": "text/x-python",
   "name": "python",
   "nbconvert_exporter": "python",
   "pygments_lexer": "ipython3",
   "version": "3.9.7"
  }
 },
 "nbformat": 4,
 "nbformat_minor": 5
}
