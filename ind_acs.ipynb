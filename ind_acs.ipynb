{
 "cells": [
  {
   "cell_type": "markdown",
   "id": "1d53be40",
   "metadata": {},
   "source": [
    "### Individual ACS Data"
   ]
  },
  {
   "cell_type": "markdown",
   "id": "45b28f40",
   "metadata": {},
   "source": [
    "[Documentation](https://www2.census.gov/programs-surveys/acs/tech_docs/pums/data_dict/PUMS_Data_Dictionary_2015-2019.pdf)"
   ]
  },
  {
   "cell_type": "markdown",
   "id": "11837e08",
   "metadata": {},
   "source": [
    "###### Importing Libraries"
   ]
  },
  {
   "cell_type": "code",
   "execution_count": 1,
   "id": "850d1e4a",
   "metadata": {},
   "outputs": [],
   "source": [
    "import numpy as np\n",
    "import pandas as pd\n",
    "import matplotlib.pyplot as plt\n",
    "import seaborn as sns"
   ]
  },
  {
   "cell_type": "code",
   "execution_count": 2,
   "id": "41aed584",
   "metadata": {},
   "outputs": [],
   "source": [
    "#from data_pipeline import fetch_census_data"
   ]
  },
  {
   "cell_type": "code",
   "execution_count": 3,
   "id": "082af724",
   "metadata": {},
   "outputs": [],
   "source": [
    "#fetch_census_data.acs5_individual(force_api_call=True)"
   ]
  },
  {
   "cell_type": "markdown",
   "id": "41bb878c",
   "metadata": {},
   "source": [
    "###### Importing Data"
   ]
  },
  {
   "cell_type": "code",
   "execution_count": 4,
   "id": "d3601680",
   "metadata": {},
   "outputs": [
    {
     "data": {
      "text/html": [
       "<div>\n",
       "<style scoped>\n",
       "    .dataframe tbody tr th:only-of-type {\n",
       "        vertical-align: middle;\n",
       "    }\n",
       "\n",
       "    .dataframe tbody tr th {\n",
       "        vertical-align: top;\n",
       "    }\n",
       "\n",
       "    .dataframe thead th {\n",
       "        text-align: right;\n",
       "    }\n",
       "</style>\n",
       "<table border=\"1\" class=\"dataframe\">\n",
       "  <thead>\n",
       "    <tr style=\"text-align: right;\">\n",
       "      <th></th>\n",
       "      <th>Unnamed: 0</th>\n",
       "      <th>internet_access</th>\n",
       "      <th>broadband</th>\n",
       "      <th>family_income</th>\n",
       "      <th>hh_income</th>\n",
       "      <th>poverty</th>\n",
       "      <th>race</th>\n",
       "      <th>hispanic</th>\n",
       "      <th>pop_65</th>\n",
       "      <th>weight</th>\n",
       "      <th>employment</th>\n",
       "      <th>work_available</th>\n",
       "      <th>education</th>\n",
       "      <th>citizenship</th>\n",
       "      <th>public use microdata area</th>\n",
       "    </tr>\n",
       "  </thead>\n",
       "  <tbody>\n",
       "    <tr>\n",
       "      <th>0</th>\n",
       "      <td>0</td>\n",
       "      <td>1</td>\n",
       "      <td>1</td>\n",
       "      <td>-60000</td>\n",
       "      <td>1000</td>\n",
       "      <td>8</td>\n",
       "      <td>1</td>\n",
       "      <td>1</td>\n",
       "      <td>0</td>\n",
       "      <td>47</td>\n",
       "      <td>1</td>\n",
       "      <td>5</td>\n",
       "      <td>16</td>\n",
       "      <td>4</td>\n",
       "      <td>3520</td>\n",
       "    </tr>\n",
       "    <tr>\n",
       "      <th>1</th>\n",
       "      <td>1</td>\n",
       "      <td>1</td>\n",
       "      <td>1</td>\n",
       "      <td>-60000</td>\n",
       "      <td>96000</td>\n",
       "      <td>501</td>\n",
       "      <td>2</td>\n",
       "      <td>1</td>\n",
       "      <td>0</td>\n",
       "      <td>29</td>\n",
       "      <td>1</td>\n",
       "      <td>5</td>\n",
       "      <td>22</td>\n",
       "      <td>1</td>\n",
       "      <td>3501</td>\n",
       "    </tr>\n",
       "    <tr>\n",
       "      <th>2</th>\n",
       "      <td>2</td>\n",
       "      <td>1</td>\n",
       "      <td>1</td>\n",
       "      <td>366000</td>\n",
       "      <td>366000</td>\n",
       "      <td>501</td>\n",
       "      <td>1</td>\n",
       "      <td>1</td>\n",
       "      <td>0</td>\n",
       "      <td>15</td>\n",
       "      <td>1</td>\n",
       "      <td>5</td>\n",
       "      <td>21</td>\n",
       "      <td>1</td>\n",
       "      <td>3420</td>\n",
       "    </tr>\n",
       "    <tr>\n",
       "      <th>3</th>\n",
       "      <td>3</td>\n",
       "      <td>1</td>\n",
       "      <td>1</td>\n",
       "      <td>366000</td>\n",
       "      <td>366000</td>\n",
       "      <td>501</td>\n",
       "      <td>6</td>\n",
       "      <td>1</td>\n",
       "      <td>0</td>\n",
       "      <td>13</td>\n",
       "      <td>1</td>\n",
       "      <td>5</td>\n",
       "      <td>21</td>\n",
       "      <td>1</td>\n",
       "      <td>3420</td>\n",
       "    </tr>\n",
       "    <tr>\n",
       "      <th>4</th>\n",
       "      <td>4</td>\n",
       "      <td>1</td>\n",
       "      <td>1</td>\n",
       "      <td>366000</td>\n",
       "      <td>366000</td>\n",
       "      <td>501</td>\n",
       "      <td>9</td>\n",
       "      <td>1</td>\n",
       "      <td>0</td>\n",
       "      <td>14</td>\n",
       "      <td>0</td>\n",
       "      <td>0</td>\n",
       "      <td>8</td>\n",
       "      <td>1</td>\n",
       "      <td>3420</td>\n",
       "    </tr>\n",
       "  </tbody>\n",
       "</table>\n",
       "</div>"
      ],
      "text/plain": [
       "   Unnamed: 0  internet_access  broadband  family_income  hh_income  poverty  \\\n",
       "0           0                1          1         -60000       1000        8   \n",
       "1           1                1          1         -60000      96000      501   \n",
       "2           2                1          1         366000     366000      501   \n",
       "3           3                1          1         366000     366000      501   \n",
       "4           4                1          1         366000     366000      501   \n",
       "\n",
       "   race  hispanic  pop_65  weight  employment  work_available  education  \\\n",
       "0     1         1       0      47           1               5         16   \n",
       "1     2         1       0      29           1               5         22   \n",
       "2     1         1       0      15           1               5         21   \n",
       "3     6         1       0      13           1               5         21   \n",
       "4     9         1       0      14           0               0          8   \n",
       "\n",
       "   citizenship  public use microdata area  \n",
       "0            4                       3520  \n",
       "1            1                       3501  \n",
       "2            1                       3420  \n",
       "3            1                       3420  \n",
       "4            1                       3420  "
      ]
     },
     "execution_count": 4,
     "metadata": {},
     "output_type": "execute_result"
    }
   ],
   "source": [
    "# loading individual acs data\n",
    "\n",
    "acs_ind=pd.read_csv(\"data/acs5_individual.csv\").drop(\n",
    "                        ['state'], axis=1)\n",
    "acs_ind.head(5)"
   ]
  },
  {
   "cell_type": "markdown",
   "id": "c8735771",
   "metadata": {},
   "source": [
    "##### Recoding Variables"
   ]
  },
  {
   "cell_type": "markdown",
   "id": "0bce887d",
   "metadata": {},
   "source": [
    "Education"
   ]
  },
  {
   "cell_type": "code",
   "execution_count": 5,
   "id": "cc006719",
   "metadata": {},
   "outputs": [
    {
     "data": {
      "text/plain": [
       "array([16, 22, 21,  8,  3,  0, 13, 19, 14, 10, 20, 23,  6, 11,  9, 18, 15,\n",
       "       12,  7,  5, 17,  1,  2,  4, 24])"
      ]
     },
     "execution_count": 5,
     "metadata": {},
     "output_type": "execute_result"
    }
   ],
   "source": [
    "acs_ind.education.unique()"
   ]
  },
  {
   "cell_type": "code",
   "execution_count": 6,
   "id": "48410fc6",
   "metadata": {},
   "outputs": [],
   "source": [
    "# collapse education to 1,2,3 (<=high school, some college, >=bachelors)\n",
    "\n",
    "acs_ind.loc[(acs_ind.education <= 17),'education']=1\n",
    "acs_ind.loc[(acs_ind.education == 18),'education']=2\n",
    "acs_ind.loc[(acs_ind.education == 19),'education']=2\n",
    "acs_ind.loc[(acs_ind.education == 20),'education']=2\n",
    "acs_ind.loc[(acs_ind.education >= 21),'education']=3"
   ]
  },
  {
   "cell_type": "code",
   "execution_count": 7,
   "id": "df318e4a",
   "metadata": {},
   "outputs": [
    {
     "data": {
      "text/plain": [
       "array([1, 3, 2])"
      ]
     },
     "execution_count": 7,
     "metadata": {},
     "output_type": "execute_result"
    }
   ],
   "source": [
    "acs_ind.education.unique()"
   ]
  },
  {
   "cell_type": "markdown",
   "id": "568ab045",
   "metadata": {},
   "source": [
    "Citizenship/Foreign-born"
   ]
  },
  {
   "cell_type": "code",
   "execution_count": 8,
   "id": "6fba350a",
   "metadata": {},
   "outputs": [
    {
     "data": {
      "text/plain": [
       "array([4, 1, 5, 2, 3])"
      ]
     },
     "execution_count": 8,
     "metadata": {},
     "output_type": "execute_result"
    }
   ],
   "source": [
    "acs_ind.citizenship.unique()"
   ]
  },
  {
   "cell_type": "code",
   "execution_count": 9,
   "id": "7e0142d6",
   "metadata": {},
   "outputs": [],
   "source": [
    "# 0 = born in the US or born to American parents \n",
    "# 1 = born outside the US\n",
    "# Born in the U.S.\n",
    "# Born in Puerto Rico, Guam, the U.S. Virgin Islands, or the Northern Marianas\n",
    "# Born abroad of American parent(s)\n",
    "# U.S. citizen by naturalization\n",
    "# Not a citizen of the U.S.\n",
    "\n",
    "acs_ind.loc[(acs_ind.citizenship >= 2),'citizenship']=0"
   ]
  },
  {
   "cell_type": "code",
   "execution_count": 10,
   "id": "c7d0737f",
   "metadata": {},
   "outputs": [
    {
     "data": {
      "text/plain": [
       "array([0, 1])"
      ]
     },
     "execution_count": 10,
     "metadata": {},
     "output_type": "execute_result"
    }
   ],
   "source": [
    "acs_ind.citizenship.unique()"
   ]
  },
  {
   "cell_type": "markdown",
   "id": "27b6880f",
   "metadata": {},
   "source": [
    "Employment"
   ]
  },
  {
   "cell_type": "code",
   "execution_count": 11,
   "id": "7740de98",
   "metadata": {},
   "outputs": [
    {
     "data": {
      "text/plain": [
       "array([1, 0, 6, 3, 2, 4])"
      ]
     },
     "execution_count": 11,
     "metadata": {},
     "output_type": "execute_result"
    }
   ],
   "source": [
    "acs_ind.employment.unique()"
   ]
  },
  {
   "cell_type": "code",
   "execution_count": 12,
   "id": "7d214951",
   "metadata": {},
   "outputs": [],
   "source": [
    "# 0 = unemployed \n",
    "# 1 = employed \n",
    "# 2 = other \n",
    "\n",
    "acs_ind.loc[(acs_ind.employment == 0),'employment']=2\n",
    "acs_ind.loc[(acs_ind.employment == 1),'employment']=1\n",
    "acs_ind.loc[(acs_ind.employment == 2),'employment']=1\n",
    "acs_ind.loc[(acs_ind.employment == 3),'employment']=0\n",
    "acs_ind.loc[(acs_ind.employment == 4),'employment']=1\n",
    "acs_ind.loc[(acs_ind.employment == 5),'employment']=1\n",
    "acs_ind.loc[(acs_ind.employment == 6),'employment']=2"
   ]
  },
  {
   "cell_type": "code",
   "execution_count": 13,
   "id": "713b62e3",
   "metadata": {},
   "outputs": [
    {
     "data": {
      "text/plain": [
       "array([1, 2, 0])"
      ]
     },
     "execution_count": 13,
     "metadata": {},
     "output_type": "execute_result"
    }
   ],
   "source": [
    "acs_ind.employment.unique()"
   ]
  },
  {
   "cell_type": "code",
   "execution_count": 14,
   "id": "67e5a5c6",
   "metadata": {},
   "outputs": [
    {
     "data": {
      "text/plain": [
       "array([5, 0, 1, 3, 2, 4])"
      ]
     },
     "execution_count": 14,
     "metadata": {},
     "output_type": "execute_result"
    }
   ],
   "source": [
    "acs_ind.work_available.unique()"
   ]
  },
  {
   "cell_type": "code",
   "execution_count": 15,
   "id": "507d44eb",
   "metadata": {},
   "outputs": [],
   "source": [
    "acs_ind = acs_ind[acs_ind['work_available'] < 5]"
   ]
  },
  {
   "cell_type": "code",
   "execution_count": 16,
   "id": "8397ce80",
   "metadata": {},
   "outputs": [],
   "source": [
    "# 0 = not available for work\n",
    "# 1 = available  \n",
    "\n",
    "acs_ind.loc[(acs_ind.work_available == 0),'work_available']=0\n",
    "acs_ind.loc[(acs_ind.work_available >= 2),'work_available']=1"
   ]
  },
  {
   "cell_type": "code",
   "execution_count": 17,
   "id": "5d424a92",
   "metadata": {},
   "outputs": [
    {
     "data": {
      "text/plain": [
       "array([0, 1])"
      ]
     },
     "execution_count": 17,
     "metadata": {},
     "output_type": "execute_result"
    }
   ],
   "source": [
    "acs_ind.work_available.unique()"
   ]
  },
  {
   "cell_type": "code",
   "execution_count": 18,
   "id": "412708dc",
   "metadata": {},
   "outputs": [],
   "source": [
    "#if acs_ind[(acs_ind['employment'] == 0)] and acs_ind[(acs_ind['work_available'] == 1)]:"
   ]
  },
  {
   "cell_type": "code",
   "execution_count": 19,
   "id": "e1463c5a",
   "metadata": {},
   "outputs": [],
   "source": [
    "#acs_ind[\"unemployed\"].unique()"
   ]
  },
  {
   "cell_type": "code",
   "execution_count": null,
   "id": "a13bcc71",
   "metadata": {},
   "outputs": [],
   "source": []
  },
  {
   "cell_type": "markdown",
   "id": "60e85d73",
   "metadata": {},
   "source": [
    "Population 65+"
   ]
  },
  {
   "cell_type": "code",
   "execution_count": 20,
   "id": "a0568b01",
   "metadata": {},
   "outputs": [
    {
     "data": {
      "text/plain": [
       "array([ 0,  1, -1,  2])"
      ]
     },
     "execution_count": 20,
     "metadata": {},
     "output_type": "execute_result"
    }
   ],
   "source": [
    "acs_ind.pop_65.unique()"
   ]
  },
  {
   "cell_type": "code",
   "execution_count": 21,
   "id": "02b6ac0a",
   "metadata": {},
   "outputs": [],
   "source": [
    "acs_ind = acs_ind[acs_ind['pop_65'] >= 0]"
   ]
  },
  {
   "cell_type": "code",
   "execution_count": 22,
   "id": "81b81da2",
   "metadata": {},
   "outputs": [],
   "source": [
    "# 0 No person 65 and over\n",
    "# 1 person 65 and over\n",
    "# 2 or more persons 65 and over\n",
    "\n",
    "\n",
    "acs_ind.loc[(acs_ind.pop_65 >= 1),'pop_65']=1"
   ]
  },
  {
   "cell_type": "code",
   "execution_count": 23,
   "id": "edc17e64",
   "metadata": {},
   "outputs": [
    {
     "data": {
      "text/plain": [
       "array([0, 1])"
      ]
     },
     "execution_count": 23,
     "metadata": {},
     "output_type": "execute_result"
    }
   ],
   "source": [
    "acs_ind.pop_65.unique()"
   ]
  },
  {
   "cell_type": "markdown",
   "id": "5cffe3db",
   "metadata": {},
   "source": [
    "Internet Access"
   ]
  },
  {
   "cell_type": "code",
   "execution_count": 24,
   "id": "61376179",
   "metadata": {},
   "outputs": [
    {
     "data": {
      "text/plain": [
       "array([1, 3, 2])"
      ]
     },
     "execution_count": 24,
     "metadata": {},
     "output_type": "execute_result"
    }
   ],
   "source": [
    "acs_ind.internet_access.unique()"
   ]
  },
  {
   "cell_type": "code",
   "execution_count": 25,
   "id": "02cac8e5",
   "metadata": {},
   "outputs": [],
   "source": [
    "# need to remove the responses with \"0\" because it means no response\n",
    "\n",
    "acs_ind = acs_ind[acs_ind['internet_access'] >0]"
   ]
  },
  {
   "cell_type": "code",
   "execution_count": 26,
   "id": "0371bb77",
   "metadata": {},
   "outputs": [],
   "source": [
    "# recoding internet access\n",
    "# 0 = no access\n",
    "# 1 = access \n",
    "\n",
    "acs_ind.loc[(acs_ind.internet_access == 2),'internet_access']=1\n",
    "acs_ind.loc[(acs_ind.internet_access == 3),'internet_access']=0"
   ]
  },
  {
   "cell_type": "markdown",
   "id": "dfa572dd",
   "metadata": {},
   "source": [
    "Hispanic"
   ]
  },
  {
   "cell_type": "code",
   "execution_count": 27,
   "id": "e5d8697f",
   "metadata": {},
   "outputs": [],
   "source": [
    "# recoding hispanic\n",
    "# 0 = not hispanic\n",
    "# 1 = hispanic\n",
    "\n",
    "acs_ind.loc[(acs_ind.hispanic == 1),'hispanic']=0\n",
    "acs_ind.loc[(acs_ind.hispanic > 1),'hispanic']=1"
   ]
  },
  {
   "cell_type": "code",
   "execution_count": 28,
   "id": "d00d0e33",
   "metadata": {},
   "outputs": [
    {
     "data": {
      "text/plain": [
       "array([0, 1])"
      ]
     },
     "execution_count": 28,
     "metadata": {},
     "output_type": "execute_result"
    }
   ],
   "source": [
    "acs_ind.hispanic.unique()"
   ]
  },
  {
   "cell_type": "markdown",
   "id": "43c7f19a",
   "metadata": {},
   "source": [
    "non-Hispanic White, Black, Asian Races"
   ]
  },
  {
   "cell_type": "code",
   "execution_count": 29,
   "id": "ab14522e",
   "metadata": {},
   "outputs": [],
   "source": [
    "black_df = acs_ind[[\"Unnamed: 0\",\"race\",\"hispanic\"]].rename(columns={\n",
    "                        \"race\": \"black\"})"
   ]
  },
  {
   "cell_type": "code",
   "execution_count": 30,
   "id": "14f00276",
   "metadata": {},
   "outputs": [],
   "source": [
    "black_df.loc[(black_df.black < 2),'black']=0\n",
    "black_df.loc[(black_df.black > 2),'black']=0\n",
    "black_df.loc[(black_df.black == 2),'black']=1"
   ]
  },
  {
   "cell_type": "code",
   "execution_count": 31,
   "id": "2963ccc2",
   "metadata": {},
   "outputs": [
    {
     "data": {
      "text/plain": [
       "array([0, 1])"
      ]
     },
     "execution_count": 31,
     "metadata": {},
     "output_type": "execute_result"
    }
   ],
   "source": [
    "black_df.black.unique()"
   ]
  },
  {
   "cell_type": "code",
   "execution_count": 32,
   "id": "4683d710",
   "metadata": {},
   "outputs": [],
   "source": [
    "black_df[\"nh_black\"]=black_df['hispanic']+black_df['black']"
   ]
  },
  {
   "cell_type": "code",
   "execution_count": 33,
   "id": "f26f3543",
   "metadata": {},
   "outputs": [],
   "source": [
    "black_df.loc[(black_df.nh_black == 0),'nh_black']=0\n",
    "black_df.loc[(black_df.nh_black == 1),'nh_black']=1\n",
    "black_df.loc[(black_df.nh_black == 2),'nh_black']=0"
   ]
  },
  {
   "cell_type": "code",
   "execution_count": 34,
   "id": "6c19170c",
   "metadata": {},
   "outputs": [
    {
     "data": {
      "text/plain": [
       "array([0, 1])"
      ]
     },
     "execution_count": 34,
     "metadata": {},
     "output_type": "execute_result"
    }
   ],
   "source": [
    "black_df.nh_black.unique()"
   ]
  },
  {
   "cell_type": "code",
   "execution_count": 35,
   "id": "39a7d287",
   "metadata": {},
   "outputs": [],
   "source": [
    "black_df=black_df.drop(['hispanic'], axis=1)"
   ]
  },
  {
   "cell_type": "code",
   "execution_count": 36,
   "id": "538e64fc",
   "metadata": {},
   "outputs": [],
   "source": [
    "white_df = acs_ind[[\"Unnamed: 0\",\"race\", \"hispanic\"]].rename(columns={\n",
    "                        \"race\": \"white\"})"
   ]
  },
  {
   "cell_type": "code",
   "execution_count": 37,
   "id": "8c4944b4",
   "metadata": {},
   "outputs": [],
   "source": [
    "white_df.loc[(white_df.white < 1),'white']=0\n",
    "white_df.loc[(white_df.white > 1),'white']=0\n",
    "white_df.loc[(white_df.white == 1),'white']=1"
   ]
  },
  {
   "cell_type": "code",
   "execution_count": 38,
   "id": "0670fad9",
   "metadata": {},
   "outputs": [
    {
     "data": {
      "text/plain": [
       "array([0, 1])"
      ]
     },
     "execution_count": 38,
     "metadata": {},
     "output_type": "execute_result"
    }
   ],
   "source": [
    "white_df.white.unique()"
   ]
  },
  {
   "cell_type": "code",
   "execution_count": 39,
   "id": "8d33ee82",
   "metadata": {},
   "outputs": [],
   "source": [
    "white_df[\"nh_white\"]=white_df['hispanic']+white_df['white']"
   ]
  },
  {
   "cell_type": "code",
   "execution_count": 40,
   "id": "a919da1e",
   "metadata": {},
   "outputs": [],
   "source": [
    "white_df.loc[(white_df.nh_white == 0),'nh_white']=0\n",
    "white_df.loc[(white_df.nh_white == 1),'nh_white']=1\n",
    "white_df.loc[(white_df.nh_white == 2),'nh_white']=0"
   ]
  },
  {
   "cell_type": "code",
   "execution_count": 41,
   "id": "e285f03b",
   "metadata": {},
   "outputs": [],
   "source": [
    "white_df=white_df.drop(['hispanic'], axis=1)"
   ]
  },
  {
   "cell_type": "code",
   "execution_count": 42,
   "id": "11f9df63",
   "metadata": {},
   "outputs": [],
   "source": [
    "asian_df = acs_ind[[\"Unnamed: 0\",\"race\", \"hispanic\"]].rename(columns={\n",
    "                        \"race\": \"asian\"})"
   ]
  },
  {
   "cell_type": "code",
   "execution_count": 43,
   "id": "e037904b",
   "metadata": {},
   "outputs": [],
   "source": [
    "asian_df.loc[(asian_df.asian < 6),'asian']=0\n",
    "asian_df.loc[(asian_df.asian > 6),'asian']=0\n",
    "asian_df.loc[(asian_df.asian == 6),'asian']=1"
   ]
  },
  {
   "cell_type": "code",
   "execution_count": 44,
   "id": "b3ccac52",
   "metadata": {},
   "outputs": [
    {
     "data": {
      "text/plain": [
       "array([0, 1])"
      ]
     },
     "execution_count": 44,
     "metadata": {},
     "output_type": "execute_result"
    }
   ],
   "source": [
    "asian_df.asian.unique()"
   ]
  },
  {
   "cell_type": "code",
   "execution_count": 45,
   "id": "e050542d",
   "metadata": {},
   "outputs": [],
   "source": [
    "asian_df[\"nh_asian\"]=asian_df['hispanic']+asian_df['asian']"
   ]
  },
  {
   "cell_type": "code",
   "execution_count": 46,
   "id": "525618eb",
   "metadata": {},
   "outputs": [],
   "source": [
    "asian_df.loc[(asian_df.nh_asian == 0),'nh_asian']=0\n",
    "asian_df.loc[(asian_df.nh_asian == 1),'nh_asian']=1\n",
    "asian_df.loc[(asian_df.nh_asian == 2),'nh_asian']=0"
   ]
  },
  {
   "cell_type": "code",
   "execution_count": 47,
   "id": "69f4528c",
   "metadata": {},
   "outputs": [],
   "source": [
    "asian_df=asian_df.drop(['hispanic'], axis=1)"
   ]
  },
  {
   "cell_type": "code",
   "execution_count": 48,
   "id": "069391ff",
   "metadata": {},
   "outputs": [],
   "source": [
    "acs_ind=acs_ind.merge(white_df, on='Unnamed: 0'\n",
    "                           ).merge(black_df, on='Unnamed: 0').merge(asian_df, on='Unnamed: 0')"
   ]
  },
  {
   "cell_type": "markdown",
   "id": "cbfd4565",
   "metadata": {},
   "source": [
    "Household & Family Income"
   ]
  },
  {
   "cell_type": "code",
   "execution_count": 49,
   "id": "18fa7645",
   "metadata": {},
   "outputs": [
    {
     "data": {
      "text/plain": [
       "array([ 366000,  385000,  103500, ...,  854000,  749000, 1033000])"
      ]
     },
     "execution_count": 49,
     "metadata": {},
     "output_type": "execute_result"
    }
   ],
   "source": [
    "acs_ind.family_income.unique()"
   ]
  },
  {
   "cell_type": "code",
   "execution_count": 50,
   "id": "35dc24e9",
   "metadata": {},
   "outputs": [
    {
     "data": {
      "text/plain": [
       "-60000"
      ]
     },
     "execution_count": 50,
     "metadata": {},
     "output_type": "execute_result"
    }
   ],
   "source": [
    "acs_ind.family_income.min()"
   ]
  },
  {
   "cell_type": "code",
   "execution_count": 51,
   "id": "add01ac6",
   "metadata": {},
   "outputs": [
    {
     "data": {
      "text/plain": [
       "array([ 366000,  385000,  103500, ...,  854000,  749000, 1033000])"
      ]
     },
     "execution_count": 51,
     "metadata": {},
     "output_type": "execute_result"
    }
   ],
   "source": [
    "acs_ind.hh_income.unique()"
   ]
  },
  {
   "cell_type": "code",
   "execution_count": 52,
   "id": "d3e2c930",
   "metadata": {},
   "outputs": [
    {
     "data": {
      "text/plain": [
       "-7250"
      ]
     },
     "execution_count": 52,
     "metadata": {},
     "output_type": "execute_result"
    }
   ],
   "source": [
    "acs_ind.hh_income.min()"
   ]
  },
  {
   "cell_type": "code",
   "execution_count": 53,
   "id": "03f4be15",
   "metadata": {},
   "outputs": [],
   "source": [
    "# keeping incomes above 0 \n",
    "\n",
    "acs_ind = acs_ind[acs_ind['hh_income'] >0]\n",
    "acs_ind = acs_ind[acs_ind['family_income'] >0]"
   ]
  },
  {
   "cell_type": "code",
   "execution_count": 54,
   "id": "79945c8b",
   "metadata": {},
   "outputs": [],
   "source": [
    "# log incomes\n",
    "\n",
    "acs_ind[\"log_family_income\"]=acs_ind[\"family_income\"].apply(lambda x: np.log(x))\n",
    "acs_ind[\"log_hh_income\"]=acs_ind[\"hh_income\"].apply(lambda x: np.log(x))"
   ]
  },
  {
   "cell_type": "code",
   "execution_count": 55,
   "id": "fd7fa0a4",
   "metadata": {},
   "outputs": [
    {
     "data": {
      "text/plain": [
       "array([12.81038861, 12.86099861, 11.54732689, ..., 13.65768647,\n",
       "       13.52649426, 13.84797775])"
      ]
     },
     "execution_count": 55,
     "metadata": {},
     "output_type": "execute_result"
    }
   ],
   "source": [
    "acs_ind.log_family_income.unique()"
   ]
  },
  {
   "cell_type": "code",
   "execution_count": 56,
   "id": "46dec94b",
   "metadata": {},
   "outputs": [
    {
     "data": {
      "text/plain": [
       "1.3862943611198906"
      ]
     },
     "execution_count": 56,
     "metadata": {},
     "output_type": "execute_result"
    }
   ],
   "source": [
    "acs_ind.log_family_income.min()"
   ]
  },
  {
   "cell_type": "code",
   "execution_count": 57,
   "id": "8c8fa898",
   "metadata": {},
   "outputs": [
    {
     "data": {
      "text/plain": [
       "array([12.81038861, 12.86099861, 11.54732689, ..., 13.65768647,\n",
       "       13.52649426, 13.84797775])"
      ]
     },
     "execution_count": 57,
     "metadata": {},
     "output_type": "execute_result"
    }
   ],
   "source": [
    "acs_ind.log_hh_income.unique()"
   ]
  },
  {
   "cell_type": "code",
   "execution_count": 58,
   "id": "6b91fae9",
   "metadata": {},
   "outputs": [
    {
     "data": {
      "text/plain": [
       "1.3862943611198906"
      ]
     },
     "execution_count": 58,
     "metadata": {},
     "output_type": "execute_result"
    }
   ],
   "source": [
    "acs_ind.log_hh_income.min()"
   ]
  },
  {
   "cell_type": "code",
   "execution_count": 59,
   "id": "877c4174",
   "metadata": {},
   "outputs": [
    {
     "data": {
      "text/html": [
       "<div>\n",
       "<style scoped>\n",
       "    .dataframe tbody tr th:only-of-type {\n",
       "        vertical-align: middle;\n",
       "    }\n",
       "\n",
       "    .dataframe tbody tr th {\n",
       "        vertical-align: top;\n",
       "    }\n",
       "\n",
       "    .dataframe thead th {\n",
       "        text-align: right;\n",
       "    }\n",
       "</style>\n",
       "<table border=\"1\" class=\"dataframe\">\n",
       "  <thead>\n",
       "    <tr style=\"text-align: right;\">\n",
       "      <th></th>\n",
       "      <th>Unnamed: 0</th>\n",
       "      <th>internet_access</th>\n",
       "      <th>broadband</th>\n",
       "      <th>family_income</th>\n",
       "      <th>hh_income</th>\n",
       "      <th>poverty</th>\n",
       "      <th>race</th>\n",
       "      <th>hispanic</th>\n",
       "      <th>pop_65</th>\n",
       "      <th>weight</th>\n",
       "      <th>...</th>\n",
       "      <th>citizenship</th>\n",
       "      <th>public use microdata area</th>\n",
       "      <th>white</th>\n",
       "      <th>nh_white</th>\n",
       "      <th>black</th>\n",
       "      <th>nh_black</th>\n",
       "      <th>asian</th>\n",
       "      <th>nh_asian</th>\n",
       "      <th>log_family_income</th>\n",
       "      <th>log_hh_income</th>\n",
       "    </tr>\n",
       "  </thead>\n",
       "  <tbody>\n",
       "    <tr>\n",
       "      <th>0</th>\n",
       "      <td>4</td>\n",
       "      <td>1</td>\n",
       "      <td>1</td>\n",
       "      <td>366000</td>\n",
       "      <td>366000</td>\n",
       "      <td>501</td>\n",
       "      <td>9</td>\n",
       "      <td>0</td>\n",
       "      <td>0</td>\n",
       "      <td>14</td>\n",
       "      <td>...</td>\n",
       "      <td>1</td>\n",
       "      <td>3420</td>\n",
       "      <td>0</td>\n",
       "      <td>0</td>\n",
       "      <td>0</td>\n",
       "      <td>0</td>\n",
       "      <td>0</td>\n",
       "      <td>0</td>\n",
       "      <td>12.810389</td>\n",
       "      <td>12.810389</td>\n",
       "    </tr>\n",
       "    <tr>\n",
       "      <th>1</th>\n",
       "      <td>5</td>\n",
       "      <td>1</td>\n",
       "      <td>1</td>\n",
       "      <td>366000</td>\n",
       "      <td>366000</td>\n",
       "      <td>501</td>\n",
       "      <td>9</td>\n",
       "      <td>0</td>\n",
       "      <td>0</td>\n",
       "      <td>12</td>\n",
       "      <td>...</td>\n",
       "      <td>1</td>\n",
       "      <td>3420</td>\n",
       "      <td>0</td>\n",
       "      <td>0</td>\n",
       "      <td>0</td>\n",
       "      <td>0</td>\n",
       "      <td>0</td>\n",
       "      <td>0</td>\n",
       "      <td>12.810389</td>\n",
       "      <td>12.810389</td>\n",
       "    </tr>\n",
       "    <tr>\n",
       "      <th>2</th>\n",
       "      <td>7</td>\n",
       "      <td>1</td>\n",
       "      <td>1</td>\n",
       "      <td>385000</td>\n",
       "      <td>385000</td>\n",
       "      <td>501</td>\n",
       "      <td>1</td>\n",
       "      <td>0</td>\n",
       "      <td>0</td>\n",
       "      <td>16</td>\n",
       "      <td>...</td>\n",
       "      <td>0</td>\n",
       "      <td>3502</td>\n",
       "      <td>1</td>\n",
       "      <td>1</td>\n",
       "      <td>0</td>\n",
       "      <td>0</td>\n",
       "      <td>0</td>\n",
       "      <td>0</td>\n",
       "      <td>12.860999</td>\n",
       "      <td>12.860999</td>\n",
       "    </tr>\n",
       "    <tr>\n",
       "      <th>3</th>\n",
       "      <td>8</td>\n",
       "      <td>1</td>\n",
       "      <td>1</td>\n",
       "      <td>385000</td>\n",
       "      <td>385000</td>\n",
       "      <td>501</td>\n",
       "      <td>1</td>\n",
       "      <td>0</td>\n",
       "      <td>0</td>\n",
       "      <td>17</td>\n",
       "      <td>...</td>\n",
       "      <td>1</td>\n",
       "      <td>3502</td>\n",
       "      <td>1</td>\n",
       "      <td>1</td>\n",
       "      <td>0</td>\n",
       "      <td>0</td>\n",
       "      <td>0</td>\n",
       "      <td>0</td>\n",
       "      <td>12.860999</td>\n",
       "      <td>12.860999</td>\n",
       "    </tr>\n",
       "    <tr>\n",
       "      <th>4</th>\n",
       "      <td>22</td>\n",
       "      <td>1</td>\n",
       "      <td>1</td>\n",
       "      <td>103500</td>\n",
       "      <td>103500</td>\n",
       "      <td>501</td>\n",
       "      <td>1</td>\n",
       "      <td>1</td>\n",
       "      <td>0</td>\n",
       "      <td>11</td>\n",
       "      <td>...</td>\n",
       "      <td>0</td>\n",
       "      <td>3529</td>\n",
       "      <td>1</td>\n",
       "      <td>0</td>\n",
       "      <td>0</td>\n",
       "      <td>1</td>\n",
       "      <td>0</td>\n",
       "      <td>1</td>\n",
       "      <td>11.547327</td>\n",
       "      <td>11.547327</td>\n",
       "    </tr>\n",
       "    <tr>\n",
       "      <th>5</th>\n",
       "      <td>29</td>\n",
       "      <td>1</td>\n",
       "      <td>1</td>\n",
       "      <td>58000</td>\n",
       "      <td>58000</td>\n",
       "      <td>366</td>\n",
       "      <td>1</td>\n",
       "      <td>1</td>\n",
       "      <td>0</td>\n",
       "      <td>15</td>\n",
       "      <td>...</td>\n",
       "      <td>0</td>\n",
       "      <td>3420</td>\n",
       "      <td>1</td>\n",
       "      <td>0</td>\n",
       "      <td>0</td>\n",
       "      <td>1</td>\n",
       "      <td>0</td>\n",
       "      <td>1</td>\n",
       "      <td>10.968198</td>\n",
       "      <td>10.968198</td>\n",
       "    </tr>\n",
       "    <tr>\n",
       "      <th>6</th>\n",
       "      <td>36</td>\n",
       "      <td>0</td>\n",
       "      <td>0</td>\n",
       "      <td>49600</td>\n",
       "      <td>49600</td>\n",
       "      <td>346</td>\n",
       "      <td>2</td>\n",
       "      <td>0</td>\n",
       "      <td>1</td>\n",
       "      <td>11</td>\n",
       "      <td>...</td>\n",
       "      <td>1</td>\n",
       "      <td>3523</td>\n",
       "      <td>0</td>\n",
       "      <td>0</td>\n",
       "      <td>1</td>\n",
       "      <td>1</td>\n",
       "      <td>0</td>\n",
       "      <td>0</td>\n",
       "      <td>10.811746</td>\n",
       "      <td>10.811746</td>\n",
       "    </tr>\n",
       "    <tr>\n",
       "      <th>7</th>\n",
       "      <td>40</td>\n",
       "      <td>1</td>\n",
       "      <td>1</td>\n",
       "      <td>130000</td>\n",
       "      <td>130000</td>\n",
       "      <td>501</td>\n",
       "      <td>1</td>\n",
       "      <td>0</td>\n",
       "      <td>0</td>\n",
       "      <td>10</td>\n",
       "      <td>...</td>\n",
       "      <td>1</td>\n",
       "      <td>3530</td>\n",
       "      <td>1</td>\n",
       "      <td>1</td>\n",
       "      <td>0</td>\n",
       "      <td>0</td>\n",
       "      <td>0</td>\n",
       "      <td>0</td>\n",
       "      <td>11.775290</td>\n",
       "      <td>11.775290</td>\n",
       "    </tr>\n",
       "    <tr>\n",
       "      <th>8</th>\n",
       "      <td>41</td>\n",
       "      <td>1</td>\n",
       "      <td>1</td>\n",
       "      <td>130000</td>\n",
       "      <td>130000</td>\n",
       "      <td>501</td>\n",
       "      <td>1</td>\n",
       "      <td>0</td>\n",
       "      <td>0</td>\n",
       "      <td>10</td>\n",
       "      <td>...</td>\n",
       "      <td>1</td>\n",
       "      <td>3530</td>\n",
       "      <td>1</td>\n",
       "      <td>1</td>\n",
       "      <td>0</td>\n",
       "      <td>0</td>\n",
       "      <td>0</td>\n",
       "      <td>0</td>\n",
       "      <td>11.775290</td>\n",
       "      <td>11.775290</td>\n",
       "    </tr>\n",
       "    <tr>\n",
       "      <th>9</th>\n",
       "      <td>61</td>\n",
       "      <td>1</td>\n",
       "      <td>1</td>\n",
       "      <td>66600</td>\n",
       "      <td>66600</td>\n",
       "      <td>359</td>\n",
       "      <td>2</td>\n",
       "      <td>0</td>\n",
       "      <td>1</td>\n",
       "      <td>13</td>\n",
       "      <td>...</td>\n",
       "      <td>1</td>\n",
       "      <td>3521</td>\n",
       "      <td>0</td>\n",
       "      <td>0</td>\n",
       "      <td>1</td>\n",
       "      <td>1</td>\n",
       "      <td>0</td>\n",
       "      <td>0</td>\n",
       "      <td>11.106460</td>\n",
       "      <td>11.106460</td>\n",
       "    </tr>\n",
       "  </tbody>\n",
       "</table>\n",
       "<p>10 rows × 23 columns</p>\n",
       "</div>"
      ],
      "text/plain": [
       "   Unnamed: 0  internet_access  broadband  family_income  hh_income  poverty  \\\n",
       "0           4                1          1         366000     366000      501   \n",
       "1           5                1          1         366000     366000      501   \n",
       "2           7                1          1         385000     385000      501   \n",
       "3           8                1          1         385000     385000      501   \n",
       "4          22                1          1         103500     103500      501   \n",
       "5          29                1          1          58000      58000      366   \n",
       "6          36                0          0          49600      49600      346   \n",
       "7          40                1          1         130000     130000      501   \n",
       "8          41                1          1         130000     130000      501   \n",
       "9          61                1          1          66600      66600      359   \n",
       "\n",
       "   race  hispanic  pop_65  weight  ...  citizenship  \\\n",
       "0     9         0       0      14  ...            1   \n",
       "1     9         0       0      12  ...            1   \n",
       "2     1         0       0      16  ...            0   \n",
       "3     1         0       0      17  ...            1   \n",
       "4     1         1       0      11  ...            0   \n",
       "5     1         1       0      15  ...            0   \n",
       "6     2         0       1      11  ...            1   \n",
       "7     1         0       0      10  ...            1   \n",
       "8     1         0       0      10  ...            1   \n",
       "9     2         0       1      13  ...            1   \n",
       "\n",
       "   public use microdata area  white  nh_white  black  nh_black  asian  \\\n",
       "0                       3420      0         0      0         0      0   \n",
       "1                       3420      0         0      0         0      0   \n",
       "2                       3502      1         1      0         0      0   \n",
       "3                       3502      1         1      0         0      0   \n",
       "4                       3529      1         0      0         1      0   \n",
       "5                       3420      1         0      0         1      0   \n",
       "6                       3523      0         0      1         1      0   \n",
       "7                       3530      1         1      0         0      0   \n",
       "8                       3530      1         1      0         0      0   \n",
       "9                       3521      0         0      1         1      0   \n",
       "\n",
       "   nh_asian  log_family_income  log_hh_income  \n",
       "0         0          12.810389      12.810389  \n",
       "1         0          12.810389      12.810389  \n",
       "2         0          12.860999      12.860999  \n",
       "3         0          12.860999      12.860999  \n",
       "4         1          11.547327      11.547327  \n",
       "5         1          10.968198      10.968198  \n",
       "6         0          10.811746      10.811746  \n",
       "7         0          11.775290      11.775290  \n",
       "8         0          11.775290      11.775290  \n",
       "9         0          11.106460      11.106460  \n",
       "\n",
       "[10 rows x 23 columns]"
      ]
     },
     "execution_count": 59,
     "metadata": {},
     "output_type": "execute_result"
    }
   ],
   "source": [
    "acs_ind.head(10)"
   ]
  },
  {
   "cell_type": "markdown",
   "id": "91590f11",
   "metadata": {},
   "source": [
    "#### Visualizations"
   ]
  },
  {
   "cell_type": "code",
   "execution_count": 60,
   "id": "c3b109f9",
   "metadata": {},
   "outputs": [
    {
     "data": {
      "text/plain": [
       "<AxesSubplot:xlabel='internet_access', ylabel='log_hh_income'>"
      ]
     },
     "execution_count": 60,
     "metadata": {},
     "output_type": "execute_result"
    },
    {
     "data": {
      "image/png": "[encoded data removed]",
      "text/plain": [
       "<Figure size 432x288 with 1 Axes>"
      ]
     },
     "metadata": {
      "needs_background": "light"
     },
     "output_type": "display_data"
    }
   ],
   "source": [
    "sns.boxplot(x=\"internet_access\", y=\"log_hh_income\", data=acs_ind)"
   ]
  },
  {
   "cell_type": "code",
   "execution_count": 61,
   "id": "3a4807fe",
   "metadata": {},
   "outputs": [
    {
     "data": {
      "text/plain": [
       "<AxesSubplot:xlabel='internet_access', ylabel='log_family_income'>"
      ]
     },
     "execution_count": 61,
     "metadata": {},
     "output_type": "execute_result"
    },
    {
     "data": {
      "image/png": "[encoded data removed]",
      "text/plain": [
       "<Figure size 432x288 with 1 Axes>"
      ]
     },
     "metadata": {
      "needs_background": "light"
     },
     "output_type": "display_data"
    }
   ],
   "source": [
    "sns.boxplot(x=\"internet_access\", y=\"log_family_income\", data=acs_ind)"
   ]
  },
  {
   "cell_type": "code",
   "execution_count": 62,
   "id": "d293c771",
   "metadata": {},
   "outputs": [
    {
     "name": "stdout",
     "output_type": "stream",
     "text": [
      "percentage with internet access is 92.43053337591823\n",
      "percentage with no internet access 7.5694666240817625\n"
     ]
    }
   ],
   "source": [
    "count_no_int = len(acs_ind[acs_ind['internet_access']==0])\n",
    "count_int = len(acs_ind[acs_ind['internet_access']==1])\n",
    "pct_of_int = count_int/(count_no_int+count_int)\n",
    "print(\"percentage with internet access is\", pct_of_int*100)\n",
    "pct_of_no_int = count_no_int/(count_no_int+count_int)\n",
    "print(\"percentage with no internet access\", pct_of_no_int*100)"
   ]
  },
  {
   "cell_type": "markdown",
   "id": "a91ec30f",
   "metadata": {},
   "source": [
    "### List of variables that may impact internet access"
   ]
  },
  {
   "cell_type": "markdown",
   "id": "4f9ff8c1",
   "metadata": {},
   "source": [
    "- household income\n",
    "- family income\n",
    "- race\n",
    "- hispanic\n",
    "- poverty to income ratio "
   ]
  },
  {
   "cell_type": "markdown",
   "id": "85b00cce",
   "metadata": {},
   "source": [
    "### Correlation "
   ]
  },
  {
   "cell_type": "code",
   "execution_count": 63,
   "id": "3ff92a87",
   "metadata": {},
   "outputs": [
    {
     "data": {
      "text/plain": [
       "<AxesSubplot:>"
      ]
     },
     "execution_count": 63,
     "metadata": {},
     "output_type": "execute_result"
    },
    {
     "data": {
      "image/png": "[encoded data removed]",
      "text/plain": [
       "<Figure size 432x288 with 2 Axes>"
      ]
     },
     "metadata": {
      "needs_background": "light"
     },
     "output_type": "display_data"
    }
   ],
   "source": [
    "sns.heatmap(\n",
    "    acs_ind[['internet_access','log_family_income','log_hh_income','poverty','nh_white','nh_black','nh_asian','hispanic', 'pop_65','education','citizenship']]\n",
    "    .corr()\n",
    ")"
   ]
  },
  {
   "cell_type": "markdown",
   "id": "e6c51f77",
   "metadata": {},
   "source": [
    "#### Logistic Regression"
   ]
  },
  {
   "cell_type": "code",
   "execution_count": 64,
   "id": "280dca5d",
   "metadata": {},
   "outputs": [],
   "source": [
    "from sklearn.model_selection import train_test_split\n",
    "from statsmodels.formula.api import logit"
   ]
  },
  {
   "cell_type": "markdown",
   "id": "4dd652b0",
   "metadata": {},
   "source": [
    "#### Full Model with All Variables"
   ]
  },
  {
   "cell_type": "code",
   "execution_count": 87,
   "id": "08f57bbf",
   "metadata": {},
   "outputs": [
    {
     "name": "stdout",
     "output_type": "stream",
     "text": [
      "Optimization terminated successfully.\n",
      "         Current function value: 0.242595\n",
      "         Iterations 7\n"
     ]
    }
   ],
   "source": [
    "# recode citizenship foreign born citizen, born citizen, citizen abroad\n",
    "# what other methods could be run to measure impact of variables\n",
    "# what are possible explanations \n",
    "# differences in p values multiple logit vs individual logit \n",
    "\n",
    "formula=(\"internet_access ~ log_hh_income + hispanic + nh_asian + nh_black + education + pop_65\")\n",
    "\n",
    "model=logit(formula=formula, data=acs_ind).fit()"
   ]
  },
  {
   "cell_type": "code",
   "execution_count": 88,
   "id": "e7826700",
   "metadata": {},
   "outputs": [
    {
     "data": {
      "text/html": [
       "<table class=\"simpletable\">\n",
       "<caption>Logit Regression Results</caption>\n",
       "<tr>\n",
       "  <th>Dep. Variable:</th>    <td>internet_access</td> <th>  No. Observations:  </th>   <td> 25048</td>  \n",
       "</tr>\n",
       "<tr>\n",
       "  <th>Model:</th>                 <td>Logit</td>      <th>  Df Residuals:      </th>   <td> 25041</td>  \n",
       "</tr>\n",
       "<tr>\n",
       "  <th>Method:</th>                 <td>MLE</td>       <th>  Df Model:          </th>   <td>     6</td>  \n",
       "</tr>\n",
       "<tr>\n",
       "  <th>Date:</th>            <td>Wed, 09 Mar 2022</td> <th>  Pseudo R-squ.:     </th>   <td>0.09522</td> \n",
       "</tr>\n",
       "<tr>\n",
       "  <th>Time:</th>                <td>10:02:57</td>     <th>  Log-Likelihood:    </th>  <td> -6076.5</td> \n",
       "</tr>\n",
       "<tr>\n",
       "  <th>converged:</th>             <td>True</td>       <th>  LL-Null:           </th>  <td> -6716.0</td> \n",
       "</tr>\n",
       "<tr>\n",
       "  <th>Covariance Type:</th>     <td>nonrobust</td>    <th>  LLR p-value:       </th> <td>3.805e-273</td>\n",
       "</tr>\n",
       "</table>\n",
       "<table class=\"simpletable\">\n",
       "<tr>\n",
       "        <td></td>           <th>coef</th>     <th>std err</th>      <th>z</th>      <th>P>|z|</th>  <th>[0.025</th>    <th>0.975]</th>  \n",
       "</tr>\n",
       "<tr>\n",
       "  <th>Intercept</th>     <td>   -2.3621</td> <td>    0.239</td> <td>   -9.873</td> <td> 0.000</td> <td>   -2.831</td> <td>   -1.893</td>\n",
       "</tr>\n",
       "<tr>\n",
       "  <th>log_hh_income</th> <td>    0.4826</td> <td>    0.020</td> <td>   23.996</td> <td> 0.000</td> <td>    0.443</td> <td>    0.522</td>\n",
       "</tr>\n",
       "<tr>\n",
       "  <th>hispanic</th>      <td>   -0.0734</td> <td>    0.166</td> <td>   -0.442</td> <td> 0.658</td> <td>   -0.399</td> <td>    0.252</td>\n",
       "</tr>\n",
       "<tr>\n",
       "  <th>nh_asian</th>      <td>    0.3482</td> <td>    0.157</td> <td>    2.222</td> <td> 0.026</td> <td>    0.041</td> <td>    0.655</td>\n",
       "</tr>\n",
       "<tr>\n",
       "  <th>nh_black</th>      <td>   -0.8073</td> <td>    0.073</td> <td>  -11.028</td> <td> 0.000</td> <td>   -0.951</td> <td>   -0.664</td>\n",
       "</tr>\n",
       "<tr>\n",
       "  <th>education</th>     <td>    0.3006</td> <td>    0.062</td> <td>    4.834</td> <td> 0.000</td> <td>    0.179</td> <td>    0.423</td>\n",
       "</tr>\n",
       "<tr>\n",
       "  <th>pop_65</th>        <td>   -0.8957</td> <td>    0.060</td> <td>  -14.881</td> <td> 0.000</td> <td>   -1.014</td> <td>   -0.778</td>\n",
       "</tr>\n",
       "</table>"
      ],
      "text/plain": [
       "<class 'statsmodels.iolib.summary.Summary'>\n",
       "\"\"\"\n",
       "                           Logit Regression Results                           \n",
       "==============================================================================\n",
       "Dep. Variable:        internet_access   No. Observations:                25048\n",
       "Model:                          Logit   Df Residuals:                    25041\n",
       "Method:                           MLE   Df Model:                            6\n",
       "Date:                Wed, 09 Mar 2022   Pseudo R-squ.:                 0.09522\n",
       "Time:                        10:02:57   Log-Likelihood:                -6076.5\n",
       "converged:                       True   LL-Null:                       -6716.0\n",
       "Covariance Type:            nonrobust   LLR p-value:                3.805e-273\n",
       "=================================================================================\n",
       "                    coef    std err          z      P>|z|      [0.025      0.975]\n",
       "---------------------------------------------------------------------------------\n",
       "Intercept        -2.3621      0.239     -9.873      0.000      -2.831      -1.893\n",
       "log_hh_income     0.4826      0.020     23.996      0.000       0.443       0.522\n",
       "hispanic         -0.0734      0.166     -0.442      0.658      -0.399       0.252\n",
       "nh_asian          0.3482      0.157      2.222      0.026       0.041       0.655\n",
       "nh_black         -0.8073      0.073    -11.028      0.000      -0.951      -0.664\n",
       "education         0.3006      0.062      4.834      0.000       0.179       0.423\n",
       "pop_65           -0.8957      0.060    -14.881      0.000      -1.014      -0.778\n",
       "=================================================================================\n",
       "\"\"\""
      ]
     },
     "execution_count": 88,
     "metadata": {},
     "output_type": "execute_result"
    }
   ],
   "source": [
    "model.summary()"
   ]
  },
  {
   "cell_type": "markdown",
   "id": "2faa24de",
   "metadata": {},
   "source": [
    "We took out one of the race variables (Asian) because (together, all four race variales are perfectly multicollinear) and that we should probably drop log_family_income and poverty because they’re highly correlated with log_hh_income and would complicate the interpretation and reduce precision without explaining much more of the variation."
   ]
  },
  {
   "cell_type": "markdown",
   "id": "3691982f",
   "metadata": {},
   "source": [
    "#### Income Models"
   ]
  },
  {
   "cell_type": "code",
   "execution_count": 67,
   "id": "1ee7e329",
   "metadata": {},
   "outputs": [
    {
     "name": "stdout",
     "output_type": "stream",
     "text": [
      "Optimization terminated successfully.\n",
      "         Current function value: 0.250821\n",
      "         Iterations 7\n"
     ]
    }
   ],
   "source": [
    "formulaA=(\"internet_access ~ log_hh_income\")\n",
    "\n",
    "modelA=logit(formula=formulaA, data=acs_ind).fit()"
   ]
  },
  {
   "cell_type": "code",
   "execution_count": 68,
   "id": "aa15c192",
   "metadata": {},
   "outputs": [
    {
     "data": {
      "text/html": [
       "<table class=\"simpletable\">\n",
       "<caption>Logit Regression Results</caption>\n",
       "<tr>\n",
       "  <th>Dep. Variable:</th>    <td>internet_access</td> <th>  No. Observations:  </th>   <td> 25048</td>  \n",
       "</tr>\n",
       "<tr>\n",
       "  <th>Model:</th>                 <td>Logit</td>      <th>  Df Residuals:      </th>   <td> 25046</td>  \n",
       "</tr>\n",
       "<tr>\n",
       "  <th>Method:</th>                 <td>MLE</td>       <th>  Df Model:          </th>   <td>     1</td>  \n",
       "</tr>\n",
       "<tr>\n",
       "  <th>Date:</th>            <td>Wed, 09 Mar 2022</td> <th>  Pseudo R-squ.:     </th>   <td>0.06454</td> \n",
       "</tr>\n",
       "<tr>\n",
       "  <th>Time:</th>                <td>09:46:12</td>     <th>  Log-Likelihood:    </th>  <td> -6282.6</td> \n",
       "</tr>\n",
       "<tr>\n",
       "  <th>converged:</th>             <td>True</td>       <th>  LL-Null:           </th>  <td> -6716.0</td> \n",
       "</tr>\n",
       "<tr>\n",
       "  <th>Covariance Type:</th>     <td>nonrobust</td>    <th>  LLR p-value:       </th> <td>1.527e-190</td>\n",
       "</tr>\n",
       "</table>\n",
       "<table class=\"simpletable\">\n",
       "<tr>\n",
       "        <td></td>           <th>coef</th>     <th>std err</th>      <th>z</th>      <th>P>|z|</th>  <th>[0.025</th>    <th>0.975]</th>  \n",
       "</tr>\n",
       "<tr>\n",
       "  <th>Intercept</th>     <td>   -3.2352</td> <td>    0.190</td> <td>  -17.008</td> <td> 0.000</td> <td>   -3.608</td> <td>   -2.862</td>\n",
       "</tr>\n",
       "<tr>\n",
       "  <th>log_hh_income</th> <td>    0.5358</td> <td>    0.018</td> <td>   29.560</td> <td> 0.000</td> <td>    0.500</td> <td>    0.571</td>\n",
       "</tr>\n",
       "</table>"
      ],
      "text/plain": [
       "<class 'statsmodels.iolib.summary.Summary'>\n",
       "\"\"\"\n",
       "                           Logit Regression Results                           \n",
       "==============================================================================\n",
       "Dep. Variable:        internet_access   No. Observations:                25048\n",
       "Model:                          Logit   Df Residuals:                    25046\n",
       "Method:                           MLE   Df Model:                            1\n",
       "Date:                Wed, 09 Mar 2022   Pseudo R-squ.:                 0.06454\n",
       "Time:                        09:46:12   Log-Likelihood:                -6282.6\n",
       "converged:                       True   LL-Null:                       -6716.0\n",
       "Covariance Type:            nonrobust   LLR p-value:                1.527e-190\n",
       "=================================================================================\n",
       "                    coef    std err          z      P>|z|      [0.025      0.975]\n",
       "---------------------------------------------------------------------------------\n",
       "Intercept        -3.2352      0.190    -17.008      0.000      -3.608      -2.862\n",
       "log_hh_income     0.5358      0.018     29.560      0.000       0.500       0.571\n",
       "=================================================================================\n",
       "\"\"\""
      ]
     },
     "execution_count": 68,
     "metadata": {},
     "output_type": "execute_result"
    }
   ],
   "source": [
    "modelA.summary()"
   ]
  },
  {
   "cell_type": "code",
   "execution_count": 69,
   "id": "0dfc36be",
   "metadata": {},
   "outputs": [
    {
     "name": "stdout",
     "output_type": "stream",
     "text": [
      "Optimization terminated successfully.\n",
      "         Current function value: 0.251460\n",
      "         Iterations 7\n"
     ]
    }
   ],
   "source": [
    "formulaB=(\"internet_access ~ log_family_income\")\n",
    "\n",
    "modelB=logit(formula=formulaB, data=acs_ind).fit()"
   ]
  },
  {
   "cell_type": "code",
   "execution_count": 70,
   "id": "0ca55458",
   "metadata": {},
   "outputs": [
    {
     "data": {
      "text/html": [
       "<table class=\"simpletable\">\n",
       "<caption>Logit Regression Results</caption>\n",
       "<tr>\n",
       "  <th>Dep. Variable:</th>    <td>internet_access</td> <th>  No. Observations:  </th>   <td> 25048</td>  \n",
       "</tr>\n",
       "<tr>\n",
       "  <th>Model:</th>                 <td>Logit</td>      <th>  Df Residuals:      </th>   <td> 25046</td>  \n",
       "</tr>\n",
       "<tr>\n",
       "  <th>Method:</th>                 <td>MLE</td>       <th>  Df Model:          </th>   <td>     1</td>  \n",
       "</tr>\n",
       "<tr>\n",
       "  <th>Date:</th>            <td>Wed, 09 Mar 2022</td> <th>  Pseudo R-squ.:     </th>   <td>0.06216</td> \n",
       "</tr>\n",
       "<tr>\n",
       "  <th>Time:</th>                <td>09:46:12</td>     <th>  Log-Likelihood:    </th>  <td> -6298.6</td> \n",
       "</tr>\n",
       "<tr>\n",
       "  <th>converged:</th>             <td>True</td>       <th>  LL-Null:           </th>  <td> -6716.0</td> \n",
       "</tr>\n",
       "<tr>\n",
       "  <th>Covariance Type:</th>     <td>nonrobust</td>    <th>  LLR p-value:       </th> <td>1.375e-183</td>\n",
       "</tr>\n",
       "</table>\n",
       "<table class=\"simpletable\">\n",
       "<tr>\n",
       "          <td></td>             <th>coef</th>     <th>std err</th>      <th>z</th>      <th>P>|z|</th>  <th>[0.025</th>    <th>0.975]</th>  \n",
       "</tr>\n",
       "<tr>\n",
       "  <th>Intercept</th>         <td>   -3.0224</td> <td>    0.186</td> <td>  -16.227</td> <td> 0.000</td> <td>   -3.387</td> <td>   -2.657</td>\n",
       "</tr>\n",
       "<tr>\n",
       "  <th>log_family_income</th> <td>    0.5183</td> <td>    0.018</td> <td>   29.067</td> <td> 0.000</td> <td>    0.483</td> <td>    0.553</td>\n",
       "</tr>\n",
       "</table>"
      ],
      "text/plain": [
       "<class 'statsmodels.iolib.summary.Summary'>\n",
       "\"\"\"\n",
       "                           Logit Regression Results                           \n",
       "==============================================================================\n",
       "Dep. Variable:        internet_access   No. Observations:                25048\n",
       "Model:                          Logit   Df Residuals:                    25046\n",
       "Method:                           MLE   Df Model:                            1\n",
       "Date:                Wed, 09 Mar 2022   Pseudo R-squ.:                 0.06216\n",
       "Time:                        09:46:12   Log-Likelihood:                -6298.6\n",
       "converged:                       True   LL-Null:                       -6716.0\n",
       "Covariance Type:            nonrobust   LLR p-value:                1.375e-183\n",
       "=====================================================================================\n",
       "                        coef    std err          z      P>|z|      [0.025      0.975]\n",
       "-------------------------------------------------------------------------------------\n",
       "Intercept            -3.0224      0.186    -16.227      0.000      -3.387      -2.657\n",
       "log_family_income     0.5183      0.018     29.067      0.000       0.483       0.553\n",
       "=====================================================================================\n",
       "\"\"\""
      ]
     },
     "execution_count": 70,
     "metadata": {},
     "output_type": "execute_result"
    }
   ],
   "source": [
    "modelB.summary()"
   ]
  },
  {
   "cell_type": "code",
   "execution_count": 71,
   "id": "1b0cc3a9",
   "metadata": {},
   "outputs": [
    {
     "name": "stdout",
     "output_type": "stream",
     "text": [
      "Optimization terminated successfully.\n",
      "         Current function value: 0.248613\n",
      "         Iterations 7\n"
     ]
    }
   ],
   "source": [
    "formulaC=(\"internet_access ~ poverty\")\n",
    "\n",
    "modelC=logit(formula=formulaC, data=acs_ind).fit()"
   ]
  },
  {
   "cell_type": "code",
   "execution_count": 72,
   "id": "ef9ed12a",
   "metadata": {},
   "outputs": [
    {
     "data": {
      "text/html": [
       "<table class=\"simpletable\">\n",
       "<caption>Logit Regression Results</caption>\n",
       "<tr>\n",
       "  <th>Dep. Variable:</th>    <td>internet_access</td> <th>  No. Observations:  </th>   <td> 25048</td>  \n",
       "</tr>\n",
       "<tr>\n",
       "  <th>Model:</th>                 <td>Logit</td>      <th>  Df Residuals:      </th>   <td> 25046</td>  \n",
       "</tr>\n",
       "<tr>\n",
       "  <th>Method:</th>                 <td>MLE</td>       <th>  Df Model:          </th>   <td>     1</td>  \n",
       "</tr>\n",
       "<tr>\n",
       "  <th>Date:</th>            <td>Wed, 09 Mar 2022</td> <th>  Pseudo R-squ.:     </th>   <td>0.07278</td> \n",
       "</tr>\n",
       "<tr>\n",
       "  <th>Time:</th>                <td>09:46:12</td>     <th>  Log-Likelihood:    </th>  <td> -6227.2</td> \n",
       "</tr>\n",
       "<tr>\n",
       "  <th>converged:</th>             <td>True</td>       <th>  LL-Null:           </th>  <td> -6716.0</td> \n",
       "</tr>\n",
       "<tr>\n",
       "  <th>Covariance Type:</th>     <td>nonrobust</td>    <th>  LLR p-value:       </th> <td>1.358e-214</td>\n",
       "</tr>\n",
       "</table>\n",
       "<table class=\"simpletable\">\n",
       "<tr>\n",
       "      <td></td>         <th>coef</th>     <th>std err</th>      <th>z</th>      <th>P>|z|</th>  <th>[0.025</th>    <th>0.975]</th>  \n",
       "</tr>\n",
       "<tr>\n",
       "  <th>Intercept</th> <td>    1.4457</td> <td>    0.038</td> <td>   38.075</td> <td> 0.000</td> <td>    1.371</td> <td>    1.520</td>\n",
       "</tr>\n",
       "<tr>\n",
       "  <th>poverty</th>   <td>    0.0049</td> <td>    0.000</td> <td>   27.892</td> <td> 0.000</td> <td>    0.005</td> <td>    0.005</td>\n",
       "</tr>\n",
       "</table>"
      ],
      "text/plain": [
       "<class 'statsmodels.iolib.summary.Summary'>\n",
       "\"\"\"\n",
       "                           Logit Regression Results                           \n",
       "==============================================================================\n",
       "Dep. Variable:        internet_access   No. Observations:                25048\n",
       "Model:                          Logit   Df Residuals:                    25046\n",
       "Method:                           MLE   Df Model:                            1\n",
       "Date:                Wed, 09 Mar 2022   Pseudo R-squ.:                 0.07278\n",
       "Time:                        09:46:12   Log-Likelihood:                -6227.2\n",
       "converged:                       True   LL-Null:                       -6716.0\n",
       "Covariance Type:            nonrobust   LLR p-value:                1.358e-214\n",
       "==============================================================================\n",
       "                 coef    std err          z      P>|z|      [0.025      0.975]\n",
       "------------------------------------------------------------------------------\n",
       "Intercept      1.4457      0.038     38.075      0.000       1.371       1.520\n",
       "poverty        0.0049      0.000     27.892      0.000       0.005       0.005\n",
       "==============================================================================\n",
       "\"\"\""
      ]
     },
     "execution_count": 72,
     "metadata": {},
     "output_type": "execute_result"
    }
   ],
   "source": [
    "modelC.summary()"
   ]
  },
  {
   "cell_type": "markdown",
   "id": "9c88c56e",
   "metadata": {},
   "source": [
    "#### Race & Ethnicity Models "
   ]
  },
  {
   "cell_type": "code",
   "execution_count": 73,
   "id": "3818bbe2",
   "metadata": {},
   "outputs": [
    {
     "name": "stdout",
     "output_type": "stream",
     "text": [
      "Optimization terminated successfully.\n",
      "         Current function value: 0.268104\n",
      "         Iterations 6\n"
     ]
    }
   ],
   "source": [
    "formula0=(\"internet_access ~ hispanic\")\n",
    "\n",
    "model0=logit(formula=formula0, data=acs_ind).fit()"
   ]
  },
  {
   "cell_type": "code",
   "execution_count": 74,
   "id": "4646f151",
   "metadata": {},
   "outputs": [
    {
     "data": {
      "text/html": [
       "<table class=\"simpletable\">\n",
       "<caption>Logit Regression Results</caption>\n",
       "<tr>\n",
       "  <th>Dep. Variable:</th>    <td>internet_access</td> <th>  No. Observations:  </th>  <td> 25048</td>  \n",
       "</tr>\n",
       "<tr>\n",
       "  <th>Model:</th>                 <td>Logit</td>      <th>  Df Residuals:      </th>  <td> 25046</td>  \n",
       "</tr>\n",
       "<tr>\n",
       "  <th>Method:</th>                 <td>MLE</td>       <th>  Df Model:          </th>  <td>     1</td>  \n",
       "</tr>\n",
       "<tr>\n",
       "  <th>Date:</th>            <td>Wed, 09 Mar 2022</td> <th>  Pseudo R-squ.:     </th> <td>8.165e-05</td>\n",
       "</tr>\n",
       "<tr>\n",
       "  <th>Time:</th>                <td>09:46:12</td>     <th>  Log-Likelihood:    </th> <td> -6715.5</td> \n",
       "</tr>\n",
       "<tr>\n",
       "  <th>converged:</th>             <td>True</td>       <th>  LL-Null:           </th> <td> -6716.0</td> \n",
       "</tr>\n",
       "<tr>\n",
       "  <th>Covariance Type:</th>     <td>nonrobust</td>    <th>  LLR p-value:       </th>  <td>0.2950</td>  \n",
       "</tr>\n",
       "</table>\n",
       "<table class=\"simpletable\">\n",
       "<tr>\n",
       "      <td></td>         <th>coef</th>     <th>std err</th>      <th>z</th>      <th>P>|z|</th>  <th>[0.025</th>    <th>0.975]</th>  \n",
       "</tr>\n",
       "<tr>\n",
       "  <th>Intercept</th> <td>    2.5204</td> <td>    0.030</td> <td>   85.178</td> <td> 0.000</td> <td>    2.462</td> <td>    2.578</td>\n",
       "</tr>\n",
       "<tr>\n",
       "  <th>hispanic</th>  <td>   -0.0526</td> <td>    0.050</td> <td>   -1.050</td> <td> 0.294</td> <td>   -0.151</td> <td>    0.046</td>\n",
       "</tr>\n",
       "</table>"
      ],
      "text/plain": [
       "<class 'statsmodels.iolib.summary.Summary'>\n",
       "\"\"\"\n",
       "                           Logit Regression Results                           \n",
       "==============================================================================\n",
       "Dep. Variable:        internet_access   No. Observations:                25048\n",
       "Model:                          Logit   Df Residuals:                    25046\n",
       "Method:                           MLE   Df Model:                            1\n",
       "Date:                Wed, 09 Mar 2022   Pseudo R-squ.:               8.165e-05\n",
       "Time:                        09:46:12   Log-Likelihood:                -6715.5\n",
       "converged:                       True   LL-Null:                       -6716.0\n",
       "Covariance Type:            nonrobust   LLR p-value:                    0.2950\n",
       "==============================================================================\n",
       "                 coef    std err          z      P>|z|      [0.025      0.975]\n",
       "------------------------------------------------------------------------------\n",
       "Intercept      2.5204      0.030     85.178      0.000       2.462       2.578\n",
       "hispanic      -0.0526      0.050     -1.050      0.294      -0.151       0.046\n",
       "==============================================================================\n",
       "\"\"\""
      ]
     },
     "execution_count": 74,
     "metadata": {},
     "output_type": "execute_result"
    }
   ],
   "source": [
    "model0.summary()"
   ]
  },
  {
   "cell_type": "code",
   "execution_count": 75,
   "id": "cdb7c757",
   "metadata": {},
   "outputs": [
    {
     "name": "stdout",
     "output_type": "stream",
     "text": [
      "Optimization terminated successfully.\n",
      "         Current function value: 0.264050\n",
      "         Iterations 7\n"
     ]
    }
   ],
   "source": [
    "formula1=(\"internet_access ~ nh_white\")\n",
    "\n",
    "model1=logit(formula=formula1, data=acs_ind).fit()"
   ]
  },
  {
   "cell_type": "code",
   "execution_count": 76,
   "id": "f71d6625",
   "metadata": {},
   "outputs": [
    {
     "data": {
      "text/html": [
       "<table class=\"simpletable\">\n",
       "<caption>Logit Regression Results</caption>\n",
       "<tr>\n",
       "  <th>Dep. Variable:</th>    <td>internet_access</td> <th>  No. Observations:  </th>  <td> 25048</td>  \n",
       "</tr>\n",
       "<tr>\n",
       "  <th>Model:</th>                 <td>Logit</td>      <th>  Df Residuals:      </th>  <td> 25046</td>  \n",
       "</tr>\n",
       "<tr>\n",
       "  <th>Method:</th>                 <td>MLE</td>       <th>  Df Model:          </th>  <td>     1</td>  \n",
       "</tr>\n",
       "<tr>\n",
       "  <th>Date:</th>            <td>Wed, 09 Mar 2022</td> <th>  Pseudo R-squ.:     </th>  <td>0.01520</td> \n",
       "</tr>\n",
       "<tr>\n",
       "  <th>Time:</th>                <td>09:46:12</td>     <th>  Log-Likelihood:    </th> <td> -6613.9</td> \n",
       "</tr>\n",
       "<tr>\n",
       "  <th>converged:</th>             <td>True</td>       <th>  LL-Null:           </th> <td> -6716.0</td> \n",
       "</tr>\n",
       "<tr>\n",
       "  <th>Covariance Type:</th>     <td>nonrobust</td>    <th>  LLR p-value:       </th> <td>2.554e-46</td>\n",
       "</tr>\n",
       "</table>\n",
       "<table class=\"simpletable\">\n",
       "<tr>\n",
       "      <td></td>         <th>coef</th>     <th>std err</th>      <th>z</th>      <th>P>|z|</th>  <th>[0.025</th>    <th>0.975]</th>  \n",
       "</tr>\n",
       "<tr>\n",
       "  <th>Intercept</th> <td>    2.2398</td> <td>    0.029</td> <td>   78.554</td> <td> 0.000</td> <td>    2.184</td> <td>    2.296</td>\n",
       "</tr>\n",
       "<tr>\n",
       "  <th>nh_white</th>  <td>    0.7246</td> <td>    0.053</td> <td>   13.746</td> <td> 0.000</td> <td>    0.621</td> <td>    0.828</td>\n",
       "</tr>\n",
       "</table>"
      ],
      "text/plain": [
       "<class 'statsmodels.iolib.summary.Summary'>\n",
       "\"\"\"\n",
       "                           Logit Regression Results                           \n",
       "==============================================================================\n",
       "Dep. Variable:        internet_access   No. Observations:                25048\n",
       "Model:                          Logit   Df Residuals:                    25046\n",
       "Method:                           MLE   Df Model:                            1\n",
       "Date:                Wed, 09 Mar 2022   Pseudo R-squ.:                 0.01520\n",
       "Time:                        09:46:12   Log-Likelihood:                -6613.9\n",
       "converged:                       True   LL-Null:                       -6716.0\n",
       "Covariance Type:            nonrobust   LLR p-value:                 2.554e-46\n",
       "==============================================================================\n",
       "                 coef    std err          z      P>|z|      [0.025      0.975]\n",
       "------------------------------------------------------------------------------\n",
       "Intercept      2.2398      0.029     78.554      0.000       2.184       2.296\n",
       "nh_white       0.7246      0.053     13.746      0.000       0.621       0.828\n",
       "==============================================================================\n",
       "\"\"\""
      ]
     },
     "execution_count": 76,
     "metadata": {},
     "output_type": "execute_result"
    }
   ],
   "source": [
    "model1.summary()"
   ]
  },
  {
   "cell_type": "code",
   "execution_count": 77,
   "id": "cd3ab496",
   "metadata": {},
   "outputs": [
    {
     "name": "stdout",
     "output_type": "stream",
     "text": [
      "Optimization terminated successfully.\n",
      "         Current function value: 0.258869\n",
      "         Iterations 7\n"
     ]
    }
   ],
   "source": [
    "formula2=(\"internet_access ~ nh_black\")\n",
    "\n",
    "model2=logit(formula=formula2, data=acs_ind).fit()"
   ]
  },
  {
   "cell_type": "code",
   "execution_count": 78,
   "id": "072ad8f5",
   "metadata": {},
   "outputs": [
    {
     "data": {
      "text/html": [
       "<table class=\"simpletable\">\n",
       "<caption>Logit Regression Results</caption>\n",
       "<tr>\n",
       "  <th>Dep. Variable:</th>    <td>internet_access</td> <th>  No. Observations:  </th>   <td> 25048</td>  \n",
       "</tr>\n",
       "<tr>\n",
       "  <th>Model:</th>                 <td>Logit</td>      <th>  Df Residuals:      </th>   <td> 25046</td>  \n",
       "</tr>\n",
       "<tr>\n",
       "  <th>Method:</th>                 <td>MLE</td>       <th>  Df Model:          </th>   <td>     1</td>  \n",
       "</tr>\n",
       "<tr>\n",
       "  <th>Date:</th>            <td>Wed, 09 Mar 2022</td> <th>  Pseudo R-squ.:     </th>   <td>0.03453</td> \n",
       "</tr>\n",
       "<tr>\n",
       "  <th>Time:</th>                <td>09:46:12</td>     <th>  Log-Likelihood:    </th>  <td> -6484.1</td> \n",
       "</tr>\n",
       "<tr>\n",
       "  <th>converged:</th>             <td>True</td>       <th>  LL-Null:           </th>  <td> -6716.0</td> \n",
       "</tr>\n",
       "<tr>\n",
       "  <th>Covariance Type:</th>     <td>nonrobust</td>    <th>  LLR p-value:       </th> <td>7.337e-103</td>\n",
       "</tr>\n",
       "</table>\n",
       "<table class=\"simpletable\">\n",
       "<tr>\n",
       "      <td></td>         <th>coef</th>     <th>std err</th>      <th>z</th>      <th>P>|z|</th>  <th>[0.025</th>    <th>0.975]</th>  \n",
       "</tr>\n",
       "<tr>\n",
       "  <th>Intercept</th> <td>    3.3510</td> <td>    0.055</td> <td>   60.735</td> <td> 0.000</td> <td>    3.243</td> <td>    3.459</td>\n",
       "</tr>\n",
       "<tr>\n",
       "  <th>nh_black</th>  <td>   -1.1941</td> <td>    0.061</td> <td>  -19.470</td> <td> 0.000</td> <td>   -1.314</td> <td>   -1.074</td>\n",
       "</tr>\n",
       "</table>"
      ],
      "text/plain": [
       "<class 'statsmodels.iolib.summary.Summary'>\n",
       "\"\"\"\n",
       "                           Logit Regression Results                           \n",
       "==============================================================================\n",
       "Dep. Variable:        internet_access   No. Observations:                25048\n",
       "Model:                          Logit   Df Residuals:                    25046\n",
       "Method:                           MLE   Df Model:                            1\n",
       "Date:                Wed, 09 Mar 2022   Pseudo R-squ.:                 0.03453\n",
       "Time:                        09:46:12   Log-Likelihood:                -6484.1\n",
       "converged:                       True   LL-Null:                       -6716.0\n",
       "Covariance Type:            nonrobust   LLR p-value:                7.337e-103\n",
       "==============================================================================\n",
       "                 coef    std err          z      P>|z|      [0.025      0.975]\n",
       "------------------------------------------------------------------------------\n",
       "Intercept      3.3510      0.055     60.735      0.000       3.243       3.459\n",
       "nh_black      -1.1941      0.061    -19.470      0.000      -1.314      -1.074\n",
       "==============================================================================\n",
       "\"\"\""
      ]
     },
     "execution_count": 78,
     "metadata": {},
     "output_type": "execute_result"
    }
   ],
   "source": [
    "model2.summary()"
   ]
  },
  {
   "cell_type": "code",
   "execution_count": 79,
   "id": "f1a13970",
   "metadata": {},
   "outputs": [
    {
     "name": "stdout",
     "output_type": "stream",
     "text": [
      "Optimization terminated successfully.\n",
      "         Current function value: 0.268052\n",
      "         Iterations 6\n"
     ]
    }
   ],
   "source": [
    "formula3=(\"internet_access ~ nh_asian\")\n",
    "\n",
    "model3=logit(formula=formula3, data=acs_ind).fit()"
   ]
  },
  {
   "cell_type": "code",
   "execution_count": 80,
   "id": "b9b05d14",
   "metadata": {},
   "outputs": [
    {
     "data": {
      "text/html": [
       "<table class=\"simpletable\">\n",
       "<caption>Logit Regression Results</caption>\n",
       "<tr>\n",
       "  <th>Dep. Variable:</th>    <td>internet_access</td> <th>  No. Observations:  </th>  <td> 25048</td>  \n",
       "</tr>\n",
       "<tr>\n",
       "  <th>Model:</th>                 <td>Logit</td>      <th>  Df Residuals:      </th>  <td> 25046</td>  \n",
       "</tr>\n",
       "<tr>\n",
       "  <th>Method:</th>                 <td>MLE</td>       <th>  Df Model:          </th>  <td>     1</td>  \n",
       "</tr>\n",
       "<tr>\n",
       "  <th>Date:</th>            <td>Wed, 09 Mar 2022</td> <th>  Pseudo R-squ.:     </th> <td>0.0002784</td>\n",
       "</tr>\n",
       "<tr>\n",
       "  <th>Time:</th>                <td>09:46:12</td>     <th>  Log-Likelihood:    </th> <td> -6714.2</td> \n",
       "</tr>\n",
       "<tr>\n",
       "  <th>converged:</th>             <td>True</td>       <th>  LL-Null:           </th> <td> -6716.0</td> \n",
       "</tr>\n",
       "<tr>\n",
       "  <th>Covariance Type:</th>     <td>nonrobust</td>    <th>  LLR p-value:       </th>  <td>0.05316</td> \n",
       "</tr>\n",
       "</table>\n",
       "<table class=\"simpletable\">\n",
       "<tr>\n",
       "      <td></td>         <th>coef</th>     <th>std err</th>      <th>z</th>      <th>P>|z|</th>  <th>[0.025</th>    <th>0.975]</th>  \n",
       "</tr>\n",
       "<tr>\n",
       "  <th>Intercept</th> <td>    2.4660</td> <td>    0.030</td> <td>   81.844</td> <td> 0.000</td> <td>    2.407</td> <td>    2.525</td>\n",
       "</tr>\n",
       "<tr>\n",
       "  <th>nh_asian</th>  <td>    0.0953</td> <td>    0.049</td> <td>    1.927</td> <td> 0.054</td> <td>   -0.002</td> <td>    0.192</td>\n",
       "</tr>\n",
       "</table>"
      ],
      "text/plain": [
       "<class 'statsmodels.iolib.summary.Summary'>\n",
       "\"\"\"\n",
       "                           Logit Regression Results                           \n",
       "==============================================================================\n",
       "Dep. Variable:        internet_access   No. Observations:                25048\n",
       "Model:                          Logit   Df Residuals:                    25046\n",
       "Method:                           MLE   Df Model:                            1\n",
       "Date:                Wed, 09 Mar 2022   Pseudo R-squ.:               0.0002784\n",
       "Time:                        09:46:12   Log-Likelihood:                -6714.2\n",
       "converged:                       True   LL-Null:                       -6716.0\n",
       "Covariance Type:            nonrobust   LLR p-value:                   0.05316\n",
       "==============================================================================\n",
       "                 coef    std err          z      P>|z|      [0.025      0.975]\n",
       "------------------------------------------------------------------------------\n",
       "Intercept      2.4660      0.030     81.844      0.000       2.407       2.525\n",
       "nh_asian       0.0953      0.049      1.927      0.054      -0.002       0.192\n",
       "==============================================================================\n",
       "\"\"\""
      ]
     },
     "execution_count": 80,
     "metadata": {},
     "output_type": "execute_result"
    }
   ],
   "source": [
    "model3.summary()"
   ]
  },
  {
   "cell_type": "code",
   "execution_count": null,
   "id": "6358fa90",
   "metadata": {},
   "outputs": [],
   "source": []
  }
 ],
 "metadata": {
  "kernelspec": {
   "display_name": "Python 3.8.5 64-bit ('anaconda3': virtualenv)",
   "language": "python",
   "name": "python385jvsc74a57bd097e81732a71c5b40b952c79202e1b58ed08ca490443701847872addaf71e1671"
  },
  "language_info": {
   "codemirror_mode": {
    "name": "ipython",
    "version": 3
   },
   "file_extension": ".py",
   "mimetype": "text/x-python",
   "name": "python",
   "nbconvert_exporter": "python",
   "pygments_lexer": "ipython3",
   "version": "3.9.7"
  }
 },
 "nbformat": 4,
 "nbformat_minor": 5
}
