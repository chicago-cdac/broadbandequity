{
 "cells": [
  {
   "cell_type": "markdown",
   "metadata": {},
   "source": [
    "### Validating Areal Interpolation\n",
    "\n",
    "##### Outlier Neighborhood Analysis"
   ]
  },
  {
   "cell_type": "markdown",
   "metadata": {},
   "source": [
    "Look at `spatial_operations_validation.ipynb` for a broader overview of areal interpolation results. Here, we are going to look at two of the outlier neighborhoods to see if we can get a better sense of what is going on.\n",
    "\n",
    "Specifically, we are going to look at Edgewater and South Shore. Our areal interpolation methods differed significantly from our validation data for both; the tract-to-neighborhood crosswalk method differed significantly from validation data for South Shore but not at all for Edgewater."
   ]
  },
  {
   "cell_type": "code",
   "execution_count": 6,
   "metadata": {},
   "outputs": [],
   "source": [
    "import os\n",
    "import sys\n",
    "sys.path[0] = os.path.join(os.path.abspath(''),'..')  # make sure we can import from our package"
   ]
  },
  {
   "cell_type": "code",
   "execution_count": 7,
   "metadata": {},
   "outputs": [],
   "source": [
    "import matplotlib.pyplot as plt\n",
    "%matplotlib inline\n",
    "from data_pipeline.fetch_census_data import acs5_aggregate \n",
    "from data_pipeline import spatial_operations as so\n",
    "from data_pipeline import interactive_mapping as im\n",
    "import numpy as np\n",
    "import pandas as pd\n",
    "import geopandas as gpd\n",
    "from IPython.display import display"
   ]
  },
  {
   "cell_type": "code",
   "execution_count": null,
   "metadata": {},
   "outputs": [],
   "source": [
    "outputs = pd.read_csv('validation_data').set_index('community_area')"
   ]
  },
  {
   "cell_type": "code",
   "execution_count": null,
   "metadata": {},
   "outputs": [],
   "source": [
    "outputs.loc['EDGEWATER']"
   ]
  },
  {
   "cell_type": "code",
   "execution_count": null,
   "metadata": {},
   "outputs": [],
   "source": [
    "outputs.loc['SOUTH SHORE']"
   ]
  },
  {
   "cell_type": "markdown",
   "metadata": {},
   "source": [
    "First, we will compare maps of these neighborhoods with tract maps."
   ]
  },
  {
   "cell_type": "code",
   "execution_count": null,
   "metadata": {},
   "outputs": [],
   "source": [
    "neighborhoods = so.geographize(pd.DataFrame(columns=['community_area']),'community_area').set_index('community_area')\n"
   ]
  },
  {
   "cell_type": "code",
   "execution_count": null,
   "metadata": {},
   "outputs": [],
   "source": [
    "edgewater = neighborhoods.loc['EDGEWATER']\n",
    "edgewater_area = pd.DataFrame(columns=edgewater.index)\n",
    "edgewater_area.loc[0] = edgewater.values\n",
    "edgewater_area['community_area'] = 'EDGEWATER'\n",
    "south_shore = neighborhoods.loc['SOUTH SHORE']\n",
    "south_shore_area = pd.DataFrame(columns=south_shore.index)\n",
    "south_shore_area.loc[0] = south_shore.values\n",
    "south_shore_area['community_area'] = 'SOUTH SHORE'\n"
   ]
  },
  {
   "cell_type": "code",
   "execution_count": null,
   "metadata": {},
   "outputs": [],
   "source": [
    "so.simple_map(gpd.GeoDataFrame(edgewater_area),'area',target_geography = 'community_area')"
   ]
  },
  {
   "cell_type": "code",
   "execution_count": null,
   "metadata": {},
   "outputs": [],
   "source": [
    "edgewater_map = im.InteractiveMap(gpd.GeoDataFrame(edgewater_area),target_geography='community_area')\n",
    "edgewater_map.map"
   ]
  },
  {
   "cell_type": "code",
   "execution_count": null,
   "metadata": {},
   "outputs": [],
   "source": [
    "# importing Census tracts mapped to community area number \n",
    "# renaming columns\n",
    "\n",
    "tracts = pd.read_csv(\"../data/tracts_comm_areas.csv\",\n",
    "                        index_col=0,\n",
    "                        parse_dates=[0]).rename(columns={\n",
    "                        \"COMMAREA\": \"comm_num\",          \n",
    "                        \"TRACTCE10\": \"tract\"})\n",
    "\n",
    "# importing community area numbers and names\n",
    "# renaming columns\n",
    "\n",
    "comm_area = pd.read_csv(\"../data/comm_areas.csv\",\n",
    "                        index_col=0,\n",
    "                        parse_dates=[0]).rename(columns={\n",
    "                        \"AREA_NUMBE\": \"comm_num\"})\n",
    "\n",
    "# merging both dataframes above to map tract wirh community area name\n",
    "\n",
    "tract_area= comm_area.merge(tracts, on='comm_num')\n",
    "\n",
    "# selecting columns we need and renaming them\n",
    "\n",
    "tract_area=tract_area[['comm_num', 'tract']]\n",
    "\n",
    "# 801 rows x 3 columns\n",
    "# final dataframe\n",
    "\n",
    "tract_area.head()"
   ]
  },
  {
   "cell_type": "code",
   "execution_count": null,
   "metadata": {},
   "outputs": [],
   "source": [
    "neighborhoods = neighborhoods.rename(columns={'area_numbe':'comm_num'}).reset_index()\n",
    "neighborhoods['comm_num'] = neighborhoods['comm_num'].astype(np.int64)\n",
    "crosswalk = tract_area.merge(neighborhoods,on='comm_num')\n",
    "crosswalk.head()"
   ]
  },
  {
   "cell_type": "code",
   "execution_count": null,
   "metadata": {},
   "outputs": [],
   "source": [
    "crosswalk.groupby('community_area').get_group('EDGEWATER').tract"
   ]
  },
  {
   "cell_type": "markdown",
   "metadata": {},
   "source": [
    "This does exactly match the visually-found census tracts for the area. None of the census tracts seem to overlap any other neighborhood areas."
   ]
  }
 ],
 "metadata": {
  "interpreter": {
   "hash": "fbb3f0efde723712f7660d349a24e831b5cb632791db0e0eb0cecf21d8451381"
  },
  "kernelspec": {
   "display_name": "Python 3.8.2 ('broadbandequity')",
   "language": "python",
   "name": "python3"
  },
  "language_info": {
   "codemirror_mode": {
    "name": "ipython",
    "version": 3
   },
   "file_extension": ".py",
   "mimetype": "text/x-python",
   "name": "python",
   "nbconvert_exporter": "python",
   "pygments_lexer": "ipython3",
   "version": "3.8.2"
  },
  "orig_nbformat": 4
 },
 "nbformat": 4,
 "nbformat_minor": 2
}
