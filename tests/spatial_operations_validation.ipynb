{
 "cells": [
  {
   "cell_type": "markdown",
   "metadata": {},
   "source": [
    "### Validating Areal Interpolation"
   ]
  },
  {
   "cell_type": "markdown",
   "metadata": {},
   "source": [
    "The purpose of this notebook is to demonstrate that our areal interpolation functions produce extensive and intensive statistics similar to known values."
   ]
  },
  {
   "cell_type": "code",
   "execution_count": 1,
   "metadata": {},
   "outputs": [],
   "source": [
    "import sys\n",
    "\n",
    "# others will need to change the below line to point at broadbandequity directory\n",
    "# this is necessary so that the jupyternotebook can load our package\n",
    "sys.path[0] = '/Users/drewkeller/Desktop/CS/broadbandequity'"
   ]
  },
  {
   "cell_type": "code",
   "execution_count": 2,
   "metadata": {},
   "outputs": [],
   "source": [
    "import matplotlib.pyplot as plt\n",
    "%matplotlib inline\n",
    "from data_pipeline.fetch_census_data import acs5_aggregate \n",
    "from data_pipeline import spatial_operations as so\n",
    "import numpy as np\n",
    "import pandas as pd\n",
    "from IPython.display import display"
   ]
  },
  {
   "cell_type": "markdown",
   "metadata": {},
   "source": [
    "We will use ACS 5-year aggregate data from 2019 for our validation. We are comparing to known values from CMAP that also rely on aggregated ACS data:\n",
    "\n",
    "\"CCA values are estimated by aggregating ACS data for census tracts and block groups. Data from tracts and block groups located in multiple CCAs is allocated proportionally based on the block-level distribution of population, households or housing units (as appropriate) from the most recent Decennial Census.\"\n",
    "\n",
    "Our approach:\n",
    "1. Start with tract-level population data from ACS.\n",
    "2. Calculate tract-level population density using tract shapefiles.\n",
    "3. Aggregate tract-level population to community areas via areal-weighted sum.\n",
    "4. Aggregate tract-level density to community areas via areal-weighted mean. Multiply by community-area area to get population.\n",
    "5. Aggregate tract-level density to community areas via population-weighted mean. Multiply by community-area area to get population. _Note: Realized retroactively that this is invalid and results in upward bias - density inherently should be weighted by area, not population. To validate population-weighted mean we would need to use another known statistic like income._\n",
    "6. Compare calculated populations to known values (Source: [CMAP: 2021 CDS based on 2019 population data](https://datahub.cmap.illinois.gov/dataset/community-data-snapshots-raw-data))."
   ]
  },
  {
   "cell_type": "code",
   "execution_count": 3,
   "metadata": {},
   "outputs": [
    {
     "data": {
      "text/html": [
       "<div>\n",
       "<style scoped>\n",
       "    .dataframe tbody tr th:only-of-type {\n",
       "        vertical-align: middle;\n",
       "    }\n",
       "\n",
       "    .dataframe tbody tr th {\n",
       "        vertical-align: top;\n",
       "    }\n",
       "\n",
       "    .dataframe thead th {\n",
       "        text-align: right;\n",
       "    }\n",
       "</style>\n",
       "<table border=\"1\" class=\"dataframe\">\n",
       "  <thead>\n",
       "    <tr style=\"text-align: right;\">\n",
       "      <th></th>\n",
       "      <th>tract</th>\n",
       "      <th>population</th>\n",
       "    </tr>\n",
       "  </thead>\n",
       "  <tbody>\n",
       "    <tr>\n",
       "      <th>0</th>\n",
       "      <td>630200</td>\n",
       "      <td>1825</td>\n",
       "    </tr>\n",
       "    <tr>\n",
       "      <th>1</th>\n",
       "      <td>580700</td>\n",
       "      <td>5908</td>\n",
       "    </tr>\n",
       "    <tr>\n",
       "      <th>2</th>\n",
       "      <td>590600</td>\n",
       "      <td>3419</td>\n",
       "    </tr>\n",
       "    <tr>\n",
       "      <th>3</th>\n",
       "      <td>600700</td>\n",
       "      <td>2835</td>\n",
       "    </tr>\n",
       "    <tr>\n",
       "      <th>4</th>\n",
       "      <td>611900</td>\n",
       "      <td>1639</td>\n",
       "    </tr>\n",
       "  </tbody>\n",
       "</table>\n",
       "</div>"
      ],
      "text/plain": [
       "    tract  population\n",
       "0  630200        1825\n",
       "1  580700        5908\n",
       "2  590600        3419\n",
       "3  600700        2835\n",
       "4  611900        1639"
      ]
     },
     "execution_count": 3,
     "metadata": {},
     "output_type": "execute_result"
    }
   ],
   "source": [
    "# 1. Start with tract-level population data from ACS.\n",
    "tract_data = acs5_aggregate()[[\"estimated total population\",\"tract\"]]\n",
    "tract_data['population'] = tract_data['estimated total population']\n",
    "tract_data = tract_data.drop(columns='estimated total population')\n",
    "tract_data.head()"
   ]
  },
  {
   "cell_type": "code",
   "execution_count": 4,
   "metadata": {},
   "outputs": [
    {
     "data": {
      "text/html": [
       "<div>\n",
       "<style scoped>\n",
       "    .dataframe tbody tr th:only-of-type {\n",
       "        vertical-align: middle;\n",
       "    }\n",
       "\n",
       "    .dataframe tbody tr th {\n",
       "        vertical-align: top;\n",
       "    }\n",
       "\n",
       "    .dataframe thead th {\n",
       "        text-align: right;\n",
       "    }\n",
       "</style>\n",
       "<table border=\"1\" class=\"dataframe\">\n",
       "  <thead>\n",
       "    <tr style=\"text-align: right;\">\n",
       "      <th></th>\n",
       "      <th>Shape_Leng</th>\n",
       "      <th>Shape_Area</th>\n",
       "      <th>SqMiles</th>\n",
       "      <th>GEOID2</th>\n",
       "      <th>tract</th>\n",
       "      <th>community_</th>\n",
       "      <th>geometry</th>\n",
       "      <th>population</th>\n",
       "      <th>area</th>\n",
       "      <th>density</th>\n",
       "    </tr>\n",
       "  </thead>\n",
       "  <tbody>\n",
       "    <tr>\n",
       "      <th>0</th>\n",
       "      <td>37281.254752</td>\n",
       "      <td>6.177154e+07</td>\n",
       "      <td>0.000000</td>\n",
       "      <td>60840000</td>\n",
       "      <td>840000</td>\n",
       "      <td>60</td>\n",
       "      <td>MULTIPOLYGON (((1096672.940 1927611.312, 10966...</td>\n",
       "      <td>2794.0</td>\n",
       "      <td>6.177154e+07</td>\n",
       "      <td>0.000045</td>\n",
       "    </tr>\n",
       "    <tr>\n",
       "      <th>1</th>\n",
       "      <td>6102.900390</td>\n",
       "      <td>1.777035e+06</td>\n",
       "      <td>0.000000</td>\n",
       "      <td>76840801</td>\n",
       "      <td>840801</td>\n",
       "      <td>76</td>\n",
       "      <td>MULTIPOLYGON (((1096672.956 1927611.220, 10966...</td>\n",
       "      <td>NaN</td>\n",
       "      <td>1.777035e+06</td>\n",
       "      <td>NaN</td>\n",
       "    </tr>\n",
       "    <tr>\n",
       "      <th>2</th>\n",
       "      <td>16035.054991</td>\n",
       "      <td>8.947394e+06</td>\n",
       "      <td>0.320945</td>\n",
       "      <td>59840300</td>\n",
       "      <td>840300</td>\n",
       "      <td>59</td>\n",
       "      <td>POLYGON ((1163591.927 1881471.238, 1163525.437...</td>\n",
       "      <td>3511.0</td>\n",
       "      <td>8.947394e+06</td>\n",
       "      <td>0.000392</td>\n",
       "    </tr>\n",
       "    <tr>\n",
       "      <th>3</th>\n",
       "      <td>14719.012184</td>\n",
       "      <td>8.946045e+06</td>\n",
       "      <td>0.320896</td>\n",
       "      <td>60840200</td>\n",
       "      <td>840200</td>\n",
       "      <td>60</td>\n",
       "      <td>POLYGON ((1172724.229 1887341.263, 1172726.397...</td>\n",
       "      <td>2419.0</td>\n",
       "      <td>8.946045e+06</td>\n",
       "      <td>0.000270</td>\n",
       "    </tr>\n",
       "    <tr>\n",
       "      <th>4</th>\n",
       "      <td>15186.400644</td>\n",
       "      <td>1.230614e+07</td>\n",
       "      <td>0.441424</td>\n",
       "      <td>34841100</td>\n",
       "      <td>841100</td>\n",
       "      <td>34</td>\n",
       "      <td>POLYGON ((1176041.550 1889791.988, 1176043.375...</td>\n",
       "      <td>7142.0</td>\n",
       "      <td>1.230614e+07</td>\n",
       "      <td>0.000580</td>\n",
       "    </tr>\n",
       "  </tbody>\n",
       "</table>\n",
       "</div>"
      ],
      "text/plain": [
       "     Shape_Leng    Shape_Area   SqMiles    GEOID2   tract community_  \\\n",
       "0  37281.254752  6.177154e+07  0.000000  60840000  840000         60   \n",
       "1   6102.900390  1.777035e+06  0.000000  76840801  840801         76   \n",
       "2  16035.054991  8.947394e+06  0.320945  59840300  840300         59   \n",
       "3  14719.012184  8.946045e+06  0.320896  60840200  840200         60   \n",
       "4  15186.400644  1.230614e+07  0.441424  34841100  841100         34   \n",
       "\n",
       "                                            geometry  population  \\\n",
       "0  MULTIPOLYGON (((1096672.940 1927611.312, 10966...      2794.0   \n",
       "1  MULTIPOLYGON (((1096672.956 1927611.220, 10966...         NaN   \n",
       "2  POLYGON ((1163591.927 1881471.238, 1163525.437...      3511.0   \n",
       "3  POLYGON ((1172724.229 1887341.263, 1172726.397...      2419.0   \n",
       "4  POLYGON ((1176041.550 1889791.988, 1176043.375...      7142.0   \n",
       "\n",
       "           area   density  \n",
       "0  6.177154e+07  0.000045  \n",
       "1  1.777035e+06       NaN  \n",
       "2  8.947394e+06  0.000392  \n",
       "3  8.946045e+06  0.000270  \n",
       "4  1.230614e+07  0.000580  "
      ]
     },
     "execution_count": 4,
     "metadata": {},
     "output_type": "execute_result"
    }
   ],
   "source": [
    "# 2. Calculate tract-level population density using tract shapefiles.\n",
    "tract_data = so.geographize(tract_data,'tract')\n",
    "tract_data[\"density\"] = tract_data['population']/tract_data.area\n",
    "tract_data.head()"
   ]
  },
  {
   "cell_type": "code",
   "execution_count": 5,
   "metadata": {},
   "outputs": [
    {
     "ename": "ValueError",
     "evalue": "You have multiple data points for the same geographical unit. Combine these data points and try again.",
     "output_type": "error",
     "traceback": [
      "\u001b[0;31m---------------------------------------------------------------------------\u001b[0m",
      "\u001b[0;31mValueError\u001b[0m                                Traceback (most recent call last)",
      "\u001b[0;32m/var/folders/h2/1dptmntx7cqcbm48dz37csk00000gn/T/ipykernel_23342/2754116561.py\u001b[0m in \u001b[0;36m<module>\u001b[0;34m\u001b[0m\n\u001b[1;32m      1\u001b[0m \u001b[0;31m# 3. Aggregate tract-level population to community areas via areal-weighted sum.\u001b[0m\u001b[0;34m\u001b[0m\u001b[0;34m\u001b[0m\u001b[0;34m\u001b[0m\u001b[0m\n\u001b[0;32m----> 2\u001b[0;31m \u001b[0mcommunity_pop\u001b[0m \u001b[0;34m=\u001b[0m \u001b[0mso\u001b[0m\u001b[0;34m.\u001b[0m\u001b[0maggregate\u001b[0m\u001b[0;34m(\u001b[0m\u001b[0mtract_data\u001b[0m\u001b[0;34m,\u001b[0m\u001b[0;34m{\u001b[0m\u001b[0;34m'population'\u001b[0m \u001b[0;34m:\u001b[0m \u001b[0;34m'areal sum'\u001b[0m\u001b[0;34m}\u001b[0m\u001b[0;34m,\u001b[0m\u001b[0;34m'community_area'\u001b[0m\u001b[0;34m,\u001b[0m\u001b[0;34m'tract'\u001b[0m\u001b[0;34m)\u001b[0m\u001b[0;34m\u001b[0m\u001b[0;34m\u001b[0m\u001b[0m\n\u001b[0m\u001b[1;32m      3\u001b[0m \u001b[0mcommunity_pop\u001b[0m\u001b[0;34m.\u001b[0m\u001b[0mhead\u001b[0m\u001b[0;34m(\u001b[0m\u001b[0;34m)\u001b[0m\u001b[0;34m\u001b[0m\u001b[0;34m\u001b[0m\u001b[0m\n",
      "\u001b[0;32m~/Desktop/CS/broadbandequity/data_pipeline/spatial_operations.py\u001b[0m in \u001b[0;36maggregate\u001b[0;34m(data, variables, target_geography, source_geography)\u001b[0m\n\u001b[1;32m    193\u001b[0m     \u001b[0;31m# validate arguments\u001b[0m\u001b[0;34m\u001b[0m\u001b[0;34m\u001b[0m\u001b[0;34m\u001b[0m\u001b[0m\n\u001b[1;32m    194\u001b[0m     \u001b[0;32mif\u001b[0m \u001b[0mduplicate_areas\u001b[0m\u001b[0;34m(\u001b[0m\u001b[0mdata\u001b[0m\u001b[0;34m,\u001b[0m\u001b[0msource_geography\u001b[0m\u001b[0;34m)\u001b[0m\u001b[0;34m:\u001b[0m\u001b[0;34m\u001b[0m\u001b[0;34m\u001b[0m\u001b[0m\n\u001b[0;32m--> 195\u001b[0;31m         raise ValueError(\n\u001b[0m\u001b[1;32m    196\u001b[0m             \u001b[0;34m'You have multiple data points for the same geographical unit. '\u001b[0m\u001b[0;34m\u001b[0m\u001b[0;34m\u001b[0m\u001b[0m\n\u001b[1;32m    197\u001b[0m             \u001b[0;34m'Combine these data points and try again.'\u001b[0m\u001b[0;34m\u001b[0m\u001b[0;34m\u001b[0m\u001b[0m\n",
      "\u001b[0;31mValueError\u001b[0m: You have multiple data points for the same geographical unit. Combine these data points and try again."
     ]
    }
   ],
   "source": [
    "# 3. Aggregate tract-level population to community areas via areal-weighted sum.\n",
    "community_pop = so.aggregate(tract_data,{'population' : 'areal sum'},'community_area','tract')\n",
    "community_pop.head()"
   ]
  },
  {
   "cell_type": "code",
   "execution_count": null,
   "metadata": {},
   "outputs": [],
   "source": [
    "# 4. Aggregate tract-level density to community areas via areal-weighted mean. Multiply by community-area area to get population.\n",
    "community_density_areal = so.geographize(so.aggregate(tract_data,{'density' : 'areal mean'},'community_area','tract'),'community_area')\n",
    "community_density_areal['population'] = community_density_areal['density']*community_density_areal['area']\n",
    "community_density_areal = community_density_areal[['community_area','population']]\n",
    "community_density_areal.head()"
   ]
  },
  {
   "cell_type": "code",
   "execution_count": null,
   "metadata": {},
   "outputs": [],
   "source": [
    "# 5. Aggregate tract-level density to community areas via population-weighted mean. Multiply by community-area area to get population.\n",
    "community_density_pop = so.geographize(so.aggregate(tract_data,{'density' : 'pop mean'},'community_area','tract'),'community_area')\n",
    "community_density_pop['population'] = community_density_pop['density']*community_density_pop['area']\n",
    "community_density_pop = community_density_pop[['community_area','population']]\n",
    "community_density_pop.head()"
   ]
  },
  {
   "cell_type": "code",
   "execution_count": null,
   "metadata": {},
   "outputs": [],
   "source": [
    "# 6. Compare calculated populations to known values \n",
    "\n",
    "# first step: load validation data\n",
    "validation_data = pd.read_csv('../data/CMAP_2019_comm_data.csv')[['GEOG','TOT_POP']]\n",
    "validation_data['GEOG'] = [str(i).upper() for i in validation_data['GEOG']]\n",
    "validation_data = validation_data.rename(columns={'GEOG':'community_area','TOT_POP':'known population'})\n",
    "validation_data['community_area'] = validation_data['community_area'].replace({\"O'HARE\":\"OHARE\",\"THE LOOP\": \"LOOP\"})\n",
    "validation_data = validation_data.dropna()\n",
    "validation_data.head()"
   ]
  },
  {
   "cell_type": "code",
   "execution_count": null,
   "metadata": {},
   "outputs": [],
   "source": [
    "# second step: place calculated and known values side-by-side with errors\n",
    "community_pop = community_pop.rename(columns={'population':'areal-weighted sum'})\n",
    "community_density_areal = community_density_areal.rename(columns={'population':'areal-weighted mean'})\n",
    "community_density_pop = community_density_pop.rename(columns={'population':'pop-weighted mean'})\n",
    "validation_data = validation_data.join(community_pop.set_index('community_area'),on='community_area')\n",
    "validation_data['areal-weighted sum error'] = validation_data['areal-weighted sum']-validation_data['known population']\n",
    "validation_data = validation_data.join(community_density_areal.set_index('community_area'),on='community_area')\n",
    "validation_data['areal-weighted mean error'] = validation_data['areal-weighted mean']-validation_data['known population']\n",
    "validation_data = validation_data.join(community_density_pop.set_index('community_area'),on='community_area')\n",
    "validation_data['pop-weighted mean error'] = validation_data['pop-weighted mean']-validation_data['known population']\n",
    "validation_data.head()"
   ]
  },
  {
   "cell_type": "code",
   "execution_count": null,
   "metadata": {},
   "outputs": [],
   "source": [
    "# fourth step: add simple crosswalk\n",
    "\n",
    "crosswalk = pd.read_csv(\"../data/chicago_internet.csv\")[['name','total_pop']]\n",
    "crosswalk['name'] = [str(i).upper() for i in crosswalk['name']]\n",
    "crosswalk = crosswalk.rename(columns={'name':'community_area','total_pop':'crosswalk'})\n",
    "crosswalk = crosswalk.replace({\"O'HARE\":\"OHARE\"})\n",
    "validation_data = validation_data.join(crosswalk.set_index('community_area'),on='community_area')\n",
    "validation_data['crosswalk error'] = validation_data['crosswalk']-validation_data['known population']"
   ]
  },
  {
   "cell_type": "code",
   "execution_count": null,
   "metadata": {},
   "outputs": [],
   "source": [
    "# third step: stats\n",
    "\n",
    "print('Areal-weighted sum:')\n",
    "print(f'Maximum error: {max(abs(validation_data[\"areal-weighted sum error\"]))}')\n",
    "print(f'Median error: {np.median(validation_data[\"areal-weighted sum error\"])}')\n",
    "print(f'Mean error: {np.mean(validation_data[\"areal-weighted sum error\"])}')\n",
    "print(f'RMS error: {np.sqrt(np.average(validation_data[\"areal-weighted sum error\"]**2))}')\n",
    "outliers5 = sum([1 if abs(i)>0.05 else 0 for i in validation_data['areal-weighted sum error']/validation_data['known population']])\n",
    "outliers20 = sum([1 if abs(i)>0.2 else 0 for i in validation_data['areal-weighted sum error']/validation_data['known population']])\n",
    "print(f'Community areas off by more than 5%, 20%: {outliers5},{outliers20}')\n",
    "print('')\n",
    "\n",
    "print('Areal-weighted mean:')\n",
    "print(f'Maximum error: {max(abs(validation_data[\"areal-weighted mean error\"]))}')\n",
    "print(f'Median error: {np.median(validation_data[\"areal-weighted mean error\"])}')\n",
    "print(f'Mean error: {np.mean(validation_data[\"areal-weighted mean error\"])}')\n",
    "print(f'RMS error: {np.sqrt(np.average(validation_data[\"areal-weighted mean error\"]**2))}')\n",
    "outliers5 = sum([1 if abs(i)>0.05 else 0 for i in validation_data['areal-weighted mean error']/validation_data['known population']])\n",
    "outliers20 = sum([1 if abs(i)>0.2 else 0 for i in validation_data['areal-weighted mean error']/validation_data['known population']])\n",
    "print(f'Community areas off by more than 5%, 20%: {outliers5},{outliers20}')\n",
    "print('')\n",
    "\n",
    "print('Pop-weighted mean:')\n",
    "print(f'Maximum error: {max(abs(validation_data[\"pop-weighted mean error\"]))}')\n",
    "print(f'Median error: {np.median(validation_data[\"pop-weighted mean error\"])}')\n",
    "print(f'Mean error: {np.mean(validation_data[\"pop-weighted mean error\"])}')\n",
    "print(f'RMS error: {np.sqrt(np.average(validation_data[\"pop-weighted mean error\"]**2))}')\n",
    "outliers5 = sum([1 if abs(i)>0.05 else 0 for i in validation_data['pop-weighted mean error']/validation_data['known population']])\n",
    "outliers20 = sum([1 if abs(i)>0.2 else 0 for i in validation_data['pop-weighted mean error']/validation_data['known population']])\n",
    "print(f'Community areas off by more than 5%, 20%: {outliers5},{outliers20}')\n",
    "print('')\n",
    "\n",
    "print('Simple crosswalk:')\n",
    "print(f'Maximum error: {max(abs(validation_data[\"crosswalk error\"]))}')\n",
    "print(f'Median error: {np.median(validation_data[\"crosswalk error\"])}')\n",
    "print(f'Mean error: {np.mean(validation_data[\"crosswalk error\"])}')\n",
    "print(f'RMS error: {np.sqrt(np.average(validation_data[\"crosswalk error\"]**2))}')\n",
    "outliers5 = sum([1 if abs(i)>0.05 else 0 for i in validation_data['crosswalk error']/validation_data['known population']])\n",
    "outliers20 = sum([1 if abs(i)>0.2 else 0 for i in validation_data['crosswalk error']/validation_data['known population']])\n",
    "print(f'Community areas off by more than 5%, 20%: {outliers5},{outliers20}')"
   ]
  },
  {
   "cell_type": "markdown",
   "metadata": {},
   "source": [
    "Discussion:\n",
    "\n",
    "Areal-weighted sum and mean produce very similar results, as expected. (Actually, in many cases, precisely the same results.) Both are within a few hundred residents of our validation data for most neighborhoods, but both have a handful of neighborhoods that they underestimate by up to 10,000 residents.\n",
    "\n",
    "This is definitely cause for concern, but perhaps for a more complicated reason than the aggregation function not working, as the low median error and clustering of most results near the known value seem to suggest that the aggregation function likely works (unless the overlapping-measurement part is broken and the outliers have more overlapping tracts?).\n",
    "\n",
    "Population-weighted mean overestimates _most_ neighborhoods by several thousand residents. On reflection, this is actually expected behavior because it's not really valid to take a population-weighted mean of population density; it makes sense that this would bias population results upwards. In other words, these results suggest the population-weighted mean function is working, but to confirm we may need to use a different validation variable.\n",
    "\n",
    "The simple crosswalk method - one-to-one from tracts to community areas - performs best by a signficant amount. In fact, a majority (48/77) community areas obtain the exact value from this method! \n",
    "\n",
    "This does raise some questions. Are those 48/77 community areas ones in which tract boundaries align exactly? If so this result could make sense, although it would then be concerning why the aggregation function also didn't give exact results. The next step may be to inspect one of these community areas in depth to see if we can identify what is going on."
   ]
  },
  {
   "cell_type": "code",
   "execution_count": null,
   "metadata": {},
   "outputs": [],
   "source": [
    "# save to CSV\n",
    "validation_data.to_csv('validation_data')"
   ]
  },
  {
   "cell_type": "code",
   "execution_count": null,
   "metadata": {},
   "outputs": [],
   "source": [
    "# display in full\n",
    "with pd.option_context('display.max_rows', None, 'display.max_columns', None):\n",
    "    display(validation_data.round().convert_dtypes(convert_integer=True))"
   ]
  }
 ],
 "metadata": {
  "interpreter": {
   "hash": "fbb3f0efde723712f7660d349a24e831b5cb632791db0e0eb0cecf21d8451381"
  },
  "kernelspec": {
   "display_name": "Python 3.8.2 ('broadbandequity')",
   "language": "python",
   "name": "python3"
  },
  "language_info": {
   "codemirror_mode": {
    "name": "ipython",
    "version": 3
   },
   "file_extension": ".py",
   "mimetype": "text/x-python",
   "name": "python",
   "nbconvert_exporter": "python",
   "pygments_lexer": "ipython3",
   "version": "3.8.2"
  },
  "orig_nbformat": 4
 },
 "nbformat": 4,
 "nbformat_minor": 2
}
